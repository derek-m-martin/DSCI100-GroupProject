{
 "cells": [
  {
   "cell_type": "markdown",
   "id": "75975b54-f46b-4638-a5d2-56b58bee638a",
   "metadata": {},
   "source": [
    "Please run the cell below to ensure that the rest of the report goes as expected!"
   ]
  },
  {
   "cell_type": "code",
   "execution_count": 1,
   "id": "5dabdbe6-a5f4-48fb-aaec-740676706cd1",
   "metadata": {},
   "outputs": [
    {
     "name": "stderr",
     "output_type": "stream",
     "text": [
      "── \u001b[1mAttaching core tidyverse packages\u001b[22m ──────────────────────── tidyverse 2.0.0 ──\n",
      "\u001b[32m✔\u001b[39m \u001b[34mdplyr    \u001b[39m 1.1.4     \u001b[32m✔\u001b[39m \u001b[34mreadr    \u001b[39m 2.1.5\n",
      "\u001b[32m✔\u001b[39m \u001b[34mforcats  \u001b[39m 1.0.0     \u001b[32m✔\u001b[39m \u001b[34mstringr  \u001b[39m 1.5.1\n",
      "\u001b[32m✔\u001b[39m \u001b[34mggplot2  \u001b[39m 3.5.1     \u001b[32m✔\u001b[39m \u001b[34mtibble   \u001b[39m 3.2.1\n",
      "\u001b[32m✔\u001b[39m \u001b[34mlubridate\u001b[39m 1.9.3     \u001b[32m✔\u001b[39m \u001b[34mtidyr    \u001b[39m 1.3.1\n",
      "\u001b[32m✔\u001b[39m \u001b[34mpurrr    \u001b[39m 1.0.2     \n",
      "── \u001b[1mConflicts\u001b[22m ────────────────────────────────────────── tidyverse_conflicts() ──\n",
      "\u001b[31m✖\u001b[39m \u001b[34mdplyr\u001b[39m::\u001b[32mfilter()\u001b[39m masks \u001b[34mstats\u001b[39m::filter()\n",
      "\u001b[31m✖\u001b[39m \u001b[34mdplyr\u001b[39m::\u001b[32mlag()\u001b[39m    masks \u001b[34mstats\u001b[39m::lag()\n",
      "\u001b[36mℹ\u001b[39m Use the conflicted package (\u001b[3m\u001b[34m<http://conflicted.r-lib.org/>\u001b[39m\u001b[23m) to force all conflicts to become errors\n"
     ]
    }
   ],
   "source": [
    "library(tidyverse)\n",
    "library(repr)\n",
    "library(ggplot2)\n",
    "library(RColorBrewer)"
   ]
  },
  {
   "cell_type": "markdown",
   "id": "2650e69a-81aa-4b6f-8173-be1ac604c92c",
   "metadata": {},
   "source": [
    "---"
   ]
  },
  {
   "cell_type": "markdown",
   "id": "31e94844-560c-47ec-877f-84542ce1a1ab",
   "metadata": {},
   "source": [
    "# From Sessions to Predictions: Modeling Engagement with KNN Regression"
   ]
  },
  {
   "cell_type": "markdown",
   "id": "8413a4bb-3256-42b9-9e47-97c373a4b1b2",
   "metadata": {},
   "source": [
    "---"
   ]
  },
  {
   "cell_type": "markdown",
   "id": "64ae8e3d-b13f-4848-8b64-1a4c8eaf89c2",
   "metadata": {},
   "source": [
    "## Introduction"
   ]
  },
  {
   "cell_type": "markdown",
   "id": "e1261f11-471f-48e5-887b-32ace42c8e91",
   "metadata": {},
   "source": [
    "From the title you're probably wondering, what are 'sessions,' what is being predicted, and most likely what even is the term 'KNN Regression.' Well no need to worry! Our project stems from a UBC Computer Science study called **PLAIcraft** with the goal and I quote, \"PLAICraft is a research data collection project with the aim of enabling advanced embodied AI research.\" - PLAIcraft Frequently Asked Questions. They have tasked us with helping them out by answering a few questions for them based on two anonymised datasets regarding player data, and individual play session data. This leads to the question which we attempted to answer for them!"
   ]
  },
  {
   "cell_type": "markdown",
   "id": "28125265-79d0-4108-9a0c-e36f754e6bf5",
   "metadata": {},
   "source": [
    "### Our Question"
   ]
  },
  {
   "cell_type": "markdown",
   "id": "d014f275-b83c-42e3-a1a9-1c7fc0ff33f8",
   "metadata": {},
   "source": [
    "**Can we predict the number of future sessions a player will engage in based on their initial session characteristics and player information?**"
   ]
  },
  {
   "cell_type": "markdown",
   "id": "c1834a50-f6a8-4c2a-be25-1556d43afbfe",
   "metadata": {},
   "source": [
    "To simplify that down more, what our goal was for this data analysis was to utilize a players specific data, as well as the session data for only their very first session to determine if they will return for subsequent sessions, and if they do, how many? "
   ]
  },
  {
   "cell_type": "markdown",
   "id": "8b9614ae-b6c2-4f08-a8d5-a8e5dc575044",
   "metadata": {},
   "source": [
    "### The Dataset"
   ]
  },
  {
   "cell_type": "markdown",
   "id": "a0949ff2-bb17-4c41-8459-d3ff3965c351",
   "metadata": {},
   "source": [
    "Now for the bread and butter, well perhaps the dataset is the bread and the data analysis that comes later is the butter, who knows. Through this brief section we will load the data and talk about it and most importantly help you to understand what all of it means before we get into the next section which is where the real fun begins."
   ]
  },
  {
   "cell_type": "code",
   "execution_count": 2,
   "id": "fb9f4356-90f8-4594-a28d-d1b8d4e56b73",
   "metadata": {},
   "outputs": [
    {
     "name": "stderr",
     "output_type": "stream",
     "text": [
      "\u001b[1mRows: \u001b[22m\u001b[34m196\u001b[39m \u001b[1mColumns: \u001b[22m\u001b[34m9\u001b[39m\n",
      "\u001b[36m──\u001b[39m \u001b[1mColumn specification\u001b[22m \u001b[36m────────────────────────────────────────────────────────\u001b[39m\n",
      "\u001b[1mDelimiter:\u001b[22m \",\"\n",
      "\u001b[31mchr\u001b[39m (4): experience, hashedEmail, name, gender\n",
      "\u001b[32mdbl\u001b[39m (2): played_hours, age\n",
      "\u001b[33mlgl\u001b[39m (3): subscribe, individualId, organizationName\n",
      "\n",
      "\u001b[36mℹ\u001b[39m Use `spec()` to retrieve the full column specification for this data.\n",
      "\u001b[36mℹ\u001b[39m Specify the column types or set `show_col_types = FALSE` to quiet this message.\n",
      "\u001b[1mRows: \u001b[22m\u001b[34m1535\u001b[39m \u001b[1mColumns: \u001b[22m\u001b[34m5\u001b[39m\n",
      "\u001b[36m──\u001b[39m \u001b[1mColumn specification\u001b[22m \u001b[36m────────────────────────────────────────────────────────\u001b[39m\n",
      "\u001b[1mDelimiter:\u001b[22m \",\"\n",
      "\u001b[31mchr\u001b[39m (3): hashedEmail, start_time, end_time\n",
      "\u001b[32mdbl\u001b[39m (2): original_start_time, original_end_time\n",
      "\n",
      "\u001b[36mℹ\u001b[39m Use `spec()` to retrieve the full column specification for this data.\n",
      "\u001b[36mℹ\u001b[39m Specify the column types or set `show_col_types = FALSE` to quiet this message.\n"
     ]
    }
   ],
   "source": [
    "players <- read_csv(\"data/players.csv\")\n",
    "sessions <- read_csv(\"data/sessions.csv\")"
   ]
  },
  {
   "cell_type": "code",
   "execution_count": 3,
   "id": "498709ab-5d56-450f-bb12-d60288d7cb9d",
   "metadata": {},
   "outputs": [
    {
     "data": {
      "text/html": [
       "<table class=\"dataframe\">\n",
       "<caption>A tibble: 6 × 9</caption>\n",
       "<thead>\n",
       "\t<tr><th scope=col>experience</th><th scope=col>subscribe</th><th scope=col>hashedEmail</th><th scope=col>played_hours</th><th scope=col>name</th><th scope=col>gender</th><th scope=col>age</th><th scope=col>individualId</th><th scope=col>organizationName</th></tr>\n",
       "\t<tr><th scope=col>&lt;chr&gt;</th><th scope=col>&lt;lgl&gt;</th><th scope=col>&lt;chr&gt;</th><th scope=col>&lt;dbl&gt;</th><th scope=col>&lt;chr&gt;</th><th scope=col>&lt;chr&gt;</th><th scope=col>&lt;dbl&gt;</th><th scope=col>&lt;lgl&gt;</th><th scope=col>&lt;lgl&gt;</th></tr>\n",
       "</thead>\n",
       "<tbody>\n",
       "\t<tr><td>Pro    </td><td> TRUE</td><td>f6daba428a5e19a3d47574858c13550499be23603422e6a0ee9728f8b53e192d</td><td>30.3</td><td>Morgan   </td><td>Male  </td><td> 9</td><td>NA</td><td>NA</td></tr>\n",
       "\t<tr><td>Veteran</td><td> TRUE</td><td>f3c813577c458ba0dfef80996f8f32c93b6e8af1fa939732842f2312358a88e9</td><td> 3.8</td><td>Christian</td><td>Male  </td><td>17</td><td>NA</td><td>NA</td></tr>\n",
       "\t<tr><td>Veteran</td><td>FALSE</td><td>b674dd7ee0d24096d1c019615ce4d12b20fcbff12d79d3c5a9d2118eb7ccbb28</td><td> 0.0</td><td>Blake    </td><td>Male  </td><td>17</td><td>NA</td><td>NA</td></tr>\n",
       "\t<tr><td>Amateur</td><td> TRUE</td><td>23fe711e0e3b77f1da7aa221ab1192afe21648d47d2b4fa7a5a659ff443a0eb5</td><td> 0.7</td><td>Flora    </td><td>Female</td><td>21</td><td>NA</td><td>NA</td></tr>\n",
       "\t<tr><td>Regular</td><td> TRUE</td><td>7dc01f10bf20671ecfccdac23812b1b415acd42c2147cb0af4d48fcce2420f3e</td><td> 0.1</td><td>Kylie    </td><td>Male  </td><td>21</td><td>NA</td><td>NA</td></tr>\n",
       "\t<tr><td>Amateur</td><td> TRUE</td><td>f58aad5996a435f16b0284a3b267f973f9af99e7a89bee0430055a44fa92f977</td><td> 0.0</td><td>Adrian   </td><td>Female</td><td>17</td><td>NA</td><td>NA</td></tr>\n",
       "</tbody>\n",
       "</table>\n"
      ],
      "text/latex": [
       "A tibble: 6 × 9\n",
       "\\begin{tabular}{lllllllll}\n",
       " experience & subscribe & hashedEmail & played\\_hours & name & gender & age & individualId & organizationName\\\\\n",
       " <chr> & <lgl> & <chr> & <dbl> & <chr> & <chr> & <dbl> & <lgl> & <lgl>\\\\\n",
       "\\hline\n",
       "\t Pro     &  TRUE & f6daba428a5e19a3d47574858c13550499be23603422e6a0ee9728f8b53e192d & 30.3 & Morgan    & Male   &  9 & NA & NA\\\\\n",
       "\t Veteran &  TRUE & f3c813577c458ba0dfef80996f8f32c93b6e8af1fa939732842f2312358a88e9 &  3.8 & Christian & Male   & 17 & NA & NA\\\\\n",
       "\t Veteran & FALSE & b674dd7ee0d24096d1c019615ce4d12b20fcbff12d79d3c5a9d2118eb7ccbb28 &  0.0 & Blake     & Male   & 17 & NA & NA\\\\\n",
       "\t Amateur &  TRUE & 23fe711e0e3b77f1da7aa221ab1192afe21648d47d2b4fa7a5a659ff443a0eb5 &  0.7 & Flora     & Female & 21 & NA & NA\\\\\n",
       "\t Regular &  TRUE & 7dc01f10bf20671ecfccdac23812b1b415acd42c2147cb0af4d48fcce2420f3e &  0.1 & Kylie     & Male   & 21 & NA & NA\\\\\n",
       "\t Amateur &  TRUE & f58aad5996a435f16b0284a3b267f973f9af99e7a89bee0430055a44fa92f977 &  0.0 & Adrian    & Female & 17 & NA & NA\\\\\n",
       "\\end{tabular}\n"
      ],
      "text/markdown": [
       "\n",
       "A tibble: 6 × 9\n",
       "\n",
       "| experience &lt;chr&gt; | subscribe &lt;lgl&gt; | hashedEmail &lt;chr&gt; | played_hours &lt;dbl&gt; | name &lt;chr&gt; | gender &lt;chr&gt; | age &lt;dbl&gt; | individualId &lt;lgl&gt; | organizationName &lt;lgl&gt; |\n",
       "|---|---|---|---|---|---|---|---|---|\n",
       "| Pro     |  TRUE | f6daba428a5e19a3d47574858c13550499be23603422e6a0ee9728f8b53e192d | 30.3 | Morgan    | Male   |  9 | NA | NA |\n",
       "| Veteran |  TRUE | f3c813577c458ba0dfef80996f8f32c93b6e8af1fa939732842f2312358a88e9 |  3.8 | Christian | Male   | 17 | NA | NA |\n",
       "| Veteran | FALSE | b674dd7ee0d24096d1c019615ce4d12b20fcbff12d79d3c5a9d2118eb7ccbb28 |  0.0 | Blake     | Male   | 17 | NA | NA |\n",
       "| Amateur |  TRUE | 23fe711e0e3b77f1da7aa221ab1192afe21648d47d2b4fa7a5a659ff443a0eb5 |  0.7 | Flora     | Female | 21 | NA | NA |\n",
       "| Regular |  TRUE | 7dc01f10bf20671ecfccdac23812b1b415acd42c2147cb0af4d48fcce2420f3e |  0.1 | Kylie     | Male   | 21 | NA | NA |\n",
       "| Amateur |  TRUE | f58aad5996a435f16b0284a3b267f973f9af99e7a89bee0430055a44fa92f977 |  0.0 | Adrian    | Female | 17 | NA | NA |\n",
       "\n"
      ],
      "text/plain": [
       "  experience subscribe\n",
       "1 Pro         TRUE    \n",
       "2 Veteran     TRUE    \n",
       "3 Veteran    FALSE    \n",
       "4 Amateur     TRUE    \n",
       "5 Regular     TRUE    \n",
       "6 Amateur     TRUE    \n",
       "  hashedEmail                                                      played_hours\n",
       "1 f6daba428a5e19a3d47574858c13550499be23603422e6a0ee9728f8b53e192d 30.3        \n",
       "2 f3c813577c458ba0dfef80996f8f32c93b6e8af1fa939732842f2312358a88e9  3.8        \n",
       "3 b674dd7ee0d24096d1c019615ce4d12b20fcbff12d79d3c5a9d2118eb7ccbb28  0.0        \n",
       "4 23fe711e0e3b77f1da7aa221ab1192afe21648d47d2b4fa7a5a659ff443a0eb5  0.7        \n",
       "5 7dc01f10bf20671ecfccdac23812b1b415acd42c2147cb0af4d48fcce2420f3e  0.1        \n",
       "6 f58aad5996a435f16b0284a3b267f973f9af99e7a89bee0430055a44fa92f977  0.0        \n",
       "  name      gender age individualId organizationName\n",
       "1 Morgan    Male    9  NA           NA              \n",
       "2 Christian Male   17  NA           NA              \n",
       "3 Blake     Male   17  NA           NA              \n",
       "4 Flora     Female 21  NA           NA              \n",
       "5 Kylie     Male   21  NA           NA              \n",
       "6 Adrian    Female 17  NA           NA              "
      ]
     },
     "metadata": {},
     "output_type": "display_data"
    }
   ],
   "source": [
    "head(players)"
   ]
  },
  {
   "cell_type": "markdown",
   "id": "094d3048-dd89-4815-bcb5-093f11cf51ba",
   "metadata": {},
   "source": [
    "Alright, so what we've done is loaded both datasets and then directly above this is a sneak-peek at the player information dataset! A lot of the data here is pretty obvious such as **name**, **gender**, and **age**. The other columns of data represent somewhat less obvious data such as the **experience** column denoting the players self-identified minecraft skill level which they can choose as Pro, Amateur, Regular, and more. To the right of that is the **subscribe** which shows whether or not they enrolled in the email list of the study. Look right once more and we see the **hashedEmail** column which is an anonymised encoding of each users email (this comes in handy later on), and finally is the **played_hours** data which represents each users *total* hours played on the server. As we are not cleaning up the data yet, the individualId and organizationName columns are still visible but they contain no data so when we move on later we will take care of that."
   ]
  },
  {
   "cell_type": "code",
   "execution_count": 4,
   "id": "c47a201c-c6ff-48ab-90d0-9ff66e151b44",
   "metadata": {},
   "outputs": [
    {
     "data": {
      "text/html": [
       "<table class=\"dataframe\">\n",
       "<caption>A tibble: 6 × 5</caption>\n",
       "<thead>\n",
       "\t<tr><th scope=col>hashedEmail</th><th scope=col>start_time</th><th scope=col>end_time</th><th scope=col>original_start_time</th><th scope=col>original_end_time</th></tr>\n",
       "\t<tr><th scope=col>&lt;chr&gt;</th><th scope=col>&lt;chr&gt;</th><th scope=col>&lt;chr&gt;</th><th scope=col>&lt;dbl&gt;</th><th scope=col>&lt;dbl&gt;</th></tr>\n",
       "</thead>\n",
       "<tbody>\n",
       "\t<tr><td>bfce39c89d6549f2bb94d8064d3ce69dc3d7e72b38f431d8aa0c4bf95ccee6bf</td><td>30/06/2024 18:12</td><td>30/06/2024 18:24</td><td>1.71977e+12</td><td>1.71977e+12</td></tr>\n",
       "\t<tr><td>36d9cbb4c6bc0c1a6911436d2da0d09ec625e43e6552f575d4acc9cf487c4686</td><td>17/06/2024 23:33</td><td>17/06/2024 23:46</td><td>1.71867e+12</td><td>1.71867e+12</td></tr>\n",
       "\t<tr><td>f8f5477f5a2e53616ae37421b1c660b971192bd8ff77e3398304c7ae42581fdc</td><td>25/07/2024 17:34</td><td>25/07/2024 17:57</td><td>1.72193e+12</td><td>1.72193e+12</td></tr>\n",
       "\t<tr><td>bfce39c89d6549f2bb94d8064d3ce69dc3d7e72b38f431d8aa0c4bf95ccee6bf</td><td>25/07/2024 03:22</td><td>25/07/2024 03:58</td><td>1.72188e+12</td><td>1.72188e+12</td></tr>\n",
       "\t<tr><td>36d9cbb4c6bc0c1a6911436d2da0d09ec625e43e6552f575d4acc9cf487c4686</td><td>25/05/2024 16:01</td><td>25/05/2024 16:12</td><td>1.71665e+12</td><td>1.71665e+12</td></tr>\n",
       "\t<tr><td>bfce39c89d6549f2bb94d8064d3ce69dc3d7e72b38f431d8aa0c4bf95ccee6bf</td><td>23/06/2024 15:08</td><td>23/06/2024 17:10</td><td>1.71916e+12</td><td>1.71916e+12</td></tr>\n",
       "</tbody>\n",
       "</table>\n"
      ],
      "text/latex": [
       "A tibble: 6 × 5\n",
       "\\begin{tabular}{lllll}\n",
       " hashedEmail & start\\_time & end\\_time & original\\_start\\_time & original\\_end\\_time\\\\\n",
       " <chr> & <chr> & <chr> & <dbl> & <dbl>\\\\\n",
       "\\hline\n",
       "\t bfce39c89d6549f2bb94d8064d3ce69dc3d7e72b38f431d8aa0c4bf95ccee6bf & 30/06/2024 18:12 & 30/06/2024 18:24 & 1.71977e+12 & 1.71977e+12\\\\\n",
       "\t 36d9cbb4c6bc0c1a6911436d2da0d09ec625e43e6552f575d4acc9cf487c4686 & 17/06/2024 23:33 & 17/06/2024 23:46 & 1.71867e+12 & 1.71867e+12\\\\\n",
       "\t f8f5477f5a2e53616ae37421b1c660b971192bd8ff77e3398304c7ae42581fdc & 25/07/2024 17:34 & 25/07/2024 17:57 & 1.72193e+12 & 1.72193e+12\\\\\n",
       "\t bfce39c89d6549f2bb94d8064d3ce69dc3d7e72b38f431d8aa0c4bf95ccee6bf & 25/07/2024 03:22 & 25/07/2024 03:58 & 1.72188e+12 & 1.72188e+12\\\\\n",
       "\t 36d9cbb4c6bc0c1a6911436d2da0d09ec625e43e6552f575d4acc9cf487c4686 & 25/05/2024 16:01 & 25/05/2024 16:12 & 1.71665e+12 & 1.71665e+12\\\\\n",
       "\t bfce39c89d6549f2bb94d8064d3ce69dc3d7e72b38f431d8aa0c4bf95ccee6bf & 23/06/2024 15:08 & 23/06/2024 17:10 & 1.71916e+12 & 1.71916e+12\\\\\n",
       "\\end{tabular}\n"
      ],
      "text/markdown": [
       "\n",
       "A tibble: 6 × 5\n",
       "\n",
       "| hashedEmail &lt;chr&gt; | start_time &lt;chr&gt; | end_time &lt;chr&gt; | original_start_time &lt;dbl&gt; | original_end_time &lt;dbl&gt; |\n",
       "|---|---|---|---|---|\n",
       "| bfce39c89d6549f2bb94d8064d3ce69dc3d7e72b38f431d8aa0c4bf95ccee6bf | 30/06/2024 18:12 | 30/06/2024 18:24 | 1.71977e+12 | 1.71977e+12 |\n",
       "| 36d9cbb4c6bc0c1a6911436d2da0d09ec625e43e6552f575d4acc9cf487c4686 | 17/06/2024 23:33 | 17/06/2024 23:46 | 1.71867e+12 | 1.71867e+12 |\n",
       "| f8f5477f5a2e53616ae37421b1c660b971192bd8ff77e3398304c7ae42581fdc | 25/07/2024 17:34 | 25/07/2024 17:57 | 1.72193e+12 | 1.72193e+12 |\n",
       "| bfce39c89d6549f2bb94d8064d3ce69dc3d7e72b38f431d8aa0c4bf95ccee6bf | 25/07/2024 03:22 | 25/07/2024 03:58 | 1.72188e+12 | 1.72188e+12 |\n",
       "| 36d9cbb4c6bc0c1a6911436d2da0d09ec625e43e6552f575d4acc9cf487c4686 | 25/05/2024 16:01 | 25/05/2024 16:12 | 1.71665e+12 | 1.71665e+12 |\n",
       "| bfce39c89d6549f2bb94d8064d3ce69dc3d7e72b38f431d8aa0c4bf95ccee6bf | 23/06/2024 15:08 | 23/06/2024 17:10 | 1.71916e+12 | 1.71916e+12 |\n",
       "\n"
      ],
      "text/plain": [
       "  hashedEmail                                                     \n",
       "1 bfce39c89d6549f2bb94d8064d3ce69dc3d7e72b38f431d8aa0c4bf95ccee6bf\n",
       "2 36d9cbb4c6bc0c1a6911436d2da0d09ec625e43e6552f575d4acc9cf487c4686\n",
       "3 f8f5477f5a2e53616ae37421b1c660b971192bd8ff77e3398304c7ae42581fdc\n",
       "4 bfce39c89d6549f2bb94d8064d3ce69dc3d7e72b38f431d8aa0c4bf95ccee6bf\n",
       "5 36d9cbb4c6bc0c1a6911436d2da0d09ec625e43e6552f575d4acc9cf487c4686\n",
       "6 bfce39c89d6549f2bb94d8064d3ce69dc3d7e72b38f431d8aa0c4bf95ccee6bf\n",
       "  start_time       end_time         original_start_time original_end_time\n",
       "1 30/06/2024 18:12 30/06/2024 18:24 1.71977e+12         1.71977e+12      \n",
       "2 17/06/2024 23:33 17/06/2024 23:46 1.71867e+12         1.71867e+12      \n",
       "3 25/07/2024 17:34 25/07/2024 17:57 1.72193e+12         1.72193e+12      \n",
       "4 25/07/2024 03:22 25/07/2024 03:58 1.72188e+12         1.72188e+12      \n",
       "5 25/05/2024 16:01 25/05/2024 16:12 1.71665e+12         1.71665e+12      \n",
       "6 23/06/2024 15:08 23/06/2024 17:10 1.71916e+12         1.71916e+12      "
      ]
     },
     "metadata": {},
     "output_type": "display_data"
    }
   ],
   "source": [
    "head(sessions)"
   ]
  },
  {
   "cell_type": "markdown",
   "id": "02cb1aff-09b6-41a8-ab2b-74362578dce9",
   "metadata": {},
   "source": [
    "Now we're looking at the combined players sessions dataset which includes session data for the sessions of all the players in the study. Again, this is only a sneak-peek into it, when in reality it has over three thousand rows. We still see **hashedEmail** in this dataset, but the rest of the variables are different! The **start_time** and **end_time** columns represent the corresponding date and time in which each play-session was initiated and terminated. The **original_start_time** and **original_end_time** columns are a bit more complicated, but they are just the UNIX timestamp versions of the other start and end time columns, so don't worry about them!"
   ]
  },
  {
   "cell_type": "markdown",
   "id": "34a50b97-e9cd-4ccc-932f-34a8463d4503",
   "metadata": {},
   "source": [
    "---"
   ]
  },
  {
   "cell_type": "markdown",
   "id": "13ec4172-6075-4621-958f-5e774c4bbadb",
   "metadata": {},
   "source": [
    "## Methods and Results"
   ]
  },
  {
   "cell_type": "markdown",
   "id": "5aa210d2-a215-4db4-a178-ef39404b11a5",
   "metadata": {},
   "source": [
    "### Data Wrangling"
   ]
  },
  {
   "cell_type": "markdown",
   "id": "9ea8bb08-c685-4f00-a4ae-fba748ce1ad3",
   "metadata": {},
   "source": [
    "As mentioned in the introductory section, we noted some issues with the current data such as the **individualId** and **organizationName** columns not being populated with any data, and the **original_start_time** and **original_end_time** columns being rendered redundant by the existence of the much easier to work with **start_time** and **end_time** columns.\n",
    "\n",
    "To fix these and make our data *tidy*, we will modify the current dataframes to do so by selecting which columns we would like to exclude by using subset and select! - starting with the players **players** dataframe:"
   ]
  },
  {
   "cell_type": "code",
   "execution_count": 5,
   "id": "252a0b73-d81f-4ace-a993-3bc74bf960db",
   "metadata": {},
   "outputs": [
    {
     "data": {
      "text/html": [
       "<table class=\"dataframe\">\n",
       "<caption>A tibble: 6 × 7</caption>\n",
       "<thead>\n",
       "\t<tr><th scope=col>experience</th><th scope=col>subscribe</th><th scope=col>hashedEmail</th><th scope=col>played_hours</th><th scope=col>name</th><th scope=col>gender</th><th scope=col>age</th></tr>\n",
       "\t<tr><th scope=col>&lt;chr&gt;</th><th scope=col>&lt;lgl&gt;</th><th scope=col>&lt;chr&gt;</th><th scope=col>&lt;dbl&gt;</th><th scope=col>&lt;chr&gt;</th><th scope=col>&lt;chr&gt;</th><th scope=col>&lt;dbl&gt;</th></tr>\n",
       "</thead>\n",
       "<tbody>\n",
       "\t<tr><td>Pro    </td><td> TRUE</td><td>f6daba428a5e19a3d47574858c13550499be23603422e6a0ee9728f8b53e192d</td><td>30.3</td><td>Morgan   </td><td>Male  </td><td> 9</td></tr>\n",
       "\t<tr><td>Veteran</td><td> TRUE</td><td>f3c813577c458ba0dfef80996f8f32c93b6e8af1fa939732842f2312358a88e9</td><td> 3.8</td><td>Christian</td><td>Male  </td><td>17</td></tr>\n",
       "\t<tr><td>Veteran</td><td>FALSE</td><td>b674dd7ee0d24096d1c019615ce4d12b20fcbff12d79d3c5a9d2118eb7ccbb28</td><td> 0.0</td><td>Blake    </td><td>Male  </td><td>17</td></tr>\n",
       "\t<tr><td>Amateur</td><td> TRUE</td><td>23fe711e0e3b77f1da7aa221ab1192afe21648d47d2b4fa7a5a659ff443a0eb5</td><td> 0.7</td><td>Flora    </td><td>Female</td><td>21</td></tr>\n",
       "\t<tr><td>Regular</td><td> TRUE</td><td>7dc01f10bf20671ecfccdac23812b1b415acd42c2147cb0af4d48fcce2420f3e</td><td> 0.1</td><td>Kylie    </td><td>Male  </td><td>21</td></tr>\n",
       "\t<tr><td>Amateur</td><td> TRUE</td><td>f58aad5996a435f16b0284a3b267f973f9af99e7a89bee0430055a44fa92f977</td><td> 0.0</td><td>Adrian   </td><td>Female</td><td>17</td></tr>\n",
       "</tbody>\n",
       "</table>\n"
      ],
      "text/latex": [
       "A tibble: 6 × 7\n",
       "\\begin{tabular}{lllllll}\n",
       " experience & subscribe & hashedEmail & played\\_hours & name & gender & age\\\\\n",
       " <chr> & <lgl> & <chr> & <dbl> & <chr> & <chr> & <dbl>\\\\\n",
       "\\hline\n",
       "\t Pro     &  TRUE & f6daba428a5e19a3d47574858c13550499be23603422e6a0ee9728f8b53e192d & 30.3 & Morgan    & Male   &  9\\\\\n",
       "\t Veteran &  TRUE & f3c813577c458ba0dfef80996f8f32c93b6e8af1fa939732842f2312358a88e9 &  3.8 & Christian & Male   & 17\\\\\n",
       "\t Veteran & FALSE & b674dd7ee0d24096d1c019615ce4d12b20fcbff12d79d3c5a9d2118eb7ccbb28 &  0.0 & Blake     & Male   & 17\\\\\n",
       "\t Amateur &  TRUE & 23fe711e0e3b77f1da7aa221ab1192afe21648d47d2b4fa7a5a659ff443a0eb5 &  0.7 & Flora     & Female & 21\\\\\n",
       "\t Regular &  TRUE & 7dc01f10bf20671ecfccdac23812b1b415acd42c2147cb0af4d48fcce2420f3e &  0.1 & Kylie     & Male   & 21\\\\\n",
       "\t Amateur &  TRUE & f58aad5996a435f16b0284a3b267f973f9af99e7a89bee0430055a44fa92f977 &  0.0 & Adrian    & Female & 17\\\\\n",
       "\\end{tabular}\n"
      ],
      "text/markdown": [
       "\n",
       "A tibble: 6 × 7\n",
       "\n",
       "| experience &lt;chr&gt; | subscribe &lt;lgl&gt; | hashedEmail &lt;chr&gt; | played_hours &lt;dbl&gt; | name &lt;chr&gt; | gender &lt;chr&gt; | age &lt;dbl&gt; |\n",
       "|---|---|---|---|---|---|---|\n",
       "| Pro     |  TRUE | f6daba428a5e19a3d47574858c13550499be23603422e6a0ee9728f8b53e192d | 30.3 | Morgan    | Male   |  9 |\n",
       "| Veteran |  TRUE | f3c813577c458ba0dfef80996f8f32c93b6e8af1fa939732842f2312358a88e9 |  3.8 | Christian | Male   | 17 |\n",
       "| Veteran | FALSE | b674dd7ee0d24096d1c019615ce4d12b20fcbff12d79d3c5a9d2118eb7ccbb28 |  0.0 | Blake     | Male   | 17 |\n",
       "| Amateur |  TRUE | 23fe711e0e3b77f1da7aa221ab1192afe21648d47d2b4fa7a5a659ff443a0eb5 |  0.7 | Flora     | Female | 21 |\n",
       "| Regular |  TRUE | 7dc01f10bf20671ecfccdac23812b1b415acd42c2147cb0af4d48fcce2420f3e |  0.1 | Kylie     | Male   | 21 |\n",
       "| Amateur |  TRUE | f58aad5996a435f16b0284a3b267f973f9af99e7a89bee0430055a44fa92f977 |  0.0 | Adrian    | Female | 17 |\n",
       "\n"
      ],
      "text/plain": [
       "  experience subscribe\n",
       "1 Pro         TRUE    \n",
       "2 Veteran     TRUE    \n",
       "3 Veteran    FALSE    \n",
       "4 Amateur     TRUE    \n",
       "5 Regular     TRUE    \n",
       "6 Amateur     TRUE    \n",
       "  hashedEmail                                                      played_hours\n",
       "1 f6daba428a5e19a3d47574858c13550499be23603422e6a0ee9728f8b53e192d 30.3        \n",
       "2 f3c813577c458ba0dfef80996f8f32c93b6e8af1fa939732842f2312358a88e9  3.8        \n",
       "3 b674dd7ee0d24096d1c019615ce4d12b20fcbff12d79d3c5a9d2118eb7ccbb28  0.0        \n",
       "4 23fe711e0e3b77f1da7aa221ab1192afe21648d47d2b4fa7a5a659ff443a0eb5  0.7        \n",
       "5 7dc01f10bf20671ecfccdac23812b1b415acd42c2147cb0af4d48fcce2420f3e  0.1        \n",
       "6 f58aad5996a435f16b0284a3b267f973f9af99e7a89bee0430055a44fa92f977  0.0        \n",
       "  name      gender age\n",
       "1 Morgan    Male    9 \n",
       "2 Christian Male   17 \n",
       "3 Blake     Male   17 \n",
       "4 Flora     Female 21 \n",
       "5 Kylie     Male   21 \n",
       "6 Adrian    Female 17 "
      ]
     },
     "metadata": {},
     "output_type": "display_data"
    }
   ],
   "source": [
    "players <- subset(players, select = -c(individualId, organizationName))\n",
    "head(players)"
   ]
  },
  {
   "cell_type": "markdown",
   "id": "1b46f6b8-128b-4694-89f5-64b3c6315695",
   "metadata": {},
   "source": [
    "That's looking much tidier already! Let's do the **sessions** dataframe next:"
   ]
  },
  {
   "cell_type": "code",
   "execution_count": 6,
   "id": "03f8f993-455c-4767-9205-2dcb825ca455",
   "metadata": {},
   "outputs": [
    {
     "data": {
      "text/html": [
       "<table class=\"dataframe\">\n",
       "<caption>A tibble: 6 × 3</caption>\n",
       "<thead>\n",
       "\t<tr><th scope=col>hashedEmail</th><th scope=col>start_time</th><th scope=col>end_time</th></tr>\n",
       "\t<tr><th scope=col>&lt;chr&gt;</th><th scope=col>&lt;chr&gt;</th><th scope=col>&lt;chr&gt;</th></tr>\n",
       "</thead>\n",
       "<tbody>\n",
       "\t<tr><td>bfce39c89d6549f2bb94d8064d3ce69dc3d7e72b38f431d8aa0c4bf95ccee6bf</td><td>30/06/2024 18:12</td><td>30/06/2024 18:24</td></tr>\n",
       "\t<tr><td>36d9cbb4c6bc0c1a6911436d2da0d09ec625e43e6552f575d4acc9cf487c4686</td><td>17/06/2024 23:33</td><td>17/06/2024 23:46</td></tr>\n",
       "\t<tr><td>f8f5477f5a2e53616ae37421b1c660b971192bd8ff77e3398304c7ae42581fdc</td><td>25/07/2024 17:34</td><td>25/07/2024 17:57</td></tr>\n",
       "\t<tr><td>bfce39c89d6549f2bb94d8064d3ce69dc3d7e72b38f431d8aa0c4bf95ccee6bf</td><td>25/07/2024 03:22</td><td>25/07/2024 03:58</td></tr>\n",
       "\t<tr><td>36d9cbb4c6bc0c1a6911436d2da0d09ec625e43e6552f575d4acc9cf487c4686</td><td>25/05/2024 16:01</td><td>25/05/2024 16:12</td></tr>\n",
       "\t<tr><td>bfce39c89d6549f2bb94d8064d3ce69dc3d7e72b38f431d8aa0c4bf95ccee6bf</td><td>23/06/2024 15:08</td><td>23/06/2024 17:10</td></tr>\n",
       "</tbody>\n",
       "</table>\n"
      ],
      "text/latex": [
       "A tibble: 6 × 3\n",
       "\\begin{tabular}{lll}\n",
       " hashedEmail & start\\_time & end\\_time\\\\\n",
       " <chr> & <chr> & <chr>\\\\\n",
       "\\hline\n",
       "\t bfce39c89d6549f2bb94d8064d3ce69dc3d7e72b38f431d8aa0c4bf95ccee6bf & 30/06/2024 18:12 & 30/06/2024 18:24\\\\\n",
       "\t 36d9cbb4c6bc0c1a6911436d2da0d09ec625e43e6552f575d4acc9cf487c4686 & 17/06/2024 23:33 & 17/06/2024 23:46\\\\\n",
       "\t f8f5477f5a2e53616ae37421b1c660b971192bd8ff77e3398304c7ae42581fdc & 25/07/2024 17:34 & 25/07/2024 17:57\\\\\n",
       "\t bfce39c89d6549f2bb94d8064d3ce69dc3d7e72b38f431d8aa0c4bf95ccee6bf & 25/07/2024 03:22 & 25/07/2024 03:58\\\\\n",
       "\t 36d9cbb4c6bc0c1a6911436d2da0d09ec625e43e6552f575d4acc9cf487c4686 & 25/05/2024 16:01 & 25/05/2024 16:12\\\\\n",
       "\t bfce39c89d6549f2bb94d8064d3ce69dc3d7e72b38f431d8aa0c4bf95ccee6bf & 23/06/2024 15:08 & 23/06/2024 17:10\\\\\n",
       "\\end{tabular}\n"
      ],
      "text/markdown": [
       "\n",
       "A tibble: 6 × 3\n",
       "\n",
       "| hashedEmail &lt;chr&gt; | start_time &lt;chr&gt; | end_time &lt;chr&gt; |\n",
       "|---|---|---|\n",
       "| bfce39c89d6549f2bb94d8064d3ce69dc3d7e72b38f431d8aa0c4bf95ccee6bf | 30/06/2024 18:12 | 30/06/2024 18:24 |\n",
       "| 36d9cbb4c6bc0c1a6911436d2da0d09ec625e43e6552f575d4acc9cf487c4686 | 17/06/2024 23:33 | 17/06/2024 23:46 |\n",
       "| f8f5477f5a2e53616ae37421b1c660b971192bd8ff77e3398304c7ae42581fdc | 25/07/2024 17:34 | 25/07/2024 17:57 |\n",
       "| bfce39c89d6549f2bb94d8064d3ce69dc3d7e72b38f431d8aa0c4bf95ccee6bf | 25/07/2024 03:22 | 25/07/2024 03:58 |\n",
       "| 36d9cbb4c6bc0c1a6911436d2da0d09ec625e43e6552f575d4acc9cf487c4686 | 25/05/2024 16:01 | 25/05/2024 16:12 |\n",
       "| bfce39c89d6549f2bb94d8064d3ce69dc3d7e72b38f431d8aa0c4bf95ccee6bf | 23/06/2024 15:08 | 23/06/2024 17:10 |\n",
       "\n"
      ],
      "text/plain": [
       "  hashedEmail                                                     \n",
       "1 bfce39c89d6549f2bb94d8064d3ce69dc3d7e72b38f431d8aa0c4bf95ccee6bf\n",
       "2 36d9cbb4c6bc0c1a6911436d2da0d09ec625e43e6552f575d4acc9cf487c4686\n",
       "3 f8f5477f5a2e53616ae37421b1c660b971192bd8ff77e3398304c7ae42581fdc\n",
       "4 bfce39c89d6549f2bb94d8064d3ce69dc3d7e72b38f431d8aa0c4bf95ccee6bf\n",
       "5 36d9cbb4c6bc0c1a6911436d2da0d09ec625e43e6552f575d4acc9cf487c4686\n",
       "6 bfce39c89d6549f2bb94d8064d3ce69dc3d7e72b38f431d8aa0c4bf95ccee6bf\n",
       "  start_time       end_time        \n",
       "1 30/06/2024 18:12 30/06/2024 18:24\n",
       "2 17/06/2024 23:33 17/06/2024 23:46\n",
       "3 25/07/2024 17:34 25/07/2024 17:57\n",
       "4 25/07/2024 03:22 25/07/2024 03:58\n",
       "5 25/05/2024 16:01 25/05/2024 16:12\n",
       "6 23/06/2024 15:08 23/06/2024 17:10"
      ]
     },
     "metadata": {},
     "output_type": "display_data"
    }
   ],
   "source": [
    "sessions <- subset(sessions, select = -c(original_start_time, original_end_time))\n",
    "head(sessions)"
   ]
  },
  {
   "cell_type": "markdown",
   "id": "a6e6d00c-56d9-45ed-babe-817b125df81d",
   "metadata": {},
   "source": [
    "There's one sneaky thing that may trip us up later if not fixed. We can see that the **start_time** and **end_time** columns are of type *chr (character)* which may make working with them a bit tedious. To resolve this we will employ the **asPOSIXct** function from the base R library to convert them to the type *dttm (date time month)* which will make them far easier to use."
   ]
  },
  {
   "cell_type": "code",
   "execution_count": 7,
   "id": "9080bfa7-4964-44e0-91df-fae4228b2fb3",
   "metadata": {},
   "outputs": [
    {
     "data": {
      "text/html": [
       "<table class=\"dataframe\">\n",
       "<caption>A tibble: 6 × 3</caption>\n",
       "<thead>\n",
       "\t<tr><th scope=col>hashedEmail</th><th scope=col>start_time</th><th scope=col>end_time</th></tr>\n",
       "\t<tr><th scope=col>&lt;chr&gt;</th><th scope=col>&lt;dttm&gt;</th><th scope=col>&lt;dttm&gt;</th></tr>\n",
       "</thead>\n",
       "<tbody>\n",
       "\t<tr><td>bfce39c89d6549f2bb94d8064d3ce69dc3d7e72b38f431d8aa0c4bf95ccee6bf</td><td>2024-06-30 18:12:00</td><td>2024-06-30 18:24:00</td></tr>\n",
       "\t<tr><td>36d9cbb4c6bc0c1a6911436d2da0d09ec625e43e6552f575d4acc9cf487c4686</td><td>2024-06-17 23:33:00</td><td>2024-06-17 23:46:00</td></tr>\n",
       "\t<tr><td>f8f5477f5a2e53616ae37421b1c660b971192bd8ff77e3398304c7ae42581fdc</td><td>2024-07-25 17:34:00</td><td>2024-07-25 17:57:00</td></tr>\n",
       "\t<tr><td>bfce39c89d6549f2bb94d8064d3ce69dc3d7e72b38f431d8aa0c4bf95ccee6bf</td><td>2024-07-25 03:22:00</td><td>2024-07-25 03:58:00</td></tr>\n",
       "\t<tr><td>36d9cbb4c6bc0c1a6911436d2da0d09ec625e43e6552f575d4acc9cf487c4686</td><td>2024-05-25 16:01:00</td><td>2024-05-25 16:12:00</td></tr>\n",
       "\t<tr><td>bfce39c89d6549f2bb94d8064d3ce69dc3d7e72b38f431d8aa0c4bf95ccee6bf</td><td>2024-06-23 15:08:00</td><td>2024-06-23 17:10:00</td></tr>\n",
       "</tbody>\n",
       "</table>\n"
      ],
      "text/latex": [
       "A tibble: 6 × 3\n",
       "\\begin{tabular}{lll}\n",
       " hashedEmail & start\\_time & end\\_time\\\\\n",
       " <chr> & <dttm> & <dttm>\\\\\n",
       "\\hline\n",
       "\t bfce39c89d6549f2bb94d8064d3ce69dc3d7e72b38f431d8aa0c4bf95ccee6bf & 2024-06-30 18:12:00 & 2024-06-30 18:24:00\\\\\n",
       "\t 36d9cbb4c6bc0c1a6911436d2da0d09ec625e43e6552f575d4acc9cf487c4686 & 2024-06-17 23:33:00 & 2024-06-17 23:46:00\\\\\n",
       "\t f8f5477f5a2e53616ae37421b1c660b971192bd8ff77e3398304c7ae42581fdc & 2024-07-25 17:34:00 & 2024-07-25 17:57:00\\\\\n",
       "\t bfce39c89d6549f2bb94d8064d3ce69dc3d7e72b38f431d8aa0c4bf95ccee6bf & 2024-07-25 03:22:00 & 2024-07-25 03:58:00\\\\\n",
       "\t 36d9cbb4c6bc0c1a6911436d2da0d09ec625e43e6552f575d4acc9cf487c4686 & 2024-05-25 16:01:00 & 2024-05-25 16:12:00\\\\\n",
       "\t bfce39c89d6549f2bb94d8064d3ce69dc3d7e72b38f431d8aa0c4bf95ccee6bf & 2024-06-23 15:08:00 & 2024-06-23 17:10:00\\\\\n",
       "\\end{tabular}\n"
      ],
      "text/markdown": [
       "\n",
       "A tibble: 6 × 3\n",
       "\n",
       "| hashedEmail &lt;chr&gt; | start_time &lt;dttm&gt; | end_time &lt;dttm&gt; |\n",
       "|---|---|---|\n",
       "| bfce39c89d6549f2bb94d8064d3ce69dc3d7e72b38f431d8aa0c4bf95ccee6bf | 2024-06-30 18:12:00 | 2024-06-30 18:24:00 |\n",
       "| 36d9cbb4c6bc0c1a6911436d2da0d09ec625e43e6552f575d4acc9cf487c4686 | 2024-06-17 23:33:00 | 2024-06-17 23:46:00 |\n",
       "| f8f5477f5a2e53616ae37421b1c660b971192bd8ff77e3398304c7ae42581fdc | 2024-07-25 17:34:00 | 2024-07-25 17:57:00 |\n",
       "| bfce39c89d6549f2bb94d8064d3ce69dc3d7e72b38f431d8aa0c4bf95ccee6bf | 2024-07-25 03:22:00 | 2024-07-25 03:58:00 |\n",
       "| 36d9cbb4c6bc0c1a6911436d2da0d09ec625e43e6552f575d4acc9cf487c4686 | 2024-05-25 16:01:00 | 2024-05-25 16:12:00 |\n",
       "| bfce39c89d6549f2bb94d8064d3ce69dc3d7e72b38f431d8aa0c4bf95ccee6bf | 2024-06-23 15:08:00 | 2024-06-23 17:10:00 |\n",
       "\n"
      ],
      "text/plain": [
       "  hashedEmail                                                     \n",
       "1 bfce39c89d6549f2bb94d8064d3ce69dc3d7e72b38f431d8aa0c4bf95ccee6bf\n",
       "2 36d9cbb4c6bc0c1a6911436d2da0d09ec625e43e6552f575d4acc9cf487c4686\n",
       "3 f8f5477f5a2e53616ae37421b1c660b971192bd8ff77e3398304c7ae42581fdc\n",
       "4 bfce39c89d6549f2bb94d8064d3ce69dc3d7e72b38f431d8aa0c4bf95ccee6bf\n",
       "5 36d9cbb4c6bc0c1a6911436d2da0d09ec625e43e6552f575d4acc9cf487c4686\n",
       "6 bfce39c89d6549f2bb94d8064d3ce69dc3d7e72b38f431d8aa0c4bf95ccee6bf\n",
       "  start_time          end_time           \n",
       "1 2024-06-30 18:12:00 2024-06-30 18:24:00\n",
       "2 2024-06-17 23:33:00 2024-06-17 23:46:00\n",
       "3 2024-07-25 17:34:00 2024-07-25 17:57:00\n",
       "4 2024-07-25 03:22:00 2024-07-25 03:58:00\n",
       "5 2024-05-25 16:01:00 2024-05-25 16:12:00\n",
       "6 2024-06-23 15:08:00 2024-06-23 17:10:00"
      ]
     },
     "metadata": {},
     "output_type": "display_data"
    }
   ],
   "source": [
    "sessions <- mutate(sessions, start_time = as.POSIXct(start_time, format=\"%d/%m/%Y %H:%M\", tz=\"PST\"),\n",
    "         end_time = as.POSIXct(end_time, format=\"%d/%m/%Y %H:%M\", tz=\"PST\"))\n",
    "\n",
    "head(sessions)"
   ]
  },
  {
   "cell_type": "markdown",
   "id": "0fd9eb79-f623-46d3-8e37-2beb6b49b762",
   "metadata": {},
   "source": [
    "Now we can use those columns to do something that will be very important to our analysis which is computing the duration of the sessions (difference between start_time and end_time in minutes)!"
   ]
  },
  {
   "cell_type": "code",
   "execution_count": 8,
   "id": "f62101dc-84ed-4e92-9aab-dfb026a0c1c1",
   "metadata": {},
   "outputs": [
    {
     "data": {
      "text/html": [
       "<table class=\"dataframe\">\n",
       "<caption>A tibble: 6 × 4</caption>\n",
       "<thead>\n",
       "\t<tr><th scope=col>hashedEmail</th><th scope=col>start_time</th><th scope=col>end_time</th><th scope=col>session_duration</th></tr>\n",
       "\t<tr><th scope=col>&lt;chr&gt;</th><th scope=col>&lt;dttm&gt;</th><th scope=col>&lt;dttm&gt;</th><th scope=col>&lt;dbl&gt;</th></tr>\n",
       "</thead>\n",
       "<tbody>\n",
       "\t<tr><td>bfce39c89d6549f2bb94d8064d3ce69dc3d7e72b38f431d8aa0c4bf95ccee6bf</td><td>2024-06-30 18:12:00</td><td>2024-06-30 18:24:00</td><td> 12</td></tr>\n",
       "\t<tr><td>36d9cbb4c6bc0c1a6911436d2da0d09ec625e43e6552f575d4acc9cf487c4686</td><td>2024-06-17 23:33:00</td><td>2024-06-17 23:46:00</td><td> 13</td></tr>\n",
       "\t<tr><td>f8f5477f5a2e53616ae37421b1c660b971192bd8ff77e3398304c7ae42581fdc</td><td>2024-07-25 17:34:00</td><td>2024-07-25 17:57:00</td><td> 23</td></tr>\n",
       "\t<tr><td>bfce39c89d6549f2bb94d8064d3ce69dc3d7e72b38f431d8aa0c4bf95ccee6bf</td><td>2024-07-25 03:22:00</td><td>2024-07-25 03:58:00</td><td> 36</td></tr>\n",
       "\t<tr><td>36d9cbb4c6bc0c1a6911436d2da0d09ec625e43e6552f575d4acc9cf487c4686</td><td>2024-05-25 16:01:00</td><td>2024-05-25 16:12:00</td><td> 11</td></tr>\n",
       "\t<tr><td>bfce39c89d6549f2bb94d8064d3ce69dc3d7e72b38f431d8aa0c4bf95ccee6bf</td><td>2024-06-23 15:08:00</td><td>2024-06-23 17:10:00</td><td>122</td></tr>\n",
       "</tbody>\n",
       "</table>\n"
      ],
      "text/latex": [
       "A tibble: 6 × 4\n",
       "\\begin{tabular}{llll}\n",
       " hashedEmail & start\\_time & end\\_time & session\\_duration\\\\\n",
       " <chr> & <dttm> & <dttm> & <dbl>\\\\\n",
       "\\hline\n",
       "\t bfce39c89d6549f2bb94d8064d3ce69dc3d7e72b38f431d8aa0c4bf95ccee6bf & 2024-06-30 18:12:00 & 2024-06-30 18:24:00 &  12\\\\\n",
       "\t 36d9cbb4c6bc0c1a6911436d2da0d09ec625e43e6552f575d4acc9cf487c4686 & 2024-06-17 23:33:00 & 2024-06-17 23:46:00 &  13\\\\\n",
       "\t f8f5477f5a2e53616ae37421b1c660b971192bd8ff77e3398304c7ae42581fdc & 2024-07-25 17:34:00 & 2024-07-25 17:57:00 &  23\\\\\n",
       "\t bfce39c89d6549f2bb94d8064d3ce69dc3d7e72b38f431d8aa0c4bf95ccee6bf & 2024-07-25 03:22:00 & 2024-07-25 03:58:00 &  36\\\\\n",
       "\t 36d9cbb4c6bc0c1a6911436d2da0d09ec625e43e6552f575d4acc9cf487c4686 & 2024-05-25 16:01:00 & 2024-05-25 16:12:00 &  11\\\\\n",
       "\t bfce39c89d6549f2bb94d8064d3ce69dc3d7e72b38f431d8aa0c4bf95ccee6bf & 2024-06-23 15:08:00 & 2024-06-23 17:10:00 & 122\\\\\n",
       "\\end{tabular}\n"
      ],
      "text/markdown": [
       "\n",
       "A tibble: 6 × 4\n",
       "\n",
       "| hashedEmail &lt;chr&gt; | start_time &lt;dttm&gt; | end_time &lt;dttm&gt; | session_duration &lt;dbl&gt; |\n",
       "|---|---|---|---|\n",
       "| bfce39c89d6549f2bb94d8064d3ce69dc3d7e72b38f431d8aa0c4bf95ccee6bf | 2024-06-30 18:12:00 | 2024-06-30 18:24:00 |  12 |\n",
       "| 36d9cbb4c6bc0c1a6911436d2da0d09ec625e43e6552f575d4acc9cf487c4686 | 2024-06-17 23:33:00 | 2024-06-17 23:46:00 |  13 |\n",
       "| f8f5477f5a2e53616ae37421b1c660b971192bd8ff77e3398304c7ae42581fdc | 2024-07-25 17:34:00 | 2024-07-25 17:57:00 |  23 |\n",
       "| bfce39c89d6549f2bb94d8064d3ce69dc3d7e72b38f431d8aa0c4bf95ccee6bf | 2024-07-25 03:22:00 | 2024-07-25 03:58:00 |  36 |\n",
       "| 36d9cbb4c6bc0c1a6911436d2da0d09ec625e43e6552f575d4acc9cf487c4686 | 2024-05-25 16:01:00 | 2024-05-25 16:12:00 |  11 |\n",
       "| bfce39c89d6549f2bb94d8064d3ce69dc3d7e72b38f431d8aa0c4bf95ccee6bf | 2024-06-23 15:08:00 | 2024-06-23 17:10:00 | 122 |\n",
       "\n"
      ],
      "text/plain": [
       "  hashedEmail                                                     \n",
       "1 bfce39c89d6549f2bb94d8064d3ce69dc3d7e72b38f431d8aa0c4bf95ccee6bf\n",
       "2 36d9cbb4c6bc0c1a6911436d2da0d09ec625e43e6552f575d4acc9cf487c4686\n",
       "3 f8f5477f5a2e53616ae37421b1c660b971192bd8ff77e3398304c7ae42581fdc\n",
       "4 bfce39c89d6549f2bb94d8064d3ce69dc3d7e72b38f431d8aa0c4bf95ccee6bf\n",
       "5 36d9cbb4c6bc0c1a6911436d2da0d09ec625e43e6552f575d4acc9cf487c4686\n",
       "6 bfce39c89d6549f2bb94d8064d3ce69dc3d7e72b38f431d8aa0c4bf95ccee6bf\n",
       "  start_time          end_time            session_duration\n",
       "1 2024-06-30 18:12:00 2024-06-30 18:24:00  12             \n",
       "2 2024-06-17 23:33:00 2024-06-17 23:46:00  13             \n",
       "3 2024-07-25 17:34:00 2024-07-25 17:57:00  23             \n",
       "4 2024-07-25 03:22:00 2024-07-25 03:58:00  36             \n",
       "5 2024-05-25 16:01:00 2024-05-25 16:12:00  11             \n",
       "6 2024-06-23 15:08:00 2024-06-23 17:10:00 122             "
      ]
     },
     "metadata": {},
     "output_type": "display_data"
    }
   ],
   "source": [
    "sessions <- mutate(sessions, session_duration = as.numeric(difftime(end_time, start_time, units = \"mins\")))\n",
    "\n",
    "head(sessions)"
   ]
  },
  {
   "cell_type": "markdown",
   "id": "5d4c869c-091a-4f9f-8b0b-e03e32dc3f7d",
   "metadata": {},
   "source": [
    "Both of our dataframes look very tidy now, although working with two separate dataframes may overcomplicate our analysis and code both for us to work with and for you to understand. While we are doing that, we will also manipulate the data to introduce two new columns of further useful metrics regarding our analysis. Since we're basing our predictions off of every players first session, we really want to know their first session length: **first_session_duration** and how many sessions they return to play after that one: **future_sessions_played**."
   ]
  },
  {
   "cell_type": "code",
   "execution_count": 12,
   "id": "33d9e761-c414-40b7-8775-ba2acaf2b354",
   "metadata": {},
   "outputs": [
    {
     "data": {
      "text/html": [
       "<table class=\"dataframe\">\n",
       "<caption>A tibble: 6 × 12</caption>\n",
       "<thead>\n",
       "\t<tr><th scope=col>experience</th><th scope=col>subscribe</th><th scope=col>hashedEmail</th><th scope=col>played_hours</th><th scope=col>name</th><th scope=col>gender</th><th scope=col>age</th><th scope=col>start_time</th><th scope=col>end_time</th><th scope=col>session_duration</th><th scope=col>first_session_duration</th><th scope=col>future_sessions_count</th></tr>\n",
       "\t<tr><th scope=col>&lt;chr&gt;</th><th scope=col>&lt;lgl&gt;</th><th scope=col>&lt;chr&gt;</th><th scope=col>&lt;dbl&gt;</th><th scope=col>&lt;chr&gt;</th><th scope=col>&lt;chr&gt;</th><th scope=col>&lt;dbl&gt;</th><th scope=col>&lt;dttm&gt;</th><th scope=col>&lt;dttm&gt;</th><th scope=col>&lt;dbl&gt;</th><th scope=col>&lt;dbl&gt;</th><th scope=col>&lt;dbl&gt;</th></tr>\n",
       "</thead>\n",
       "<tbody>\n",
       "\t<tr><td>Pro</td><td>TRUE</td><td>f6daba428a5e19a3d47574858c13550499be23603422e6a0ee9728f8b53e192d</td><td>30.3</td><td>Morgan</td><td>Male</td><td>9</td><td>2024-08-08 00:21:00</td><td>2024-08-08 01:35:00</td><td>74</td><td>74</td><td>26</td></tr>\n",
       "\t<tr><td>Pro</td><td>TRUE</td><td>f6daba428a5e19a3d47574858c13550499be23603422e6a0ee9728f8b53e192d</td><td>30.3</td><td>Morgan</td><td>Male</td><td>9</td><td>2024-09-09 22:30:00</td><td>2024-09-09 22:37:00</td><td> 7</td><td>74</td><td>26</td></tr>\n",
       "\t<tr><td>Pro</td><td>TRUE</td><td>f6daba428a5e19a3d47574858c13550499be23603422e6a0ee9728f8b53e192d</td><td>30.3</td><td>Morgan</td><td>Male</td><td>9</td><td>2024-08-08 02:41:00</td><td>2024-08-08 03:25:00</td><td>44</td><td>74</td><td>26</td></tr>\n",
       "\t<tr><td>Pro</td><td>TRUE</td><td>f6daba428a5e19a3d47574858c13550499be23603422e6a0ee9728f8b53e192d</td><td>30.3</td><td>Morgan</td><td>Male</td><td>9</td><td>2024-09-10 15:07:00</td><td>2024-09-10 15:29:00</td><td>22</td><td>74</td><td>26</td></tr>\n",
       "\t<tr><td>Pro</td><td>TRUE</td><td>f6daba428a5e19a3d47574858c13550499be23603422e6a0ee9728f8b53e192d</td><td>30.3</td><td>Morgan</td><td>Male</td><td>9</td><td>2024-05-05 22:21:00</td><td>2024-05-05 23:17:00</td><td>56</td><td>74</td><td>26</td></tr>\n",
       "\t<tr><td>Pro</td><td>TRUE</td><td>f6daba428a5e19a3d47574858c13550499be23603422e6a0ee9728f8b53e192d</td><td>30.3</td><td>Morgan</td><td>Male</td><td>9</td><td>2024-04-06 22:24:00</td><td>2024-04-06 23:33:00</td><td>69</td><td>74</td><td>26</td></tr>\n",
       "</tbody>\n",
       "</table>\n"
      ],
      "text/latex": [
       "A tibble: 6 × 12\n",
       "\\begin{tabular}{llllllllllll}\n",
       " experience & subscribe & hashedEmail & played\\_hours & name & gender & age & start\\_time & end\\_time & session\\_duration & first\\_session\\_duration & future\\_sessions\\_count\\\\\n",
       " <chr> & <lgl> & <chr> & <dbl> & <chr> & <chr> & <dbl> & <dttm> & <dttm> & <dbl> & <dbl> & <dbl>\\\\\n",
       "\\hline\n",
       "\t Pro & TRUE & f6daba428a5e19a3d47574858c13550499be23603422e6a0ee9728f8b53e192d & 30.3 & Morgan & Male & 9 & 2024-08-08 00:21:00 & 2024-08-08 01:35:00 & 74 & 74 & 26\\\\\n",
       "\t Pro & TRUE & f6daba428a5e19a3d47574858c13550499be23603422e6a0ee9728f8b53e192d & 30.3 & Morgan & Male & 9 & 2024-09-09 22:30:00 & 2024-09-09 22:37:00 &  7 & 74 & 26\\\\\n",
       "\t Pro & TRUE & f6daba428a5e19a3d47574858c13550499be23603422e6a0ee9728f8b53e192d & 30.3 & Morgan & Male & 9 & 2024-08-08 02:41:00 & 2024-08-08 03:25:00 & 44 & 74 & 26\\\\\n",
       "\t Pro & TRUE & f6daba428a5e19a3d47574858c13550499be23603422e6a0ee9728f8b53e192d & 30.3 & Morgan & Male & 9 & 2024-09-10 15:07:00 & 2024-09-10 15:29:00 & 22 & 74 & 26\\\\\n",
       "\t Pro & TRUE & f6daba428a5e19a3d47574858c13550499be23603422e6a0ee9728f8b53e192d & 30.3 & Morgan & Male & 9 & 2024-05-05 22:21:00 & 2024-05-05 23:17:00 & 56 & 74 & 26\\\\\n",
       "\t Pro & TRUE & f6daba428a5e19a3d47574858c13550499be23603422e6a0ee9728f8b53e192d & 30.3 & Morgan & Male & 9 & 2024-04-06 22:24:00 & 2024-04-06 23:33:00 & 69 & 74 & 26\\\\\n",
       "\\end{tabular}\n"
      ],
      "text/markdown": [
       "\n",
       "A tibble: 6 × 12\n",
       "\n",
       "| experience &lt;chr&gt; | subscribe &lt;lgl&gt; | hashedEmail &lt;chr&gt; | played_hours &lt;dbl&gt; | name &lt;chr&gt; | gender &lt;chr&gt; | age &lt;dbl&gt; | start_time &lt;dttm&gt; | end_time &lt;dttm&gt; | session_duration &lt;dbl&gt; | first_session_duration &lt;dbl&gt; | future_sessions_count &lt;dbl&gt; |\n",
       "|---|---|---|---|---|---|---|---|---|---|---|---|\n",
       "| Pro | TRUE | f6daba428a5e19a3d47574858c13550499be23603422e6a0ee9728f8b53e192d | 30.3 | Morgan | Male | 9 | 2024-08-08 00:21:00 | 2024-08-08 01:35:00 | 74 | 74 | 26 |\n",
       "| Pro | TRUE | f6daba428a5e19a3d47574858c13550499be23603422e6a0ee9728f8b53e192d | 30.3 | Morgan | Male | 9 | 2024-09-09 22:30:00 | 2024-09-09 22:37:00 |  7 | 74 | 26 |\n",
       "| Pro | TRUE | f6daba428a5e19a3d47574858c13550499be23603422e6a0ee9728f8b53e192d | 30.3 | Morgan | Male | 9 | 2024-08-08 02:41:00 | 2024-08-08 03:25:00 | 44 | 74 | 26 |\n",
       "| Pro | TRUE | f6daba428a5e19a3d47574858c13550499be23603422e6a0ee9728f8b53e192d | 30.3 | Morgan | Male | 9 | 2024-09-10 15:07:00 | 2024-09-10 15:29:00 | 22 | 74 | 26 |\n",
       "| Pro | TRUE | f6daba428a5e19a3d47574858c13550499be23603422e6a0ee9728f8b53e192d | 30.3 | Morgan | Male | 9 | 2024-05-05 22:21:00 | 2024-05-05 23:17:00 | 56 | 74 | 26 |\n",
       "| Pro | TRUE | f6daba428a5e19a3d47574858c13550499be23603422e6a0ee9728f8b53e192d | 30.3 | Morgan | Male | 9 | 2024-04-06 22:24:00 | 2024-04-06 23:33:00 | 69 | 74 | 26 |\n",
       "\n"
      ],
      "text/plain": [
       "  experience subscribe\n",
       "1 Pro        TRUE     \n",
       "2 Pro        TRUE     \n",
       "3 Pro        TRUE     \n",
       "4 Pro        TRUE     \n",
       "5 Pro        TRUE     \n",
       "6 Pro        TRUE     \n",
       "  hashedEmail                                                      played_hours\n",
       "1 f6daba428a5e19a3d47574858c13550499be23603422e6a0ee9728f8b53e192d 30.3        \n",
       "2 f6daba428a5e19a3d47574858c13550499be23603422e6a0ee9728f8b53e192d 30.3        \n",
       "3 f6daba428a5e19a3d47574858c13550499be23603422e6a0ee9728f8b53e192d 30.3        \n",
       "4 f6daba428a5e19a3d47574858c13550499be23603422e6a0ee9728f8b53e192d 30.3        \n",
       "5 f6daba428a5e19a3d47574858c13550499be23603422e6a0ee9728f8b53e192d 30.3        \n",
       "6 f6daba428a5e19a3d47574858c13550499be23603422e6a0ee9728f8b53e192d 30.3        \n",
       "  name   gender age start_time          end_time            session_duration\n",
       "1 Morgan Male   9   2024-08-08 00:21:00 2024-08-08 01:35:00 74              \n",
       "2 Morgan Male   9   2024-09-09 22:30:00 2024-09-09 22:37:00  7              \n",
       "3 Morgan Male   9   2024-08-08 02:41:00 2024-08-08 03:25:00 44              \n",
       "4 Morgan Male   9   2024-09-10 15:07:00 2024-09-10 15:29:00 22              \n",
       "5 Morgan Male   9   2024-05-05 22:21:00 2024-05-05 23:17:00 56              \n",
       "6 Morgan Male   9   2024-04-06 22:24:00 2024-04-06 23:33:00 69              \n",
       "  first_session_duration future_sessions_count\n",
       "1 74                     26                   \n",
       "2 74                     26                   \n",
       "3 74                     26                   \n",
       "4 74                     26                   \n",
       "5 74                     26                   \n",
       "6 74                     26                   "
      ]
     },
     "metadata": {},
     "output_type": "display_data"
    },
    {
     "data": {
      "text/html": [
       "<table class=\"dataframe\">\n",
       "<caption>A tibble: 6 × 12</caption>\n",
       "<thead>\n",
       "\t<tr><th scope=col>experience</th><th scope=col>subscribe</th><th scope=col>hashedEmail</th><th scope=col>played_hours</th><th scope=col>name</th><th scope=col>gender</th><th scope=col>age</th><th scope=col>start_time</th><th scope=col>end_time</th><th scope=col>session_duration</th><th scope=col>first_session_duration</th><th scope=col>future_sessions_count</th></tr>\n",
       "\t<tr><th scope=col>&lt;chr&gt;</th><th scope=col>&lt;lgl&gt;</th><th scope=col>&lt;chr&gt;</th><th scope=col>&lt;dbl&gt;</th><th scope=col>&lt;chr&gt;</th><th scope=col>&lt;chr&gt;</th><th scope=col>&lt;dbl&gt;</th><th scope=col>&lt;dttm&gt;</th><th scope=col>&lt;dttm&gt;</th><th scope=col>&lt;dbl&gt;</th><th scope=col>&lt;dbl&gt;</th><th scope=col>&lt;dbl&gt;</th></tr>\n",
       "</thead>\n",
       "<tbody>\n",
       "\t<tr><td>Amateur</td><td>FALSE</td><td>f19e136ddde68f365afc860c725ccff54307dedd13968e896a9f890c40aea436</td><td>2.3</td><td>Harlow</td><td>Male </td><td>17</td><td>2024-09-08 20:04:00</td><td>2024-09-08 22:02:00</td><td>118</td><td> 7</td><td>5</td></tr>\n",
       "\t<tr><td>Amateur</td><td>FALSE</td><td>f19e136ddde68f365afc860c725ccff54307dedd13968e896a9f890c40aea436</td><td>2.3</td><td>Harlow</td><td>Male </td><td>17</td><td>2024-08-23 21:59:00</td><td>2024-08-23 22:06:00</td><td>  7</td><td> 7</td><td>5</td></tr>\n",
       "\t<tr><td>Amateur</td><td>FALSE</td><td>f19e136ddde68f365afc860c725ccff54307dedd13968e896a9f890c40aea436</td><td>2.3</td><td>Harlow</td><td>Male </td><td>17</td><td>2024-09-09 02:17:00</td><td>2024-09-09 02:45:00</td><td> 28</td><td> 7</td><td>5</td></tr>\n",
       "\t<tr><td>Amateur</td><td>FALSE</td><td>f19e136ddde68f365afc860c725ccff54307dedd13968e896a9f890c40aea436</td><td>2.3</td><td>Harlow</td><td>Male </td><td>17</td><td>2024-08-23 21:39:00</td><td>2024-08-23 21:53:00</td><td> 14</td><td> 7</td><td>5</td></tr>\n",
       "\t<tr><td>Amateur</td><td>FALSE</td><td>f19e136ddde68f365afc860c725ccff54307dedd13968e896a9f890c40aea436</td><td>2.3</td><td>Harlow</td><td>Male </td><td>17</td><td>2024-09-08 19:40:00</td><td>2024-09-08 19:45:00</td><td>  5</td><td> 7</td><td>5</td></tr>\n",
       "\t<tr><td>Pro    </td><td> TRUE</td><td>d9473710057f7d42f36570f0be83817a4eea614029ff90cf50d8889cdd729d11</td><td>0.2</td><td>Ahmed </td><td>Other</td><td>91</td><td>2024-05-08 19:29:00</td><td>2024-05-08 19:44:00</td><td> 15</td><td>15</td><td>0</td></tr>\n",
       "</tbody>\n",
       "</table>\n"
      ],
      "text/latex": [
       "A tibble: 6 × 12\n",
       "\\begin{tabular}{llllllllllll}\n",
       " experience & subscribe & hashedEmail & played\\_hours & name & gender & age & start\\_time & end\\_time & session\\_duration & first\\_session\\_duration & future\\_sessions\\_count\\\\\n",
       " <chr> & <lgl> & <chr> & <dbl> & <chr> & <chr> & <dbl> & <dttm> & <dttm> & <dbl> & <dbl> & <dbl>\\\\\n",
       "\\hline\n",
       "\t Amateur & FALSE & f19e136ddde68f365afc860c725ccff54307dedd13968e896a9f890c40aea436 & 2.3 & Harlow & Male  & 17 & 2024-09-08 20:04:00 & 2024-09-08 22:02:00 & 118 &  7 & 5\\\\\n",
       "\t Amateur & FALSE & f19e136ddde68f365afc860c725ccff54307dedd13968e896a9f890c40aea436 & 2.3 & Harlow & Male  & 17 & 2024-08-23 21:59:00 & 2024-08-23 22:06:00 &   7 &  7 & 5\\\\\n",
       "\t Amateur & FALSE & f19e136ddde68f365afc860c725ccff54307dedd13968e896a9f890c40aea436 & 2.3 & Harlow & Male  & 17 & 2024-09-09 02:17:00 & 2024-09-09 02:45:00 &  28 &  7 & 5\\\\\n",
       "\t Amateur & FALSE & f19e136ddde68f365afc860c725ccff54307dedd13968e896a9f890c40aea436 & 2.3 & Harlow & Male  & 17 & 2024-08-23 21:39:00 & 2024-08-23 21:53:00 &  14 &  7 & 5\\\\\n",
       "\t Amateur & FALSE & f19e136ddde68f365afc860c725ccff54307dedd13968e896a9f890c40aea436 & 2.3 & Harlow & Male  & 17 & 2024-09-08 19:40:00 & 2024-09-08 19:45:00 &   5 &  7 & 5\\\\\n",
       "\t Pro     &  TRUE & d9473710057f7d42f36570f0be83817a4eea614029ff90cf50d8889cdd729d11 & 0.2 & Ahmed  & Other & 91 & 2024-05-08 19:29:00 & 2024-05-08 19:44:00 &  15 & 15 & 0\\\\\n",
       "\\end{tabular}\n"
      ],
      "text/markdown": [
       "\n",
       "A tibble: 6 × 12\n",
       "\n",
       "| experience &lt;chr&gt; | subscribe &lt;lgl&gt; | hashedEmail &lt;chr&gt; | played_hours &lt;dbl&gt; | name &lt;chr&gt; | gender &lt;chr&gt; | age &lt;dbl&gt; | start_time &lt;dttm&gt; | end_time &lt;dttm&gt; | session_duration &lt;dbl&gt; | first_session_duration &lt;dbl&gt; | future_sessions_count &lt;dbl&gt; |\n",
       "|---|---|---|---|---|---|---|---|---|---|---|---|\n",
       "| Amateur | FALSE | f19e136ddde68f365afc860c725ccff54307dedd13968e896a9f890c40aea436 | 2.3 | Harlow | Male  | 17 | 2024-09-08 20:04:00 | 2024-09-08 22:02:00 | 118 |  7 | 5 |\n",
       "| Amateur | FALSE | f19e136ddde68f365afc860c725ccff54307dedd13968e896a9f890c40aea436 | 2.3 | Harlow | Male  | 17 | 2024-08-23 21:59:00 | 2024-08-23 22:06:00 |   7 |  7 | 5 |\n",
       "| Amateur | FALSE | f19e136ddde68f365afc860c725ccff54307dedd13968e896a9f890c40aea436 | 2.3 | Harlow | Male  | 17 | 2024-09-09 02:17:00 | 2024-09-09 02:45:00 |  28 |  7 | 5 |\n",
       "| Amateur | FALSE | f19e136ddde68f365afc860c725ccff54307dedd13968e896a9f890c40aea436 | 2.3 | Harlow | Male  | 17 | 2024-08-23 21:39:00 | 2024-08-23 21:53:00 |  14 |  7 | 5 |\n",
       "| Amateur | FALSE | f19e136ddde68f365afc860c725ccff54307dedd13968e896a9f890c40aea436 | 2.3 | Harlow | Male  | 17 | 2024-09-08 19:40:00 | 2024-09-08 19:45:00 |   5 |  7 | 5 |\n",
       "| Pro     |  TRUE | d9473710057f7d42f36570f0be83817a4eea614029ff90cf50d8889cdd729d11 | 0.2 | Ahmed  | Other | 91 | 2024-05-08 19:29:00 | 2024-05-08 19:44:00 |  15 | 15 | 0 |\n",
       "\n"
      ],
      "text/plain": [
       "  experience subscribe\n",
       "1 Amateur    FALSE    \n",
       "2 Amateur    FALSE    \n",
       "3 Amateur    FALSE    \n",
       "4 Amateur    FALSE    \n",
       "5 Amateur    FALSE    \n",
       "6 Pro         TRUE    \n",
       "  hashedEmail                                                      played_hours\n",
       "1 f19e136ddde68f365afc860c725ccff54307dedd13968e896a9f890c40aea436 2.3         \n",
       "2 f19e136ddde68f365afc860c725ccff54307dedd13968e896a9f890c40aea436 2.3         \n",
       "3 f19e136ddde68f365afc860c725ccff54307dedd13968e896a9f890c40aea436 2.3         \n",
       "4 f19e136ddde68f365afc860c725ccff54307dedd13968e896a9f890c40aea436 2.3         \n",
       "5 f19e136ddde68f365afc860c725ccff54307dedd13968e896a9f890c40aea436 2.3         \n",
       "6 d9473710057f7d42f36570f0be83817a4eea614029ff90cf50d8889cdd729d11 0.2         \n",
       "  name   gender age start_time          end_time            session_duration\n",
       "1 Harlow Male   17  2024-09-08 20:04:00 2024-09-08 22:02:00 118             \n",
       "2 Harlow Male   17  2024-08-23 21:59:00 2024-08-23 22:06:00   7             \n",
       "3 Harlow Male   17  2024-09-09 02:17:00 2024-09-09 02:45:00  28             \n",
       "4 Harlow Male   17  2024-08-23 21:39:00 2024-08-23 21:53:00  14             \n",
       "5 Harlow Male   17  2024-09-08 19:40:00 2024-09-08 19:45:00   5             \n",
       "6 Ahmed  Other  91  2024-05-08 19:29:00 2024-05-08 19:44:00  15             \n",
       "  first_session_duration future_sessions_count\n",
       "1  7                     5                    \n",
       "2  7                     5                    \n",
       "3  7                     5                    \n",
       "4  7                     5                    \n",
       "5  7                     5                    \n",
       "6 15                     0                    "
      ]
     },
     "metadata": {},
     "output_type": "display_data"
    }
   ],
   "source": [
    "player_session_combined <- players |> inner_join(sessions, by = \"hashedEmail\")\n",
    "\n",
    "player_session_finalized <- player_session_combined |>\n",
    "  group_by(hashedEmail) |>\n",
    "  mutate(first_session_duration = first(session_duration),\n",
    "         future_sessions_count = n() - 1) |>\n",
    "  ungroup()\n",
    "\n",
    "head(player_session_finalized)"
   ]
  },
  {
   "cell_type": "markdown",
   "id": "fa78eeb4-e544-43bc-8891-4c2394d8a190",
   "metadata": {},
   "source": [
    "One crucial thing we must do prior to moving on is to remove every row for each hashedEmail **except** the session which occurs, and while we do that we may as well remove all the other columns which will be not applicable to our analysis such as the **start_time** and **end_time** columns, as well as individual session durations, players names, and their hashed emails. This is to cut any fluff that would mess with our analysis as only certain variables will be used as predictors!"
   ]
  },
  {
   "cell_type": "code",
   "execution_count": 20,
   "id": "b0984198-24dd-4063-95f0-943d02a35b54",
   "metadata": {},
   "outputs": [
    {
     "data": {
      "text/html": [
       "<table class=\"dataframe\">\n",
       "<caption>A tibble: 125 × 6</caption>\n",
       "<thead>\n",
       "\t<tr><th scope=col>age</th><th scope=col>gender</th><th scope=col>subscribe</th><th scope=col>experience</th><th scope=col>first_session_duration</th><th scope=col>future_sessions_count</th></tr>\n",
       "\t<tr><th scope=col>&lt;dbl&gt;</th><th scope=col>&lt;chr&gt;</th><th scope=col>&lt;lgl&gt;</th><th scope=col>&lt;chr&gt;</th><th scope=col>&lt;dbl&gt;</th><th scope=col>&lt;dbl&gt;</th></tr>\n",
       "</thead>\n",
       "<tbody>\n",
       "\t<tr><td> 9</td><td>Male             </td><td> TRUE</td><td>Pro     </td><td> 74</td><td>26</td></tr>\n",
       "\t<tr><td>17</td><td>Male             </td><td> TRUE</td><td>Veteran </td><td> 12</td><td> 2</td></tr>\n",
       "\t<tr><td>17</td><td>Male             </td><td>FALSE</td><td>Veteran </td><td>  5</td><td> 0</td></tr>\n",
       "\t<tr><td>21</td><td>Female           </td><td> TRUE</td><td>Amateur </td><td> 50</td><td> 0</td></tr>\n",
       "\t<tr><td>21</td><td>Male             </td><td> TRUE</td><td>Regular </td><td>  9</td><td> 0</td></tr>\n",
       "\t<tr><td>21</td><td>Male             </td><td>FALSE</td><td>Amateur </td><td>  5</td><td> 0</td></tr>\n",
       "\t<tr><td>17</td><td>Male             </td><td> TRUE</td><td>Amateur </td><td> 13</td><td> 0</td></tr>\n",
       "\t<tr><td>23</td><td>Female           </td><td> TRUE</td><td>Veteran </td><td> 18</td><td> 2</td></tr>\n",
       "\t<tr><td>25</td><td>Female           </td><td> TRUE</td><td>Beginner</td><td>101</td><td> 0</td></tr>\n",
       "\t<tr><td>22</td><td>Male             </td><td> TRUE</td><td>Amateur </td><td> 12</td><td> 0</td></tr>\n",
       "\t<tr><td>17</td><td>Female           </td><td> TRUE</td><td>Amateur </td><td> 23</td><td>36</td></tr>\n",
       "\t<tr><td>17</td><td>Male             </td><td> TRUE</td><td>Amateur </td><td> 12</td><td> 1</td></tr>\n",
       "\t<tr><td>19</td><td>Male             </td><td> TRUE</td><td>Regular </td><td> 35</td><td> 1</td></tr>\n",
       "\t<tr><td> 8</td><td>Male             </td><td> TRUE</td><td>Regular </td><td> 25</td><td> 0</td></tr>\n",
       "\t<tr><td>17</td><td>Female           </td><td>FALSE</td><td>Amateur </td><td> 12</td><td> 0</td></tr>\n",
       "\t<tr><td>17</td><td>Male             </td><td> TRUE</td><td>Beginner</td><td> 70</td><td> 1</td></tr>\n",
       "\t<tr><td>21</td><td>Female           </td><td> TRUE</td><td>Amateur </td><td> 50</td><td> 0</td></tr>\n",
       "\t<tr><td>28</td><td>Female           </td><td> TRUE</td><td>Regular </td><td> 43</td><td> 0</td></tr>\n",
       "\t<tr><td>23</td><td>Male             </td><td> TRUE</td><td>Amateur </td><td>121</td><td> 0</td></tr>\n",
       "\t<tr><td>18</td><td>Male             </td><td>FALSE</td><td>Veteran </td><td> 10</td><td> 0</td></tr>\n",
       "\t<tr><td>23</td><td>Male             </td><td> TRUE</td><td>Amateur </td><td>  8</td><td> 0</td></tr>\n",
       "\t<tr><td>21</td><td>Male             </td><td> TRUE</td><td>Veteran </td><td> 13</td><td> 0</td></tr>\n",
       "\t<tr><td>26</td><td>Male             </td><td> TRUE</td><td>Beginner</td><td> 29</td><td> 1</td></tr>\n",
       "\t<tr><td>20</td><td>Male             </td><td> TRUE</td><td>Veteran </td><td>  4</td><td> 1</td></tr>\n",
       "\t<tr><td>25</td><td>Prefer not to say</td><td>FALSE</td><td>Veteran </td><td> 11</td><td> 5</td></tr>\n",
       "\t<tr><td>17</td><td>Male             </td><td> TRUE</td><td>Amateur </td><td>  4</td><td>11</td></tr>\n",
       "\t<tr><td>17</td><td>Male             </td><td> TRUE</td><td>Regular </td><td> 37</td><td>12</td></tr>\n",
       "\t<tr><td>17</td><td>Non-binary       </td><td> TRUE</td><td>Veteran </td><td> 11</td><td> 0</td></tr>\n",
       "\t<tr><td>24</td><td>Male             </td><td> TRUE</td><td>Amateur </td><td> 24</td><td> 0</td></tr>\n",
       "\t<tr><td>24</td><td>Male             </td><td> TRUE</td><td>Veteran </td><td>147</td><td> 0</td></tr>\n",
       "\t<tr><td>⋮</td><td>⋮</td><td>⋮</td><td>⋮</td><td>⋮</td><td>⋮</td></tr>\n",
       "\t<tr><td>17</td><td>Male             </td><td> TRUE</td><td>Beginner</td><td> 11</td><td>  0</td></tr>\n",
       "\t<tr><td>17</td><td>Non-binary       </td><td> TRUE</td><td>Amateur </td><td> 28</td><td>  1</td></tr>\n",
       "\t<tr><td>23</td><td>Male             </td><td> TRUE</td><td>Amateur </td><td> 14</td><td>  0</td></tr>\n",
       "\t<tr><td>99</td><td>Two-Spirited     </td><td> TRUE</td><td>Regular </td><td>  8</td><td>  0</td></tr>\n",
       "\t<tr><td>19</td><td>Female           </td><td> TRUE</td><td>Regular </td><td> 17</td><td>146</td></tr>\n",
       "\t<tr><td>19</td><td>Male             </td><td> TRUE</td><td>Pro     </td><td> 27</td><td>  1</td></tr>\n",
       "\t<tr><td>20</td><td>Female           </td><td> TRUE</td><td>Regular </td><td> 32</td><td>  0</td></tr>\n",
       "\t<tr><td>21</td><td>Male             </td><td> TRUE</td><td>Regular </td><td>  9</td><td>  0</td></tr>\n",
       "\t<tr><td>26</td><td>Male             </td><td>FALSE</td><td>Amateur </td><td> 16</td><td>  1</td></tr>\n",
       "\t<tr><td>17</td><td>Female           </td><td>FALSE</td><td>Beginner</td><td>  5</td><td> 10</td></tr>\n",
       "\t<tr><td>17</td><td>Male             </td><td> TRUE</td><td>Veteran </td><td> 11</td><td>  0</td></tr>\n",
       "\t<tr><td>17</td><td>Male             </td><td>FALSE</td><td>Veteran </td><td> 11</td><td>  0</td></tr>\n",
       "\t<tr><td>21</td><td>Male             </td><td>FALSE</td><td>Pro     </td><td> 30</td><td>  0</td></tr>\n",
       "\t<tr><td>32</td><td>Male             </td><td>FALSE</td><td>Beginner</td><td>116</td><td>  0</td></tr>\n",
       "\t<tr><td>50</td><td>Male             </td><td>FALSE</td><td>Regular </td><td>  5</td><td>  0</td></tr>\n",
       "\t<tr><td>17</td><td>Male             </td><td> TRUE</td><td>Amateur </td><td> NA</td><td>  3</td></tr>\n",
       "\t<tr><td>21</td><td>Non-binary       </td><td>FALSE</td><td>Veteran </td><td> 46</td><td>  2</td></tr>\n",
       "\t<tr><td>17</td><td>Two-Spirited     </td><td> TRUE</td><td>Amateur </td><td> 33</td><td>  0</td></tr>\n",
       "\t<tr><td>17</td><td>Non-binary       </td><td> TRUE</td><td>Veteran </td><td> 11</td><td>  0</td></tr>\n",
       "\t<tr><td>24</td><td>Male             </td><td>FALSE</td><td>Amateur </td><td>136</td><td>  0</td></tr>\n",
       "\t<tr><td>22</td><td>Female           </td><td> TRUE</td><td>Amateur </td><td> 55</td><td>  0</td></tr>\n",
       "\t<tr><td>17</td><td>Male             </td><td>FALSE</td><td>Pro     </td><td> 19</td><td>  0</td></tr>\n",
       "\t<tr><td>22</td><td>Male             </td><td> TRUE</td><td>Amateur </td><td> 10</td><td> 78</td></tr>\n",
       "\t<tr><td>17</td><td>Male             </td><td>FALSE</td><td>Pro     </td><td>110</td><td>  0</td></tr>\n",
       "\t<tr><td>18</td><td>Male             </td><td>FALSE</td><td>Regular </td><td> 10</td><td>  0</td></tr>\n",
       "\t<tr><td>44</td><td>Female           </td><td> TRUE</td><td>Veteran </td><td> 11</td><td>  0</td></tr>\n",
       "\t<tr><td>22</td><td>Male             </td><td>FALSE</td><td>Veteran </td><td> 21</td><td>  0</td></tr>\n",
       "\t<tr><td>17</td><td>Prefer not to say</td><td>FALSE</td><td>Amateur </td><td>  5</td><td>  0</td></tr>\n",
       "\t<tr><td>17</td><td>Male             </td><td>FALSE</td><td>Amateur </td><td>  7</td><td>  5</td></tr>\n",
       "\t<tr><td>91</td><td>Other            </td><td> TRUE</td><td>Pro     </td><td> 15</td><td>  0</td></tr>\n",
       "</tbody>\n",
       "</table>\n"
      ],
      "text/latex": [
       "A tibble: 125 × 6\n",
       "\\begin{tabular}{llllll}\n",
       " age & gender & subscribe & experience & first\\_session\\_duration & future\\_sessions\\_count\\\\\n",
       " <dbl> & <chr> & <lgl> & <chr> & <dbl> & <dbl>\\\\\n",
       "\\hline\n",
       "\t  9 & Male              &  TRUE & Pro      &  74 & 26\\\\\n",
       "\t 17 & Male              &  TRUE & Veteran  &  12 &  2\\\\\n",
       "\t 17 & Male              & FALSE & Veteran  &   5 &  0\\\\\n",
       "\t 21 & Female            &  TRUE & Amateur  &  50 &  0\\\\\n",
       "\t 21 & Male              &  TRUE & Regular  &   9 &  0\\\\\n",
       "\t 21 & Male              & FALSE & Amateur  &   5 &  0\\\\\n",
       "\t 17 & Male              &  TRUE & Amateur  &  13 &  0\\\\\n",
       "\t 23 & Female            &  TRUE & Veteran  &  18 &  2\\\\\n",
       "\t 25 & Female            &  TRUE & Beginner & 101 &  0\\\\\n",
       "\t 22 & Male              &  TRUE & Amateur  &  12 &  0\\\\\n",
       "\t 17 & Female            &  TRUE & Amateur  &  23 & 36\\\\\n",
       "\t 17 & Male              &  TRUE & Amateur  &  12 &  1\\\\\n",
       "\t 19 & Male              &  TRUE & Regular  &  35 &  1\\\\\n",
       "\t  8 & Male              &  TRUE & Regular  &  25 &  0\\\\\n",
       "\t 17 & Female            & FALSE & Amateur  &  12 &  0\\\\\n",
       "\t 17 & Male              &  TRUE & Beginner &  70 &  1\\\\\n",
       "\t 21 & Female            &  TRUE & Amateur  &  50 &  0\\\\\n",
       "\t 28 & Female            &  TRUE & Regular  &  43 &  0\\\\\n",
       "\t 23 & Male              &  TRUE & Amateur  & 121 &  0\\\\\n",
       "\t 18 & Male              & FALSE & Veteran  &  10 &  0\\\\\n",
       "\t 23 & Male              &  TRUE & Amateur  &   8 &  0\\\\\n",
       "\t 21 & Male              &  TRUE & Veteran  &  13 &  0\\\\\n",
       "\t 26 & Male              &  TRUE & Beginner &  29 &  1\\\\\n",
       "\t 20 & Male              &  TRUE & Veteran  &   4 &  1\\\\\n",
       "\t 25 & Prefer not to say & FALSE & Veteran  &  11 &  5\\\\\n",
       "\t 17 & Male              &  TRUE & Amateur  &   4 & 11\\\\\n",
       "\t 17 & Male              &  TRUE & Regular  &  37 & 12\\\\\n",
       "\t 17 & Non-binary        &  TRUE & Veteran  &  11 &  0\\\\\n",
       "\t 24 & Male              &  TRUE & Amateur  &  24 &  0\\\\\n",
       "\t 24 & Male              &  TRUE & Veteran  & 147 &  0\\\\\n",
       "\t ⋮ & ⋮ & ⋮ & ⋮ & ⋮ & ⋮\\\\\n",
       "\t 17 & Male              &  TRUE & Beginner &  11 &   0\\\\\n",
       "\t 17 & Non-binary        &  TRUE & Amateur  &  28 &   1\\\\\n",
       "\t 23 & Male              &  TRUE & Amateur  &  14 &   0\\\\\n",
       "\t 99 & Two-Spirited      &  TRUE & Regular  &   8 &   0\\\\\n",
       "\t 19 & Female            &  TRUE & Regular  &  17 & 146\\\\\n",
       "\t 19 & Male              &  TRUE & Pro      &  27 &   1\\\\\n",
       "\t 20 & Female            &  TRUE & Regular  &  32 &   0\\\\\n",
       "\t 21 & Male              &  TRUE & Regular  &   9 &   0\\\\\n",
       "\t 26 & Male              & FALSE & Amateur  &  16 &   1\\\\\n",
       "\t 17 & Female            & FALSE & Beginner &   5 &  10\\\\\n",
       "\t 17 & Male              &  TRUE & Veteran  &  11 &   0\\\\\n",
       "\t 17 & Male              & FALSE & Veteran  &  11 &   0\\\\\n",
       "\t 21 & Male              & FALSE & Pro      &  30 &   0\\\\\n",
       "\t 32 & Male              & FALSE & Beginner & 116 &   0\\\\\n",
       "\t 50 & Male              & FALSE & Regular  &   5 &   0\\\\\n",
       "\t 17 & Male              &  TRUE & Amateur  &  NA &   3\\\\\n",
       "\t 21 & Non-binary        & FALSE & Veteran  &  46 &   2\\\\\n",
       "\t 17 & Two-Spirited      &  TRUE & Amateur  &  33 &   0\\\\\n",
       "\t 17 & Non-binary        &  TRUE & Veteran  &  11 &   0\\\\\n",
       "\t 24 & Male              & FALSE & Amateur  & 136 &   0\\\\\n",
       "\t 22 & Female            &  TRUE & Amateur  &  55 &   0\\\\\n",
       "\t 17 & Male              & FALSE & Pro      &  19 &   0\\\\\n",
       "\t 22 & Male              &  TRUE & Amateur  &  10 &  78\\\\\n",
       "\t 17 & Male              & FALSE & Pro      & 110 &   0\\\\\n",
       "\t 18 & Male              & FALSE & Regular  &  10 &   0\\\\\n",
       "\t 44 & Female            &  TRUE & Veteran  &  11 &   0\\\\\n",
       "\t 22 & Male              & FALSE & Veteran  &  21 &   0\\\\\n",
       "\t 17 & Prefer not to say & FALSE & Amateur  &   5 &   0\\\\\n",
       "\t 17 & Male              & FALSE & Amateur  &   7 &   5\\\\\n",
       "\t 91 & Other             &  TRUE & Pro      &  15 &   0\\\\\n",
       "\\end{tabular}\n"
      ],
      "text/markdown": [
       "\n",
       "A tibble: 125 × 6\n",
       "\n",
       "| age &lt;dbl&gt; | gender &lt;chr&gt; | subscribe &lt;lgl&gt; | experience &lt;chr&gt; | first_session_duration &lt;dbl&gt; | future_sessions_count &lt;dbl&gt; |\n",
       "|---|---|---|---|---|---|\n",
       "|  9 | Male              |  TRUE | Pro      |  74 | 26 |\n",
       "| 17 | Male              |  TRUE | Veteran  |  12 |  2 |\n",
       "| 17 | Male              | FALSE | Veteran  |   5 |  0 |\n",
       "| 21 | Female            |  TRUE | Amateur  |  50 |  0 |\n",
       "| 21 | Male              |  TRUE | Regular  |   9 |  0 |\n",
       "| 21 | Male              | FALSE | Amateur  |   5 |  0 |\n",
       "| 17 | Male              |  TRUE | Amateur  |  13 |  0 |\n",
       "| 23 | Female            |  TRUE | Veteran  |  18 |  2 |\n",
       "| 25 | Female            |  TRUE | Beginner | 101 |  0 |\n",
       "| 22 | Male              |  TRUE | Amateur  |  12 |  0 |\n",
       "| 17 | Female            |  TRUE | Amateur  |  23 | 36 |\n",
       "| 17 | Male              |  TRUE | Amateur  |  12 |  1 |\n",
       "| 19 | Male              |  TRUE | Regular  |  35 |  1 |\n",
       "|  8 | Male              |  TRUE | Regular  |  25 |  0 |\n",
       "| 17 | Female            | FALSE | Amateur  |  12 |  0 |\n",
       "| 17 | Male              |  TRUE | Beginner |  70 |  1 |\n",
       "| 21 | Female            |  TRUE | Amateur  |  50 |  0 |\n",
       "| 28 | Female            |  TRUE | Regular  |  43 |  0 |\n",
       "| 23 | Male              |  TRUE | Amateur  | 121 |  0 |\n",
       "| 18 | Male              | FALSE | Veteran  |  10 |  0 |\n",
       "| 23 | Male              |  TRUE | Amateur  |   8 |  0 |\n",
       "| 21 | Male              |  TRUE | Veteran  |  13 |  0 |\n",
       "| 26 | Male              |  TRUE | Beginner |  29 |  1 |\n",
       "| 20 | Male              |  TRUE | Veteran  |   4 |  1 |\n",
       "| 25 | Prefer not to say | FALSE | Veteran  |  11 |  5 |\n",
       "| 17 | Male              |  TRUE | Amateur  |   4 | 11 |\n",
       "| 17 | Male              |  TRUE | Regular  |  37 | 12 |\n",
       "| 17 | Non-binary        |  TRUE | Veteran  |  11 |  0 |\n",
       "| 24 | Male              |  TRUE | Amateur  |  24 |  0 |\n",
       "| 24 | Male              |  TRUE | Veteran  | 147 |  0 |\n",
       "| ⋮ | ⋮ | ⋮ | ⋮ | ⋮ | ⋮ |\n",
       "| 17 | Male              |  TRUE | Beginner |  11 |   0 |\n",
       "| 17 | Non-binary        |  TRUE | Amateur  |  28 |   1 |\n",
       "| 23 | Male              |  TRUE | Amateur  |  14 |   0 |\n",
       "| 99 | Two-Spirited      |  TRUE | Regular  |   8 |   0 |\n",
       "| 19 | Female            |  TRUE | Regular  |  17 | 146 |\n",
       "| 19 | Male              |  TRUE | Pro      |  27 |   1 |\n",
       "| 20 | Female            |  TRUE | Regular  |  32 |   0 |\n",
       "| 21 | Male              |  TRUE | Regular  |   9 |   0 |\n",
       "| 26 | Male              | FALSE | Amateur  |  16 |   1 |\n",
       "| 17 | Female            | FALSE | Beginner |   5 |  10 |\n",
       "| 17 | Male              |  TRUE | Veteran  |  11 |   0 |\n",
       "| 17 | Male              | FALSE | Veteran  |  11 |   0 |\n",
       "| 21 | Male              | FALSE | Pro      |  30 |   0 |\n",
       "| 32 | Male              | FALSE | Beginner | 116 |   0 |\n",
       "| 50 | Male              | FALSE | Regular  |   5 |   0 |\n",
       "| 17 | Male              |  TRUE | Amateur  |  NA |   3 |\n",
       "| 21 | Non-binary        | FALSE | Veteran  |  46 |   2 |\n",
       "| 17 | Two-Spirited      |  TRUE | Amateur  |  33 |   0 |\n",
       "| 17 | Non-binary        |  TRUE | Veteran  |  11 |   0 |\n",
       "| 24 | Male              | FALSE | Amateur  | 136 |   0 |\n",
       "| 22 | Female            |  TRUE | Amateur  |  55 |   0 |\n",
       "| 17 | Male              | FALSE | Pro      |  19 |   0 |\n",
       "| 22 | Male              |  TRUE | Amateur  |  10 |  78 |\n",
       "| 17 | Male              | FALSE | Pro      | 110 |   0 |\n",
       "| 18 | Male              | FALSE | Regular  |  10 |   0 |\n",
       "| 44 | Female            |  TRUE | Veteran  |  11 |   0 |\n",
       "| 22 | Male              | FALSE | Veteran  |  21 |   0 |\n",
       "| 17 | Prefer not to say | FALSE | Amateur  |   5 |   0 |\n",
       "| 17 | Male              | FALSE | Amateur  |   7 |   5 |\n",
       "| 91 | Other             |  TRUE | Pro      |  15 |   0 |\n",
       "\n"
      ],
      "text/plain": [
       "    age gender            subscribe experience first_session_duration\n",
       "1    9  Male               TRUE     Pro         74                   \n",
       "2   17  Male               TRUE     Veteran     12                   \n",
       "3   17  Male              FALSE     Veteran      5                   \n",
       "4   21  Female             TRUE     Amateur     50                   \n",
       "5   21  Male               TRUE     Regular      9                   \n",
       "6   21  Male              FALSE     Amateur      5                   \n",
       "7   17  Male               TRUE     Amateur     13                   \n",
       "8   23  Female             TRUE     Veteran     18                   \n",
       "9   25  Female             TRUE     Beginner   101                   \n",
       "10  22  Male               TRUE     Amateur     12                   \n",
       "11  17  Female             TRUE     Amateur     23                   \n",
       "12  17  Male               TRUE     Amateur     12                   \n",
       "13  19  Male               TRUE     Regular     35                   \n",
       "14   8  Male               TRUE     Regular     25                   \n",
       "15  17  Female            FALSE     Amateur     12                   \n",
       "16  17  Male               TRUE     Beginner    70                   \n",
       "17  21  Female             TRUE     Amateur     50                   \n",
       "18  28  Female             TRUE     Regular     43                   \n",
       "19  23  Male               TRUE     Amateur    121                   \n",
       "20  18  Male              FALSE     Veteran     10                   \n",
       "21  23  Male               TRUE     Amateur      8                   \n",
       "22  21  Male               TRUE     Veteran     13                   \n",
       "23  26  Male               TRUE     Beginner    29                   \n",
       "24  20  Male               TRUE     Veteran      4                   \n",
       "25  25  Prefer not to say FALSE     Veteran     11                   \n",
       "26  17  Male               TRUE     Amateur      4                   \n",
       "27  17  Male               TRUE     Regular     37                   \n",
       "28  17  Non-binary         TRUE     Veteran     11                   \n",
       "29  24  Male               TRUE     Amateur     24                   \n",
       "30  24  Male               TRUE     Veteran    147                   \n",
       "⋮   ⋮   ⋮                 ⋮         ⋮          ⋮                     \n",
       "96  17  Male               TRUE     Beginner    11                   \n",
       "97  17  Non-binary         TRUE     Amateur     28                   \n",
       "98  23  Male               TRUE     Amateur     14                   \n",
       "99  99  Two-Spirited       TRUE     Regular      8                   \n",
       "100 19  Female             TRUE     Regular     17                   \n",
       "101 19  Male               TRUE     Pro         27                   \n",
       "102 20  Female             TRUE     Regular     32                   \n",
       "103 21  Male               TRUE     Regular      9                   \n",
       "104 26  Male              FALSE     Amateur     16                   \n",
       "105 17  Female            FALSE     Beginner     5                   \n",
       "106 17  Male               TRUE     Veteran     11                   \n",
       "107 17  Male              FALSE     Veteran     11                   \n",
       "108 21  Male              FALSE     Pro         30                   \n",
       "109 32  Male              FALSE     Beginner   116                   \n",
       "110 50  Male              FALSE     Regular      5                   \n",
       "111 17  Male               TRUE     Amateur     NA                   \n",
       "112 21  Non-binary        FALSE     Veteran     46                   \n",
       "113 17  Two-Spirited       TRUE     Amateur     33                   \n",
       "114 17  Non-binary         TRUE     Veteran     11                   \n",
       "115 24  Male              FALSE     Amateur    136                   \n",
       "116 22  Female             TRUE     Amateur     55                   \n",
       "117 17  Male              FALSE     Pro         19                   \n",
       "118 22  Male               TRUE     Amateur     10                   \n",
       "119 17  Male              FALSE     Pro        110                   \n",
       "120 18  Male              FALSE     Regular     10                   \n",
       "121 44  Female             TRUE     Veteran     11                   \n",
       "122 22  Male              FALSE     Veteran     21                   \n",
       "123 17  Prefer not to say FALSE     Amateur      5                   \n",
       "124 17  Male              FALSE     Amateur      7                   \n",
       "125 91  Other              TRUE     Pro         15                   \n",
       "    future_sessions_count\n",
       "1   26                   \n",
       "2    2                   \n",
       "3    0                   \n",
       "4    0                   \n",
       "5    0                   \n",
       "6    0                   \n",
       "7    0                   \n",
       "8    2                   \n",
       "9    0                   \n",
       "10   0                   \n",
       "11  36                   \n",
       "12   1                   \n",
       "13   1                   \n",
       "14   0                   \n",
       "15   0                   \n",
       "16   1                   \n",
       "17   0                   \n",
       "18   0                   \n",
       "19   0                   \n",
       "20   0                   \n",
       "21   0                   \n",
       "22   0                   \n",
       "23   1                   \n",
       "24   1                   \n",
       "25   5                   \n",
       "26  11                   \n",
       "27  12                   \n",
       "28   0                   \n",
       "29   0                   \n",
       "30   0                   \n",
       "⋮   ⋮                    \n",
       "96    0                  \n",
       "97    1                  \n",
       "98    0                  \n",
       "99    0                  \n",
       "100 146                  \n",
       "101   1                  \n",
       "102   0                  \n",
       "103   0                  \n",
       "104   1                  \n",
       "105  10                  \n",
       "106   0                  \n",
       "107   0                  \n",
       "108   0                  \n",
       "109   0                  \n",
       "110   0                  \n",
       "111   3                  \n",
       "112   2                  \n",
       "113   0                  \n",
       "114   0                  \n",
       "115   0                  \n",
       "116   0                  \n",
       "117   0                  \n",
       "118  78                  \n",
       "119   0                  \n",
       "120   0                  \n",
       "121   0                  \n",
       "122   0                  \n",
       "123   0                  \n",
       "124   5                  \n",
       "125   0                  "
      ]
     },
     "metadata": {},
     "output_type": "display_data"
    }
   ],
   "source": [
    "final_wrangled_data <- player_session_finalized |>\n",
    "  group_by(hashedEmail) |>\n",
    "  filter(start_time == min(start_time)) |> # Keep only the first session based on earliest start_time\n",
    "  ungroup() |>\n",
    "  select(age, gender, subscribe, experience, first_session_duration, future_sessions_count)                     \n",
    "\n",
    "final_wrangled_data"
   ]
  },
  {
   "cell_type": "markdown",
   "id": "372e0640-3814-477e-bfcc-bdde6b16f343",
   "metadata": {},
   "source": [
    "![](data/wrangled.jpg)"
   ]
  },
  {
   "cell_type": "markdown",
   "id": "a64a9a25-c6fb-4bfb-af50-133d8627ddad",
   "metadata": {},
   "source": [
    "We agree with the cowboy on this one, that data is looking very wrangled and ready to be analyzed, so let's do it!"
   ]
  },
  {
   "cell_type": "markdown",
   "id": "9bf1db70-8ce0-4c0d-92d3-510fca4bbcd6",
   "metadata": {},
   "source": [
    "## D"
   ]
  }
 ],
 "metadata": {
  "kernelspec": {
   "display_name": "R",
   "language": "R",
   "name": "ir"
  },
  "language_info": {
   "codemirror_mode": "r",
   "file_extension": ".r",
   "mimetype": "text/x-r-source",
   "name": "R",
   "pygments_lexer": "r",
   "version": "4.3.3"
  }
 },
 "nbformat": 4,
 "nbformat_minor": 5
}
