{
 "cells": [
  {
   "cell_type": "markdown",
   "id": "75975b54-f46b-4638-a5d2-56b58bee638a",
   "metadata": {},
   "source": [
    "Please run the cell below to ensure that the rest of the report goes as expected!"
   ]
  },
  {
   "cell_type": "code",
   "execution_count": 1,
   "id": "5dabdbe6-a5f4-48fb-aaec-740676706cd1",
   "metadata": {},
   "outputs": [
    {
     "name": "stderr",
     "output_type": "stream",
     "text": [
      "── \u001b[1mAttaching core tidyverse packages\u001b[22m ──────────────────────── tidyverse 2.0.0 ──\n",
      "\u001b[32m✔\u001b[39m \u001b[34mdplyr    \u001b[39m 1.1.4     \u001b[32m✔\u001b[39m \u001b[34mreadr    \u001b[39m 2.1.5\n",
      "\u001b[32m✔\u001b[39m \u001b[34mforcats  \u001b[39m 1.0.0     \u001b[32m✔\u001b[39m \u001b[34mstringr  \u001b[39m 1.5.1\n",
      "\u001b[32m✔\u001b[39m \u001b[34mggplot2  \u001b[39m 3.5.1     \u001b[32m✔\u001b[39m \u001b[34mtibble   \u001b[39m 3.2.1\n",
      "\u001b[32m✔\u001b[39m \u001b[34mlubridate\u001b[39m 1.9.3     \u001b[32m✔\u001b[39m \u001b[34mtidyr    \u001b[39m 1.3.1\n",
      "\u001b[32m✔\u001b[39m \u001b[34mpurrr    \u001b[39m 1.0.2     \n",
      "── \u001b[1mConflicts\u001b[22m ────────────────────────────────────────── tidyverse_conflicts() ──\n",
      "\u001b[31m✖\u001b[39m \u001b[34mdplyr\u001b[39m::\u001b[32mfilter()\u001b[39m masks \u001b[34mstats\u001b[39m::filter()\n",
      "\u001b[31m✖\u001b[39m \u001b[34mdplyr\u001b[39m::\u001b[32mlag()\u001b[39m    masks \u001b[34mstats\u001b[39m::lag()\n",
      "\u001b[36mℹ\u001b[39m Use the conflicted package (\u001b[3m\u001b[34m<http://conflicted.r-lib.org/>\u001b[39m\u001b[23m) to force all conflicts to become errors\n",
      "── \u001b[1mAttaching packages\u001b[22m ────────────────────────────────────── tidymodels 1.1.1 ──\n",
      "\n",
      "\u001b[32m✔\u001b[39m \u001b[34mbroom       \u001b[39m 1.0.6     \u001b[32m✔\u001b[39m \u001b[34mrsample     \u001b[39m 1.2.1\n",
      "\u001b[32m✔\u001b[39m \u001b[34mdials       \u001b[39m 1.3.0     \u001b[32m✔\u001b[39m \u001b[34mtune        \u001b[39m 1.1.2\n",
      "\u001b[32m✔\u001b[39m \u001b[34minfer       \u001b[39m 1.0.7     \u001b[32m✔\u001b[39m \u001b[34mworkflows   \u001b[39m 1.1.4\n",
      "\u001b[32m✔\u001b[39m \u001b[34mmodeldata   \u001b[39m 1.4.0     \u001b[32m✔\u001b[39m \u001b[34mworkflowsets\u001b[39m 1.0.1\n",
      "\u001b[32m✔\u001b[39m \u001b[34mparsnip     \u001b[39m 1.2.1     \u001b[32m✔\u001b[39m \u001b[34myardstick   \u001b[39m 1.3.1\n",
      "\u001b[32m✔\u001b[39m \u001b[34mrecipes     \u001b[39m 1.1.0     \n",
      "\n",
      "── \u001b[1mConflicts\u001b[22m ───────────────────────────────────────── tidymodels_conflicts() ──\n",
      "\u001b[31m✖\u001b[39m \u001b[34mscales\u001b[39m::\u001b[32mdiscard()\u001b[39m masks \u001b[34mpurrr\u001b[39m::discard()\n",
      "\u001b[31m✖\u001b[39m \u001b[34mdplyr\u001b[39m::\u001b[32mfilter()\u001b[39m   masks \u001b[34mstats\u001b[39m::filter()\n",
      "\u001b[31m✖\u001b[39m \u001b[34mrecipes\u001b[39m::\u001b[32mfixed()\u001b[39m  masks \u001b[34mstringr\u001b[39m::fixed()\n",
      "\u001b[31m✖\u001b[39m \u001b[34mdplyr\u001b[39m::\u001b[32mlag()\u001b[39m      masks \u001b[34mstats\u001b[39m::lag()\n",
      "\u001b[31m✖\u001b[39m \u001b[34myardstick\u001b[39m::\u001b[32mspec()\u001b[39m masks \u001b[34mreadr\u001b[39m::spec()\n",
      "\u001b[31m✖\u001b[39m \u001b[34mrecipes\u001b[39m::\u001b[32mstep()\u001b[39m   masks \u001b[34mstats\u001b[39m::step()\n",
      "\u001b[34m•\u001b[39m Learn how to get started at \u001b[32mhttps://www.tidymodels.org/start/\u001b[39m\n",
      "\n",
      "\n",
      "Attaching package: ‘gridExtra’\n",
      "\n",
      "\n",
      "The following object is masked from ‘package:dplyr’:\n",
      "\n",
      "    combine\n",
      "\n",
      "\n"
     ]
    }
   ],
   "source": [
    "library(tidyverse)\n",
    "library(tidymodels)\n",
    "library(repr)\n",
    "library(ggplot2)\n",
    "library(RColorBrewer)\n",
    "library(kknn)\n",
    "library(gridExtra)"
   ]
  },
  {
   "cell_type": "markdown",
   "id": "2650e69a-81aa-4b6f-8173-be1ac604c92c",
   "metadata": {},
   "source": [
    "---"
   ]
  },
  {
   "cell_type": "markdown",
   "id": "31e94844-560c-47ec-877f-84542ce1a1ab",
   "metadata": {},
   "source": [
    "# From Sessions to Predictions: Modeling Engagement with KNN Regression"
   ]
  },
  {
   "cell_type": "markdown",
   "id": "8413a4bb-3256-42b9-9e47-97c373a4b1b2",
   "metadata": {},
   "source": [
    "---"
   ]
  },
  {
   "cell_type": "markdown",
   "id": "64ae8e3d-b13f-4848-8b64-1a4c8eaf89c2",
   "metadata": {},
   "source": [
    "## Introduction"
   ]
  },
  {
   "cell_type": "markdown",
   "id": "e1261f11-471f-48e5-887b-32ace42c8e91",
   "metadata": {},
   "source": [
    "From the title you're probably wondering, what are 'sessions,' what is being predicted, and most likely what even is the term 'KNN Regression.' Well no need to worry! Our project stems from a UBC Computer Science study called **PLAIcraft** with the goal and I quote, \"PLAICraft is a research data collection project with the aim of enabling advanced embodied AI research.\" - PLAIcraft Frequently Asked Questions. They have tasked us with helping them out by answering a few questions for them based on two anonymised datasets regarding player data, and individual play session data. This leads to the question which we attempted to answer for them!"
   ]
  },
  {
   "cell_type": "markdown",
   "id": "28125265-79d0-4108-9a0c-e36f754e6bf5",
   "metadata": {},
   "source": [
    "### Our Question"
   ]
  },
  {
   "cell_type": "markdown",
   "id": "d014f275-b83c-42e3-a1a9-1c7fc0ff33f8",
   "metadata": {},
   "source": [
    "**Can we predict the number of future sessions a player will engage in based on their initial session characteristics and player information?**"
   ]
  },
  {
   "cell_type": "markdown",
   "id": "c1834a50-f6a8-4c2a-be25-1556d43afbfe",
   "metadata": {},
   "source": [
    "To simplify that down more, what our goal was for this data analysis was to utilize a players specific data, as well as the session data for only their very first session to determine if they will return for subsequent sessions, and if they do, how many? "
   ]
  },
  {
   "cell_type": "markdown",
   "id": "8b9614ae-b6c2-4f08-a8d5-a8e5dc575044",
   "metadata": {},
   "source": [
    "### The Dataset"
   ]
  },
  {
   "cell_type": "markdown",
   "id": "a0949ff2-bb17-4c41-8459-d3ff3965c351",
   "metadata": {},
   "source": [
    "Now for the bread and butter, well perhaps the dataset is the bread and the data analysis that comes later is the butter, who knows. Through this brief section we will load the data and talk about it, and most importantly help you to understand what all of it means before we get into the next section which is where the real fun begins."
   ]
  },
  {
   "cell_type": "code",
   "execution_count": 2,
   "id": "fb9f4356-90f8-4594-a28d-d1b8d4e56b73",
   "metadata": {},
   "outputs": [
    {
     "name": "stderr",
     "output_type": "stream",
     "text": [
      "\u001b[1mRows: \u001b[22m\u001b[34m196\u001b[39m \u001b[1mColumns: \u001b[22m\u001b[34m9\u001b[39m\n",
      "\u001b[36m──\u001b[39m \u001b[1mColumn specification\u001b[22m \u001b[36m────────────────────────────────────────────────────────\u001b[39m\n",
      "\u001b[1mDelimiter:\u001b[22m \",\"\n",
      "\u001b[31mchr\u001b[39m (4): experience, hashedEmail, name, gender\n",
      "\u001b[32mdbl\u001b[39m (2): played_hours, age\n",
      "\u001b[33mlgl\u001b[39m (3): subscribe, individualId, organizationName\n",
      "\n",
      "\u001b[36mℹ\u001b[39m Use `spec()` to retrieve the full column specification for this data.\n",
      "\u001b[36mℹ\u001b[39m Specify the column types or set `show_col_types = FALSE` to quiet this message.\n",
      "\u001b[1mRows: \u001b[22m\u001b[34m1535\u001b[39m \u001b[1mColumns: \u001b[22m\u001b[34m5\u001b[39m\n",
      "\u001b[36m──\u001b[39m \u001b[1mColumn specification\u001b[22m \u001b[36m────────────────────────────────────────────────────────\u001b[39m\n",
      "\u001b[1mDelimiter:\u001b[22m \",\"\n",
      "\u001b[31mchr\u001b[39m (3): hashedEmail, start_time, end_time\n",
      "\u001b[32mdbl\u001b[39m (2): original_start_time, original_end_time\n",
      "\n",
      "\u001b[36mℹ\u001b[39m Use `spec()` to retrieve the full column specification for this data.\n",
      "\u001b[36mℹ\u001b[39m Specify the column types or set `show_col_types = FALSE` to quiet this message.\n"
     ]
    }
   ],
   "source": [
    "players <- read_csv(\"data/players.csv\")\n",
    "sessions <- read_csv(\"data/sessions.csv\")"
   ]
  },
  {
   "cell_type": "code",
   "execution_count": 3,
   "id": "498709ab-5d56-450f-bb12-d60288d7cb9d",
   "metadata": {},
   "outputs": [
    {
     "data": {
      "text/html": [
       "<table class=\"dataframe\">\n",
       "<caption>A tibble: 6 × 9</caption>\n",
       "<thead>\n",
       "\t<tr><th scope=col>experience</th><th scope=col>subscribe</th><th scope=col>hashedEmail</th><th scope=col>played_hours</th><th scope=col>name</th><th scope=col>gender</th><th scope=col>age</th><th scope=col>individualId</th><th scope=col>organizationName</th></tr>\n",
       "\t<tr><th scope=col>&lt;chr&gt;</th><th scope=col>&lt;lgl&gt;</th><th scope=col>&lt;chr&gt;</th><th scope=col>&lt;dbl&gt;</th><th scope=col>&lt;chr&gt;</th><th scope=col>&lt;chr&gt;</th><th scope=col>&lt;dbl&gt;</th><th scope=col>&lt;lgl&gt;</th><th scope=col>&lt;lgl&gt;</th></tr>\n",
       "</thead>\n",
       "<tbody>\n",
       "\t<tr><td>Pro    </td><td> TRUE</td><td>f6daba428a5e19a3d47574858c13550499be23603422e6a0ee9728f8b53e192d</td><td>30.3</td><td>Morgan   </td><td>Male  </td><td> 9</td><td>NA</td><td>NA</td></tr>\n",
       "\t<tr><td>Veteran</td><td> TRUE</td><td>f3c813577c458ba0dfef80996f8f32c93b6e8af1fa939732842f2312358a88e9</td><td> 3.8</td><td>Christian</td><td>Male  </td><td>17</td><td>NA</td><td>NA</td></tr>\n",
       "\t<tr><td>Veteran</td><td>FALSE</td><td>b674dd7ee0d24096d1c019615ce4d12b20fcbff12d79d3c5a9d2118eb7ccbb28</td><td> 0.0</td><td>Blake    </td><td>Male  </td><td>17</td><td>NA</td><td>NA</td></tr>\n",
       "\t<tr><td>Amateur</td><td> TRUE</td><td>23fe711e0e3b77f1da7aa221ab1192afe21648d47d2b4fa7a5a659ff443a0eb5</td><td> 0.7</td><td>Flora    </td><td>Female</td><td>21</td><td>NA</td><td>NA</td></tr>\n",
       "\t<tr><td>Regular</td><td> TRUE</td><td>7dc01f10bf20671ecfccdac23812b1b415acd42c2147cb0af4d48fcce2420f3e</td><td> 0.1</td><td>Kylie    </td><td>Male  </td><td>21</td><td>NA</td><td>NA</td></tr>\n",
       "\t<tr><td>Amateur</td><td> TRUE</td><td>f58aad5996a435f16b0284a3b267f973f9af99e7a89bee0430055a44fa92f977</td><td> 0.0</td><td>Adrian   </td><td>Female</td><td>17</td><td>NA</td><td>NA</td></tr>\n",
       "</tbody>\n",
       "</table>\n"
      ],
      "text/latex": [
       "A tibble: 6 × 9\n",
       "\\begin{tabular}{lllllllll}\n",
       " experience & subscribe & hashedEmail & played\\_hours & name & gender & age & individualId & organizationName\\\\\n",
       " <chr> & <lgl> & <chr> & <dbl> & <chr> & <chr> & <dbl> & <lgl> & <lgl>\\\\\n",
       "\\hline\n",
       "\t Pro     &  TRUE & f6daba428a5e19a3d47574858c13550499be23603422e6a0ee9728f8b53e192d & 30.3 & Morgan    & Male   &  9 & NA & NA\\\\\n",
       "\t Veteran &  TRUE & f3c813577c458ba0dfef80996f8f32c93b6e8af1fa939732842f2312358a88e9 &  3.8 & Christian & Male   & 17 & NA & NA\\\\\n",
       "\t Veteran & FALSE & b674dd7ee0d24096d1c019615ce4d12b20fcbff12d79d3c5a9d2118eb7ccbb28 &  0.0 & Blake     & Male   & 17 & NA & NA\\\\\n",
       "\t Amateur &  TRUE & 23fe711e0e3b77f1da7aa221ab1192afe21648d47d2b4fa7a5a659ff443a0eb5 &  0.7 & Flora     & Female & 21 & NA & NA\\\\\n",
       "\t Regular &  TRUE & 7dc01f10bf20671ecfccdac23812b1b415acd42c2147cb0af4d48fcce2420f3e &  0.1 & Kylie     & Male   & 21 & NA & NA\\\\\n",
       "\t Amateur &  TRUE & f58aad5996a435f16b0284a3b267f973f9af99e7a89bee0430055a44fa92f977 &  0.0 & Adrian    & Female & 17 & NA & NA\\\\\n",
       "\\end{tabular}\n"
      ],
      "text/markdown": [
       "\n",
       "A tibble: 6 × 9\n",
       "\n",
       "| experience &lt;chr&gt; | subscribe &lt;lgl&gt; | hashedEmail &lt;chr&gt; | played_hours &lt;dbl&gt; | name &lt;chr&gt; | gender &lt;chr&gt; | age &lt;dbl&gt; | individualId &lt;lgl&gt; | organizationName &lt;lgl&gt; |\n",
       "|---|---|---|---|---|---|---|---|---|\n",
       "| Pro     |  TRUE | f6daba428a5e19a3d47574858c13550499be23603422e6a0ee9728f8b53e192d | 30.3 | Morgan    | Male   |  9 | NA | NA |\n",
       "| Veteran |  TRUE | f3c813577c458ba0dfef80996f8f32c93b6e8af1fa939732842f2312358a88e9 |  3.8 | Christian | Male   | 17 | NA | NA |\n",
       "| Veteran | FALSE | b674dd7ee0d24096d1c019615ce4d12b20fcbff12d79d3c5a9d2118eb7ccbb28 |  0.0 | Blake     | Male   | 17 | NA | NA |\n",
       "| Amateur |  TRUE | 23fe711e0e3b77f1da7aa221ab1192afe21648d47d2b4fa7a5a659ff443a0eb5 |  0.7 | Flora     | Female | 21 | NA | NA |\n",
       "| Regular |  TRUE | 7dc01f10bf20671ecfccdac23812b1b415acd42c2147cb0af4d48fcce2420f3e |  0.1 | Kylie     | Male   | 21 | NA | NA |\n",
       "| Amateur |  TRUE | f58aad5996a435f16b0284a3b267f973f9af99e7a89bee0430055a44fa92f977 |  0.0 | Adrian    | Female | 17 | NA | NA |\n",
       "\n"
      ],
      "text/plain": [
       "  experience subscribe\n",
       "1 Pro         TRUE    \n",
       "2 Veteran     TRUE    \n",
       "3 Veteran    FALSE    \n",
       "4 Amateur     TRUE    \n",
       "5 Regular     TRUE    \n",
       "6 Amateur     TRUE    \n",
       "  hashedEmail                                                      played_hours\n",
       "1 f6daba428a5e19a3d47574858c13550499be23603422e6a0ee9728f8b53e192d 30.3        \n",
       "2 f3c813577c458ba0dfef80996f8f32c93b6e8af1fa939732842f2312358a88e9  3.8        \n",
       "3 b674dd7ee0d24096d1c019615ce4d12b20fcbff12d79d3c5a9d2118eb7ccbb28  0.0        \n",
       "4 23fe711e0e3b77f1da7aa221ab1192afe21648d47d2b4fa7a5a659ff443a0eb5  0.7        \n",
       "5 7dc01f10bf20671ecfccdac23812b1b415acd42c2147cb0af4d48fcce2420f3e  0.1        \n",
       "6 f58aad5996a435f16b0284a3b267f973f9af99e7a89bee0430055a44fa92f977  0.0        \n",
       "  name      gender age individualId organizationName\n",
       "1 Morgan    Male    9  NA           NA              \n",
       "2 Christian Male   17  NA           NA              \n",
       "3 Blake     Male   17  NA           NA              \n",
       "4 Flora     Female 21  NA           NA              \n",
       "5 Kylie     Male   21  NA           NA              \n",
       "6 Adrian    Female 17  NA           NA              "
      ]
     },
     "metadata": {},
     "output_type": "display_data"
    }
   ],
   "source": [
    "head(players)"
   ]
  },
  {
   "cell_type": "markdown",
   "id": "094d3048-dd89-4815-bcb5-093f11cf51ba",
   "metadata": {},
   "source": [
    "Alright, so what we've done is loaded both datasets and then directly above this is a sneak-peek at the player information dataset! A lot of the data here is pretty obvious such as **name**, **gender**, and **age**. The other columns of data represent somewhat less obvious data such as the **experience** column denoting the players self-identified minecraft skill level which they can choose as Pro, Amateur, Regular, and more. To the right of that is the **subscribe** which shows whether or not they enrolled in the email list of the study. Look right once more and we see the **hashedEmail** column which is an anonymised encoding of each users email (this comes in handy later on), and finally is the **played_hours** data which represents each users *total* hours played on the server. As we are not cleaning up the data yet, the individualId and organizationName columns are still visible but they contain no data so when we move on later we will take care of that."
   ]
  },
  {
   "cell_type": "code",
   "execution_count": 4,
   "id": "c47a201c-c6ff-48ab-90d0-9ff66e151b44",
   "metadata": {},
   "outputs": [
    {
     "data": {
      "text/html": [
       "<table class=\"dataframe\">\n",
       "<caption>A tibble: 6 × 5</caption>\n",
       "<thead>\n",
       "\t<tr><th scope=col>hashedEmail</th><th scope=col>start_time</th><th scope=col>end_time</th><th scope=col>original_start_time</th><th scope=col>original_end_time</th></tr>\n",
       "\t<tr><th scope=col>&lt;chr&gt;</th><th scope=col>&lt;chr&gt;</th><th scope=col>&lt;chr&gt;</th><th scope=col>&lt;dbl&gt;</th><th scope=col>&lt;dbl&gt;</th></tr>\n",
       "</thead>\n",
       "<tbody>\n",
       "\t<tr><td>bfce39c89d6549f2bb94d8064d3ce69dc3d7e72b38f431d8aa0c4bf95ccee6bf</td><td>30/06/2024 18:12</td><td>30/06/2024 18:24</td><td>1.71977e+12</td><td>1.71977e+12</td></tr>\n",
       "\t<tr><td>36d9cbb4c6bc0c1a6911436d2da0d09ec625e43e6552f575d4acc9cf487c4686</td><td>17/06/2024 23:33</td><td>17/06/2024 23:46</td><td>1.71867e+12</td><td>1.71867e+12</td></tr>\n",
       "\t<tr><td>f8f5477f5a2e53616ae37421b1c660b971192bd8ff77e3398304c7ae42581fdc</td><td>25/07/2024 17:34</td><td>25/07/2024 17:57</td><td>1.72193e+12</td><td>1.72193e+12</td></tr>\n",
       "\t<tr><td>bfce39c89d6549f2bb94d8064d3ce69dc3d7e72b38f431d8aa0c4bf95ccee6bf</td><td>25/07/2024 03:22</td><td>25/07/2024 03:58</td><td>1.72188e+12</td><td>1.72188e+12</td></tr>\n",
       "\t<tr><td>36d9cbb4c6bc0c1a6911436d2da0d09ec625e43e6552f575d4acc9cf487c4686</td><td>25/05/2024 16:01</td><td>25/05/2024 16:12</td><td>1.71665e+12</td><td>1.71665e+12</td></tr>\n",
       "\t<tr><td>bfce39c89d6549f2bb94d8064d3ce69dc3d7e72b38f431d8aa0c4bf95ccee6bf</td><td>23/06/2024 15:08</td><td>23/06/2024 17:10</td><td>1.71916e+12</td><td>1.71916e+12</td></tr>\n",
       "</tbody>\n",
       "</table>\n"
      ],
      "text/latex": [
       "A tibble: 6 × 5\n",
       "\\begin{tabular}{lllll}\n",
       " hashedEmail & start\\_time & end\\_time & original\\_start\\_time & original\\_end\\_time\\\\\n",
       " <chr> & <chr> & <chr> & <dbl> & <dbl>\\\\\n",
       "\\hline\n",
       "\t bfce39c89d6549f2bb94d8064d3ce69dc3d7e72b38f431d8aa0c4bf95ccee6bf & 30/06/2024 18:12 & 30/06/2024 18:24 & 1.71977e+12 & 1.71977e+12\\\\\n",
       "\t 36d9cbb4c6bc0c1a6911436d2da0d09ec625e43e6552f575d4acc9cf487c4686 & 17/06/2024 23:33 & 17/06/2024 23:46 & 1.71867e+12 & 1.71867e+12\\\\\n",
       "\t f8f5477f5a2e53616ae37421b1c660b971192bd8ff77e3398304c7ae42581fdc & 25/07/2024 17:34 & 25/07/2024 17:57 & 1.72193e+12 & 1.72193e+12\\\\\n",
       "\t bfce39c89d6549f2bb94d8064d3ce69dc3d7e72b38f431d8aa0c4bf95ccee6bf & 25/07/2024 03:22 & 25/07/2024 03:58 & 1.72188e+12 & 1.72188e+12\\\\\n",
       "\t 36d9cbb4c6bc0c1a6911436d2da0d09ec625e43e6552f575d4acc9cf487c4686 & 25/05/2024 16:01 & 25/05/2024 16:12 & 1.71665e+12 & 1.71665e+12\\\\\n",
       "\t bfce39c89d6549f2bb94d8064d3ce69dc3d7e72b38f431d8aa0c4bf95ccee6bf & 23/06/2024 15:08 & 23/06/2024 17:10 & 1.71916e+12 & 1.71916e+12\\\\\n",
       "\\end{tabular}\n"
      ],
      "text/markdown": [
       "\n",
       "A tibble: 6 × 5\n",
       "\n",
       "| hashedEmail &lt;chr&gt; | start_time &lt;chr&gt; | end_time &lt;chr&gt; | original_start_time &lt;dbl&gt; | original_end_time &lt;dbl&gt; |\n",
       "|---|---|---|---|---|\n",
       "| bfce39c89d6549f2bb94d8064d3ce69dc3d7e72b38f431d8aa0c4bf95ccee6bf | 30/06/2024 18:12 | 30/06/2024 18:24 | 1.71977e+12 | 1.71977e+12 |\n",
       "| 36d9cbb4c6bc0c1a6911436d2da0d09ec625e43e6552f575d4acc9cf487c4686 | 17/06/2024 23:33 | 17/06/2024 23:46 | 1.71867e+12 | 1.71867e+12 |\n",
       "| f8f5477f5a2e53616ae37421b1c660b971192bd8ff77e3398304c7ae42581fdc | 25/07/2024 17:34 | 25/07/2024 17:57 | 1.72193e+12 | 1.72193e+12 |\n",
       "| bfce39c89d6549f2bb94d8064d3ce69dc3d7e72b38f431d8aa0c4bf95ccee6bf | 25/07/2024 03:22 | 25/07/2024 03:58 | 1.72188e+12 | 1.72188e+12 |\n",
       "| 36d9cbb4c6bc0c1a6911436d2da0d09ec625e43e6552f575d4acc9cf487c4686 | 25/05/2024 16:01 | 25/05/2024 16:12 | 1.71665e+12 | 1.71665e+12 |\n",
       "| bfce39c89d6549f2bb94d8064d3ce69dc3d7e72b38f431d8aa0c4bf95ccee6bf | 23/06/2024 15:08 | 23/06/2024 17:10 | 1.71916e+12 | 1.71916e+12 |\n",
       "\n"
      ],
      "text/plain": [
       "  hashedEmail                                                     \n",
       "1 bfce39c89d6549f2bb94d8064d3ce69dc3d7e72b38f431d8aa0c4bf95ccee6bf\n",
       "2 36d9cbb4c6bc0c1a6911436d2da0d09ec625e43e6552f575d4acc9cf487c4686\n",
       "3 f8f5477f5a2e53616ae37421b1c660b971192bd8ff77e3398304c7ae42581fdc\n",
       "4 bfce39c89d6549f2bb94d8064d3ce69dc3d7e72b38f431d8aa0c4bf95ccee6bf\n",
       "5 36d9cbb4c6bc0c1a6911436d2da0d09ec625e43e6552f575d4acc9cf487c4686\n",
       "6 bfce39c89d6549f2bb94d8064d3ce69dc3d7e72b38f431d8aa0c4bf95ccee6bf\n",
       "  start_time       end_time         original_start_time original_end_time\n",
       "1 30/06/2024 18:12 30/06/2024 18:24 1.71977e+12         1.71977e+12      \n",
       "2 17/06/2024 23:33 17/06/2024 23:46 1.71867e+12         1.71867e+12      \n",
       "3 25/07/2024 17:34 25/07/2024 17:57 1.72193e+12         1.72193e+12      \n",
       "4 25/07/2024 03:22 25/07/2024 03:58 1.72188e+12         1.72188e+12      \n",
       "5 25/05/2024 16:01 25/05/2024 16:12 1.71665e+12         1.71665e+12      \n",
       "6 23/06/2024 15:08 23/06/2024 17:10 1.71916e+12         1.71916e+12      "
      ]
     },
     "metadata": {},
     "output_type": "display_data"
    }
   ],
   "source": [
    "head(sessions)"
   ]
  },
  {
   "cell_type": "markdown",
   "id": "02cb1aff-09b6-41a8-ab2b-74362578dce9",
   "metadata": {},
   "source": [
    "Now we're looking at the combined players sessions dataset which includes session data for the sessions of all the players in the study. Again, this is only a sneak-peek into it, when in reality it has over three thousand rows. We still see **hashedEmail** in this dataset, but the rest of the variables are different! The **start_time** and **end_time** columns represent the corresponding date and time in which each play-session was initiated and terminated. The **original_start_time** and **original_end_time** columns are a bit more complicated, but they are just the UNIX timestamp versions of the other start and end time columns, so don't worry about them!"
   ]
  },
  {
   "cell_type": "markdown",
   "id": "34a50b97-e9cd-4ccc-932f-34a8463d4503",
   "metadata": {},
   "source": [
    "---"
   ]
  },
  {
   "cell_type": "markdown",
   "id": "13ec4172-6075-4621-958f-5e774c4bbadb",
   "metadata": {},
   "source": [
    "## Methods and Results"
   ]
  },
  {
   "cell_type": "markdown",
   "id": "5aa210d2-a215-4db4-a178-ef39404b11a5",
   "metadata": {},
   "source": [
    "### Data Wrangling"
   ]
  },
  {
   "cell_type": "markdown",
   "id": "9ea8bb08-c685-4f00-a4ae-fba748ce1ad3",
   "metadata": {},
   "source": [
    "As mentioned in the introductory section, we noted some issues with the current data such as the **individualId** and **organizationName** columns not being populated with any data, and the **original_start_time** and **original_end_time** columns being rendered redundant by the existence of the much easier to work with **start_time** and **end_time** columns.\n",
    "\n",
    "To fix these and make our data *tidy*, we will modify the current dataframes to do so by selecting which columns we would like to exclude by using subset and select! - starting with the players **players** dataframe:"
   ]
  },
  {
   "cell_type": "code",
   "execution_count": 5,
   "id": "252a0b73-d81f-4ace-a993-3bc74bf960db",
   "metadata": {},
   "outputs": [
    {
     "data": {
      "text/html": [
       "<table class=\"dataframe\">\n",
       "<caption>A tibble: 6 × 7</caption>\n",
       "<thead>\n",
       "\t<tr><th scope=col>experience</th><th scope=col>subscribe</th><th scope=col>hashedEmail</th><th scope=col>played_hours</th><th scope=col>name</th><th scope=col>gender</th><th scope=col>age</th></tr>\n",
       "\t<tr><th scope=col>&lt;chr&gt;</th><th scope=col>&lt;lgl&gt;</th><th scope=col>&lt;chr&gt;</th><th scope=col>&lt;dbl&gt;</th><th scope=col>&lt;chr&gt;</th><th scope=col>&lt;chr&gt;</th><th scope=col>&lt;dbl&gt;</th></tr>\n",
       "</thead>\n",
       "<tbody>\n",
       "\t<tr><td>Pro    </td><td> TRUE</td><td>f6daba428a5e19a3d47574858c13550499be23603422e6a0ee9728f8b53e192d</td><td>30.3</td><td>Morgan   </td><td>Male  </td><td> 9</td></tr>\n",
       "\t<tr><td>Veteran</td><td> TRUE</td><td>f3c813577c458ba0dfef80996f8f32c93b6e8af1fa939732842f2312358a88e9</td><td> 3.8</td><td>Christian</td><td>Male  </td><td>17</td></tr>\n",
       "\t<tr><td>Veteran</td><td>FALSE</td><td>b674dd7ee0d24096d1c019615ce4d12b20fcbff12d79d3c5a9d2118eb7ccbb28</td><td> 0.0</td><td>Blake    </td><td>Male  </td><td>17</td></tr>\n",
       "\t<tr><td>Amateur</td><td> TRUE</td><td>23fe711e0e3b77f1da7aa221ab1192afe21648d47d2b4fa7a5a659ff443a0eb5</td><td> 0.7</td><td>Flora    </td><td>Female</td><td>21</td></tr>\n",
       "\t<tr><td>Regular</td><td> TRUE</td><td>7dc01f10bf20671ecfccdac23812b1b415acd42c2147cb0af4d48fcce2420f3e</td><td> 0.1</td><td>Kylie    </td><td>Male  </td><td>21</td></tr>\n",
       "\t<tr><td>Amateur</td><td> TRUE</td><td>f58aad5996a435f16b0284a3b267f973f9af99e7a89bee0430055a44fa92f977</td><td> 0.0</td><td>Adrian   </td><td>Female</td><td>17</td></tr>\n",
       "</tbody>\n",
       "</table>\n"
      ],
      "text/latex": [
       "A tibble: 6 × 7\n",
       "\\begin{tabular}{lllllll}\n",
       " experience & subscribe & hashedEmail & played\\_hours & name & gender & age\\\\\n",
       " <chr> & <lgl> & <chr> & <dbl> & <chr> & <chr> & <dbl>\\\\\n",
       "\\hline\n",
       "\t Pro     &  TRUE & f6daba428a5e19a3d47574858c13550499be23603422e6a0ee9728f8b53e192d & 30.3 & Morgan    & Male   &  9\\\\\n",
       "\t Veteran &  TRUE & f3c813577c458ba0dfef80996f8f32c93b6e8af1fa939732842f2312358a88e9 &  3.8 & Christian & Male   & 17\\\\\n",
       "\t Veteran & FALSE & b674dd7ee0d24096d1c019615ce4d12b20fcbff12d79d3c5a9d2118eb7ccbb28 &  0.0 & Blake     & Male   & 17\\\\\n",
       "\t Amateur &  TRUE & 23fe711e0e3b77f1da7aa221ab1192afe21648d47d2b4fa7a5a659ff443a0eb5 &  0.7 & Flora     & Female & 21\\\\\n",
       "\t Regular &  TRUE & 7dc01f10bf20671ecfccdac23812b1b415acd42c2147cb0af4d48fcce2420f3e &  0.1 & Kylie     & Male   & 21\\\\\n",
       "\t Amateur &  TRUE & f58aad5996a435f16b0284a3b267f973f9af99e7a89bee0430055a44fa92f977 &  0.0 & Adrian    & Female & 17\\\\\n",
       "\\end{tabular}\n"
      ],
      "text/markdown": [
       "\n",
       "A tibble: 6 × 7\n",
       "\n",
       "| experience &lt;chr&gt; | subscribe &lt;lgl&gt; | hashedEmail &lt;chr&gt; | played_hours &lt;dbl&gt; | name &lt;chr&gt; | gender &lt;chr&gt; | age &lt;dbl&gt; |\n",
       "|---|---|---|---|---|---|---|\n",
       "| Pro     |  TRUE | f6daba428a5e19a3d47574858c13550499be23603422e6a0ee9728f8b53e192d | 30.3 | Morgan    | Male   |  9 |\n",
       "| Veteran |  TRUE | f3c813577c458ba0dfef80996f8f32c93b6e8af1fa939732842f2312358a88e9 |  3.8 | Christian | Male   | 17 |\n",
       "| Veteran | FALSE | b674dd7ee0d24096d1c019615ce4d12b20fcbff12d79d3c5a9d2118eb7ccbb28 |  0.0 | Blake     | Male   | 17 |\n",
       "| Amateur |  TRUE | 23fe711e0e3b77f1da7aa221ab1192afe21648d47d2b4fa7a5a659ff443a0eb5 |  0.7 | Flora     | Female | 21 |\n",
       "| Regular |  TRUE | 7dc01f10bf20671ecfccdac23812b1b415acd42c2147cb0af4d48fcce2420f3e |  0.1 | Kylie     | Male   | 21 |\n",
       "| Amateur |  TRUE | f58aad5996a435f16b0284a3b267f973f9af99e7a89bee0430055a44fa92f977 |  0.0 | Adrian    | Female | 17 |\n",
       "\n"
      ],
      "text/plain": [
       "  experience subscribe\n",
       "1 Pro         TRUE    \n",
       "2 Veteran     TRUE    \n",
       "3 Veteran    FALSE    \n",
       "4 Amateur     TRUE    \n",
       "5 Regular     TRUE    \n",
       "6 Amateur     TRUE    \n",
       "  hashedEmail                                                      played_hours\n",
       "1 f6daba428a5e19a3d47574858c13550499be23603422e6a0ee9728f8b53e192d 30.3        \n",
       "2 f3c813577c458ba0dfef80996f8f32c93b6e8af1fa939732842f2312358a88e9  3.8        \n",
       "3 b674dd7ee0d24096d1c019615ce4d12b20fcbff12d79d3c5a9d2118eb7ccbb28  0.0        \n",
       "4 23fe711e0e3b77f1da7aa221ab1192afe21648d47d2b4fa7a5a659ff443a0eb5  0.7        \n",
       "5 7dc01f10bf20671ecfccdac23812b1b415acd42c2147cb0af4d48fcce2420f3e  0.1        \n",
       "6 f58aad5996a435f16b0284a3b267f973f9af99e7a89bee0430055a44fa92f977  0.0        \n",
       "  name      gender age\n",
       "1 Morgan    Male    9 \n",
       "2 Christian Male   17 \n",
       "3 Blake     Male   17 \n",
       "4 Flora     Female 21 \n",
       "5 Kylie     Male   21 \n",
       "6 Adrian    Female 17 "
      ]
     },
     "metadata": {},
     "output_type": "display_data"
    }
   ],
   "source": [
    "players <- subset(players, select = -c(individualId, organizationName))\n",
    "head(players)"
   ]
  },
  {
   "cell_type": "markdown",
   "id": "1b46f6b8-128b-4694-89f5-64b3c6315695",
   "metadata": {},
   "source": [
    "That's looking much tidier already! Let's do the **sessions** dataframe next:"
   ]
  },
  {
   "cell_type": "code",
   "execution_count": 6,
   "id": "03f8f993-455c-4767-9205-2dcb825ca455",
   "metadata": {},
   "outputs": [
    {
     "data": {
      "text/html": [
       "<table class=\"dataframe\">\n",
       "<caption>A tibble: 6 × 3</caption>\n",
       "<thead>\n",
       "\t<tr><th scope=col>hashedEmail</th><th scope=col>start_time</th><th scope=col>end_time</th></tr>\n",
       "\t<tr><th scope=col>&lt;chr&gt;</th><th scope=col>&lt;chr&gt;</th><th scope=col>&lt;chr&gt;</th></tr>\n",
       "</thead>\n",
       "<tbody>\n",
       "\t<tr><td>bfce39c89d6549f2bb94d8064d3ce69dc3d7e72b38f431d8aa0c4bf95ccee6bf</td><td>30/06/2024 18:12</td><td>30/06/2024 18:24</td></tr>\n",
       "\t<tr><td>36d9cbb4c6bc0c1a6911436d2da0d09ec625e43e6552f575d4acc9cf487c4686</td><td>17/06/2024 23:33</td><td>17/06/2024 23:46</td></tr>\n",
       "\t<tr><td>f8f5477f5a2e53616ae37421b1c660b971192bd8ff77e3398304c7ae42581fdc</td><td>25/07/2024 17:34</td><td>25/07/2024 17:57</td></tr>\n",
       "\t<tr><td>bfce39c89d6549f2bb94d8064d3ce69dc3d7e72b38f431d8aa0c4bf95ccee6bf</td><td>25/07/2024 03:22</td><td>25/07/2024 03:58</td></tr>\n",
       "\t<tr><td>36d9cbb4c6bc0c1a6911436d2da0d09ec625e43e6552f575d4acc9cf487c4686</td><td>25/05/2024 16:01</td><td>25/05/2024 16:12</td></tr>\n",
       "\t<tr><td>bfce39c89d6549f2bb94d8064d3ce69dc3d7e72b38f431d8aa0c4bf95ccee6bf</td><td>23/06/2024 15:08</td><td>23/06/2024 17:10</td></tr>\n",
       "</tbody>\n",
       "</table>\n"
      ],
      "text/latex": [
       "A tibble: 6 × 3\n",
       "\\begin{tabular}{lll}\n",
       " hashedEmail & start\\_time & end\\_time\\\\\n",
       " <chr> & <chr> & <chr>\\\\\n",
       "\\hline\n",
       "\t bfce39c89d6549f2bb94d8064d3ce69dc3d7e72b38f431d8aa0c4bf95ccee6bf & 30/06/2024 18:12 & 30/06/2024 18:24\\\\\n",
       "\t 36d9cbb4c6bc0c1a6911436d2da0d09ec625e43e6552f575d4acc9cf487c4686 & 17/06/2024 23:33 & 17/06/2024 23:46\\\\\n",
       "\t f8f5477f5a2e53616ae37421b1c660b971192bd8ff77e3398304c7ae42581fdc & 25/07/2024 17:34 & 25/07/2024 17:57\\\\\n",
       "\t bfce39c89d6549f2bb94d8064d3ce69dc3d7e72b38f431d8aa0c4bf95ccee6bf & 25/07/2024 03:22 & 25/07/2024 03:58\\\\\n",
       "\t 36d9cbb4c6bc0c1a6911436d2da0d09ec625e43e6552f575d4acc9cf487c4686 & 25/05/2024 16:01 & 25/05/2024 16:12\\\\\n",
       "\t bfce39c89d6549f2bb94d8064d3ce69dc3d7e72b38f431d8aa0c4bf95ccee6bf & 23/06/2024 15:08 & 23/06/2024 17:10\\\\\n",
       "\\end{tabular}\n"
      ],
      "text/markdown": [
       "\n",
       "A tibble: 6 × 3\n",
       "\n",
       "| hashedEmail &lt;chr&gt; | start_time &lt;chr&gt; | end_time &lt;chr&gt; |\n",
       "|---|---|---|\n",
       "| bfce39c89d6549f2bb94d8064d3ce69dc3d7e72b38f431d8aa0c4bf95ccee6bf | 30/06/2024 18:12 | 30/06/2024 18:24 |\n",
       "| 36d9cbb4c6bc0c1a6911436d2da0d09ec625e43e6552f575d4acc9cf487c4686 | 17/06/2024 23:33 | 17/06/2024 23:46 |\n",
       "| f8f5477f5a2e53616ae37421b1c660b971192bd8ff77e3398304c7ae42581fdc | 25/07/2024 17:34 | 25/07/2024 17:57 |\n",
       "| bfce39c89d6549f2bb94d8064d3ce69dc3d7e72b38f431d8aa0c4bf95ccee6bf | 25/07/2024 03:22 | 25/07/2024 03:58 |\n",
       "| 36d9cbb4c6bc0c1a6911436d2da0d09ec625e43e6552f575d4acc9cf487c4686 | 25/05/2024 16:01 | 25/05/2024 16:12 |\n",
       "| bfce39c89d6549f2bb94d8064d3ce69dc3d7e72b38f431d8aa0c4bf95ccee6bf | 23/06/2024 15:08 | 23/06/2024 17:10 |\n",
       "\n"
      ],
      "text/plain": [
       "  hashedEmail                                                     \n",
       "1 bfce39c89d6549f2bb94d8064d3ce69dc3d7e72b38f431d8aa0c4bf95ccee6bf\n",
       "2 36d9cbb4c6bc0c1a6911436d2da0d09ec625e43e6552f575d4acc9cf487c4686\n",
       "3 f8f5477f5a2e53616ae37421b1c660b971192bd8ff77e3398304c7ae42581fdc\n",
       "4 bfce39c89d6549f2bb94d8064d3ce69dc3d7e72b38f431d8aa0c4bf95ccee6bf\n",
       "5 36d9cbb4c6bc0c1a6911436d2da0d09ec625e43e6552f575d4acc9cf487c4686\n",
       "6 bfce39c89d6549f2bb94d8064d3ce69dc3d7e72b38f431d8aa0c4bf95ccee6bf\n",
       "  start_time       end_time        \n",
       "1 30/06/2024 18:12 30/06/2024 18:24\n",
       "2 17/06/2024 23:33 17/06/2024 23:46\n",
       "3 25/07/2024 17:34 25/07/2024 17:57\n",
       "4 25/07/2024 03:22 25/07/2024 03:58\n",
       "5 25/05/2024 16:01 25/05/2024 16:12\n",
       "6 23/06/2024 15:08 23/06/2024 17:10"
      ]
     },
     "metadata": {},
     "output_type": "display_data"
    }
   ],
   "source": [
    "sessions <- subset(sessions, select = -c(original_start_time, original_end_time))\n",
    "head(sessions)"
   ]
  },
  {
   "cell_type": "markdown",
   "id": "a6e6d00c-56d9-45ed-babe-817b125df81d",
   "metadata": {},
   "source": [
    "There's one sneaky thing that may trip us up later if not fixed. We can see that the **start_time** and **end_time** columns are of type *chr (character)* which may make working with them a bit tedious. To resolve this we will employ the **asPOSIXct** function from the base R library to convert them to the type *dttm (date time month)* which will make them far easier to use."
   ]
  },
  {
   "cell_type": "code",
   "execution_count": 7,
   "id": "9080bfa7-4964-44e0-91df-fae4228b2fb3",
   "metadata": {},
   "outputs": [
    {
     "data": {
      "text/html": [
       "<table class=\"dataframe\">\n",
       "<caption>A tibble: 6 × 3</caption>\n",
       "<thead>\n",
       "\t<tr><th scope=col>hashedEmail</th><th scope=col>start_time</th><th scope=col>end_time</th></tr>\n",
       "\t<tr><th scope=col>&lt;chr&gt;</th><th scope=col>&lt;dttm&gt;</th><th scope=col>&lt;dttm&gt;</th></tr>\n",
       "</thead>\n",
       "<tbody>\n",
       "\t<tr><td>bfce39c89d6549f2bb94d8064d3ce69dc3d7e72b38f431d8aa0c4bf95ccee6bf</td><td>2024-06-30 18:12:00</td><td>2024-06-30 18:24:00</td></tr>\n",
       "\t<tr><td>36d9cbb4c6bc0c1a6911436d2da0d09ec625e43e6552f575d4acc9cf487c4686</td><td>2024-06-17 23:33:00</td><td>2024-06-17 23:46:00</td></tr>\n",
       "\t<tr><td>f8f5477f5a2e53616ae37421b1c660b971192bd8ff77e3398304c7ae42581fdc</td><td>2024-07-25 17:34:00</td><td>2024-07-25 17:57:00</td></tr>\n",
       "\t<tr><td>bfce39c89d6549f2bb94d8064d3ce69dc3d7e72b38f431d8aa0c4bf95ccee6bf</td><td>2024-07-25 03:22:00</td><td>2024-07-25 03:58:00</td></tr>\n",
       "\t<tr><td>36d9cbb4c6bc0c1a6911436d2da0d09ec625e43e6552f575d4acc9cf487c4686</td><td>2024-05-25 16:01:00</td><td>2024-05-25 16:12:00</td></tr>\n",
       "\t<tr><td>bfce39c89d6549f2bb94d8064d3ce69dc3d7e72b38f431d8aa0c4bf95ccee6bf</td><td>2024-06-23 15:08:00</td><td>2024-06-23 17:10:00</td></tr>\n",
       "</tbody>\n",
       "</table>\n"
      ],
      "text/latex": [
       "A tibble: 6 × 3\n",
       "\\begin{tabular}{lll}\n",
       " hashedEmail & start\\_time & end\\_time\\\\\n",
       " <chr> & <dttm> & <dttm>\\\\\n",
       "\\hline\n",
       "\t bfce39c89d6549f2bb94d8064d3ce69dc3d7e72b38f431d8aa0c4bf95ccee6bf & 2024-06-30 18:12:00 & 2024-06-30 18:24:00\\\\\n",
       "\t 36d9cbb4c6bc0c1a6911436d2da0d09ec625e43e6552f575d4acc9cf487c4686 & 2024-06-17 23:33:00 & 2024-06-17 23:46:00\\\\\n",
       "\t f8f5477f5a2e53616ae37421b1c660b971192bd8ff77e3398304c7ae42581fdc & 2024-07-25 17:34:00 & 2024-07-25 17:57:00\\\\\n",
       "\t bfce39c89d6549f2bb94d8064d3ce69dc3d7e72b38f431d8aa0c4bf95ccee6bf & 2024-07-25 03:22:00 & 2024-07-25 03:58:00\\\\\n",
       "\t 36d9cbb4c6bc0c1a6911436d2da0d09ec625e43e6552f575d4acc9cf487c4686 & 2024-05-25 16:01:00 & 2024-05-25 16:12:00\\\\\n",
       "\t bfce39c89d6549f2bb94d8064d3ce69dc3d7e72b38f431d8aa0c4bf95ccee6bf & 2024-06-23 15:08:00 & 2024-06-23 17:10:00\\\\\n",
       "\\end{tabular}\n"
      ],
      "text/markdown": [
       "\n",
       "A tibble: 6 × 3\n",
       "\n",
       "| hashedEmail &lt;chr&gt; | start_time &lt;dttm&gt; | end_time &lt;dttm&gt; |\n",
       "|---|---|---|\n",
       "| bfce39c89d6549f2bb94d8064d3ce69dc3d7e72b38f431d8aa0c4bf95ccee6bf | 2024-06-30 18:12:00 | 2024-06-30 18:24:00 |\n",
       "| 36d9cbb4c6bc0c1a6911436d2da0d09ec625e43e6552f575d4acc9cf487c4686 | 2024-06-17 23:33:00 | 2024-06-17 23:46:00 |\n",
       "| f8f5477f5a2e53616ae37421b1c660b971192bd8ff77e3398304c7ae42581fdc | 2024-07-25 17:34:00 | 2024-07-25 17:57:00 |\n",
       "| bfce39c89d6549f2bb94d8064d3ce69dc3d7e72b38f431d8aa0c4bf95ccee6bf | 2024-07-25 03:22:00 | 2024-07-25 03:58:00 |\n",
       "| 36d9cbb4c6bc0c1a6911436d2da0d09ec625e43e6552f575d4acc9cf487c4686 | 2024-05-25 16:01:00 | 2024-05-25 16:12:00 |\n",
       "| bfce39c89d6549f2bb94d8064d3ce69dc3d7e72b38f431d8aa0c4bf95ccee6bf | 2024-06-23 15:08:00 | 2024-06-23 17:10:00 |\n",
       "\n"
      ],
      "text/plain": [
       "  hashedEmail                                                     \n",
       "1 bfce39c89d6549f2bb94d8064d3ce69dc3d7e72b38f431d8aa0c4bf95ccee6bf\n",
       "2 36d9cbb4c6bc0c1a6911436d2da0d09ec625e43e6552f575d4acc9cf487c4686\n",
       "3 f8f5477f5a2e53616ae37421b1c660b971192bd8ff77e3398304c7ae42581fdc\n",
       "4 bfce39c89d6549f2bb94d8064d3ce69dc3d7e72b38f431d8aa0c4bf95ccee6bf\n",
       "5 36d9cbb4c6bc0c1a6911436d2da0d09ec625e43e6552f575d4acc9cf487c4686\n",
       "6 bfce39c89d6549f2bb94d8064d3ce69dc3d7e72b38f431d8aa0c4bf95ccee6bf\n",
       "  start_time          end_time           \n",
       "1 2024-06-30 18:12:00 2024-06-30 18:24:00\n",
       "2 2024-06-17 23:33:00 2024-06-17 23:46:00\n",
       "3 2024-07-25 17:34:00 2024-07-25 17:57:00\n",
       "4 2024-07-25 03:22:00 2024-07-25 03:58:00\n",
       "5 2024-05-25 16:01:00 2024-05-25 16:12:00\n",
       "6 2024-06-23 15:08:00 2024-06-23 17:10:00"
      ]
     },
     "metadata": {},
     "output_type": "display_data"
    }
   ],
   "source": [
    "sessions <- mutate(sessions, start_time = as.POSIXct(start_time, format=\"%d/%m/%Y %H:%M\", tz=\"PST\"),\n",
    "         end_time = as.POSIXct(end_time, format=\"%d/%m/%Y %H:%M\", tz=\"PST\"))\n",
    "\n",
    "head(sessions)"
   ]
  },
  {
   "cell_type": "markdown",
   "id": "0fd9eb79-f623-46d3-8e37-2beb6b49b762",
   "metadata": {},
   "source": [
    "Now we can use those columns to do something that will be very important to our analysis which is computing the duration of the sessions (difference between start_time and end_time in minutes)!"
   ]
  },
  {
   "cell_type": "code",
   "execution_count": 8,
   "id": "f62101dc-84ed-4e92-9aab-dfb026a0c1c1",
   "metadata": {},
   "outputs": [
    {
     "data": {
      "text/html": [
       "<table class=\"dataframe\">\n",
       "<caption>A tibble: 6 × 4</caption>\n",
       "<thead>\n",
       "\t<tr><th scope=col>hashedEmail</th><th scope=col>start_time</th><th scope=col>end_time</th><th scope=col>session_duration</th></tr>\n",
       "\t<tr><th scope=col>&lt;chr&gt;</th><th scope=col>&lt;dttm&gt;</th><th scope=col>&lt;dttm&gt;</th><th scope=col>&lt;dbl&gt;</th></tr>\n",
       "</thead>\n",
       "<tbody>\n",
       "\t<tr><td>bfce39c89d6549f2bb94d8064d3ce69dc3d7e72b38f431d8aa0c4bf95ccee6bf</td><td>2024-06-30 18:12:00</td><td>2024-06-30 18:24:00</td><td> 12</td></tr>\n",
       "\t<tr><td>36d9cbb4c6bc0c1a6911436d2da0d09ec625e43e6552f575d4acc9cf487c4686</td><td>2024-06-17 23:33:00</td><td>2024-06-17 23:46:00</td><td> 13</td></tr>\n",
       "\t<tr><td>f8f5477f5a2e53616ae37421b1c660b971192bd8ff77e3398304c7ae42581fdc</td><td>2024-07-25 17:34:00</td><td>2024-07-25 17:57:00</td><td> 23</td></tr>\n",
       "\t<tr><td>bfce39c89d6549f2bb94d8064d3ce69dc3d7e72b38f431d8aa0c4bf95ccee6bf</td><td>2024-07-25 03:22:00</td><td>2024-07-25 03:58:00</td><td> 36</td></tr>\n",
       "\t<tr><td>36d9cbb4c6bc0c1a6911436d2da0d09ec625e43e6552f575d4acc9cf487c4686</td><td>2024-05-25 16:01:00</td><td>2024-05-25 16:12:00</td><td> 11</td></tr>\n",
       "\t<tr><td>bfce39c89d6549f2bb94d8064d3ce69dc3d7e72b38f431d8aa0c4bf95ccee6bf</td><td>2024-06-23 15:08:00</td><td>2024-06-23 17:10:00</td><td>122</td></tr>\n",
       "</tbody>\n",
       "</table>\n"
      ],
      "text/latex": [
       "A tibble: 6 × 4\n",
       "\\begin{tabular}{llll}\n",
       " hashedEmail & start\\_time & end\\_time & session\\_duration\\\\\n",
       " <chr> & <dttm> & <dttm> & <dbl>\\\\\n",
       "\\hline\n",
       "\t bfce39c89d6549f2bb94d8064d3ce69dc3d7e72b38f431d8aa0c4bf95ccee6bf & 2024-06-30 18:12:00 & 2024-06-30 18:24:00 &  12\\\\\n",
       "\t 36d9cbb4c6bc0c1a6911436d2da0d09ec625e43e6552f575d4acc9cf487c4686 & 2024-06-17 23:33:00 & 2024-06-17 23:46:00 &  13\\\\\n",
       "\t f8f5477f5a2e53616ae37421b1c660b971192bd8ff77e3398304c7ae42581fdc & 2024-07-25 17:34:00 & 2024-07-25 17:57:00 &  23\\\\\n",
       "\t bfce39c89d6549f2bb94d8064d3ce69dc3d7e72b38f431d8aa0c4bf95ccee6bf & 2024-07-25 03:22:00 & 2024-07-25 03:58:00 &  36\\\\\n",
       "\t 36d9cbb4c6bc0c1a6911436d2da0d09ec625e43e6552f575d4acc9cf487c4686 & 2024-05-25 16:01:00 & 2024-05-25 16:12:00 &  11\\\\\n",
       "\t bfce39c89d6549f2bb94d8064d3ce69dc3d7e72b38f431d8aa0c4bf95ccee6bf & 2024-06-23 15:08:00 & 2024-06-23 17:10:00 & 122\\\\\n",
       "\\end{tabular}\n"
      ],
      "text/markdown": [
       "\n",
       "A tibble: 6 × 4\n",
       "\n",
       "| hashedEmail &lt;chr&gt; | start_time &lt;dttm&gt; | end_time &lt;dttm&gt; | session_duration &lt;dbl&gt; |\n",
       "|---|---|---|---|\n",
       "| bfce39c89d6549f2bb94d8064d3ce69dc3d7e72b38f431d8aa0c4bf95ccee6bf | 2024-06-30 18:12:00 | 2024-06-30 18:24:00 |  12 |\n",
       "| 36d9cbb4c6bc0c1a6911436d2da0d09ec625e43e6552f575d4acc9cf487c4686 | 2024-06-17 23:33:00 | 2024-06-17 23:46:00 |  13 |\n",
       "| f8f5477f5a2e53616ae37421b1c660b971192bd8ff77e3398304c7ae42581fdc | 2024-07-25 17:34:00 | 2024-07-25 17:57:00 |  23 |\n",
       "| bfce39c89d6549f2bb94d8064d3ce69dc3d7e72b38f431d8aa0c4bf95ccee6bf | 2024-07-25 03:22:00 | 2024-07-25 03:58:00 |  36 |\n",
       "| 36d9cbb4c6bc0c1a6911436d2da0d09ec625e43e6552f575d4acc9cf487c4686 | 2024-05-25 16:01:00 | 2024-05-25 16:12:00 |  11 |\n",
       "| bfce39c89d6549f2bb94d8064d3ce69dc3d7e72b38f431d8aa0c4bf95ccee6bf | 2024-06-23 15:08:00 | 2024-06-23 17:10:00 | 122 |\n",
       "\n"
      ],
      "text/plain": [
       "  hashedEmail                                                     \n",
       "1 bfce39c89d6549f2bb94d8064d3ce69dc3d7e72b38f431d8aa0c4bf95ccee6bf\n",
       "2 36d9cbb4c6bc0c1a6911436d2da0d09ec625e43e6552f575d4acc9cf487c4686\n",
       "3 f8f5477f5a2e53616ae37421b1c660b971192bd8ff77e3398304c7ae42581fdc\n",
       "4 bfce39c89d6549f2bb94d8064d3ce69dc3d7e72b38f431d8aa0c4bf95ccee6bf\n",
       "5 36d9cbb4c6bc0c1a6911436d2da0d09ec625e43e6552f575d4acc9cf487c4686\n",
       "6 bfce39c89d6549f2bb94d8064d3ce69dc3d7e72b38f431d8aa0c4bf95ccee6bf\n",
       "  start_time          end_time            session_duration\n",
       "1 2024-06-30 18:12:00 2024-06-30 18:24:00  12             \n",
       "2 2024-06-17 23:33:00 2024-06-17 23:46:00  13             \n",
       "3 2024-07-25 17:34:00 2024-07-25 17:57:00  23             \n",
       "4 2024-07-25 03:22:00 2024-07-25 03:58:00  36             \n",
       "5 2024-05-25 16:01:00 2024-05-25 16:12:00  11             \n",
       "6 2024-06-23 15:08:00 2024-06-23 17:10:00 122             "
      ]
     },
     "metadata": {},
     "output_type": "display_data"
    }
   ],
   "source": [
    "sessions <- mutate(sessions, session_duration = as.numeric(difftime(end_time, start_time, units = \"mins\")))\n",
    "\n",
    "head(sessions)"
   ]
  },
  {
   "cell_type": "markdown",
   "id": "5d4c869c-091a-4f9f-8b0b-e03e32dc3f7d",
   "metadata": {},
   "source": [
    "Both of our dataframes look very tidy now, although working with two separate dataframes may overcomplicate our analysis and code both for us to work with and for you to understand. While we are doing that, we will also manipulate the data to introduce two new columns of further useful metrics regarding our analysis. Since we're basing our predictions off of every players first session, we really want to know their first session length: **first_session_duration** and how many sessions they return to play after that one: **future_sessions_played**."
   ]
  },
  {
   "cell_type": "code",
   "execution_count": 9,
   "id": "33d9e761-c414-40b7-8775-ba2acaf2b354",
   "metadata": {},
   "outputs": [
    {
     "data": {
      "text/html": [
       "<table class=\"dataframe\">\n",
       "<caption>A tibble: 6 × 12</caption>\n",
       "<thead>\n",
       "\t<tr><th scope=col>experience</th><th scope=col>subscribe</th><th scope=col>hashedEmail</th><th scope=col>played_hours</th><th scope=col>name</th><th scope=col>gender</th><th scope=col>age</th><th scope=col>start_time</th><th scope=col>end_time</th><th scope=col>session_duration</th><th scope=col>first_session_duration</th><th scope=col>future_sessions_count</th></tr>\n",
       "\t<tr><th scope=col>&lt;chr&gt;</th><th scope=col>&lt;lgl&gt;</th><th scope=col>&lt;chr&gt;</th><th scope=col>&lt;dbl&gt;</th><th scope=col>&lt;chr&gt;</th><th scope=col>&lt;chr&gt;</th><th scope=col>&lt;dbl&gt;</th><th scope=col>&lt;dttm&gt;</th><th scope=col>&lt;dttm&gt;</th><th scope=col>&lt;dbl&gt;</th><th scope=col>&lt;dbl&gt;</th><th scope=col>&lt;dbl&gt;</th></tr>\n",
       "</thead>\n",
       "<tbody>\n",
       "\t<tr><td>Pro</td><td>TRUE</td><td>f6daba428a5e19a3d47574858c13550499be23603422e6a0ee9728f8b53e192d</td><td>30.3</td><td>Morgan</td><td>Male</td><td>9</td><td>2024-08-08 00:21:00</td><td>2024-08-08 01:35:00</td><td>74</td><td>74</td><td>26</td></tr>\n",
       "\t<tr><td>Pro</td><td>TRUE</td><td>f6daba428a5e19a3d47574858c13550499be23603422e6a0ee9728f8b53e192d</td><td>30.3</td><td>Morgan</td><td>Male</td><td>9</td><td>2024-09-09 22:30:00</td><td>2024-09-09 22:37:00</td><td> 7</td><td>74</td><td>26</td></tr>\n",
       "\t<tr><td>Pro</td><td>TRUE</td><td>f6daba428a5e19a3d47574858c13550499be23603422e6a0ee9728f8b53e192d</td><td>30.3</td><td>Morgan</td><td>Male</td><td>9</td><td>2024-08-08 02:41:00</td><td>2024-08-08 03:25:00</td><td>44</td><td>74</td><td>26</td></tr>\n",
       "\t<tr><td>Pro</td><td>TRUE</td><td>f6daba428a5e19a3d47574858c13550499be23603422e6a0ee9728f8b53e192d</td><td>30.3</td><td>Morgan</td><td>Male</td><td>9</td><td>2024-09-10 15:07:00</td><td>2024-09-10 15:29:00</td><td>22</td><td>74</td><td>26</td></tr>\n",
       "\t<tr><td>Pro</td><td>TRUE</td><td>f6daba428a5e19a3d47574858c13550499be23603422e6a0ee9728f8b53e192d</td><td>30.3</td><td>Morgan</td><td>Male</td><td>9</td><td>2024-05-05 22:21:00</td><td>2024-05-05 23:17:00</td><td>56</td><td>74</td><td>26</td></tr>\n",
       "\t<tr><td>Pro</td><td>TRUE</td><td>f6daba428a5e19a3d47574858c13550499be23603422e6a0ee9728f8b53e192d</td><td>30.3</td><td>Morgan</td><td>Male</td><td>9</td><td>2024-04-06 22:24:00</td><td>2024-04-06 23:33:00</td><td>69</td><td>74</td><td>26</td></tr>\n",
       "</tbody>\n",
       "</table>\n"
      ],
      "text/latex": [
       "A tibble: 6 × 12\n",
       "\\begin{tabular}{llllllllllll}\n",
       " experience & subscribe & hashedEmail & played\\_hours & name & gender & age & start\\_time & end\\_time & session\\_duration & first\\_session\\_duration & future\\_sessions\\_count\\\\\n",
       " <chr> & <lgl> & <chr> & <dbl> & <chr> & <chr> & <dbl> & <dttm> & <dttm> & <dbl> & <dbl> & <dbl>\\\\\n",
       "\\hline\n",
       "\t Pro & TRUE & f6daba428a5e19a3d47574858c13550499be23603422e6a0ee9728f8b53e192d & 30.3 & Morgan & Male & 9 & 2024-08-08 00:21:00 & 2024-08-08 01:35:00 & 74 & 74 & 26\\\\\n",
       "\t Pro & TRUE & f6daba428a5e19a3d47574858c13550499be23603422e6a0ee9728f8b53e192d & 30.3 & Morgan & Male & 9 & 2024-09-09 22:30:00 & 2024-09-09 22:37:00 &  7 & 74 & 26\\\\\n",
       "\t Pro & TRUE & f6daba428a5e19a3d47574858c13550499be23603422e6a0ee9728f8b53e192d & 30.3 & Morgan & Male & 9 & 2024-08-08 02:41:00 & 2024-08-08 03:25:00 & 44 & 74 & 26\\\\\n",
       "\t Pro & TRUE & f6daba428a5e19a3d47574858c13550499be23603422e6a0ee9728f8b53e192d & 30.3 & Morgan & Male & 9 & 2024-09-10 15:07:00 & 2024-09-10 15:29:00 & 22 & 74 & 26\\\\\n",
       "\t Pro & TRUE & f6daba428a5e19a3d47574858c13550499be23603422e6a0ee9728f8b53e192d & 30.3 & Morgan & Male & 9 & 2024-05-05 22:21:00 & 2024-05-05 23:17:00 & 56 & 74 & 26\\\\\n",
       "\t Pro & TRUE & f6daba428a5e19a3d47574858c13550499be23603422e6a0ee9728f8b53e192d & 30.3 & Morgan & Male & 9 & 2024-04-06 22:24:00 & 2024-04-06 23:33:00 & 69 & 74 & 26\\\\\n",
       "\\end{tabular}\n"
      ],
      "text/markdown": [
       "\n",
       "A tibble: 6 × 12\n",
       "\n",
       "| experience &lt;chr&gt; | subscribe &lt;lgl&gt; | hashedEmail &lt;chr&gt; | played_hours &lt;dbl&gt; | name &lt;chr&gt; | gender &lt;chr&gt; | age &lt;dbl&gt; | start_time &lt;dttm&gt; | end_time &lt;dttm&gt; | session_duration &lt;dbl&gt; | first_session_duration &lt;dbl&gt; | future_sessions_count &lt;dbl&gt; |\n",
       "|---|---|---|---|---|---|---|---|---|---|---|---|\n",
       "| Pro | TRUE | f6daba428a5e19a3d47574858c13550499be23603422e6a0ee9728f8b53e192d | 30.3 | Morgan | Male | 9 | 2024-08-08 00:21:00 | 2024-08-08 01:35:00 | 74 | 74 | 26 |\n",
       "| Pro | TRUE | f6daba428a5e19a3d47574858c13550499be23603422e6a0ee9728f8b53e192d | 30.3 | Morgan | Male | 9 | 2024-09-09 22:30:00 | 2024-09-09 22:37:00 |  7 | 74 | 26 |\n",
       "| Pro | TRUE | f6daba428a5e19a3d47574858c13550499be23603422e6a0ee9728f8b53e192d | 30.3 | Morgan | Male | 9 | 2024-08-08 02:41:00 | 2024-08-08 03:25:00 | 44 | 74 | 26 |\n",
       "| Pro | TRUE | f6daba428a5e19a3d47574858c13550499be23603422e6a0ee9728f8b53e192d | 30.3 | Morgan | Male | 9 | 2024-09-10 15:07:00 | 2024-09-10 15:29:00 | 22 | 74 | 26 |\n",
       "| Pro | TRUE | f6daba428a5e19a3d47574858c13550499be23603422e6a0ee9728f8b53e192d | 30.3 | Morgan | Male | 9 | 2024-05-05 22:21:00 | 2024-05-05 23:17:00 | 56 | 74 | 26 |\n",
       "| Pro | TRUE | f6daba428a5e19a3d47574858c13550499be23603422e6a0ee9728f8b53e192d | 30.3 | Morgan | Male | 9 | 2024-04-06 22:24:00 | 2024-04-06 23:33:00 | 69 | 74 | 26 |\n",
       "\n"
      ],
      "text/plain": [
       "  experience subscribe\n",
       "1 Pro        TRUE     \n",
       "2 Pro        TRUE     \n",
       "3 Pro        TRUE     \n",
       "4 Pro        TRUE     \n",
       "5 Pro        TRUE     \n",
       "6 Pro        TRUE     \n",
       "  hashedEmail                                                      played_hours\n",
       "1 f6daba428a5e19a3d47574858c13550499be23603422e6a0ee9728f8b53e192d 30.3        \n",
       "2 f6daba428a5e19a3d47574858c13550499be23603422e6a0ee9728f8b53e192d 30.3        \n",
       "3 f6daba428a5e19a3d47574858c13550499be23603422e6a0ee9728f8b53e192d 30.3        \n",
       "4 f6daba428a5e19a3d47574858c13550499be23603422e6a0ee9728f8b53e192d 30.3        \n",
       "5 f6daba428a5e19a3d47574858c13550499be23603422e6a0ee9728f8b53e192d 30.3        \n",
       "6 f6daba428a5e19a3d47574858c13550499be23603422e6a0ee9728f8b53e192d 30.3        \n",
       "  name   gender age start_time          end_time            session_duration\n",
       "1 Morgan Male   9   2024-08-08 00:21:00 2024-08-08 01:35:00 74              \n",
       "2 Morgan Male   9   2024-09-09 22:30:00 2024-09-09 22:37:00  7              \n",
       "3 Morgan Male   9   2024-08-08 02:41:00 2024-08-08 03:25:00 44              \n",
       "4 Morgan Male   9   2024-09-10 15:07:00 2024-09-10 15:29:00 22              \n",
       "5 Morgan Male   9   2024-05-05 22:21:00 2024-05-05 23:17:00 56              \n",
       "6 Morgan Male   9   2024-04-06 22:24:00 2024-04-06 23:33:00 69              \n",
       "  first_session_duration future_sessions_count\n",
       "1 74                     26                   \n",
       "2 74                     26                   \n",
       "3 74                     26                   \n",
       "4 74                     26                   \n",
       "5 74                     26                   \n",
       "6 74                     26                   "
      ]
     },
     "metadata": {},
     "output_type": "display_data"
    }
   ],
   "source": [
    "player_session_combined <- players |> inner_join(sessions, by = \"hashedEmail\")\n",
    "\n",
    "player_session_finalized <- player_session_combined |>\n",
    "  group_by(hashedEmail) |>\n",
    "  mutate(first_session_duration = first(session_duration),\n",
    "         future_sessions_count = n() - 1) |>\n",
    "  ungroup()\n",
    "\n",
    "head(player_session_finalized)"
   ]
  },
  {
   "cell_type": "markdown",
   "id": "fa78eeb4-e544-43bc-8891-4c2394d8a190",
   "metadata": {},
   "source": [
    "One crucial thing we must do prior to moving on is to remove every row for each hashedEmail **except** the session which occurs, and while we do that we may as well remove all the other columns which will be not applicable to our analysis such as the **start_time** and **end_time** columns, as well as individual session durations, players names, and their hashed emails. This is to cut any fluff that would mess with our analysis as only certain variables will be used as predictors!"
   ]
  },
  {
   "cell_type": "code",
   "execution_count": 10,
   "id": "b0984198-24dd-4063-95f0-943d02a35b54",
   "metadata": {},
   "outputs": [
    {
     "data": {
      "text/html": [
       "<table class=\"dataframe\">\n",
       "<caption>A tibble: 6 × 6</caption>\n",
       "<thead>\n",
       "\t<tr><th scope=col>age</th><th scope=col>gender</th><th scope=col>subscribe</th><th scope=col>experience</th><th scope=col>first_session_duration</th><th scope=col>future_sessions_count</th></tr>\n",
       "\t<tr><th scope=col>&lt;dbl&gt;</th><th scope=col>&lt;chr&gt;</th><th scope=col>&lt;lgl&gt;</th><th scope=col>&lt;chr&gt;</th><th scope=col>&lt;dbl&gt;</th><th scope=col>&lt;dbl&gt;</th></tr>\n",
       "</thead>\n",
       "<tbody>\n",
       "\t<tr><td> 9</td><td>Male  </td><td> TRUE</td><td>Pro    </td><td>74</td><td>26</td></tr>\n",
       "\t<tr><td>17</td><td>Male  </td><td> TRUE</td><td>Veteran</td><td>12</td><td> 2</td></tr>\n",
       "\t<tr><td>17</td><td>Male  </td><td>FALSE</td><td>Veteran</td><td> 5</td><td> 0</td></tr>\n",
       "\t<tr><td>21</td><td>Female</td><td> TRUE</td><td>Amateur</td><td>50</td><td> 0</td></tr>\n",
       "\t<tr><td>21</td><td>Male  </td><td> TRUE</td><td>Regular</td><td> 9</td><td> 0</td></tr>\n",
       "\t<tr><td>21</td><td>Male  </td><td>FALSE</td><td>Amateur</td><td> 5</td><td> 0</td></tr>\n",
       "</tbody>\n",
       "</table>\n"
      ],
      "text/latex": [
       "A tibble: 6 × 6\n",
       "\\begin{tabular}{llllll}\n",
       " age & gender & subscribe & experience & first\\_session\\_duration & future\\_sessions\\_count\\\\\n",
       " <dbl> & <chr> & <lgl> & <chr> & <dbl> & <dbl>\\\\\n",
       "\\hline\n",
       "\t  9 & Male   &  TRUE & Pro     & 74 & 26\\\\\n",
       "\t 17 & Male   &  TRUE & Veteran & 12 &  2\\\\\n",
       "\t 17 & Male   & FALSE & Veteran &  5 &  0\\\\\n",
       "\t 21 & Female &  TRUE & Amateur & 50 &  0\\\\\n",
       "\t 21 & Male   &  TRUE & Regular &  9 &  0\\\\\n",
       "\t 21 & Male   & FALSE & Amateur &  5 &  0\\\\\n",
       "\\end{tabular}\n"
      ],
      "text/markdown": [
       "\n",
       "A tibble: 6 × 6\n",
       "\n",
       "| age &lt;dbl&gt; | gender &lt;chr&gt; | subscribe &lt;lgl&gt; | experience &lt;chr&gt; | first_session_duration &lt;dbl&gt; | future_sessions_count &lt;dbl&gt; |\n",
       "|---|---|---|---|---|---|\n",
       "|  9 | Male   |  TRUE | Pro     | 74 | 26 |\n",
       "| 17 | Male   |  TRUE | Veteran | 12 |  2 |\n",
       "| 17 | Male   | FALSE | Veteran |  5 |  0 |\n",
       "| 21 | Female |  TRUE | Amateur | 50 |  0 |\n",
       "| 21 | Male   |  TRUE | Regular |  9 |  0 |\n",
       "| 21 | Male   | FALSE | Amateur |  5 |  0 |\n",
       "\n"
      ],
      "text/plain": [
       "  age gender subscribe experience first_session_duration future_sessions_count\n",
       "1  9  Male    TRUE     Pro        74                     26                   \n",
       "2 17  Male    TRUE     Veteran    12                      2                   \n",
       "3 17  Male   FALSE     Veteran     5                      0                   \n",
       "4 21  Female  TRUE     Amateur    50                      0                   \n",
       "5 21  Male    TRUE     Regular     9                      0                   \n",
       "6 21  Male   FALSE     Amateur     5                      0                   "
      ]
     },
     "metadata": {},
     "output_type": "display_data"
    }
   ],
   "source": [
    "final_wrangled_data <- player_session_finalized |>\n",
    "  group_by(hashedEmail) |>\n",
    "  filter(start_time == min(start_time)) |> \n",
    "  ungroup() |>\n",
    "  select(age, gender, subscribe, experience, first_session_duration, future_sessions_count)   \n",
    "\n",
    "head(final_wrangled_data)"
   ]
  },
  {
   "cell_type": "markdown",
   "id": "123859ad-eddf-4a3e-ab91-1187b1b06e59",
   "metadata": {},
   "source": [
    "One quick thing we learned during our analysis was that there were about 7 rows which held very high future session counts (approximately 50 more than the rest) which skewed our model heavily. We collectively chose to remove those five entries which benefitted our model heavily as will be seen later in the analysis portion. Below this is what we used to make this fix, and while we were at it we made sure to drop any **NA** data rows as well:"
   ]
  },
  {
   "cell_type": "code",
   "execution_count": 11,
   "id": "7e9d9b22-aad2-4a2a-b26c-198e84f0f6b9",
   "metadata": {},
   "outputs": [],
   "source": [
    "# Removing any rows with NA data\n",
    "final_wrangled_data <- drop_na(final_wrangled_data)\n",
    "\n",
    "# Removing those seven or so data entry outliers so as not to skew our data\n",
    "final_wrangled_data <- final_wrangled_data |>\n",
    "  filter(future_sessions_count <= 50)"
   ]
  },
  {
   "cell_type": "markdown",
   "id": "372e0640-3814-477e-bfcc-bdde6b16f343",
   "metadata": {},
   "source": [
    "![](data/wrangled.jpg)"
   ]
  },
  {
   "cell_type": "markdown",
   "id": "a64a9a25-c6fb-4bfb-af50-133d8627ddad",
   "metadata": {},
   "source": [
    "We agree with the cowboy on this one, that data is looking very wrangled and ready to be analyzed, so let's do it!"
   ]
  },
  {
   "cell_type": "markdown",
   "id": "b9d2e9c3-ba02-4284-80df-8f7ac8c64b79",
   "metadata": {},
   "source": [
    "---"
   ]
  },
  {
   "cell_type": "markdown",
   "id": "fb8dad67-1c48-42a8-baa5-11c2898fae4b",
   "metadata": {},
   "source": [
    "## Some Thoughts About the Data"
   ]
  },
  {
   "cell_type": "markdown",
   "id": "8040bd75-5e7a-40b1-98e3-6e97d096825d",
   "metadata": {},
   "source": [
    "---"
   ]
  },
  {
   "cell_type": "markdown",
   "id": "e7c62531-1490-4f15-b808-520530b717fa",
   "metadata": {},
   "source": [
    "Now that we've manipulated and cut down our two data sets into just one dataframe that possesses only the variables relevant for our analysis, it's a good time to make sure we know what we're working with, and also to spot some possibly useful trends. To start, we'll provide a quick summary of our variables we'll be using in the analysis as well as why:"
   ]
  },
  {
   "cell_type": "markdown",
   "id": "b8dbab88-0c37-4d85-9c47-1c2ddae63764",
   "metadata": {},
   "source": [
    "- **final_wrangled_data**:\n",
    "  - `age`: Denotes the self-identified age of the player and will be used to determine if older/younger players return more frequently\n",
    "  - `gender`: Denotes the self-identified gener of the player and will also be used to determine if gender plays a role in return session frequency\n",
    "  - `subscribe`: Identifies whether or not the player has subscribed to PLAIcraft's email list, we predict that if they are subscribed they are likely more interested and thus more likely to return for more sessions\n",
    "  - `experience`: Denotes the self-identified Minecraft experience level of the player, will also be used to see if a more experienced user comes back more often or if newer players get hooked and return more, or even both\n",
    "  - `first_session_duration`: Represents how long the players first play session on the study was. A longer initial session may indicate more interest\n",
    "  - `future_sessions_count`: Represents how many times the player returns to play on the study's server, will be useful in training our model so it can predict better"
   ]
  },
  {
   "cell_type": "markdown",
   "id": "33d028d2-068e-47d3-aa1d-f42fdc707f1a",
   "metadata": {},
   "source": [
    "Now that you understand the variables we'll be using for our analysis, it may help to actually 'see' the dataset we'll be using because we acknowledge dataframes will only help so much for understanding. An interesting"
   ]
  },
  {
   "cell_type": "code",
   "execution_count": 12,
   "id": "410736c1-479f-4950-9141-b04058a63ccc",
   "metadata": {},
   "outputs": [
    {
     "data": {
      "application/pdf": "[encoded data removed]",
      "image/jpeg": "[encoded data removed]",
      "image/png": "[encoded data removed]",
      "image/svg+xml": [
       "<?xml version=\"1.0\" encoding=\"UTF-8\"?>\n",
       "<svg xmlns=\"http://www.w3.org/2000/svg\" xmlns:xlink=\"http://www.w3.org/1999/xlink\" width=\"900\" height=\"576\" viewBox=\"0 0 900 576\">\n",
       "<defs>\n",
       "<g>\n",
       "<g id=\"glyph-0-0\">\n",
       "<path d=\"M 5.796875 -3.859375 C 5.796875 -3.117188 5.722656 -2.492188 5.578125 -1.984375 C 5.441406 -1.484375 5.25 -1.078125 5 -0.765625 C 4.757812 -0.453125 4.472656 -0.226562 4.140625 -0.09375 C 3.816406 0.0390625 3.472656 0.109375 3.109375 0.109375 C 2.722656 0.109375 2.367188 0.0390625 2.046875 -0.09375 C 1.722656 -0.226562 1.441406 -0.445312 1.203125 -0.75 C 0.960938 -1.0625 0.773438 -1.46875 0.640625 -1.96875 C 0.503906 -2.476562 0.4375 -3.109375 0.4375 -3.859375 C 0.4375 -4.628906 0.503906 -5.269531 0.640625 -5.78125 C 0.773438 -6.289062 0.960938 -6.695312 1.203125 -7 C 1.441406 -7.300781 1.722656 -7.515625 2.046875 -7.640625 C 2.378906 -7.765625 2.742188 -7.828125 3.140625 -7.828125 C 3.503906 -7.828125 3.847656 -7.765625 4.171875 -7.640625 C 4.492188 -7.515625 4.773438 -7.300781 5.015625 -7 C 5.253906 -6.695312 5.441406 -6.289062 5.578125 -5.78125 C 5.722656 -5.269531 5.796875 -4.628906 5.796875 -3.859375 Z M 4.796875 -3.859375 C 4.796875 -4.472656 4.757812 -4.984375 4.6875 -5.390625 C 4.613281 -5.796875 4.503906 -6.117188 4.359375 -6.359375 C 4.210938 -6.597656 4.035156 -6.769531 3.828125 -6.875 C 3.628906 -6.976562 3.398438 -7.03125 3.140625 -7.03125 C 2.859375 -7.03125 2.609375 -6.976562 2.390625 -6.875 C 2.179688 -6.769531 2.003906 -6.59375 1.859375 -6.34375 C 1.722656 -6.101562 1.617188 -5.78125 1.546875 -5.375 C 1.472656 -4.96875 1.4375 -4.460938 1.4375 -3.859375 C 1.4375 -3.265625 1.472656 -2.765625 1.546875 -2.359375 C 1.617188 -1.953125 1.726562 -1.625 1.875 -1.375 C 2.019531 -1.132812 2.195312 -0.957031 2.40625 -0.84375 C 2.613281 -0.738281 2.847656 -0.6875 3.109375 -0.6875 C 3.367188 -0.6875 3.601562 -0.738281 3.8125 -0.84375 C 4.019531 -0.957031 4.195312 -1.132812 4.34375 -1.375 C 4.488281 -1.625 4.597656 -1.953125 4.671875 -2.359375 C 4.753906 -2.765625 4.796875 -3.265625 4.796875 -3.859375 Z M 4.796875 -3.859375 \"/>\n",
       "</g>\n",
       "<g id=\"glyph-0-1\">\n",
       "<path d=\"M 5.734375 -2.125 C 5.734375 -1.769531 5.675781 -1.453125 5.5625 -1.171875 C 5.445312 -0.898438 5.28125 -0.664062 5.0625 -0.46875 C 4.84375 -0.28125 4.566406 -0.132812 4.234375 -0.03125 C 3.910156 0.0625 3.539062 0.109375 3.125 0.109375 C 2.644531 0.109375 2.238281 0.0507812 1.90625 -0.0625 C 1.582031 -0.1875 1.316406 -0.34375 1.109375 -0.53125 C 0.898438 -0.726562 0.738281 -0.953125 0.625 -1.203125 C 0.519531 -1.453125 0.453125 -1.710938 0.421875 -1.984375 L 1.4375 -2.078125 C 1.46875 -1.867188 1.519531 -1.679688 1.59375 -1.515625 C 1.675781 -1.347656 1.785156 -1.203125 1.921875 -1.078125 C 2.054688 -0.960938 2.222656 -0.867188 2.421875 -0.796875 C 2.617188 -0.734375 2.851562 -0.703125 3.125 -0.703125 C 3.625 -0.703125 4.015625 -0.820312 4.296875 -1.0625 C 4.578125 -1.3125 4.71875 -1.675781 4.71875 -2.15625 C 4.71875 -2.445312 4.65625 -2.675781 4.53125 -2.84375 C 4.40625 -3.019531 4.25 -3.15625 4.0625 -3.25 C 3.875 -3.34375 3.664062 -3.40625 3.4375 -3.4375 C 3.21875 -3.476562 3.015625 -3.5 2.828125 -3.5 L 2.28125 -3.5 L 2.28125 -4.34375 L 2.8125 -4.34375 C 3 -4.34375 3.191406 -4.363281 3.390625 -4.40625 C 3.585938 -4.445312 3.769531 -4.515625 3.9375 -4.609375 C 4.101562 -4.710938 4.238281 -4.847656 4.34375 -5.015625 C 4.457031 -5.191406 4.515625 -5.410156 4.515625 -5.671875 C 4.515625 -6.085938 4.390625 -6.414062 4.140625 -6.65625 C 3.898438 -6.894531 3.539062 -7.015625 3.0625 -7.015625 C 2.632812 -7.015625 2.285156 -6.898438 2.015625 -6.671875 C 1.742188 -6.453125 1.585938 -6.140625 1.546875 -5.734375 L 0.5625 -5.8125 C 0.601562 -6.15625 0.695312 -6.453125 0.84375 -6.703125 C 0.988281 -6.953125 1.171875 -7.160156 1.390625 -7.328125 C 1.617188 -7.492188 1.875 -7.617188 2.15625 -7.703125 C 2.445312 -7.785156 2.753906 -7.828125 3.078125 -7.828125 C 3.503906 -7.828125 3.875 -7.769531 4.1875 -7.65625 C 4.5 -7.550781 4.753906 -7.40625 4.953125 -7.21875 C 5.148438 -7.039062 5.296875 -6.828125 5.390625 -6.578125 C 5.484375 -6.328125 5.53125 -6.0625 5.53125 -5.78125 C 5.53125 -5.550781 5.5 -5.335938 5.4375 -5.140625 C 5.375 -4.953125 5.273438 -4.773438 5.140625 -4.609375 C 5.003906 -4.453125 4.835938 -4.316406 4.640625 -4.203125 C 4.441406 -4.097656 4.195312 -4.015625 3.90625 -3.953125 L 3.90625 -3.9375 C 4.21875 -3.90625 4.488281 -3.832031 4.71875 -3.71875 C 4.945312 -3.613281 5.132812 -3.476562 5.28125 -3.3125 C 5.4375 -3.15625 5.550781 -2.972656 5.625 -2.765625 C 5.695312 -2.566406 5.734375 -2.351562 5.734375 -2.125 Z M 5.734375 -2.125 \"/>\n",
       "</g>\n",
       "<g id=\"glyph-0-2\">\n",
       "<path d=\"M 5.734375 -2.515625 C 5.734375 -2.128906 5.679688 -1.773438 5.578125 -1.453125 C 5.472656 -1.128906 5.3125 -0.851562 5.09375 -0.625 C 4.882812 -0.394531 4.625 -0.210938 4.3125 -0.078125 C 4.007812 0.046875 3.65625 0.109375 3.25 0.109375 C 2.800781 0.109375 2.40625 0.0234375 2.0625 -0.140625 C 1.726562 -0.316406 1.453125 -0.566406 1.234375 -0.890625 C 1.015625 -1.210938 0.847656 -1.609375 0.734375 -2.078125 C 0.617188 -2.546875 0.5625 -3.078125 0.5625 -3.671875 C 0.5625 -4.359375 0.625 -4.960938 0.75 -5.484375 C 0.882812 -6.003906 1.066406 -6.4375 1.296875 -6.78125 C 1.535156 -7.125 1.828125 -7.382812 2.171875 -7.5625 C 2.515625 -7.738281 2.898438 -7.828125 3.328125 -7.828125 C 3.585938 -7.828125 3.832031 -7.796875 4.0625 -7.734375 C 4.289062 -7.679688 4.5 -7.59375 4.6875 -7.46875 C 4.875 -7.351562 5.039062 -7.191406 5.1875 -6.984375 C 5.332031 -6.785156 5.445312 -6.539062 5.53125 -6.25 L 4.578125 -6.078125 C 4.484375 -6.410156 4.320312 -6.648438 4.09375 -6.796875 C 3.875 -6.953125 3.613281 -7.03125 3.3125 -7.03125 C 3.039062 -7.03125 2.796875 -6.960938 2.578125 -6.828125 C 2.359375 -6.703125 2.171875 -6.507812 2.015625 -6.25 C 1.867188 -6 1.753906 -5.679688 1.671875 -5.296875 C 1.585938 -4.921875 1.546875 -4.476562 1.546875 -3.96875 C 1.722656 -4.300781 1.972656 -4.550781 2.296875 -4.71875 C 2.628906 -4.894531 3.003906 -4.984375 3.421875 -4.984375 C 3.765625 -4.984375 4.078125 -4.925781 4.359375 -4.8125 C 4.648438 -4.695312 4.894531 -4.53125 5.09375 -4.3125 C 5.300781 -4.101562 5.457031 -3.847656 5.5625 -3.546875 C 5.675781 -3.242188 5.734375 -2.898438 5.734375 -2.515625 Z M 4.734375 -2.484375 C 4.734375 -2.742188 4.703125 -2.976562 4.640625 -3.1875 C 4.578125 -3.40625 4.476562 -3.59375 4.34375 -3.75 C 4.207031 -3.90625 4.039062 -4.019531 3.84375 -4.09375 C 3.65625 -4.175781 3.4375 -4.21875 3.1875 -4.21875 C 3.007812 -4.21875 2.828125 -4.191406 2.640625 -4.140625 C 2.460938 -4.085938 2.296875 -4 2.140625 -3.875 C 1.992188 -3.757812 1.875 -3.601562 1.78125 -3.40625 C 1.6875 -3.21875 1.640625 -2.988281 1.640625 -2.71875 C 1.640625 -2.425781 1.675781 -2.15625 1.75 -1.90625 C 1.820312 -1.664062 1.925781 -1.453125 2.0625 -1.265625 C 2.207031 -1.085938 2.375 -0.945312 2.5625 -0.84375 C 2.757812 -0.738281 2.976562 -0.6875 3.21875 -0.6875 C 3.457031 -0.6875 3.671875 -0.726562 3.859375 -0.8125 C 4.046875 -0.894531 4.203125 -1.007812 4.328125 -1.15625 C 4.460938 -1.3125 4.5625 -1.5 4.625 -1.71875 C 4.695312 -1.945312 4.734375 -2.203125 4.734375 -2.484375 Z M 4.734375 -2.484375 \"/>\n",
       "</g>\n",
       "<g id=\"glyph-0-3\">\n",
       "<path d=\"M 5.703125 -4.015625 C 5.703125 -3.328125 5.632812 -2.722656 5.5 -2.203125 C 5.375 -1.691406 5.191406 -1.265625 4.953125 -0.921875 C 4.710938 -0.578125 4.421875 -0.316406 4.078125 -0.140625 C 3.734375 0.0234375 3.34375 0.109375 2.90625 0.109375 C 2.613281 0.109375 2.347656 0.078125 2.109375 0.015625 C 1.867188 -0.046875 1.65625 -0.140625 1.46875 -0.265625 C 1.289062 -0.390625 1.132812 -0.550781 1 -0.75 C 0.863281 -0.957031 0.757812 -1.207031 0.6875 -1.5 L 1.625 -1.640625 C 1.726562 -1.316406 1.882812 -1.078125 2.09375 -0.921875 C 2.3125 -0.765625 2.585938 -0.6875 2.921875 -0.6875 C 3.191406 -0.6875 3.4375 -0.75 3.65625 -0.875 C 3.875 -1 4.0625 -1.1875 4.21875 -1.4375 C 4.375 -1.6875 4.492188 -2 4.578125 -2.375 C 4.671875 -2.757812 4.71875 -3.207031 4.71875 -3.71875 C 4.644531 -3.550781 4.539062 -3.398438 4.40625 -3.265625 C 4.28125 -3.128906 4.128906 -3.015625 3.953125 -2.921875 C 3.785156 -2.828125 3.601562 -2.753906 3.40625 -2.703125 C 3.207031 -2.648438 3.007812 -2.625 2.8125 -2.625 C 2.457031 -2.625 2.140625 -2.6875 1.859375 -2.8125 C 1.578125 -2.945312 1.335938 -3.125 1.140625 -3.34375 C 0.941406 -3.570312 0.789062 -3.84375 0.6875 -4.15625 C 0.582031 -4.476562 0.53125 -4.835938 0.53125 -5.234375 C 0.53125 -5.628906 0.585938 -5.984375 0.703125 -6.296875 C 0.816406 -6.617188 0.984375 -6.894531 1.203125 -7.125 C 1.421875 -7.351562 1.6875 -7.523438 2 -7.640625 C 2.320312 -7.765625 2.6875 -7.828125 3.09375 -7.828125 C 3.945312 -7.828125 4.59375 -7.507812 5.03125 -6.875 C 5.476562 -6.238281 5.703125 -5.285156 5.703125 -4.015625 Z M 4.625 -4.96875 C 4.625 -5.25 4.585938 -5.515625 4.515625 -5.765625 C 4.453125 -6.015625 4.351562 -6.234375 4.21875 -6.421875 C 4.09375 -6.609375 3.929688 -6.753906 3.734375 -6.859375 C 3.535156 -6.972656 3.3125 -7.03125 3.0625 -7.03125 C 2.820312 -7.03125 2.609375 -6.984375 2.421875 -6.890625 C 2.234375 -6.804688 2.070312 -6.6875 1.9375 -6.53125 C 1.800781 -6.382812 1.695312 -6.195312 1.625 -5.96875 C 1.5625 -5.75 1.53125 -5.503906 1.53125 -5.234375 C 1.53125 -4.972656 1.5625 -4.726562 1.625 -4.5 C 1.6875 -4.28125 1.78125 -4.085938 1.90625 -3.921875 C 2.03125 -3.765625 2.1875 -3.640625 2.375 -3.546875 C 2.570312 -3.453125 2.796875 -3.40625 3.046875 -3.40625 C 3.234375 -3.40625 3.421875 -3.4375 3.609375 -3.5 C 3.796875 -3.5625 3.960938 -3.65625 4.109375 -3.78125 C 4.265625 -3.914062 4.390625 -4.078125 4.484375 -4.265625 C 4.578125 -4.460938 4.625 -4.695312 4.625 -4.96875 Z M 4.625 -4.96875 \"/>\n",
       "</g>\n",
       "<g id=\"glyph-0-4\">\n",
       "<path d=\"M 1.96875 -6.859375 L 1.96875 -3.984375 L 6.265625 -3.984375 L 6.265625 -3.125 L 1.96875 -3.125 L 1.96875 0 L 0.921875 0 L 0.921875 -7.703125 L 6.390625 -7.703125 L 6.390625 -6.859375 Z M 1.96875 -6.859375 \"/>\n",
       "</g>\n",
       "<g id=\"glyph-0-5\">\n",
       "<path d=\"M 6.390625 0 L 5.5 -2.25 L 1.984375 -2.25 L 1.109375 0 L 0.015625 0 L 3.171875 -7.703125 L 4.359375 -7.703125 L 7.453125 0 Z M 4.203125 -5.609375 C 4.140625 -5.753906 4.082031 -5.898438 4.03125 -6.046875 C 3.976562 -6.203125 3.929688 -6.335938 3.890625 -6.453125 C 3.847656 -6.578125 3.8125 -6.679688 3.78125 -6.765625 C 3.757812 -6.847656 3.75 -6.898438 3.75 -6.921875 C 3.738281 -6.898438 3.71875 -6.847656 3.6875 -6.765625 C 3.664062 -6.679688 3.632812 -6.578125 3.59375 -6.453125 C 3.550781 -6.328125 3.503906 -6.191406 3.453125 -6.046875 C 3.398438 -5.898438 3.347656 -5.753906 3.296875 -5.609375 L 2.3125 -3.0625 L 5.1875 -3.0625 Z M 4.203125 -5.609375 \"/>\n",
       "</g>\n",
       "<g id=\"glyph-0-6\">\n",
       "<path d=\"M 0.921875 0 L 0.921875 -7.703125 L 1.96875 -7.703125 L 1.96875 -0.859375 L 5.859375 -0.859375 L 5.859375 0 Z M 0.921875 0 \"/>\n",
       "</g>\n",
       "<g id=\"glyph-0-7\">\n",
       "<path d=\"M 6.953125 -2.125 C 6.953125 -1.800781 6.890625 -1.503906 6.765625 -1.234375 C 6.640625 -0.960938 6.445312 -0.722656 6.1875 -0.515625 C 5.925781 -0.316406 5.59375 -0.160156 5.1875 -0.046875 C 4.789062 0.0546875 4.320312 0.109375 3.78125 0.109375 C 2.8125 0.109375 2.0625 -0.0546875 1.53125 -0.390625 C 1 -0.722656 0.660156 -1.207031 0.515625 -1.84375 L 1.515625 -2.046875 C 1.566406 -1.847656 1.644531 -1.664062 1.75 -1.5 C 1.863281 -1.34375 2.007812 -1.203125 2.1875 -1.078125 C 2.363281 -0.960938 2.582031 -0.867188 2.84375 -0.796875 C 3.113281 -0.734375 3.4375 -0.703125 3.8125 -0.703125 C 4.125 -0.703125 4.40625 -0.726562 4.65625 -0.78125 C 4.914062 -0.832031 5.140625 -0.910156 5.328125 -1.015625 C 5.515625 -1.128906 5.660156 -1.273438 5.765625 -1.453125 C 5.867188 -1.628906 5.921875 -1.835938 5.921875 -2.078125 C 5.921875 -2.328125 5.863281 -2.53125 5.75 -2.6875 C 5.632812 -2.84375 5.472656 -2.972656 5.265625 -3.078125 C 5.054688 -3.179688 4.804688 -3.265625 4.515625 -3.328125 C 4.234375 -3.398438 3.914062 -3.476562 3.5625 -3.5625 C 3.351562 -3.601562 3.140625 -3.648438 2.921875 -3.703125 C 2.703125 -3.765625 2.492188 -3.832031 2.296875 -3.90625 C 2.097656 -3.988281 1.910156 -4.082031 1.734375 -4.1875 C 1.554688 -4.289062 1.40625 -4.414062 1.28125 -4.5625 C 1.15625 -4.71875 1.054688 -4.890625 0.984375 -5.078125 C 0.910156 -5.273438 0.875 -5.503906 0.875 -5.765625 C 0.875 -6.128906 0.945312 -6.441406 1.09375 -6.703125 C 1.238281 -6.960938 1.441406 -7.175781 1.703125 -7.34375 C 1.960938 -7.507812 2.269531 -7.628906 2.625 -7.703125 C 2.988281 -7.785156 3.378906 -7.828125 3.796875 -7.828125 C 4.273438 -7.828125 4.679688 -7.785156 5.015625 -7.703125 C 5.359375 -7.628906 5.644531 -7.519531 5.875 -7.375 C 6.113281 -7.226562 6.300781 -7.039062 6.4375 -6.8125 C 6.582031 -6.59375 6.695312 -6.335938 6.78125 -6.046875 L 5.75 -5.875 C 5.695312 -6.0625 5.617188 -6.226562 5.515625 -6.375 C 5.421875 -6.519531 5.296875 -6.640625 5.140625 -6.734375 C 4.984375 -6.828125 4.789062 -6.898438 4.5625 -6.953125 C 4.34375 -7.003906 4.082031 -7.03125 3.78125 -7.03125 C 3.425781 -7.03125 3.125 -7 2.875 -6.9375 C 2.632812 -6.875 2.441406 -6.785156 2.296875 -6.671875 C 2.148438 -6.566406 2.046875 -6.441406 1.984375 -6.296875 C 1.921875 -6.148438 1.890625 -5.988281 1.890625 -5.8125 C 1.890625 -5.582031 1.945312 -5.394531 2.0625 -5.25 C 2.175781 -5.101562 2.332031 -4.976562 2.53125 -4.875 C 2.726562 -4.78125 2.953125 -4.695312 3.203125 -4.625 C 3.460938 -4.5625 3.738281 -4.5 4.03125 -4.4375 C 4.269531 -4.382812 4.503906 -4.328125 4.734375 -4.265625 C 4.972656 -4.210938 5.203125 -4.144531 5.421875 -4.0625 C 5.640625 -3.988281 5.84375 -3.894531 6.03125 -3.78125 C 6.21875 -3.675781 6.378906 -3.546875 6.515625 -3.390625 C 6.648438 -3.242188 6.753906 -3.066406 6.828125 -2.859375 C 6.910156 -2.648438 6.953125 -2.40625 6.953125 -2.125 Z M 6.953125 -2.125 \"/>\n",
       "</g>\n",
       "<g id=\"glyph-0-8\">\n",
       "<path d=\"M 0.921875 0 L 0.921875 -7.703125 L 6.765625 -7.703125 L 6.765625 -6.859375 L 1.96875 -6.859375 L 1.96875 -4.375 L 6.4375 -4.375 L 6.4375 -3.546875 L 1.96875 -3.546875 L 1.96875 -0.859375 L 6.984375 -0.859375 L 6.984375 0 Z M 0.921875 0 \"/>\n",
       "</g>\n",
       "<g id=\"glyph-0-9\">\n",
       "<path d=\"M 3.9375 -6.859375 L 3.9375 0 L 2.90625 0 L 2.90625 -6.859375 L 0.25 -6.859375 L 0.25 -7.703125 L 6.59375 -7.703125 L 6.59375 -6.859375 Z M 3.9375 -6.859375 \"/>\n",
       "</g>\n",
       "<g id=\"glyph-0-10\">\n",
       "<path d=\"M 6.375 0 L 4.359375 -3.203125 L 1.96875 -3.203125 L 1.96875 0 L 0.921875 0 L 0.921875 -7.703125 L 4.546875 -7.703125 C 4.984375 -7.703125 5.367188 -7.648438 5.703125 -7.546875 C 6.046875 -7.453125 6.332031 -7.3125 6.5625 -7.125 C 6.789062 -6.9375 6.960938 -6.703125 7.078125 -6.421875 C 7.203125 -6.148438 7.265625 -5.84375 7.265625 -5.5 C 7.265625 -5.257812 7.226562 -5.019531 7.15625 -4.78125 C 7.082031 -4.539062 6.96875 -4.320312 6.8125 -4.125 C 6.664062 -3.925781 6.472656 -3.753906 6.234375 -3.609375 C 5.992188 -3.472656 5.707031 -3.378906 5.375 -3.328125 L 7.578125 0 Z M 6.21875 -5.484375 C 6.21875 -5.722656 6.175781 -5.925781 6.09375 -6.09375 C 6.007812 -6.269531 5.890625 -6.414062 5.734375 -6.53125 C 5.585938 -6.644531 5.40625 -6.726562 5.1875 -6.78125 C 4.96875 -6.84375 4.71875 -6.875 4.4375 -6.875 L 1.96875 -6.875 L 1.96875 -4.03125 L 4.484375 -4.03125 C 4.785156 -4.03125 5.046875 -4.066406 5.265625 -4.140625 C 5.484375 -4.210938 5.660156 -4.3125 5.796875 -4.4375 C 5.941406 -4.570312 6.046875 -4.726562 6.109375 -4.90625 C 6.179688 -5.09375 6.21875 -5.285156 6.21875 -5.484375 Z M 6.21875 -5.484375 \"/>\n",
       "</g>\n",
       "<g id=\"glyph-0-11\">\n",
       "<path d=\"M 4 0.109375 C 3.570312 0.109375 3.164062 0.0507812 2.78125 -0.0625 C 2.40625 -0.175781 2.078125 -0.351562 1.796875 -0.59375 C 1.515625 -0.832031 1.285156 -1.132812 1.109375 -1.5 C 0.941406 -1.863281 0.859375 -2.296875 0.859375 -2.796875 L 0.859375 -7.703125 L 1.90625 -7.703125 L 1.90625 -2.890625 C 1.90625 -2.492188 1.957031 -2.160156 2.0625 -1.890625 C 2.164062 -1.617188 2.3125 -1.394531 2.5 -1.21875 C 2.6875 -1.050781 2.90625 -0.925781 3.15625 -0.84375 C 3.414062 -0.769531 3.695312 -0.734375 4 -0.734375 C 4.289062 -0.734375 4.566406 -0.773438 4.828125 -0.859375 C 5.097656 -0.941406 5.332031 -1.066406 5.53125 -1.234375 C 5.738281 -1.410156 5.898438 -1.640625 6.015625 -1.921875 C 6.128906 -2.210938 6.1875 -2.554688 6.1875 -2.953125 L 6.1875 -7.703125 L 7.21875 -7.703125 L 7.21875 -2.90625 C 7.21875 -2.382812 7.132812 -1.9375 6.96875 -1.5625 C 6.800781 -1.1875 6.570312 -0.875 6.28125 -0.625 C 5.988281 -0.375 5.644531 -0.1875 5.25 -0.0625 C 4.863281 0.0507812 4.445312 0.109375 4 0.109375 Z M 4 0.109375 \"/>\n",
       "</g>\n",
       "<g id=\"glyph-1-0\">\n",
       "<path d=\"M 4.515625 -4.515625 L 2.296875 -5.484375 L -0.1875 -3 L 0.78125 -0.78125 L 0.015625 -0.015625 L -3.203125 -7.703125 L -2.375 -8.53125 L 5.265625 -5.265625 Z M -1 -6.9375 C -1.144531 -7 -1.285156 -7.0625 -1.421875 -7.125 C -1.566406 -7.195312 -1.695312 -7.257812 -1.8125 -7.3125 C -1.9375 -7.375 -2.035156 -7.425781 -2.109375 -7.46875 C -2.179688 -7.507812 -2.222656 -7.535156 -2.234375 -7.546875 C -2.234375 -7.523438 -2.210938 -7.472656 -2.171875 -7.390625 C -2.140625 -7.316406 -2.09375 -7.222656 -2.03125 -7.109375 C -1.96875 -6.992188 -1.898438 -6.863281 -1.828125 -6.71875 C -1.765625 -6.582031 -1.703125 -6.441406 -1.640625 -6.296875 L -0.53125 -3.8125 L 1.5 -5.84375 Z M -1 -6.9375 \"/>\n",
       "</g>\n",
       "<g id=\"glyph-1-1\">\n",
       "<path d=\"M 2.96875 -2.96875 L 0.3125 -5.625 C 0.101562 -5.832031 -0.078125 -5.988281 -0.234375 -6.09375 C -0.398438 -6.207031 -0.554688 -6.273438 -0.703125 -6.296875 C -0.847656 -6.316406 -0.984375 -6.296875 -1.109375 -6.234375 C -1.234375 -6.171875 -1.367188 -6.066406 -1.515625 -5.921875 C -1.660156 -5.773438 -1.765625 -5.613281 -1.828125 -5.4375 C -1.890625 -5.257812 -1.90625 -5.070312 -1.875 -4.875 C -1.851562 -4.6875 -1.785156 -4.488281 -1.671875 -4.28125 C -1.554688 -4.070312 -1.398438 -3.867188 -1.203125 -3.671875 L 1.234375 -1.234375 L 0.546875 -0.546875 L -2.75 -3.84375 C -2.832031 -3.925781 -2.921875 -4.015625 -3.015625 -4.109375 C -3.117188 -4.210938 -3.210938 -4.304688 -3.296875 -4.390625 C -3.390625 -4.484375 -3.46875 -4.554688 -3.53125 -4.609375 C -3.59375 -4.660156 -3.632812 -4.695312 -3.65625 -4.71875 L -3 -5.375 C -2.988281 -5.363281 -2.953125 -5.328125 -2.890625 -5.265625 C -2.835938 -5.210938 -2.769531 -5.148438 -2.6875 -5.078125 C -2.613281 -5.015625 -2.535156 -4.945312 -2.453125 -4.875 C -2.367188 -4.800781 -2.300781 -4.738281 -2.25 -4.6875 C -2.300781 -4.863281 -2.335938 -5.035156 -2.359375 -5.203125 C -2.390625 -5.378906 -2.390625 -5.550781 -2.359375 -5.71875 C -2.335938 -5.894531 -2.28125 -6.0625 -2.1875 -6.21875 C -2.101562 -6.382812 -1.976562 -6.550781 -1.8125 -6.71875 C -1.5 -7.03125 -1.179688 -7.210938 -0.859375 -7.265625 C -0.546875 -7.328125 -0.21875 -7.257812 0.125 -7.0625 L 0.140625 -7.078125 C 0.078125 -7.242188 0.0351562 -7.414062 0.015625 -7.59375 C -0.00390625 -7.769531 0 -7.945312 0.03125 -8.125 C 0.0625 -8.300781 0.125 -8.472656 0.21875 -8.640625 C 0.3125 -8.804688 0.4375 -8.96875 0.59375 -9.125 C 0.8125 -9.34375 1.023438 -9.5 1.234375 -9.59375 C 1.441406 -9.6875 1.65625 -9.722656 1.875 -9.703125 C 2.09375 -9.679688 2.316406 -9.597656 2.546875 -9.453125 C 2.785156 -9.316406 3.035156 -9.117188 3.296875 -8.859375 L 6.078125 -6.078125 L 5.390625 -5.390625 L 2.734375 -8.046875 C 2.523438 -8.253906 2.335938 -8.410156 2.171875 -8.515625 C 2.015625 -8.628906 1.863281 -8.695312 1.71875 -8.71875 C 1.570312 -8.738281 1.4375 -8.71875 1.3125 -8.65625 C 1.1875 -8.59375 1.050781 -8.488281 0.90625 -8.34375 C 0.75 -8.1875 0.640625 -8.023438 0.578125 -7.859375 C 0.515625 -7.691406 0.492188 -7.507812 0.515625 -7.3125 C 0.546875 -7.125 0.617188 -6.925781 0.734375 -6.71875 C 0.847656 -6.507812 1.007812 -6.300781 1.21875 -6.09375 L 3.65625 -3.65625 Z M 2.96875 -2.96875 \"/>\n",
       "</g>\n",
       "<g id=\"glyph-1-2\">\n",
       "<path d=\"M 1.6875 -1.53125 C 1.257812 -1.101562 0.828125 -0.890625 0.390625 -0.890625 C -0.0351562 -0.898438 -0.445312 -1.101562 -0.84375 -1.5 C -1.113281 -1.769531 -1.28125 -2.046875 -1.34375 -2.328125 C -1.414062 -2.617188 -1.414062 -2.894531 -1.34375 -3.15625 C -1.28125 -3.425781 -1.160156 -3.6875 -0.984375 -3.9375 C -0.816406 -4.195312 -0.625 -4.445312 -0.40625 -4.6875 L 0.53125 -5.625 L 0.296875 -5.859375 C 0.128906 -6.023438 -0.03125 -6.148438 -0.1875 -6.234375 C -0.351562 -6.328125 -0.507812 -6.375 -0.65625 -6.375 C -0.800781 -6.375 -0.945312 -6.332031 -1.09375 -6.25 C -1.25 -6.175781 -1.398438 -6.066406 -1.546875 -5.921875 C -1.679688 -5.785156 -1.789062 -5.648438 -1.875 -5.515625 C -1.96875 -5.390625 -2.03125 -5.265625 -2.0625 -5.140625 C -2.09375 -5.015625 -2.085938 -4.878906 -2.046875 -4.734375 C -2.015625 -4.597656 -1.941406 -4.460938 -1.828125 -4.328125 L -2.625 -3.65625 C -2.75 -3.84375 -2.847656 -4.039062 -2.921875 -4.25 C -2.992188 -4.457031 -3.007812 -4.675781 -2.96875 -4.90625 C -2.9375 -5.144531 -2.847656 -5.394531 -2.703125 -5.65625 C -2.554688 -5.914062 -2.34375 -6.1875 -2.0625 -6.46875 C -1.53125 -7 -1.007812 -7.273438 -0.5 -7.296875 C 0.0078125 -7.316406 0.492188 -7.097656 0.953125 -6.640625 L 2.75 -4.84375 C 2.957031 -4.632812 3.132812 -4.503906 3.28125 -4.453125 C 3.425781 -4.398438 3.578125 -4.453125 3.734375 -4.609375 C 3.773438 -4.648438 3.816406 -4.691406 3.859375 -4.734375 C 3.898438 -4.773438 3.929688 -4.816406 3.953125 -4.859375 L 4.390625 -4.421875 C 4.328125 -4.316406 4.253906 -4.210938 4.171875 -4.109375 C 4.097656 -4.015625 4.007812 -3.914062 3.90625 -3.8125 C 3.78125 -3.6875 3.648438 -3.59375 3.515625 -3.53125 C 3.390625 -3.476562 3.257812 -3.457031 3.125 -3.46875 C 3 -3.488281 2.863281 -3.53125 2.71875 -3.59375 C 2.582031 -3.664062 2.445312 -3.769531 2.3125 -3.90625 L 2.28125 -3.875 C 2.34375 -3.664062 2.378906 -3.460938 2.390625 -3.265625 C 2.410156 -3.078125 2.398438 -2.882812 2.359375 -2.6875 C 2.328125 -2.5 2.253906 -2.304688 2.140625 -2.109375 C 2.035156 -1.921875 1.882812 -1.726562 1.6875 -1.53125 Z M 1.3125 -2.1875 C 1.539062 -2.414062 1.695312 -2.65625 1.78125 -2.90625 C 1.863281 -3.15625 1.894531 -3.398438 1.875 -3.640625 C 1.851562 -3.878906 1.796875 -4.097656 1.703125 -4.296875 C 1.609375 -4.492188 1.492188 -4.660156 1.359375 -4.796875 L 1.015625 -5.140625 L 0.25 -4.375 C 0.09375 -4.195312 -0.046875 -4.019531 -0.171875 -3.84375 C -0.304688 -3.675781 -0.398438 -3.503906 -0.453125 -3.328125 C -0.503906 -3.148438 -0.503906 -2.960938 -0.453125 -2.765625 C -0.410156 -2.578125 -0.296875 -2.390625 -0.109375 -2.203125 C 0.117188 -1.972656 0.359375 -1.859375 0.609375 -1.859375 C 0.859375 -1.859375 1.09375 -1.96875 1.3125 -2.1875 Z M 1.3125 -2.1875 \"/>\n",
       "</g>\n",
       "<g id=\"glyph-1-3\">\n",
       "<path d=\"M 2.109375 -2.171875 C 2.035156 -2.035156 1.953125 -1.90625 1.859375 -1.78125 C 1.765625 -1.65625 1.644531 -1.519531 1.5 -1.375 C 0.945312 -0.820312 0.351562 -0.863281 -0.28125 -1.5 L -3.0625 -4.28125 L -3.546875 -3.796875 L -4.0625 -4.3125 L -3.5625 -4.8125 L -4.28125 -5.96875 L -3.828125 -6.421875 L -2.890625 -5.484375 L -2.109375 -6.265625 L -1.59375 -5.75 L -2.375 -4.96875 L 0.265625 -2.328125 C 0.460938 -2.128906 0.632812 -2.019531 0.78125 -2 C 0.925781 -1.976562 1.085938 -2.054688 1.265625 -2.234375 C 1.328125 -2.296875 1.382812 -2.363281 1.4375 -2.4375 C 1.488281 -2.507812 1.539062 -2.59375 1.59375 -2.6875 Z M 2.109375 -2.171875 \"/>\n",
       "</g>\n",
       "<g id=\"glyph-1-4\">\n",
       "<path d=\"M -0.859375 -3.015625 C -0.640625 -2.796875 -0.414062 -2.613281 -0.1875 -2.46875 C 0.03125 -2.332031 0.253906 -2.242188 0.484375 -2.203125 C 0.710938 -2.160156 0.9375 -2.175781 1.15625 -2.25 C 1.375 -2.320312 1.585938 -2.460938 1.796875 -2.671875 C 2.097656 -2.972656 2.273438 -3.273438 2.328125 -3.578125 C 2.390625 -3.890625 2.363281 -4.164062 2.25 -4.40625 L 3.015625 -4.859375 C 3.097656 -4.691406 3.15625 -4.507812 3.1875 -4.3125 C 3.226562 -4.125 3.234375 -3.914062 3.203125 -3.6875 C 3.171875 -3.457031 3.082031 -3.210938 2.9375 -2.953125 C 2.800781 -2.703125 2.59375 -2.4375 2.3125 -2.15625 C 1.6875 -1.53125 1.023438 -1.238281 0.328125 -1.28125 C -0.359375 -1.332031 -1.066406 -1.722656 -1.796875 -2.453125 C -2.179688 -2.835938 -2.460938 -3.21875 -2.640625 -3.59375 C -2.816406 -3.96875 -2.898438 -4.320312 -2.890625 -4.65625 C -2.890625 -5 -2.8125 -5.320312 -2.65625 -5.625 C -2.507812 -5.9375 -2.3125 -6.21875 -2.0625 -6.46875 C -1.707031 -6.820312 -1.351562 -7.0625 -1 -7.1875 C -0.644531 -7.3125 -0.300781 -7.34375 0.03125 -7.28125 C 0.363281 -7.21875 0.695312 -7.082031 1.03125 -6.875 C 1.375 -6.675781 1.703125 -6.421875 2.015625 -6.109375 L 2.125 -6 Z M 0.875 -5.8125 C 0.382812 -6.21875 -0.0507812 -6.425781 -0.4375 -6.4375 C -0.832031 -6.457031 -1.203125 -6.296875 -1.546875 -5.953125 C -1.671875 -5.828125 -1.773438 -5.679688 -1.859375 -5.515625 C -1.953125 -5.359375 -2.003906 -5.175781 -2.015625 -4.96875 C -2.023438 -4.757812 -1.984375 -4.535156 -1.890625 -4.296875 C -1.804688 -4.066406 -1.640625 -3.816406 -1.390625 -3.546875 Z M 0.875 -5.8125 \"/>\n",
       "</g>\n",
       "<g id=\"glyph-1-5\">\n",
       "<path d=\"M -2.96875 -5.40625 L -0.3125 -2.75 C -0.101562 -2.539062 0.078125 -2.378906 0.234375 -2.265625 C 0.398438 -2.160156 0.554688 -2.097656 0.703125 -2.078125 C 0.859375 -2.066406 1.003906 -2.097656 1.140625 -2.171875 C 1.285156 -2.253906 1.441406 -2.378906 1.609375 -2.546875 C 1.765625 -2.703125 1.882812 -2.875 1.96875 -3.0625 C 2.050781 -3.25 2.082031 -3.445312 2.0625 -3.65625 C 2.039062 -3.863281 1.972656 -4.070312 1.859375 -4.28125 C 1.753906 -4.5 1.601562 -4.707031 1.40625 -4.90625 L -1.03125 -7.34375 L -0.328125 -8.046875 L 2.96875 -4.75 C 3.050781 -4.664062 3.140625 -4.570312 3.234375 -4.46875 C 3.335938 -4.375 3.429688 -4.28125 3.515625 -4.1875 C 3.609375 -4.101562 3.6875 -4.03125 3.75 -3.96875 C 3.820312 -3.914062 3.863281 -3.882812 3.875 -3.875 L 3.21875 -3.21875 C 3.207031 -3.226562 3.171875 -3.257812 3.109375 -3.3125 C 3.054688 -3.375 2.988281 -3.4375 2.90625 -3.5 C 2.832031 -3.570312 2.753906 -3.644531 2.671875 -3.71875 C 2.585938 -3.789062 2.519531 -3.851562 2.46875 -3.90625 C 2.519531 -3.707031 2.550781 -3.519531 2.5625 -3.34375 C 2.582031 -3.175781 2.570312 -3 2.53125 -2.8125 C 2.5 -2.632812 2.429688 -2.457031 2.328125 -2.28125 C 2.234375 -2.113281 2.097656 -1.941406 1.921875 -1.765625 C 1.679688 -1.523438 1.453125 -1.351562 1.234375 -1.25 C 1.015625 -1.144531 0.785156 -1.09375 0.546875 -1.09375 C 0.316406 -1.101562 0.0859375 -1.175781 -0.140625 -1.3125 C -0.367188 -1.445312 -0.613281 -1.644531 -0.875 -1.90625 L -3.671875 -4.703125 Z M -2.96875 -5.40625 \"/>\n",
       "</g>\n",
       "<g id=\"glyph-1-6\">\n",
       "<path d=\"M 0.546875 -0.546875 L -2.671875 -3.765625 C -2.753906 -3.847656 -2.835938 -3.929688 -2.921875 -4.015625 C -3.015625 -4.109375 -3.101562 -4.195312 -3.1875 -4.28125 C -3.269531 -4.363281 -3.351562 -4.441406 -3.4375 -4.515625 C -3.519531 -4.585938 -3.59375 -4.65625 -3.65625 -4.71875 L -3 -5.375 C -2.9375 -5.3125 -2.863281 -5.242188 -2.78125 -5.171875 C -2.695312 -5.097656 -2.613281 -5.023438 -2.53125 -4.953125 C -2.445312 -4.878906 -2.367188 -4.804688 -2.296875 -4.734375 C -2.222656 -4.660156 -2.160156 -4.597656 -2.109375 -4.546875 C -2.210938 -4.753906 -2.296875 -4.945312 -2.359375 -5.125 C -2.421875 -5.300781 -2.453125 -5.460938 -2.453125 -5.609375 C -2.460938 -5.765625 -2.429688 -5.910156 -2.359375 -6.046875 C -2.296875 -6.191406 -2.191406 -6.335938 -2.046875 -6.484375 C -1.984375 -6.546875 -1.921875 -6.597656 -1.859375 -6.640625 C -1.796875 -6.679688 -1.742188 -6.710938 -1.703125 -6.734375 L -1.078125 -6.109375 C -1.140625 -6.066406 -1.203125 -6.015625 -1.265625 -5.953125 C -1.335938 -5.898438 -1.414062 -5.832031 -1.5 -5.75 C -1.644531 -5.601562 -1.738281 -5.4375 -1.78125 -5.25 C -1.820312 -5.0625 -1.816406 -4.867188 -1.765625 -4.671875 C -1.710938 -4.472656 -1.613281 -4.269531 -1.46875 -4.0625 C -1.320312 -3.851562 -1.140625 -3.640625 -0.921875 -3.421875 L 1.25 -1.25 Z M 0.546875 -0.546875 \"/>\n",
       "</g>\n",
       "<g id=\"glyph-1-7\">\n",
       "<path d=\"M 3.328125 -6.390625 C 3.597656 -6.117188 3.773438 -5.832031 3.859375 -5.53125 C 3.953125 -5.238281 3.96875 -4.9375 3.90625 -4.625 C 3.84375 -4.3125 3.71875 -4.003906 3.53125 -3.703125 C 3.351562 -3.410156 3.128906 -3.128906 2.859375 -2.859375 L 0.65625 -0.65625 L -4.796875 -6.109375 L -2.828125 -8.078125 C -2.523438 -8.378906 -2.226562 -8.625 -1.9375 -8.8125 C -1.644531 -9 -1.363281 -9.117188 -1.09375 -9.171875 C -0.820312 -9.222656 -0.554688 -9.207031 -0.296875 -9.125 C -0.046875 -9.050781 0.191406 -8.898438 0.421875 -8.671875 C 0.566406 -8.523438 0.6875 -8.359375 0.78125 -8.171875 C 0.882812 -7.992188 0.945312 -7.8125 0.96875 -7.625 C 0.988281 -7.4375 0.972656 -7.234375 0.921875 -7.015625 C 0.867188 -6.796875 0.773438 -6.585938 0.640625 -6.390625 C 0.878906 -6.585938 1.125 -6.734375 1.375 -6.828125 C 1.625 -6.921875 1.859375 -6.960938 2.078125 -6.953125 C 2.304688 -6.953125 2.523438 -6.898438 2.734375 -6.796875 C 2.953125 -6.703125 3.148438 -6.566406 3.328125 -6.390625 Z M -0.25 -7.84375 C -0.53125 -8.125 -0.832031 -8.226562 -1.15625 -8.15625 C -1.488281 -8.09375 -1.847656 -7.867188 -2.234375 -7.484375 L -3.46875 -6.25 L -1.75 -4.53125 L -0.515625 -5.765625 C -0.296875 -5.984375 -0.128906 -6.1875 -0.015625 -6.375 C 0.0859375 -6.570312 0.144531 -6.75 0.15625 -6.90625 C 0.175781 -7.070312 0.148438 -7.234375 0.078125 -7.390625 C 0.00390625 -7.546875 -0.101562 -7.695312 -0.25 -7.84375 Z M 2.53125 -5.71875 C 2.351562 -5.894531 2.171875 -6.007812 1.984375 -6.0625 C 1.804688 -6.125 1.613281 -6.128906 1.40625 -6.078125 C 1.207031 -6.035156 1.007812 -5.945312 0.8125 -5.8125 C 0.625 -5.6875 0.425781 -5.519531 0.21875 -5.3125 L -1.15625 -3.9375 L 0.796875 -1.984375 L 2.234375 -3.421875 C 2.421875 -3.609375 2.578125 -3.796875 2.703125 -3.984375 C 2.828125 -4.171875 2.90625 -4.359375 2.9375 -4.546875 C 2.976562 -4.742188 2.96875 -4.9375 2.90625 -5.125 C 2.851562 -5.320312 2.726562 -5.519531 2.53125 -5.71875 Z M 2.53125 -5.71875 \"/>\n",
       "</g>\n",
       "<g id=\"glyph-1-8\">\n",
       "<path d=\"M 3.765625 -0.484375 C 3.515625 -0.234375 3.269531 -0.046875 3.03125 0.078125 C 2.800781 0.210938 2.578125 0.300781 2.359375 0.34375 C 2.140625 0.382812 1.925781 0.382812 1.71875 0.34375 C 1.507812 0.300781 1.3125 0.21875 1.125 0.09375 L 1.71875 -0.6875 C 1.957031 -0.550781 2.207031 -0.507812 2.46875 -0.5625 C 2.726562 -0.613281 2.988281 -0.769531 3.25 -1.03125 C 3.40625 -1.1875 3.523438 -1.347656 3.609375 -1.515625 C 3.703125 -1.691406 3.742188 -1.867188 3.734375 -2.046875 C 3.734375 -2.234375 3.679688 -2.429688 3.578125 -2.640625 C 3.472656 -2.847656 3.3125 -3.0625 3.09375 -3.28125 L 2.421875 -3.953125 L 2.40625 -3.9375 C 2.445312 -3.789062 2.476562 -3.628906 2.5 -3.453125 C 2.519531 -3.273438 2.515625 -3.09375 2.484375 -2.90625 C 2.460938 -2.726562 2.394531 -2.539062 2.28125 -2.34375 C 2.175781 -2.15625 2.035156 -1.972656 1.859375 -1.796875 C 1.585938 -1.523438 1.3125 -1.335938 1.03125 -1.234375 C 0.757812 -1.140625 0.472656 -1.117188 0.171875 -1.171875 C -0.117188 -1.234375 -0.425781 -1.367188 -0.75 -1.578125 C -1.070312 -1.785156 -1.410156 -2.066406 -1.765625 -2.421875 C -2.085938 -2.742188 -2.351562 -3.066406 -2.5625 -3.390625 C -2.78125 -3.722656 -2.921875 -4.046875 -2.984375 -4.359375 C -3.046875 -4.671875 -3.023438 -4.972656 -2.921875 -5.265625 C -2.828125 -5.566406 -2.632812 -5.863281 -2.34375 -6.15625 C -2.039062 -6.457031 -1.710938 -6.644531 -1.359375 -6.71875 C -1.015625 -6.800781 -0.65625 -6.78125 -0.28125 -6.65625 C -0.34375 -6.71875 -0.410156 -6.789062 -0.484375 -6.875 C -0.554688 -6.957031 -0.625 -7.035156 -0.6875 -7.109375 C -0.757812 -7.191406 -0.820312 -7.257812 -0.875 -7.3125 C -0.925781 -7.363281 -0.953125 -7.398438 -0.953125 -7.421875 L -0.28125 -8.09375 C -0.269531 -8.0625 -0.238281 -8.015625 -0.1875 -7.953125 C -0.132812 -7.890625 -0.0703125 -7.816406 0 -7.734375 C 0.0820312 -7.660156 0.164062 -7.570312 0.25 -7.46875 C 0.34375 -7.375 0.441406 -7.273438 0.546875 -7.171875 L 3.734375 -3.984375 C 4.328125 -3.390625 4.625 -2.800781 4.625 -2.21875 C 4.632812 -1.644531 4.347656 -1.066406 3.765625 -0.484375 Z M 1.09375 -5.28125 C 0.800781 -5.570312 0.519531 -5.789062 0.25 -5.9375 C -0.0195312 -6.082031 -0.269531 -6.164062 -0.5 -6.1875 C -0.738281 -6.21875 -0.957031 -6.195312 -1.15625 -6.125 C -1.351562 -6.050781 -1.519531 -5.945312 -1.65625 -5.8125 C -1.84375 -5.625 -1.96875 -5.4375 -2.03125 -5.25 C -2.09375 -5.0625 -2.097656 -4.859375 -2.046875 -4.640625 C -2.003906 -4.429688 -1.898438 -4.203125 -1.734375 -3.953125 C -1.566406 -3.703125 -1.335938 -3.429688 -1.046875 -3.140625 C -0.742188 -2.835938 -0.46875 -2.601562 -0.21875 -2.4375 C 0.0195312 -2.28125 0.242188 -2.175781 0.453125 -2.125 C 0.671875 -2.082031 0.867188 -2.097656 1.046875 -2.171875 C 1.222656 -2.242188 1.398438 -2.367188 1.578125 -2.546875 C 1.722656 -2.691406 1.832031 -2.859375 1.90625 -3.046875 C 1.976562 -3.234375 2 -3.441406 1.96875 -3.671875 C 1.945312 -3.910156 1.867188 -4.164062 1.734375 -4.4375 C 1.597656 -4.707031 1.382812 -4.988281 1.09375 -5.28125 Z M 1.09375 -5.28125 \"/>\n",
       "</g>\n",
       "<g id=\"glyph-1-9\">\n",
       "<path d=\"M -4.546875 -5.609375 L -5.21875 -6.28125 L -4.53125 -6.96875 L -3.859375 -6.296875 Z M 0.53125 -0.53125 L -3.65625 -4.71875 L -2.96875 -5.40625 L 1.21875 -1.21875 Z M 0.53125 -0.53125 \"/>\n",
       "</g>\n",
       "<g id=\"glyph-1-10\">\n",
       "<path d=\"M 3.1875 -3.1875 L 0.53125 -5.84375 C 0.320312 -6.050781 0.140625 -6.207031 -0.015625 -6.3125 C -0.179688 -6.425781 -0.335938 -6.488281 -0.484375 -6.5 C -0.640625 -6.519531 -0.785156 -6.488281 -0.921875 -6.40625 C -1.066406 -6.332031 -1.222656 -6.210938 -1.390625 -6.046875 C -1.554688 -5.878906 -1.675781 -5.695312 -1.75 -5.5 C -1.832031 -5.3125 -1.863281 -5.117188 -1.84375 -4.921875 C -1.820312 -4.722656 -1.753906 -4.515625 -1.640625 -4.296875 C -1.535156 -4.085938 -1.382812 -3.882812 -1.1875 -3.6875 L 1.25 -1.25 L 0.546875 -0.546875 L -2.75 -3.84375 C -2.832031 -3.925781 -2.921875 -4.015625 -3.015625 -4.109375 C -3.117188 -4.210938 -3.210938 -4.304688 -3.296875 -4.390625 C -3.390625 -4.484375 -3.46875 -4.554688 -3.53125 -4.609375 C -3.59375 -4.660156 -3.632812 -4.695312 -3.65625 -4.71875 L -3 -5.375 C -2.988281 -5.363281 -2.953125 -5.328125 -2.890625 -5.265625 C -2.835938 -5.210938 -2.769531 -5.148438 -2.6875 -5.078125 C -2.613281 -5.015625 -2.535156 -4.945312 -2.453125 -4.875 C -2.367188 -4.800781 -2.300781 -4.738281 -2.25 -4.6875 C -2.289062 -4.875 -2.320312 -5.054688 -2.34375 -5.234375 C -2.363281 -5.410156 -2.359375 -5.585938 -2.328125 -5.765625 C -2.296875 -5.941406 -2.226562 -6.117188 -2.125 -6.296875 C -2.019531 -6.472656 -1.878906 -6.648438 -1.703125 -6.828125 C -1.460938 -7.066406 -1.234375 -7.238281 -1.015625 -7.34375 C -0.796875 -7.445312 -0.566406 -7.492188 -0.328125 -7.484375 C -0.0976562 -7.484375 0.128906 -7.410156 0.359375 -7.265625 C 0.597656 -7.128906 0.847656 -6.929688 1.109375 -6.671875 L 3.890625 -3.890625 Z M 3.1875 -3.1875 \"/>\n",
       "</g>\n",
       "<g id=\"glyph-1-11\">\n",
       "<path d=\"M 1.046875 -8.671875 C 1.285156 -8.429688 1.46875 -8.171875 1.59375 -7.890625 C 1.71875 -7.609375 1.78125 -7.316406 1.78125 -7.015625 C 1.78125 -6.710938 1.703125 -6.394531 1.546875 -6.0625 C 1.398438 -5.738281 1.175781 -5.425781 0.875 -5.125 L -0.734375 -3.515625 L 1.390625 -1.390625 L 0.65625 -0.65625 L -4.796875 -6.109375 L -2.515625 -8.390625 C -2.191406 -8.710938 -1.867188 -8.953125 -1.546875 -9.109375 C -1.234375 -9.273438 -0.921875 -9.363281 -0.609375 -9.375 C -0.304688 -9.394531 -0.015625 -9.34375 0.265625 -9.21875 C 0.546875 -9.09375 0.804688 -8.910156 1.046875 -8.671875 Z M 0.328125 -7.921875 C -0.015625 -8.265625 -0.382812 -8.421875 -0.78125 -8.390625 C -1.175781 -8.359375 -1.585938 -8.128906 -2.015625 -7.703125 L -3.46875 -6.25 L -1.3125 -4.09375 L 0.1875 -5.59375 C 0.613281 -6.019531 0.832031 -6.425781 0.84375 -6.8125 C 0.851562 -7.195312 0.679688 -7.566406 0.328125 -7.921875 Z M 0.328125 -7.921875 \"/>\n",
       "</g>\n",
       "<g id=\"glyph-1-12\">\n",
       "<path d=\"M 1.984375 -6.171875 C 2.710938 -5.441406 3.09375 -4.734375 3.125 -4.046875 C 3.164062 -3.367188 2.878906 -2.722656 2.265625 -2.109375 C 1.972656 -1.816406 1.664062 -1.597656 1.34375 -1.453125 C 1.03125 -1.316406 0.703125 -1.257812 0.359375 -1.28125 C 0.015625 -1.300781 -0.332031 -1.40625 -0.6875 -1.59375 C -1.039062 -1.78125 -1.398438 -2.054688 -1.765625 -2.421875 C -3.210938 -3.867188 -3.3125 -5.21875 -2.0625 -6.46875 C -1.726562 -6.800781 -1.394531 -7.035156 -1.0625 -7.171875 C -0.738281 -7.316406 -0.410156 -7.375 -0.078125 -7.34375 C 0.242188 -7.320312 0.578125 -7.210938 0.921875 -7.015625 C 1.265625 -6.816406 1.617188 -6.535156 1.984375 -6.171875 Z M 1.25 -5.4375 C 0.925781 -5.757812 0.628906 -6 0.359375 -6.15625 C 0.0976562 -6.320312 -0.140625 -6.421875 -0.359375 -6.453125 C -0.585938 -6.492188 -0.796875 -6.46875 -0.984375 -6.375 C -1.171875 -6.28125 -1.351562 -6.144531 -1.53125 -5.96875 C -1.707031 -5.789062 -1.835938 -5.601562 -1.921875 -5.40625 C -2.015625 -5.21875 -2.046875 -5.003906 -2.015625 -4.765625 C -1.992188 -4.535156 -1.90625 -4.289062 -1.75 -4.03125 C -1.59375 -3.769531 -1.351562 -3.476562 -1.03125 -3.15625 C -0.707031 -2.832031 -0.410156 -2.59375 -0.140625 -2.4375 C 0.128906 -2.28125 0.375 -2.1875 0.59375 -2.15625 C 0.820312 -2.132812 1.03125 -2.164062 1.21875 -2.25 C 1.40625 -2.332031 1.578125 -2.453125 1.734375 -2.609375 C 1.910156 -2.785156 2.046875 -2.96875 2.140625 -3.15625 C 2.242188 -3.351562 2.28125 -3.566406 2.25 -3.796875 C 2.226562 -4.035156 2.132812 -4.285156 1.96875 -4.546875 C 1.8125 -4.816406 1.570312 -5.113281 1.25 -5.4375 Z M 1.25 -5.4375 \"/>\n",
       "</g>\n",
       "<g id=\"glyph-1-13\">\n",
       "<path d=\"M 4.5 -4.5 L 0.8125 -5.34375 L -0.875 -3.65625 L 1.390625 -1.390625 L 0.65625 -0.65625 L -4.796875 -6.109375 L -2.234375 -8.671875 C -1.929688 -8.972656 -1.625 -9.207031 -1.3125 -9.375 C -1 -9.539062 -0.691406 -9.640625 -0.390625 -9.671875 C -0.0976562 -9.710938 0.1875 -9.675781 0.46875 -9.5625 C 0.75 -9.445312 1.007812 -9.269531 1.25 -9.03125 C 1.414062 -8.863281 1.554688 -8.664062 1.671875 -8.4375 C 1.796875 -8.21875 1.875 -7.984375 1.90625 -7.734375 C 1.9375 -7.484375 1.914062 -7.222656 1.84375 -6.953125 C 1.78125 -6.691406 1.644531 -6.425781 1.4375 -6.15625 L 5.359375 -5.359375 Z M 0.515625 -8.265625 C 0.347656 -8.429688 0.175781 -8.546875 0 -8.609375 C -0.1875 -8.679688 -0.367188 -8.703125 -0.546875 -8.671875 C -0.734375 -8.648438 -0.925781 -8.582031 -1.125 -8.46875 C -1.320312 -8.351562 -1.519531 -8.195312 -1.71875 -8 L -3.46875 -6.25 L -1.453125 -4.234375 L 0.328125 -6.015625 C 0.535156 -6.222656 0.691406 -6.429688 0.796875 -6.640625 C 0.898438 -6.847656 0.953125 -7.046875 0.953125 -7.234375 C 0.960938 -7.429688 0.925781 -7.617188 0.84375 -7.796875 C 0.757812 -7.972656 0.648438 -8.128906 0.515625 -8.265625 Z M 0.515625 -8.265625 \"/>\n",
       "</g>\n",
       "<g id=\"glyph-1-14\">\n",
       "<path d=\"M 0.53125 -0.53125 L -5.21875 -6.28125 L -4.53125 -6.96875 L 1.21875 -1.21875 Z M 0.53125 -0.53125 \"/>\n",
       "</g>\n",
       "<g id=\"glyph-1-15\">\n",
       "<path d=\"M 3.03125 -3.03125 L 2.25 -2.25 L -5.421875 -5.484375 L -4.640625 -6.265625 L 0.703125 -3.921875 C 0.859375 -3.847656 1.015625 -3.773438 1.171875 -3.703125 C 1.328125 -3.628906 1.460938 -3.566406 1.578125 -3.515625 C 1.722656 -3.429688 1.859375 -3.359375 1.984375 -3.296875 C 1.929688 -3.429688 1.867188 -3.566406 1.796875 -3.703125 C 1.742188 -3.816406 1.675781 -3.945312 1.59375 -4.09375 C 1.519531 -4.25 1.441406 -4.410156 1.359375 -4.578125 L -0.984375 -9.921875 L -0.203125 -10.703125 Z M 3.03125 -3.03125 \"/>\n",
       "</g>\n",
       "<g id=\"glyph-2-0\">\n",
       "<path d=\"M 1.15625 0 L 1.15625 -9.625 L 8.453125 -9.625 L 8.453125 -8.5625 L 2.453125 -8.5625 L 2.453125 -5.46875 L 8.046875 -5.46875 L 8.046875 -4.421875 L 2.453125 -4.421875 L 2.453125 -1.0625 L 8.734375 -1.0625 L 8.734375 0 Z M 1.15625 0 \"/>\n",
       "</g>\n",
       "<g id=\"glyph-2-1\">\n",
       "<path d=\"M 5.46875 0 L 3.484375 -3.03125 L 1.484375 0 L 0.15625 0 L 2.796875 -3.796875 L 0.28125 -7.390625 L 1.640625 -7.390625 L 3.484375 -4.515625 L 5.3125 -7.390625 L 6.6875 -7.390625 L 4.1875 -3.8125 L 6.84375 0 Z M 5.46875 0 \"/>\n",
       "</g>\n",
       "<g id=\"glyph-2-2\">\n",
       "<path d=\"M 7.203125 -3.734375 C 7.203125 -3.171875 7.15625 -2.648438 7.0625 -2.171875 C 6.96875 -1.703125 6.816406 -1.296875 6.609375 -0.953125 C 6.398438 -0.609375 6.117188 -0.335938 5.765625 -0.140625 C 5.421875 0.046875 4.992188 0.140625 4.484375 0.140625 C 3.953125 0.140625 3.488281 0.0390625 3.09375 -0.15625 C 2.695312 -0.363281 2.394531 -0.695312 2.1875 -1.15625 L 2.140625 -1.15625 C 2.148438 -1.144531 2.15625 -1.101562 2.15625 -1.03125 C 2.15625 -0.957031 2.15625 -0.863281 2.15625 -0.75 C 2.164062 -0.644531 2.171875 -0.523438 2.171875 -0.390625 C 2.171875 -0.253906 2.171875 -0.117188 2.171875 0.015625 L 2.171875 2.90625 L 0.9375 2.90625 L 0.9375 -5.890625 C 0.9375 -6.066406 0.9375 -6.234375 0.9375 -6.390625 C 0.9375 -6.554688 0.929688 -6.707031 0.921875 -6.84375 C 0.921875 -6.976562 0.914062 -7.09375 0.90625 -7.1875 C 0.90625 -7.28125 0.90625 -7.347656 0.90625 -7.390625 L 2.09375 -7.390625 C 2.09375 -7.378906 2.097656 -7.332031 2.109375 -7.25 C 2.117188 -7.164062 2.125 -7.066406 2.125 -6.953125 C 2.132812 -6.835938 2.140625 -6.710938 2.140625 -6.578125 C 2.148438 -6.453125 2.15625 -6.328125 2.15625 -6.203125 L 2.1875 -6.203125 C 2.300781 -6.441406 2.429688 -6.644531 2.578125 -6.8125 C 2.722656 -6.976562 2.890625 -7.113281 3.078125 -7.21875 C 3.265625 -7.332031 3.472656 -7.410156 3.703125 -7.453125 C 3.929688 -7.503906 4.191406 -7.53125 4.484375 -7.53125 C 4.992188 -7.53125 5.421875 -7.4375 5.765625 -7.25 C 6.117188 -7.070312 6.398438 -6.816406 6.609375 -6.484375 C 6.816406 -6.148438 6.96875 -5.75 7.0625 -5.28125 C 7.15625 -4.820312 7.203125 -4.304688 7.203125 -3.734375 Z M 5.90625 -3.703125 C 5.90625 -4.160156 5.878906 -4.566406 5.828125 -4.921875 C 5.773438 -5.273438 5.679688 -5.570312 5.546875 -5.8125 C 5.410156 -6.0625 5.226562 -6.25 5 -6.375 C 4.78125 -6.507812 4.5 -6.578125 4.15625 -6.578125 C 3.882812 -6.578125 3.628906 -6.535156 3.390625 -6.453125 C 3.148438 -6.378906 2.9375 -6.234375 2.75 -6.015625 C 2.570312 -5.796875 2.429688 -5.492188 2.328125 -5.109375 C 2.222656 -4.722656 2.171875 -4.222656 2.171875 -3.609375 C 2.171875 -3.085938 2.210938 -2.644531 2.296875 -2.28125 C 2.390625 -1.914062 2.519531 -1.617188 2.6875 -1.390625 C 2.851562 -1.171875 3.054688 -1.007812 3.296875 -0.90625 C 3.546875 -0.8125 3.832031 -0.765625 4.15625 -0.765625 C 4.488281 -0.765625 4.769531 -0.832031 5 -0.96875 C 5.226562 -1.101562 5.410156 -1.296875 5.546875 -1.546875 C 5.679688 -1.796875 5.773438 -2.101562 5.828125 -2.46875 C 5.878906 -2.832031 5.90625 -3.242188 5.90625 -3.703125 Z M 5.90625 -3.703125 \"/>\n",
       "</g>\n",
       "<g id=\"glyph-2-3\">\n",
       "<path d=\"M 1.890625 -3.4375 C 1.890625 -3.050781 1.925781 -2.691406 2 -2.359375 C 2.082031 -2.035156 2.207031 -1.753906 2.375 -1.515625 C 2.539062 -1.285156 2.753906 -1.101562 3.015625 -0.96875 C 3.273438 -0.84375 3.585938 -0.78125 3.953125 -0.78125 C 4.484375 -0.78125 4.910156 -0.882812 5.234375 -1.09375 C 5.554688 -1.3125 5.773438 -1.585938 5.890625 -1.921875 L 6.96875 -1.609375 C 6.882812 -1.410156 6.773438 -1.207031 6.640625 -1 C 6.503906 -0.789062 6.316406 -0.601562 6.078125 -0.4375 C 5.847656 -0.269531 5.554688 -0.128906 5.203125 -0.015625 C 4.859375 0.0859375 4.441406 0.140625 3.953125 0.140625 C 2.859375 0.140625 2.023438 -0.179688 1.453125 -0.828125 C 0.878906 -1.484375 0.59375 -2.457031 0.59375 -3.75 C 0.59375 -4.4375 0.675781 -5.019531 0.84375 -5.5 C 1.019531 -5.988281 1.257812 -6.378906 1.5625 -6.671875 C 1.863281 -6.972656 2.210938 -7.191406 2.609375 -7.328125 C 3.015625 -7.460938 3.445312 -7.53125 3.90625 -7.53125 C 4.519531 -7.53125 5.035156 -7.429688 5.453125 -7.234375 C 5.867188 -7.035156 6.203125 -6.757812 6.453125 -6.40625 C 6.710938 -6.050781 6.894531 -5.632812 7 -5.15625 C 7.113281 -4.675781 7.171875 -4.160156 7.171875 -3.609375 L 7.171875 -3.4375 Z M 5.890625 -4.375 C 5.828125 -5.15625 5.628906 -5.722656 5.296875 -6.078125 C 4.972656 -6.441406 4.503906 -6.625 3.890625 -6.625 C 3.679688 -6.625 3.460938 -6.585938 3.234375 -6.515625 C 3.015625 -6.453125 2.804688 -6.335938 2.609375 -6.171875 C 2.421875 -6.003906 2.257812 -5.773438 2.125 -5.484375 C 1.988281 -5.191406 1.914062 -4.820312 1.90625 -4.375 Z M 5.890625 -4.375 \"/>\n",
       "</g>\n",
       "<g id=\"glyph-2-4\">\n",
       "<path d=\"M 0.96875 0 L 0.96875 -5.671875 C 0.96875 -5.828125 0.96875 -5.984375 0.96875 -6.140625 C 0.96875 -6.304688 0.960938 -6.460938 0.953125 -6.609375 C 0.953125 -6.765625 0.945312 -6.90625 0.9375 -7.03125 C 0.9375 -7.164062 0.9375 -7.285156 0.9375 -7.390625 L 2.09375 -7.390625 C 2.09375 -7.285156 2.097656 -7.164062 2.109375 -7.03125 C 2.117188 -6.90625 2.125 -6.769531 2.125 -6.625 C 2.132812 -6.476562 2.140625 -6.335938 2.140625 -6.203125 C 2.140625 -6.078125 2.140625 -5.972656 2.140625 -5.890625 L 2.171875 -5.890625 C 2.253906 -6.171875 2.34375 -6.414062 2.4375 -6.625 C 2.539062 -6.832031 2.660156 -7 2.796875 -7.125 C 2.929688 -7.257812 3.085938 -7.359375 3.265625 -7.421875 C 3.453125 -7.492188 3.675781 -7.53125 3.9375 -7.53125 C 4.03125 -7.53125 4.125 -7.519531 4.21875 -7.5 C 4.3125 -7.488281 4.382812 -7.476562 4.4375 -7.46875 L 4.4375 -6.34375 C 4.351562 -6.363281 4.253906 -6.378906 4.140625 -6.390625 C 4.035156 -6.398438 3.914062 -6.40625 3.78125 -6.40625 C 3.488281 -6.40625 3.242188 -6.335938 3.046875 -6.203125 C 2.847656 -6.078125 2.6875 -5.898438 2.5625 -5.671875 C 2.4375 -5.453125 2.34375 -5.1875 2.28125 -4.875 C 2.226562 -4.5625 2.203125 -4.222656 2.203125 -3.859375 L 2.203125 0 Z M 0.96875 0 \"/>\n",
       "</g>\n",
       "<g id=\"glyph-2-5\">\n",
       "<path d=\"M 0.9375 -8.96875 L 0.9375 -10.140625 L 2.171875 -10.140625 L 2.171875 -8.96875 Z M 0.9375 0 L 0.9375 -7.390625 L 2.171875 -7.390625 L 2.171875 0 Z M 0.9375 0 \"/>\n",
       "</g>\n",
       "<g id=\"glyph-2-6\">\n",
       "<path d=\"M 5.640625 0 L 5.640625 -4.6875 C 5.640625 -5.050781 5.613281 -5.351562 5.5625 -5.59375 C 5.507812 -5.832031 5.421875 -6.023438 5.296875 -6.171875 C 5.179688 -6.328125 5.023438 -6.429688 4.828125 -6.484375 C 4.640625 -6.546875 4.398438 -6.578125 4.109375 -6.578125 C 3.816406 -6.578125 3.550781 -6.523438 3.3125 -6.421875 C 3.082031 -6.328125 2.882812 -6.179688 2.71875 -5.984375 C 2.550781 -5.785156 2.421875 -5.546875 2.328125 -5.265625 C 2.242188 -4.984375 2.203125 -4.65625 2.203125 -4.28125 L 2.203125 0 L 0.96875 0 L 0.96875 -5.8125 C 0.96875 -5.96875 0.96875 -6.128906 0.96875 -6.296875 C 0.96875 -6.472656 0.960938 -6.632812 0.953125 -6.78125 C 0.953125 -6.9375 0.945312 -7.066406 0.9375 -7.171875 C 0.9375 -7.285156 0.9375 -7.359375 0.9375 -7.390625 L 2.09375 -7.390625 C 2.09375 -7.367188 2.09375 -7.304688 2.09375 -7.203125 C 2.101562 -7.109375 2.113281 -6.992188 2.125 -6.859375 C 2.132812 -6.734375 2.140625 -6.601562 2.140625 -6.46875 C 2.140625 -6.332031 2.140625 -6.21875 2.140625 -6.125 L 2.171875 -6.125 C 2.285156 -6.34375 2.410156 -6.535156 2.546875 -6.703125 C 2.691406 -6.878906 2.859375 -7.023438 3.046875 -7.140625 C 3.234375 -7.265625 3.445312 -7.359375 3.6875 -7.421875 C 3.925781 -7.492188 4.207031 -7.53125 4.53125 -7.53125 C 4.9375 -7.53125 5.285156 -7.476562 5.578125 -7.375 C 5.878906 -7.28125 6.125 -7.128906 6.3125 -6.921875 C 6.507812 -6.710938 6.648438 -6.441406 6.734375 -6.109375 C 6.828125 -5.773438 6.875 -5.378906 6.875 -4.921875 L 6.875 0 Z M 5.640625 0 \"/>\n",
       "</g>\n",
       "<g id=\"glyph-2-7\">\n",
       "<path d=\"M 1.875 -3.734375 C 1.875 -3.304688 1.90625 -2.914062 1.96875 -2.5625 C 2.03125 -2.207031 2.132812 -1.898438 2.28125 -1.640625 C 2.425781 -1.390625 2.617188 -1.191406 2.859375 -1.046875 C 3.097656 -0.898438 3.394531 -0.828125 3.75 -0.828125 C 4.1875 -0.828125 4.550781 -0.945312 4.84375 -1.1875 C 5.132812 -1.425781 5.316406 -1.789062 5.390625 -2.28125 L 6.625 -2.203125 C 6.582031 -1.898438 6.492188 -1.601562 6.359375 -1.3125 C 6.222656 -1.03125 6.035156 -0.78125 5.796875 -0.5625 C 5.566406 -0.351562 5.28125 -0.179688 4.9375 -0.046875 C 4.601562 0.078125 4.21875 0.140625 3.78125 0.140625 C 3.195312 0.140625 2.703125 0.0390625 2.296875 -0.15625 C 1.898438 -0.351562 1.570312 -0.625 1.3125 -0.96875 C 1.0625 -1.3125 0.878906 -1.71875 0.765625 -2.1875 C 0.648438 -2.65625 0.59375 -3.160156 0.59375 -3.703125 C 0.59375 -4.203125 0.632812 -4.640625 0.71875 -5.015625 C 0.800781 -5.398438 0.914062 -5.734375 1.0625 -6.015625 C 1.207031 -6.304688 1.378906 -6.546875 1.578125 -6.734375 C 1.785156 -6.929688 2.003906 -7.085938 2.234375 -7.203125 C 2.472656 -7.316406 2.722656 -7.398438 2.984375 -7.453125 C 3.242188 -7.503906 3.503906 -7.53125 3.765625 -7.53125 C 4.179688 -7.53125 4.550781 -7.472656 4.875 -7.359375 C 5.195312 -7.242188 5.472656 -7.085938 5.703125 -6.890625 C 5.941406 -6.691406 6.132812 -6.457031 6.28125 -6.1875 C 6.425781 -5.925781 6.53125 -5.640625 6.59375 -5.328125 L 5.328125 -5.234375 C 5.265625 -5.640625 5.101562 -5.960938 4.84375 -6.203125 C 4.582031 -6.441406 4.210938 -6.5625 3.734375 -6.5625 C 3.378906 -6.5625 3.082031 -6.503906 2.84375 -6.390625 C 2.613281 -6.273438 2.425781 -6.097656 2.28125 -5.859375 C 2.132812 -5.628906 2.03125 -5.335938 1.96875 -4.984375 C 1.90625 -4.628906 1.875 -4.210938 1.875 -3.734375 Z M 1.875 -3.734375 \"/>\n",
       "</g>\n",
       "<g id=\"glyph-2-8\">\n",
       "</g>\n",
       "<g id=\"glyph-2-9\">\n",
       "<path d=\"M 1.15625 0 L 1.15625 -9.625 L 2.453125 -9.625 L 2.453125 -1.0625 L 7.328125 -1.0625 L 7.328125 0 Z M 1.15625 0 \"/>\n",
       "</g>\n",
       "<g id=\"glyph-2-10\">\n",
       "<path d=\"M 4.1875 0 L 2.734375 0 L 0.046875 -7.390625 L 1.359375 -7.390625 L 2.984375 -2.578125 C 3.015625 -2.484375 3.050781 -2.363281 3.09375 -2.21875 C 3.144531 -2.070312 3.191406 -1.921875 3.234375 -1.765625 C 3.273438 -1.609375 3.316406 -1.457031 3.359375 -1.3125 C 3.398438 -1.175781 3.429688 -1.0625 3.453125 -0.96875 C 3.484375 -1.0625 3.519531 -1.175781 3.5625 -1.3125 C 3.601562 -1.457031 3.644531 -1.601562 3.6875 -1.75 C 3.738281 -1.90625 3.785156 -2.054688 3.828125 -2.203125 C 3.878906 -2.347656 3.925781 -2.472656 3.96875 -2.578125 L 5.640625 -7.390625 L 6.953125 -7.390625 Z M 4.1875 0 \"/>\n",
       "</g>\n",
       "<g id=\"glyph-2-11\">\n",
       "<path d=\"M 0.9375 0 L 0.9375 -10.140625 L 2.171875 -10.140625 L 2.171875 0 Z M 0.9375 0 \"/>\n",
       "</g>\n",
       "<g id=\"glyph-2-12\">\n",
       "<path d=\"M 8.703125 -2.65625 C 8.703125 -2.25 8.617188 -1.875 8.453125 -1.53125 C 8.296875 -1.195312 8.050781 -0.90625 7.71875 -0.65625 C 7.394531 -0.40625 6.984375 -0.207031 6.484375 -0.0625 C 5.992188 0.0703125 5.40625 0.140625 4.71875 0.140625 C 3.519531 0.140625 2.582031 -0.0664062 1.90625 -0.484375 C 1.238281 -0.910156 0.816406 -1.519531 0.640625 -2.3125 L 1.90625 -2.5625 C 1.96875 -2.3125 2.0625 -2.082031 2.1875 -1.875 C 2.320312 -1.675781 2.5 -1.5 2.71875 -1.34375 C 2.945312 -1.195312 3.226562 -1.082031 3.5625 -1 C 3.894531 -0.914062 4.296875 -0.875 4.765625 -0.875 C 5.148438 -0.875 5.503906 -0.90625 5.828125 -0.96875 C 6.148438 -1.039062 6.425781 -1.144531 6.65625 -1.28125 C 6.894531 -1.414062 7.078125 -1.59375 7.203125 -1.8125 C 7.335938 -2.03125 7.40625 -2.289062 7.40625 -2.59375 C 7.40625 -2.90625 7.332031 -3.160156 7.1875 -3.359375 C 7.039062 -3.554688 6.835938 -3.71875 6.578125 -3.84375 C 6.316406 -3.96875 6.003906 -4.070312 5.640625 -4.15625 C 5.285156 -4.25 4.890625 -4.34375 4.453125 -4.4375 C 4.179688 -4.5 3.910156 -4.566406 3.640625 -4.640625 C 3.367188 -4.710938 3.109375 -4.796875 2.859375 -4.890625 C 2.617188 -4.984375 2.390625 -5.097656 2.171875 -5.234375 C 1.953125 -5.367188 1.757812 -5.523438 1.59375 -5.703125 C 1.4375 -5.890625 1.3125 -6.101562 1.21875 -6.34375 C 1.132812 -6.59375 1.09375 -6.878906 1.09375 -7.203125 C 1.09375 -7.648438 1.179688 -8.035156 1.359375 -8.359375 C 1.546875 -8.691406 1.800781 -8.960938 2.125 -9.171875 C 2.457031 -9.378906 2.847656 -9.53125 3.296875 -9.625 C 3.742188 -9.726562 4.226562 -9.78125 4.75 -9.78125 C 5.34375 -9.78125 5.847656 -9.734375 6.265625 -9.640625 C 6.691406 -9.546875 7.050781 -9.40625 7.34375 -9.21875 C 7.632812 -9.03125 7.867188 -8.796875 8.046875 -8.515625 C 8.222656 -8.242188 8.363281 -7.925781 8.46875 -7.5625 L 7.1875 -7.328125 C 7.125 -7.566406 7.03125 -7.773438 6.90625 -7.953125 C 6.789062 -8.140625 6.632812 -8.289062 6.4375 -8.40625 C 6.238281 -8.53125 6 -8.625 5.71875 -8.6875 C 5.4375 -8.757812 5.109375 -8.796875 4.734375 -8.796875 C 4.285156 -8.796875 3.910156 -8.753906 3.609375 -8.671875 C 3.304688 -8.585938 3.0625 -8.476562 2.875 -8.34375 C 2.6875 -8.207031 2.550781 -8.046875 2.46875 -7.859375 C 2.394531 -7.679688 2.359375 -7.484375 2.359375 -7.265625 C 2.359375 -6.984375 2.429688 -6.75 2.578125 -6.5625 C 2.722656 -6.375 2.914062 -6.21875 3.15625 -6.09375 C 3.40625 -5.96875 3.691406 -5.863281 4.015625 -5.78125 C 4.335938 -5.707031 4.679688 -5.628906 5.046875 -5.546875 C 5.335938 -5.472656 5.628906 -5.398438 5.921875 -5.328125 C 6.222656 -5.265625 6.503906 -5.179688 6.765625 -5.078125 C 7.035156 -4.984375 7.285156 -4.867188 7.515625 -4.734375 C 7.753906 -4.609375 7.960938 -4.445312 8.140625 -4.25 C 8.316406 -4.0625 8.453125 -3.835938 8.546875 -3.578125 C 8.648438 -3.316406 8.703125 -3.007812 8.703125 -2.65625 Z M 8.703125 -2.65625 \"/>\n",
       "</g>\n",
       "<g id=\"glyph-2-13\">\n",
       "<path d=\"M 2.140625 -7.390625 L 2.140625 -2.703125 C 2.140625 -2.347656 2.164062 -2.046875 2.21875 -1.796875 C 2.269531 -1.554688 2.351562 -1.363281 2.46875 -1.21875 C 2.59375 -1.070312 2.75 -0.96875 2.9375 -0.90625 C 3.132812 -0.84375 3.378906 -0.8125 3.671875 -0.8125 C 3.960938 -0.8125 4.222656 -0.863281 4.453125 -0.96875 C 4.691406 -1.070312 4.894531 -1.21875 5.0625 -1.40625 C 5.226562 -1.601562 5.351562 -1.84375 5.4375 -2.125 C 5.53125 -2.414062 5.578125 -2.742188 5.578125 -3.109375 L 5.578125 -7.390625 L 6.8125 -7.390625 L 6.8125 -1.578125 C 6.8125 -1.421875 6.8125 -1.253906 6.8125 -1.078125 C 6.820312 -0.910156 6.828125 -0.75 6.828125 -0.59375 C 6.835938 -0.445312 6.84375 -0.316406 6.84375 -0.203125 C 6.84375 -0.0976562 6.847656 -0.03125 6.859375 0 L 5.6875 0 C 5.6875 -0.0195312 5.679688 -0.078125 5.671875 -0.171875 C 5.671875 -0.273438 5.664062 -0.390625 5.65625 -0.515625 C 5.65625 -0.648438 5.648438 -0.785156 5.640625 -0.921875 C 5.640625 -1.054688 5.640625 -1.171875 5.640625 -1.265625 L 5.625 -1.265625 C 5.5 -1.046875 5.363281 -0.847656 5.21875 -0.671875 C 5.082031 -0.503906 4.921875 -0.359375 4.734375 -0.234375 C 4.546875 -0.117188 4.332031 -0.03125 4.09375 0.03125 C 3.851562 0.101562 3.570312 0.140625 3.25 0.140625 C 2.84375 0.140625 2.488281 0.0859375 2.1875 -0.015625 C 1.894531 -0.117188 1.648438 -0.273438 1.453125 -0.484375 C 1.265625 -0.691406 1.125 -0.957031 1.03125 -1.28125 C 0.945312 -1.613281 0.90625 -2.007812 0.90625 -2.46875 L 0.90625 -7.390625 Z M 2.140625 -7.390625 \"/>\n",
       "</g>\n",
       "<g id=\"glyph-2-14\">\n",
       "<path d=\"M 7.203125 -3.734375 C 7.203125 -1.148438 6.296875 0.140625 4.484375 0.140625 C 3.921875 0.140625 3.453125 0.0390625 3.078125 -0.15625 C 2.703125 -0.363281 2.398438 -0.695312 2.171875 -1.15625 L 2.15625 -1.15625 C 2.15625 -1.03125 2.148438 -0.90625 2.140625 -0.78125 C 2.140625 -0.65625 2.132812 -0.535156 2.125 -0.421875 C 2.125 -0.316406 2.117188 -0.222656 2.109375 -0.140625 C 2.097656 -0.0664062 2.09375 -0.0195312 2.09375 0 L 0.90625 0 C 0.90625 -0.0390625 0.90625 -0.109375 0.90625 -0.203125 C 0.914062 -0.304688 0.921875 -0.425781 0.921875 -0.5625 C 0.929688 -0.695312 0.9375 -0.847656 0.9375 -1.015625 C 0.9375 -1.179688 0.9375 -1.351562 0.9375 -1.53125 L 0.9375 -10.140625 L 2.171875 -10.140625 L 2.171875 -7.25 C 2.171875 -7.113281 2.171875 -6.984375 2.171875 -6.859375 C 2.171875 -6.734375 2.164062 -6.625 2.15625 -6.53125 C 2.15625 -6.414062 2.148438 -6.304688 2.140625 -6.203125 L 2.171875 -6.203125 C 2.398438 -6.679688 2.703125 -7.019531 3.078125 -7.21875 C 3.453125 -7.425781 3.921875 -7.53125 4.484375 -7.53125 C 5.410156 -7.53125 6.09375 -7.210938 6.53125 -6.578125 C 6.976562 -5.953125 7.203125 -5.003906 7.203125 -3.734375 Z M 5.90625 -3.6875 C 5.90625 -4.195312 5.875 -4.632812 5.8125 -5 C 5.75 -5.363281 5.644531 -5.660156 5.5 -5.890625 C 5.363281 -6.128906 5.1875 -6.300781 4.96875 -6.40625 C 4.75 -6.519531 4.476562 -6.578125 4.15625 -6.578125 C 3.832031 -6.578125 3.546875 -6.523438 3.296875 -6.421875 C 3.054688 -6.316406 2.851562 -6.148438 2.6875 -5.921875 C 2.519531 -5.691406 2.390625 -5.382812 2.296875 -5 C 2.210938 -4.625 2.171875 -4.160156 2.171875 -3.609375 C 2.171875 -3.085938 2.210938 -2.644531 2.296875 -2.28125 C 2.390625 -1.925781 2.519531 -1.632812 2.6875 -1.40625 C 2.851562 -1.175781 3.054688 -1.007812 3.296875 -0.90625 C 3.546875 -0.8125 3.832031 -0.765625 4.15625 -0.765625 C 4.445312 -0.765625 4.703125 -0.816406 4.921875 -0.921875 C 5.140625 -1.035156 5.320312 -1.207031 5.46875 -1.4375 C 5.613281 -1.664062 5.722656 -1.96875 5.796875 -2.34375 C 5.867188 -2.71875 5.90625 -3.164062 5.90625 -3.6875 Z M 5.90625 -3.6875 \"/>\n",
       "</g>\n",
       "<g id=\"glyph-2-15\">\n",
       "<path d=\"M 6.5 -2.046875 C 6.5 -1.703125 6.429688 -1.394531 6.296875 -1.125 C 6.160156 -0.851562 5.960938 -0.625 5.703125 -0.4375 C 5.453125 -0.25 5.140625 -0.101562 4.765625 0 C 4.398438 0.09375 3.976562 0.140625 3.5 0.140625 C 3.0625 0.140625 2.671875 0.101562 2.328125 0.03125 C 1.984375 -0.03125 1.679688 -0.132812 1.421875 -0.28125 C 1.171875 -0.425781 0.957031 -0.617188 0.78125 -0.859375 C 0.601562 -1.097656 0.472656 -1.390625 0.390625 -1.734375 L 1.484375 -1.953125 C 1.585938 -1.554688 1.800781 -1.265625 2.125 -1.078125 C 2.457031 -0.890625 2.914062 -0.796875 3.5 -0.796875 C 3.757812 -0.796875 4 -0.8125 4.21875 -0.84375 C 4.4375 -0.882812 4.625 -0.945312 4.78125 -1.03125 C 4.945312 -1.125 5.070312 -1.242188 5.15625 -1.390625 C 5.25 -1.546875 5.296875 -1.734375 5.296875 -1.953125 C 5.296875 -2.171875 5.242188 -2.351562 5.140625 -2.5 C 5.035156 -2.644531 4.890625 -2.765625 4.703125 -2.859375 C 4.515625 -2.953125 4.285156 -3.035156 4.015625 -3.109375 C 3.753906 -3.179688 3.460938 -3.257812 3.140625 -3.34375 C 2.847656 -3.414062 2.554688 -3.5 2.265625 -3.59375 C 1.972656 -3.695312 1.707031 -3.828125 1.46875 -3.984375 C 1.238281 -4.140625 1.050781 -4.332031 0.90625 -4.5625 C 0.757812 -4.800781 0.6875 -5.09375 0.6875 -5.4375 C 0.6875 -6.113281 0.925781 -6.628906 1.40625 -6.984375 C 1.882812 -7.335938 2.582031 -7.515625 3.5 -7.515625 C 4.320312 -7.515625 4.972656 -7.367188 5.453125 -7.078125 C 5.929688 -6.796875 6.234375 -6.335938 6.359375 -5.703125 L 5.25 -5.5625 C 5.21875 -5.757812 5.144531 -5.921875 5.03125 -6.046875 C 4.925781 -6.171875 4.796875 -6.273438 4.640625 -6.359375 C 4.484375 -6.441406 4.304688 -6.5 4.109375 -6.53125 C 3.921875 -6.5625 3.71875 -6.578125 3.5 -6.578125 C 2.945312 -6.578125 2.535156 -6.492188 2.265625 -6.328125 C 2.003906 -6.160156 1.875 -5.90625 1.875 -5.5625 C 1.875 -5.363281 1.921875 -5.195312 2.015625 -5.0625 C 2.117188 -4.9375 2.257812 -4.828125 2.4375 -4.734375 C 2.613281 -4.648438 2.820312 -4.570312 3.0625 -4.5 C 3.3125 -4.4375 3.585938 -4.367188 3.890625 -4.296875 C 4.078125 -4.242188 4.273438 -4.1875 4.484375 -4.125 C 4.691406 -4.070312 4.890625 -4.003906 5.078125 -3.921875 C 5.273438 -3.847656 5.457031 -3.757812 5.625 -3.65625 C 5.800781 -3.550781 5.953125 -3.421875 6.078125 -3.265625 C 6.203125 -3.117188 6.300781 -2.941406 6.375 -2.734375 C 6.457031 -2.535156 6.5 -2.304688 6.5 -2.046875 Z M 6.5 -2.046875 \"/>\n",
       "</g>\n",
       "<g id=\"glyph-2-16\">\n",
       "<path d=\"M 5.609375 -1.1875 C 5.378906 -0.71875 5.078125 -0.378906 4.703125 -0.171875 C 4.328125 0.0351562 3.863281 0.140625 3.3125 0.140625 C 2.375 0.140625 1.6875 -0.171875 1.25 -0.796875 C 0.8125 -1.429688 0.59375 -2.390625 0.59375 -3.671875 C 0.59375 -6.242188 1.5 -7.53125 3.3125 -7.53125 C 3.875 -7.53125 4.335938 -7.425781 4.703125 -7.21875 C 5.078125 -7.019531 5.378906 -6.695312 5.609375 -6.25 L 5.625 -6.25 C 5.625 -6.289062 5.625 -6.359375 5.625 -6.453125 C 5.625 -6.554688 5.617188 -6.660156 5.609375 -6.765625 C 5.609375 -6.878906 5.609375 -6.984375 5.609375 -7.078125 C 5.609375 -7.171875 5.609375 -7.238281 5.609375 -7.28125 L 5.609375 -10.140625 L 6.84375 -10.140625 L 6.84375 -1.53125 C 6.84375 -1.351562 6.84375 -1.179688 6.84375 -1.015625 C 6.84375 -0.847656 6.84375 -0.695312 6.84375 -0.5625 C 6.851562 -0.425781 6.859375 -0.304688 6.859375 -0.203125 C 6.867188 -0.109375 6.878906 -0.0390625 6.890625 0 L 5.703125 0 C 5.691406 -0.0390625 5.679688 -0.101562 5.671875 -0.1875 C 5.671875 -0.28125 5.664062 -0.378906 5.65625 -0.484375 C 5.65625 -0.597656 5.648438 -0.710938 5.640625 -0.828125 C 5.640625 -0.953125 5.640625 -1.070312 5.640625 -1.1875 Z M 1.875 -3.703125 C 1.875 -3.191406 1.90625 -2.753906 1.96875 -2.390625 C 2.039062 -2.023438 2.144531 -1.722656 2.28125 -1.484375 C 2.425781 -1.253906 2.609375 -1.082031 2.828125 -0.96875 C 3.046875 -0.863281 3.3125 -0.8125 3.625 -0.8125 C 3.945312 -0.8125 4.234375 -0.863281 4.484375 -0.96875 C 4.734375 -1.070312 4.941406 -1.238281 5.109375 -1.46875 C 5.273438 -1.707031 5.398438 -2.015625 5.484375 -2.390625 C 5.566406 -2.773438 5.609375 -3.238281 5.609375 -3.78125 C 5.609375 -4.3125 5.566406 -4.753906 5.484375 -5.109375 C 5.398438 -5.472656 5.269531 -5.765625 5.09375 -5.984375 C 4.925781 -6.210938 4.71875 -6.375 4.46875 -6.46875 C 4.226562 -6.570312 3.953125 -6.625 3.640625 -6.625 C 3.335938 -6.625 3.078125 -6.570312 2.859375 -6.46875 C 2.640625 -6.363281 2.457031 -6.191406 2.3125 -5.953125 C 2.164062 -5.722656 2.054688 -5.421875 1.984375 -5.046875 C 1.910156 -4.679688 1.875 -4.234375 1.875 -3.703125 Z M 1.875 -3.703125 \"/>\n",
       "</g>\n",
       "<g id=\"glyph-2-17\">\n",
       "<path d=\"M 7.265625 -7.0625 C 7.265625 -6.726562 7.222656 -6.4375 7.140625 -6.1875 C 7.054688 -5.945312 6.941406 -5.726562 6.796875 -5.53125 C 6.660156 -5.34375 6.5 -5.171875 6.3125 -5.015625 C 6.132812 -4.867188 5.953125 -4.722656 5.765625 -4.578125 C 5.578125 -4.441406 5.394531 -4.304688 5.21875 -4.171875 C 5.039062 -4.046875 4.878906 -3.90625 4.734375 -3.75 C 4.585938 -3.59375 4.46875 -3.421875 4.375 -3.234375 C 4.289062 -3.046875 4.25 -2.828125 4.25 -2.578125 L 3.046875 -2.578125 C 3.054688 -2.890625 3.101562 -3.164062 3.1875 -3.40625 C 3.28125 -3.644531 3.394531 -3.851562 3.53125 -4.03125 C 3.675781 -4.21875 3.835938 -4.378906 4.015625 -4.515625 C 4.191406 -4.660156 4.367188 -4.796875 4.546875 -4.921875 C 4.734375 -5.054688 4.914062 -5.1875 5.09375 -5.3125 C 5.269531 -5.445312 5.425781 -5.59375 5.5625 -5.75 C 5.695312 -5.914062 5.804688 -6.097656 5.890625 -6.296875 C 5.972656 -6.492188 6.015625 -6.726562 6.015625 -7 C 6.015625 -7.269531 5.96875 -7.507812 5.875 -7.71875 C 5.78125 -7.925781 5.644531 -8.101562 5.46875 -8.25 C 5.289062 -8.394531 5.078125 -8.503906 4.828125 -8.578125 C 4.585938 -8.648438 4.3125 -8.6875 4 -8.6875 C 3.363281 -8.6875 2.859375 -8.523438 2.484375 -8.203125 C 2.109375 -7.878906 1.890625 -7.441406 1.828125 -6.890625 L 0.578125 -6.96875 C 0.628906 -7.351562 0.726562 -7.710938 0.875 -8.046875 C 1.03125 -8.390625 1.242188 -8.6875 1.515625 -8.9375 C 1.796875 -9.195312 2.140625 -9.398438 2.546875 -9.546875 C 2.953125 -9.703125 3.4375 -9.78125 4 -9.78125 C 4.507812 -9.78125 4.96875 -9.710938 5.375 -9.578125 C 5.78125 -9.453125 6.125 -9.269531 6.40625 -9.03125 C 6.6875 -8.800781 6.898438 -8.515625 7.046875 -8.171875 C 7.191406 -7.835938 7.265625 -7.46875 7.265625 -7.0625 Z M 3 0 L 3 -1.375 L 4.328125 -1.375 L 4.328125 0 Z M 3 0 \"/>\n",
       "</g>\n",
       "<g id=\"glyph-3-0\">\n",
       "<path d=\"M 0 -7.984375 L -2.8125 -6.875 L -2.8125 -2.484375 L 0 -1.375 L 0 -0.03125 L -9.625 -3.953125 L -9.625 -5.4375 L 0 -9.3125 Z M -7.015625 -5.25 C -7.191406 -5.175781 -7.375 -5.101562 -7.5625 -5.03125 C -7.75 -4.96875 -7.921875 -4.910156 -8.078125 -4.859375 C -8.234375 -4.816406 -8.359375 -4.773438 -8.453125 -4.734375 C -8.554688 -4.703125 -8.617188 -4.6875 -8.640625 -4.6875 C -8.617188 -4.675781 -8.554688 -4.65625 -8.453125 -4.625 C -8.347656 -4.59375 -8.21875 -4.550781 -8.0625 -4.5 C -7.90625 -4.445312 -7.734375 -4.382812 -7.546875 -4.3125 C -7.367188 -4.25 -7.1875 -4.179688 -7 -4.109375 L -3.828125 -2.890625 L -3.828125 -6.484375 Z M -7.015625 -5.25 \"/>\n",
       "</g>\n",
       "<g id=\"glyph-3-1\">\n",
       "<path d=\"M 0 -4.1875 L 0 -2.734375 L -7.390625 -0.046875 L -7.390625 -1.359375 L -2.578125 -2.984375 C -2.484375 -3.015625 -2.363281 -3.050781 -2.21875 -3.09375 C -2.070312 -3.144531 -1.921875 -3.191406 -1.765625 -3.234375 C -1.609375 -3.273438 -1.457031 -3.316406 -1.3125 -3.359375 C -1.175781 -3.398438 -1.0625 -3.429688 -0.96875 -3.453125 C -1.0625 -3.484375 -1.175781 -3.519531 -1.3125 -3.5625 C -1.457031 -3.601562 -1.601562 -3.644531 -1.75 -3.6875 C -1.90625 -3.738281 -2.054688 -3.785156 -2.203125 -3.828125 C -2.347656 -3.878906 -2.472656 -3.925781 -2.578125 -3.96875 L -7.390625 -5.640625 L -7.390625 -6.953125 Z M 0 -4.1875 \"/>\n",
       "</g>\n",
       "<g id=\"glyph-3-2\">\n",
       "<path d=\"M -3.4375 -1.890625 C -3.050781 -1.890625 -2.691406 -1.925781 -2.359375 -2 C -2.035156 -2.082031 -1.753906 -2.207031 -1.515625 -2.375 C -1.285156 -2.539062 -1.101562 -2.753906 -0.96875 -3.015625 C -0.84375 -3.273438 -0.78125 -3.585938 -0.78125 -3.953125 C -0.78125 -4.484375 -0.882812 -4.910156 -1.09375 -5.234375 C -1.3125 -5.554688 -1.585938 -5.773438 -1.921875 -5.890625 L -1.609375 -6.96875 C -1.410156 -6.882812 -1.207031 -6.773438 -1 -6.640625 C -0.789062 -6.503906 -0.601562 -6.316406 -0.4375 -6.078125 C -0.269531 -5.847656 -0.128906 -5.554688 -0.015625 -5.203125 C 0.0859375 -4.859375 0.140625 -4.441406 0.140625 -3.953125 C 0.140625 -2.859375 -0.179688 -2.023438 -0.828125 -1.453125 C -1.484375 -0.878906 -2.457031 -0.59375 -3.75 -0.59375 C -4.4375 -0.59375 -5.019531 -0.675781 -5.5 -0.84375 C -5.988281 -1.019531 -6.378906 -1.257812 -6.671875 -1.5625 C -6.972656 -1.863281 -7.191406 -2.210938 -7.328125 -2.609375 C -7.460938 -3.015625 -7.53125 -3.445312 -7.53125 -3.90625 C -7.53125 -4.519531 -7.429688 -5.035156 -7.234375 -5.453125 C -7.035156 -5.867188 -6.757812 -6.203125 -6.40625 -6.453125 C -6.050781 -6.710938 -5.632812 -6.894531 -5.15625 -7 C -4.675781 -7.113281 -4.160156 -7.171875 -3.609375 -7.171875 L -3.4375 -7.171875 Z M -4.375 -5.890625 C -5.15625 -5.828125 -5.722656 -5.628906 -6.078125 -5.296875 C -6.441406 -4.972656 -6.625 -4.503906 -6.625 -3.890625 C -6.625 -3.679688 -6.585938 -3.460938 -6.515625 -3.234375 C -6.453125 -3.015625 -6.335938 -2.804688 -6.171875 -2.609375 C -6.003906 -2.421875 -5.773438 -2.257812 -5.484375 -2.125 C -5.191406 -1.988281 -4.820312 -1.914062 -4.375 -1.90625 Z M -4.375 -5.890625 \"/>\n",
       "</g>\n",
       "<g id=\"glyph-3-3\">\n",
       "<path d=\"M 0 -0.96875 L -5.671875 -0.96875 C -5.828125 -0.96875 -5.984375 -0.96875 -6.140625 -0.96875 C -6.304688 -0.96875 -6.460938 -0.960938 -6.609375 -0.953125 C -6.765625 -0.953125 -6.90625 -0.945312 -7.03125 -0.9375 C -7.164062 -0.9375 -7.285156 -0.9375 -7.390625 -0.9375 L -7.390625 -2.09375 C -7.285156 -2.09375 -7.164062 -2.097656 -7.03125 -2.109375 C -6.90625 -2.117188 -6.769531 -2.125 -6.625 -2.125 C -6.476562 -2.132812 -6.335938 -2.140625 -6.203125 -2.140625 C -6.078125 -2.140625 -5.972656 -2.140625 -5.890625 -2.140625 L -5.890625 -2.171875 C -6.171875 -2.253906 -6.414062 -2.34375 -6.625 -2.4375 C -6.832031 -2.539062 -7 -2.660156 -7.125 -2.796875 C -7.257812 -2.929688 -7.359375 -3.085938 -7.421875 -3.265625 C -7.492188 -3.453125 -7.53125 -3.675781 -7.53125 -3.9375 C -7.53125 -4.03125 -7.519531 -4.125 -7.5 -4.21875 C -7.488281 -4.3125 -7.476562 -4.382812 -7.46875 -4.4375 L -6.34375 -4.4375 C -6.363281 -4.351562 -6.378906 -4.253906 -6.390625 -4.140625 C -6.398438 -4.035156 -6.40625 -3.914062 -6.40625 -3.78125 C -6.40625 -3.488281 -6.335938 -3.242188 -6.203125 -3.046875 C -6.078125 -2.847656 -5.898438 -2.6875 -5.671875 -2.5625 C -5.453125 -2.4375 -5.1875 -2.34375 -4.875 -2.28125 C -4.5625 -2.226562 -4.222656 -2.203125 -3.859375 -2.203125 L 0 -2.203125 Z M 0 -0.96875 \"/>\n",
       "</g>\n",
       "<g id=\"glyph-3-4\">\n",
       "<path d=\"M 0.140625 -2.828125 C 0.140625 -2.085938 -0.0546875 -1.53125 -0.453125 -1.15625 C -0.847656 -0.78125 -1.382812 -0.59375 -2.0625 -0.59375 C -2.550781 -0.59375 -2.953125 -0.6875 -3.265625 -0.875 C -3.578125 -1.0625 -3.820312 -1.300781 -4 -1.59375 C -4.175781 -1.894531 -4.296875 -2.234375 -4.359375 -2.609375 C -4.429688 -2.992188 -4.472656 -3.382812 -4.484375 -3.78125 L -4.515625 -5.453125 L -4.921875 -5.453125 C -5.222656 -5.453125 -5.476562 -5.414062 -5.6875 -5.34375 C -5.90625 -5.28125 -6.078125 -5.179688 -6.203125 -5.046875 C -6.335938 -4.921875 -6.4375 -4.757812 -6.5 -4.5625 C -6.5625 -4.363281 -6.59375 -4.128906 -6.59375 -3.859375 C -6.59375 -3.617188 -6.578125 -3.40625 -6.546875 -3.21875 C -6.515625 -3.03125 -6.453125 -2.863281 -6.359375 -2.71875 C -6.273438 -2.582031 -6.15625 -2.46875 -6 -2.375 C -5.84375 -2.289062 -5.648438 -2.234375 -5.421875 -2.203125 L -5.53125 -0.921875 C -5.820312 -0.960938 -6.085938 -1.046875 -6.328125 -1.171875 C -6.578125 -1.304688 -6.789062 -1.488281 -6.96875 -1.71875 C -7.144531 -1.957031 -7.28125 -2.253906 -7.375 -2.609375 C -7.476562 -2.960938 -7.53125 -3.390625 -7.53125 -3.890625 C -7.53125 -4.816406 -7.316406 -5.515625 -6.890625 -5.984375 C -6.460938 -6.453125 -5.847656 -6.6875 -5.046875 -6.6875 L -1.859375 -6.6875 C -1.492188 -6.6875 -1.21875 -6.734375 -1.03125 -6.828125 C -0.851562 -6.929688 -0.765625 -7.117188 -0.765625 -7.390625 C -0.765625 -7.453125 -0.765625 -7.515625 -0.765625 -7.578125 C -0.773438 -7.648438 -0.789062 -7.71875 -0.8125 -7.78125 L -0.046875 -7.78125 C -0.00390625 -7.625 0.0195312 -7.46875 0.03125 -7.3125 C 0.0507812 -7.164062 0.0625 -7.007812 0.0625 -6.84375 C 0.0625 -6.601562 0.0351562 -6.398438 -0.015625 -6.234375 C -0.078125 -6.066406 -0.171875 -5.929688 -0.296875 -5.828125 C -0.429688 -5.722656 -0.585938 -5.644531 -0.765625 -5.59375 C -0.953125 -5.539062 -1.171875 -5.503906 -1.421875 -5.484375 L -1.421875 -5.453125 C -1.179688 -5.316406 -0.960938 -5.171875 -0.765625 -5.015625 C -0.578125 -4.859375 -0.414062 -4.675781 -0.28125 -4.46875 C -0.144531 -4.257812 -0.0390625 -4.019531 0.03125 -3.75 C 0.101562 -3.476562 0.140625 -3.171875 0.140625 -2.828125 Z M -0.78125 -3.109375 C -0.78125 -3.503906 -0.851562 -3.847656 -1 -4.140625 C -1.144531 -4.429688 -1.328125 -4.671875 -1.546875 -4.859375 C -1.773438 -5.054688 -2.019531 -5.203125 -2.28125 -5.296875 C -2.550781 -5.398438 -2.804688 -5.453125 -3.046875 -5.453125 L -3.65625 -5.453125 L -3.625 -4.109375 C -3.613281 -3.804688 -3.585938 -3.519531 -3.546875 -3.25 C -3.515625 -2.976562 -3.441406 -2.738281 -3.328125 -2.53125 C -3.210938 -2.320312 -3.050781 -2.15625 -2.84375 -2.03125 C -2.644531 -1.914062 -2.378906 -1.859375 -2.046875 -1.859375 C -1.640625 -1.859375 -1.328125 -1.96875 -1.109375 -2.1875 C -0.890625 -2.40625 -0.78125 -2.710938 -0.78125 -3.109375 Z M -0.78125 -3.109375 \"/>\n",
       "</g>\n",
       "<g id=\"glyph-3-5\">\n",
       "<path d=\"M 2.90625 -3.75 C 2.90625 -3.320312 2.859375 -2.941406 2.765625 -2.609375 C 2.679688 -2.285156 2.554688 -2.003906 2.390625 -1.765625 C 2.234375 -1.535156 2.039062 -1.347656 1.8125 -1.203125 C 1.59375 -1.054688 1.347656 -0.953125 1.078125 -0.890625 L 0.90625 -2.140625 C 1.25 -2.210938 1.507812 -2.390625 1.6875 -2.671875 C 1.875 -2.953125 1.96875 -3.320312 1.96875 -3.78125 C 1.96875 -4.0625 1.925781 -4.3125 1.84375 -4.53125 C 1.769531 -4.757812 1.644531 -4.953125 1.46875 -5.109375 C 1.300781 -5.273438 1.082031 -5.398438 0.8125 -5.484375 C 0.539062 -5.578125 0.207031 -5.625 -0.1875 -5.625 L -1.375 -5.625 L -1.375 -5.609375 C -1.1875 -5.515625 -1.003906 -5.398438 -0.828125 -5.265625 C -0.660156 -5.128906 -0.507812 -4.960938 -0.375 -4.765625 C -0.25 -4.578125 -0.144531 -4.351562 -0.0625 -4.09375 C 0.0195312 -3.84375 0.0625 -3.554688 0.0625 -3.234375 C 0.0625 -2.753906 -0.015625 -2.347656 -0.171875 -2.015625 C -0.335938 -1.679688 -0.578125 -1.40625 -0.890625 -1.1875 C -1.203125 -0.976562 -1.59375 -0.828125 -2.0625 -0.734375 C -2.53125 -0.640625 -3.070312 -0.59375 -3.6875 -0.59375 C -4.28125 -0.59375 -4.8125 -0.640625 -5.28125 -0.734375 C -5.757812 -0.828125 -6.160156 -0.984375 -6.484375 -1.203125 C -6.816406 -1.429688 -7.070312 -1.722656 -7.25 -2.078125 C -7.425781 -2.429688 -7.515625 -2.859375 -7.515625 -3.359375 C -7.515625 -3.890625 -7.394531 -4.347656 -7.15625 -4.734375 C -6.914062 -5.117188 -6.570312 -5.414062 -6.125 -5.625 L -6.125 -5.640625 C -6.238281 -5.640625 -6.367188 -5.640625 -6.515625 -5.640625 C -6.660156 -5.648438 -6.796875 -5.65625 -6.921875 -5.65625 C -7.046875 -5.664062 -7.148438 -5.675781 -7.234375 -5.6875 C -7.328125 -5.695312 -7.378906 -5.707031 -7.390625 -5.71875 L -7.390625 -6.890625 C -7.347656 -6.878906 -7.28125 -6.867188 -7.1875 -6.859375 C -7.09375 -6.859375 -6.972656 -6.851562 -6.828125 -6.84375 C -6.691406 -6.84375 -6.539062 -6.84375 -6.375 -6.84375 C -6.207031 -6.84375 -6.035156 -6.84375 -5.859375 -6.84375 L -0.21875 -6.84375 C 0.820312 -6.84375 1.601562 -6.585938 2.125 -6.078125 C 2.644531 -5.566406 2.90625 -4.789062 2.90625 -3.75 Z M -3.703125 -5.625 C -4.210938 -5.625 -4.648438 -5.566406 -5.015625 -5.453125 C -5.390625 -5.335938 -5.691406 -5.1875 -5.921875 -5 C -6.148438 -4.820312 -6.316406 -4.613281 -6.421875 -4.375 C -6.535156 -4.144531 -6.59375 -3.910156 -6.59375 -3.671875 C -6.59375 -3.347656 -6.535156 -3.070312 -6.421875 -2.84375 C -6.316406 -2.625 -6.144531 -2.441406 -5.90625 -2.296875 C -5.675781 -2.148438 -5.378906 -2.039062 -5.015625 -1.96875 C -4.648438 -1.894531 -4.210938 -1.859375 -3.703125 -1.859375 C -3.171875 -1.859375 -2.722656 -1.894531 -2.359375 -1.96875 C -1.992188 -2.039062 -1.695312 -2.148438 -1.46875 -2.296875 C -1.25 -2.441406 -1.09375 -2.625 -1 -2.84375 C -0.90625 -3.0625 -0.859375 -3.328125 -0.859375 -3.640625 C -0.859375 -3.890625 -0.910156 -4.128906 -1.015625 -4.359375 C -1.117188 -4.597656 -1.285156 -4.8125 -1.515625 -5 C -1.742188 -5.1875 -2.035156 -5.335938 -2.390625 -5.453125 C -2.753906 -5.566406 -3.191406 -5.625 -3.703125 -5.625 Z M -3.703125 -5.625 \"/>\n",
       "</g>\n",
       "<g id=\"glyph-3-6\">\n",
       "</g>\n",
       "<g id=\"glyph-3-7\">\n",
       "<path d=\"M -8.5625 -2.453125 L -4.984375 -2.453125 L -4.984375 -7.828125 L -3.90625 -7.828125 L -3.90625 -2.453125 L 0 -2.453125 L 0 -1.15625 L -9.625 -1.15625 L -9.625 -7.984375 L -8.5625 -7.984375 Z M -8.5625 -2.453125 \"/>\n",
       "</g>\n",
       "<g id=\"glyph-3-8\">\n",
       "<path d=\"M -7.390625 -2.140625 L -2.703125 -2.140625 C -2.347656 -2.140625 -2.046875 -2.164062 -1.796875 -2.21875 C -1.554688 -2.269531 -1.363281 -2.351562 -1.21875 -2.46875 C -1.070312 -2.59375 -0.96875 -2.75 -0.90625 -2.9375 C -0.84375 -3.132812 -0.8125 -3.378906 -0.8125 -3.671875 C -0.8125 -3.960938 -0.863281 -4.222656 -0.96875 -4.453125 C -1.070312 -4.691406 -1.21875 -4.894531 -1.40625 -5.0625 C -1.601562 -5.226562 -1.84375 -5.351562 -2.125 -5.4375 C -2.414062 -5.53125 -2.742188 -5.578125 -3.109375 -5.578125 L -7.390625 -5.578125 L -7.390625 -6.8125 L -1.578125 -6.8125 C -1.421875 -6.8125 -1.253906 -6.8125 -1.078125 -6.8125 C -0.910156 -6.820312 -0.75 -6.828125 -0.59375 -6.828125 C -0.445312 -6.835938 -0.316406 -6.84375 -0.203125 -6.84375 C -0.0976562 -6.84375 -0.03125 -6.847656 0 -6.859375 L 0 -5.6875 C -0.0195312 -5.6875 -0.078125 -5.679688 -0.171875 -5.671875 C -0.273438 -5.671875 -0.390625 -5.664062 -0.515625 -5.65625 C -0.648438 -5.65625 -0.785156 -5.648438 -0.921875 -5.640625 C -1.054688 -5.640625 -1.171875 -5.640625 -1.265625 -5.640625 L -1.265625 -5.625 C -1.046875 -5.5 -0.847656 -5.363281 -0.671875 -5.21875 C -0.503906 -5.082031 -0.359375 -4.921875 -0.234375 -4.734375 C -0.117188 -4.546875 -0.03125 -4.332031 0.03125 -4.09375 C 0.101562 -3.851562 0.140625 -3.570312 0.140625 -3.25 C 0.140625 -2.84375 0.0859375 -2.488281 -0.015625 -2.1875 C -0.117188 -1.894531 -0.273438 -1.648438 -0.484375 -1.453125 C -0.691406 -1.265625 -0.957031 -1.125 -1.28125 -1.03125 C -1.613281 -0.945312 -2.007812 -0.90625 -2.46875 -0.90625 L -7.390625 -0.90625 Z M -7.390625 -2.140625 \"/>\n",
       "</g>\n",
       "<g id=\"glyph-3-9\">\n",
       "<path d=\"M -0.0625 -3.78125 C -0.0078125 -3.59375 0.03125 -3.398438 0.0625 -3.203125 C 0.09375 -3.015625 0.109375 -2.796875 0.109375 -2.546875 C 0.109375 -1.554688 -0.445312 -1.0625 -1.5625 -1.0625 L -6.5 -1.0625 L -6.5 -0.21875 L -7.390625 -0.21875 L -7.390625 -1.109375 L -9.046875 -1.484375 L -9.046875 -2.296875 L -7.390625 -2.296875 L -7.390625 -3.671875 L -6.5 -3.671875 L -6.5 -2.296875 L -1.828125 -2.296875 C -1.472656 -2.296875 -1.222656 -2.351562 -1.078125 -2.46875 C -0.941406 -2.582031 -0.875 -2.785156 -0.875 -3.078125 C -0.875 -3.191406 -0.878906 -3.304688 -0.890625 -3.421875 C -0.910156 -3.535156 -0.9375 -3.65625 -0.96875 -3.78125 Z M -0.0625 -3.78125 \"/>\n",
       "</g>\n",
       "<g id=\"glyph-3-10\">\n",
       "<path d=\"M -2.65625 -8.703125 C -2.25 -8.703125 -1.875 -8.617188 -1.53125 -8.453125 C -1.195312 -8.296875 -0.90625 -8.050781 -0.65625 -7.71875 C -0.40625 -7.394531 -0.207031 -6.984375 -0.0625 -6.484375 C 0.0703125 -5.992188 0.140625 -5.40625 0.140625 -4.71875 C 0.140625 -3.519531 -0.0664062 -2.582031 -0.484375 -1.90625 C -0.910156 -1.238281 -1.519531 -0.816406 -2.3125 -0.640625 L -2.5625 -1.90625 C -2.3125 -1.96875 -2.082031 -2.0625 -1.875 -2.1875 C -1.675781 -2.320312 -1.5 -2.5 -1.34375 -2.71875 C -1.195312 -2.945312 -1.082031 -3.226562 -1 -3.5625 C -0.914062 -3.894531 -0.875 -4.296875 -0.875 -4.765625 C -0.875 -5.148438 -0.90625 -5.503906 -0.96875 -5.828125 C -1.039062 -6.148438 -1.144531 -6.425781 -1.28125 -6.65625 C -1.414062 -6.894531 -1.59375 -7.078125 -1.8125 -7.203125 C -2.03125 -7.335938 -2.289062 -7.40625 -2.59375 -7.40625 C -2.90625 -7.40625 -3.160156 -7.332031 -3.359375 -7.1875 C -3.554688 -7.039062 -3.71875 -6.835938 -3.84375 -6.578125 C -3.96875 -6.316406 -4.070312 -6.003906 -4.15625 -5.640625 C -4.25 -5.285156 -4.34375 -4.890625 -4.4375 -4.453125 C -4.5 -4.179688 -4.566406 -3.910156 -4.640625 -3.640625 C -4.710938 -3.367188 -4.796875 -3.109375 -4.890625 -2.859375 C -4.984375 -2.617188 -5.097656 -2.390625 -5.234375 -2.171875 C -5.367188 -1.953125 -5.523438 -1.757812 -5.703125 -1.59375 C -5.890625 -1.4375 -6.101562 -1.3125 -6.34375 -1.21875 C -6.59375 -1.132812 -6.878906 -1.09375 -7.203125 -1.09375 C -7.648438 -1.09375 -8.035156 -1.179688 -8.359375 -1.359375 C -8.691406 -1.546875 -8.960938 -1.800781 -9.171875 -2.125 C -9.378906 -2.457031 -9.53125 -2.847656 -9.625 -3.296875 C -9.726562 -3.742188 -9.78125 -4.226562 -9.78125 -4.75 C -9.78125 -5.34375 -9.734375 -5.847656 -9.640625 -6.265625 C -9.546875 -6.691406 -9.40625 -7.050781 -9.21875 -7.34375 C -9.03125 -7.632812 -8.796875 -7.867188 -8.515625 -8.046875 C -8.242188 -8.222656 -7.925781 -8.363281 -7.5625 -8.46875 L -7.328125 -7.1875 C -7.566406 -7.125 -7.773438 -7.03125 -7.953125 -6.90625 C -8.140625 -6.789062 -8.289062 -6.632812 -8.40625 -6.4375 C -8.53125 -6.238281 -8.625 -6 -8.6875 -5.71875 C -8.757812 -5.4375 -8.796875 -5.109375 -8.796875 -4.734375 C -8.796875 -4.285156 -8.753906 -3.910156 -8.671875 -3.609375 C -8.585938 -3.304688 -8.476562 -3.0625 -8.34375 -2.875 C -8.207031 -2.6875 -8.046875 -2.550781 -7.859375 -2.46875 C -7.679688 -2.394531 -7.484375 -2.359375 -7.265625 -2.359375 C -6.984375 -2.359375 -6.75 -2.429688 -6.5625 -2.578125 C -6.375 -2.722656 -6.21875 -2.914062 -6.09375 -3.15625 C -5.96875 -3.40625 -5.863281 -3.691406 -5.78125 -4.015625 C -5.707031 -4.335938 -5.628906 -4.679688 -5.546875 -5.046875 C -5.472656 -5.335938 -5.398438 -5.628906 -5.328125 -5.921875 C -5.265625 -6.222656 -5.179688 -6.503906 -5.078125 -6.765625 C -4.984375 -7.035156 -4.867188 -7.285156 -4.734375 -7.515625 C -4.609375 -7.753906 -4.445312 -7.960938 -4.25 -8.140625 C -4.0625 -8.316406 -3.835938 -8.453125 -3.578125 -8.546875 C -3.316406 -8.648438 -3.007812 -8.703125 -2.65625 -8.703125 Z M -2.65625 -8.703125 \"/>\n",
       "</g>\n",
       "<g id=\"glyph-3-11\">\n",
       "<path d=\"M -2.046875 -6.5 C -1.703125 -6.5 -1.394531 -6.429688 -1.125 -6.296875 C -0.851562 -6.160156 -0.625 -5.960938 -0.4375 -5.703125 C -0.25 -5.453125 -0.101562 -5.140625 0 -4.765625 C 0.09375 -4.398438 0.140625 -3.976562 0.140625 -3.5 C 0.140625 -3.0625 0.101562 -2.671875 0.03125 -2.328125 C -0.03125 -1.984375 -0.132812 -1.679688 -0.28125 -1.421875 C -0.425781 -1.171875 -0.617188 -0.957031 -0.859375 -0.78125 C -1.097656 -0.601562 -1.390625 -0.472656 -1.734375 -0.390625 L -1.953125 -1.484375 C -1.554688 -1.585938 -1.265625 -1.800781 -1.078125 -2.125 C -0.890625 -2.457031 -0.796875 -2.914062 -0.796875 -3.5 C -0.796875 -3.757812 -0.8125 -4 -0.84375 -4.21875 C -0.882812 -4.4375 -0.945312 -4.625 -1.03125 -4.78125 C -1.125 -4.945312 -1.242188 -5.070312 -1.390625 -5.15625 C -1.546875 -5.25 -1.734375 -5.296875 -1.953125 -5.296875 C -2.171875 -5.296875 -2.351562 -5.242188 -2.5 -5.140625 C -2.644531 -5.035156 -2.765625 -4.890625 -2.859375 -4.703125 C -2.953125 -4.515625 -3.035156 -4.285156 -3.109375 -4.015625 C -3.179688 -3.753906 -3.257812 -3.460938 -3.34375 -3.140625 C -3.414062 -2.847656 -3.5 -2.554688 -3.59375 -2.265625 C -3.695312 -1.972656 -3.828125 -1.707031 -3.984375 -1.46875 C -4.140625 -1.238281 -4.332031 -1.050781 -4.5625 -0.90625 C -4.800781 -0.757812 -5.09375 -0.6875 -5.4375 -0.6875 C -6.113281 -0.6875 -6.628906 -0.925781 -6.984375 -1.40625 C -7.335938 -1.882812 -7.515625 -2.582031 -7.515625 -3.5 C -7.515625 -4.320312 -7.367188 -4.972656 -7.078125 -5.453125 C -6.796875 -5.929688 -6.335938 -6.234375 -5.703125 -6.359375 L -5.5625 -5.25 C -5.757812 -5.21875 -5.921875 -5.144531 -6.046875 -5.03125 C -6.171875 -4.925781 -6.273438 -4.796875 -6.359375 -4.640625 C -6.441406 -4.484375 -6.5 -4.304688 -6.53125 -4.109375 C -6.5625 -3.921875 -6.578125 -3.71875 -6.578125 -3.5 C -6.578125 -2.945312 -6.492188 -2.535156 -6.328125 -2.265625 C -6.160156 -2.003906 -5.90625 -1.875 -5.5625 -1.875 C -5.363281 -1.875 -5.195312 -1.921875 -5.0625 -2.015625 C -4.9375 -2.117188 -4.828125 -2.257812 -4.734375 -2.4375 C -4.648438 -2.613281 -4.570312 -2.820312 -4.5 -3.0625 C -4.4375 -3.3125 -4.367188 -3.585938 -4.296875 -3.890625 C -4.242188 -4.078125 -4.1875 -4.273438 -4.125 -4.484375 C -4.070312 -4.691406 -4.003906 -4.890625 -3.921875 -5.078125 C -3.847656 -5.273438 -3.757812 -5.457031 -3.65625 -5.625 C -3.550781 -5.800781 -3.421875 -5.953125 -3.265625 -6.078125 C -3.117188 -6.203125 -2.941406 -6.300781 -2.734375 -6.375 C -2.535156 -6.457031 -2.304688 -6.5 -2.046875 -6.5 Z M -2.046875 -6.5 \"/>\n",
       "</g>\n",
       "<g id=\"glyph-3-12\">\n",
       "<path d=\"M -8.96875 -0.9375 L -10.140625 -0.9375 L -10.140625 -2.171875 L -8.96875 -2.171875 Z M 0 -0.9375 L -7.390625 -0.9375 L -7.390625 -2.171875 L 0 -2.171875 Z M 0 -0.9375 \"/>\n",
       "</g>\n",
       "<g id=\"glyph-3-13\">\n",
       "<path d=\"M -3.703125 -7.203125 C -2.410156 -7.203125 -1.445312 -6.914062 -0.8125 -6.34375 C -0.175781 -5.769531 0.140625 -4.941406 0.140625 -3.859375 C 0.140625 -3.347656 0.0625 -2.890625 -0.09375 -2.484375 C -0.25 -2.078125 -0.484375 -1.734375 -0.796875 -1.453125 C -1.117188 -1.171875 -1.519531 -0.957031 -2 -0.8125 C -2.488281 -0.664062 -3.054688 -0.59375 -3.703125 -0.59375 C -6.253906 -0.59375 -7.53125 -1.695312 -7.53125 -3.90625 C -7.53125 -4.476562 -7.453125 -4.972656 -7.296875 -5.390625 C -7.140625 -5.804688 -6.898438 -6.144531 -6.578125 -6.40625 C -6.253906 -6.675781 -5.851562 -6.875 -5.375 -7 C -4.894531 -7.132812 -4.335938 -7.203125 -3.703125 -7.203125 Z M -3.703125 -5.90625 C -4.273438 -5.90625 -4.75 -5.859375 -5.125 -5.765625 C -5.5 -5.679688 -5.796875 -5.550781 -6.015625 -5.375 C -6.242188 -5.207031 -6.398438 -5 -6.484375 -4.75 C -6.578125 -4.507812 -6.625 -4.234375 -6.625 -3.921875 C -6.625 -3.609375 -6.578125 -3.320312 -6.484375 -3.0625 C -6.390625 -2.8125 -6.226562 -2.597656 -6 -2.421875 C -5.78125 -2.242188 -5.484375 -2.109375 -5.109375 -2.015625 C -4.734375 -1.921875 -4.265625 -1.875 -3.703125 -1.875 C -3.128906 -1.875 -2.65625 -1.925781 -2.28125 -2.03125 C -1.90625 -2.132812 -1.601562 -2.269531 -1.375 -2.4375 C -1.15625 -2.613281 -1 -2.820312 -0.90625 -3.0625 C -0.8125 -3.300781 -0.765625 -3.5625 -0.765625 -3.84375 C -0.765625 -4.164062 -0.8125 -4.453125 -0.90625 -4.703125 C -1 -4.960938 -1.15625 -5.179688 -1.375 -5.359375 C -1.59375 -5.535156 -1.890625 -5.671875 -2.265625 -5.765625 C -2.648438 -5.859375 -3.128906 -5.90625 -3.703125 -5.90625 Z M -3.703125 -5.90625 \"/>\n",
       "</g>\n",
       "<g id=\"glyph-3-14\">\n",
       "<path d=\"M 0 -5.640625 L -4.6875 -5.640625 C -5.050781 -5.640625 -5.351562 -5.613281 -5.59375 -5.5625 C -5.832031 -5.507812 -6.023438 -5.421875 -6.171875 -5.296875 C -6.328125 -5.179688 -6.429688 -5.023438 -6.484375 -4.828125 C -6.546875 -4.640625 -6.578125 -4.398438 -6.578125 -4.109375 C -6.578125 -3.816406 -6.523438 -3.550781 -6.421875 -3.3125 C -6.328125 -3.082031 -6.179688 -2.882812 -5.984375 -2.71875 C -5.785156 -2.550781 -5.546875 -2.421875 -5.265625 -2.328125 C -4.984375 -2.242188 -4.65625 -2.203125 -4.28125 -2.203125 L 0 -2.203125 L 0 -0.96875 L -5.8125 -0.96875 C -5.96875 -0.96875 -6.128906 -0.96875 -6.296875 -0.96875 C -6.472656 -0.96875 -6.632812 -0.960938 -6.78125 -0.953125 C -6.9375 -0.953125 -7.066406 -0.945312 -7.171875 -0.9375 C -7.285156 -0.9375 -7.359375 -0.9375 -7.390625 -0.9375 L -7.390625 -2.09375 C -7.367188 -2.09375 -7.304688 -2.09375 -7.203125 -2.09375 C -7.109375 -2.101562 -6.992188 -2.113281 -6.859375 -2.125 C -6.734375 -2.132812 -6.601562 -2.140625 -6.46875 -2.140625 C -6.332031 -2.140625 -6.21875 -2.140625 -6.125 -2.140625 L -6.125 -2.171875 C -6.34375 -2.285156 -6.535156 -2.410156 -6.703125 -2.546875 C -6.878906 -2.691406 -7.023438 -2.859375 -7.140625 -3.046875 C -7.265625 -3.234375 -7.359375 -3.445312 -7.421875 -3.6875 C -7.492188 -3.925781 -7.53125 -4.207031 -7.53125 -4.53125 C -7.53125 -4.9375 -7.476562 -5.285156 -7.375 -5.578125 C -7.28125 -5.878906 -7.128906 -6.125 -6.921875 -6.3125 C -6.710938 -6.507812 -6.441406 -6.648438 -6.109375 -6.734375 C -5.773438 -6.828125 -5.378906 -6.875 -4.921875 -6.875 L 0 -6.875 Z M 0 -5.640625 \"/>\n",
       "</g>\n",
       "<g id=\"glyph-4-0\">\n",
       "<path d=\"M 2.9375 -10.28125 L 2.9375 -5.984375 L 9.390625 -5.984375 L 9.390625 -4.6875 L 2.9375 -4.6875 L 2.9375 0 L 1.375 0 L 1.375 -11.5625 L 9.59375 -11.5625 L 9.59375 -10.28125 Z M 2.9375 -10.28125 \"/>\n",
       "</g>\n",
       "<g id=\"glyph-4-1\">\n",
       "<path d=\"M 1.125 -10.765625 L 1.125 -12.171875 L 2.59375 -12.171875 L 2.59375 -10.765625 Z M 1.125 0 L 1.125 -8.875 L 2.59375 -8.875 L 2.59375 0 Z M 1.125 0 \"/>\n",
       "</g>\n",
       "<g id=\"glyph-4-2\">\n",
       "<path d=\"M 4.5 3.484375 C 3.988281 3.484375 3.535156 3.429688 3.140625 3.328125 C 2.742188 3.222656 2.40625 3.070312 2.125 2.875 C 1.851562 2.6875 1.628906 2.457031 1.453125 2.1875 C 1.273438 1.914062 1.148438 1.617188 1.078125 1.296875 L 2.5625 1.078125 C 2.65625 1.492188 2.867188 1.8125 3.203125 2.03125 C 3.546875 2.25 3.988281 2.359375 4.53125 2.359375 C 4.863281 2.359375 5.164062 2.3125 5.4375 2.21875 C 5.71875 2.125 5.953125 1.972656 6.140625 1.765625 C 6.335938 1.566406 6.484375 1.300781 6.578125 0.96875 C 6.679688 0.644531 6.734375 0.25 6.734375 -0.21875 L 6.734375 -1.65625 L 6.71875 -1.65625 C 6.613281 -1.425781 6.476562 -1.207031 6.3125 -1 C 6.15625 -0.800781 5.957031 -0.617188 5.71875 -0.453125 C 5.488281 -0.296875 5.222656 -0.171875 4.921875 -0.078125 C 4.617188 0.015625 4.269531 0.0625 3.875 0.0625 C 3.3125 0.0625 2.828125 -0.03125 2.421875 -0.21875 C 2.023438 -0.40625 1.695312 -0.6875 1.4375 -1.0625 C 1.1875 -1.4375 1 -1.90625 0.875 -2.46875 C 0.757812 -3.03125 0.703125 -3.679688 0.703125 -4.421875 C 0.703125 -5.128906 0.757812 -5.765625 0.875 -6.328125 C 1 -6.898438 1.191406 -7.382812 1.453125 -7.78125 C 1.722656 -8.175781 2.066406 -8.476562 2.484375 -8.6875 C 2.910156 -8.90625 3.425781 -9.015625 4.03125 -9.015625 C 4.664062 -9.015625 5.210938 -8.867188 5.671875 -8.578125 C 6.128906 -8.296875 6.484375 -7.890625 6.734375 -7.359375 L 6.765625 -7.359375 C 6.765625 -7.492188 6.765625 -7.644531 6.765625 -7.8125 C 6.773438 -7.988281 6.785156 -8.148438 6.796875 -8.296875 C 6.804688 -8.441406 6.816406 -8.566406 6.828125 -8.671875 C 6.835938 -8.785156 6.847656 -8.851562 6.859375 -8.875 L 8.265625 -8.875 C 8.253906 -8.820312 8.242188 -8.738281 8.234375 -8.625 C 8.234375 -8.507812 8.226562 -8.367188 8.21875 -8.203125 C 8.21875 -8.035156 8.210938 -7.851562 8.203125 -7.65625 C 8.203125 -7.457031 8.203125 -7.25 8.203125 -7.03125 L 8.203125 -0.25 C 8.203125 0.988281 7.894531 1.921875 7.28125 2.546875 C 6.675781 3.171875 5.75 3.484375 4.5 3.484375 Z M 6.734375 -4.4375 C 6.734375 -5.050781 6.664062 -5.578125 6.53125 -6.015625 C 6.40625 -6.460938 6.234375 -6.820312 6.015625 -7.09375 C 5.796875 -7.375 5.546875 -7.582031 5.265625 -7.71875 C 4.984375 -7.851562 4.691406 -7.921875 4.390625 -7.921875 C 4.015625 -7.921875 3.691406 -7.851562 3.421875 -7.71875 C 3.148438 -7.582031 2.925781 -7.375 2.75 -7.09375 C 2.570312 -6.8125 2.441406 -6.453125 2.359375 -6.015625 C 2.273438 -5.578125 2.234375 -5.050781 2.234375 -4.4375 C 2.234375 -3.800781 2.273438 -3.265625 2.359375 -2.828125 C 2.441406 -2.390625 2.570312 -2.035156 2.75 -1.765625 C 2.925781 -1.503906 3.144531 -1.316406 3.40625 -1.203125 C 3.675781 -1.085938 4 -1.03125 4.375 -1.03125 C 4.664062 -1.03125 4.953125 -1.09375 5.234375 -1.21875 C 5.515625 -1.34375 5.765625 -1.539062 5.984375 -1.8125 C 6.210938 -2.082031 6.394531 -2.429688 6.53125 -2.859375 C 6.664062 -3.296875 6.734375 -3.820312 6.734375 -4.4375 Z M 6.734375 -4.4375 \"/>\n",
       "</g>\n",
       "<g id=\"glyph-4-3\">\n",
       "<path d=\"M 2.578125 -8.875 L 2.578125 -3.25 C 2.578125 -2.8125 2.609375 -2.445312 2.671875 -2.15625 C 2.734375 -1.875 2.832031 -1.644531 2.96875 -1.46875 C 3.113281 -1.289062 3.300781 -1.160156 3.53125 -1.078125 C 3.769531 -1.003906 4.0625 -0.96875 4.40625 -0.96875 C 4.75 -0.96875 5.0625 -1.03125 5.34375 -1.15625 C 5.632812 -1.28125 5.878906 -1.457031 6.078125 -1.6875 C 6.273438 -1.925781 6.425781 -2.210938 6.53125 -2.546875 C 6.644531 -2.890625 6.703125 -3.285156 6.703125 -3.734375 L 6.703125 -8.875 L 8.171875 -8.875 L 8.171875 -1.890625 C 8.171875 -1.703125 8.171875 -1.503906 8.171875 -1.296875 C 8.179688 -1.097656 8.1875 -0.90625 8.1875 -0.71875 C 8.195312 -0.539062 8.203125 -0.382812 8.203125 -0.25 C 8.210938 -0.125 8.21875 -0.0390625 8.21875 0 L 6.828125 0 C 6.828125 -0.03125 6.820312 -0.101562 6.8125 -0.21875 C 6.8125 -0.34375 6.804688 -0.484375 6.796875 -0.640625 C 6.785156 -0.796875 6.773438 -0.953125 6.765625 -1.109375 C 6.765625 -1.273438 6.765625 -1.410156 6.765625 -1.515625 L 6.734375 -1.515625 C 6.597656 -1.253906 6.441406 -1.019531 6.265625 -0.8125 C 6.097656 -0.613281 5.898438 -0.441406 5.671875 -0.296875 C 5.453125 -0.148438 5.195312 -0.0390625 4.90625 0.03125 C 4.625 0.113281 4.289062 0.15625 3.90625 0.15625 C 3.414062 0.15625 2.988281 0.0976562 2.625 -0.015625 C 2.269531 -0.140625 1.976562 -0.328125 1.75 -0.578125 C 1.519531 -0.828125 1.351562 -1.144531 1.25 -1.53125 C 1.144531 -1.925781 1.09375 -2.398438 1.09375 -2.953125 L 1.09375 -8.875 Z M 2.578125 -8.875 \"/>\n",
       "</g>\n",
       "<g id=\"glyph-4-4\">\n",
       "<path d=\"M 1.171875 0 L 1.171875 -6.8125 C 1.171875 -7 1.164062 -7.1875 1.15625 -7.375 C 1.15625 -7.570312 1.148438 -7.757812 1.140625 -7.9375 C 1.140625 -8.113281 1.132812 -8.28125 1.125 -8.4375 C 1.125 -8.601562 1.117188 -8.75 1.109375 -8.875 L 2.515625 -8.875 C 2.515625 -8.75 2.519531 -8.601562 2.53125 -8.4375 C 2.539062 -8.28125 2.546875 -8.113281 2.546875 -7.9375 C 2.554688 -7.769531 2.5625 -7.609375 2.5625 -7.453125 C 2.570312 -7.296875 2.578125 -7.164062 2.578125 -7.0625 L 2.609375 -7.0625 C 2.710938 -7.394531 2.820312 -7.6875 2.9375 -7.9375 C 3.050781 -8.1875 3.1875 -8.390625 3.34375 -8.546875 C 3.507812 -8.710938 3.703125 -8.832031 3.921875 -8.90625 C 4.140625 -8.988281 4.40625 -9.03125 4.71875 -9.03125 C 4.832031 -9.03125 4.941406 -9.019531 5.046875 -9 C 5.160156 -8.988281 5.25 -8.972656 5.3125 -8.953125 L 5.3125 -7.609375 C 5.21875 -7.628906 5.101562 -7.644531 4.96875 -7.65625 C 4.832031 -7.675781 4.6875 -7.6875 4.53125 -7.6875 C 4.1875 -7.6875 3.894531 -7.609375 3.65625 -7.453125 C 3.425781 -7.296875 3.234375 -7.082031 3.078125 -6.8125 C 2.929688 -6.539062 2.820312 -6.21875 2.75 -5.84375 C 2.675781 -5.476562 2.640625 -5.070312 2.640625 -4.625 L 2.640625 0 Z M 1.171875 0 \"/>\n",
       "</g>\n",
       "<g id=\"glyph-4-5\">\n",
       "<path d=\"M 2.265625 -4.125 C 2.265625 -3.65625 2.3125 -3.222656 2.40625 -2.828125 C 2.5 -2.441406 2.644531 -2.109375 2.84375 -1.828125 C 3.050781 -1.546875 3.304688 -1.328125 3.609375 -1.171875 C 3.921875 -1.015625 4.296875 -0.9375 4.734375 -0.9375 C 5.378906 -0.9375 5.894531 -1.066406 6.28125 -1.328125 C 6.664062 -1.585938 6.925781 -1.910156 7.0625 -2.296875 L 8.359375 -1.9375 C 8.265625 -1.6875 8.132812 -1.4375 7.96875 -1.1875 C 7.800781 -0.9375 7.578125 -0.710938 7.296875 -0.515625 C 7.015625 -0.316406 6.664062 -0.15625 6.25 -0.03125 C 5.832031 0.09375 5.328125 0.15625 4.734375 0.15625 C 3.421875 0.15625 2.421875 -0.234375 1.734375 -1.015625 C 1.054688 -1.796875 0.71875 -2.957031 0.71875 -4.5 C 0.71875 -5.320312 0.820312 -6.019531 1.03125 -6.59375 C 1.238281 -7.175781 1.519531 -7.644531 1.875 -8 C 2.238281 -8.363281 2.660156 -8.625 3.140625 -8.78125 C 3.617188 -8.945312 4.132812 -9.03125 4.6875 -9.03125 C 5.425781 -9.03125 6.046875 -8.910156 6.546875 -8.671875 C 7.046875 -8.429688 7.445312 -8.097656 7.75 -7.671875 C 8.050781 -7.253906 8.265625 -6.757812 8.390625 -6.1875 C 8.523438 -5.613281 8.59375 -4.992188 8.59375 -4.328125 L 8.59375 -4.125 Z M 7.0625 -5.25 C 6.988281 -6.1875 6.753906 -6.867188 6.359375 -7.296875 C 5.960938 -7.734375 5.394531 -7.953125 4.65625 -7.953125 C 4.414062 -7.953125 4.160156 -7.910156 3.890625 -7.828125 C 3.617188 -7.742188 3.363281 -7.601562 3.125 -7.40625 C 2.894531 -7.207031 2.703125 -6.929688 2.546875 -6.578125 C 2.390625 -6.234375 2.300781 -5.789062 2.28125 -5.25 Z M 7.0625 -5.25 \"/>\n",
       "</g>\n",
       "<g id=\"glyph-4-6\">\n",
       "</g>\n",
       "<g id=\"glyph-4-7\">\n",
       "<path d=\"M 1.28125 0 L 1.28125 -1.25 L 4.21875 -1.25 L 4.21875 -10.140625 L 1.609375 -8.28125 L 1.609375 -9.671875 L 4.34375 -11.5625 L 5.703125 -11.5625 L 5.703125 -1.25 L 8.515625 -1.25 L 8.515625 0 Z M 1.28125 0 \"/>\n",
       "</g>\n",
       "<g id=\"glyph-4-8\">\n",
       "<path d=\"M 1.53125 -7.171875 L 1.53125 -8.875 L 3.140625 -8.875 L 3.140625 -7.171875 Z M 1.53125 0 L 1.53125 -1.703125 L 3.140625 -1.703125 L 3.140625 0 Z M 1.53125 0 \"/>\n",
       "</g>\n",
       "<g id=\"glyph-4-9\">\n",
       "<path d=\"M 9.578125 0 L 8.25 -3.375 L 2.984375 -3.375 L 1.65625 0 L 0.03125 0 L 4.75 -11.5625 L 6.53125 -11.5625 L 11.171875 0 Z M 6.296875 -8.421875 C 6.210938 -8.640625 6.128906 -8.859375 6.046875 -9.078125 C 5.972656 -9.304688 5.90625 -9.507812 5.84375 -9.6875 C 5.78125 -9.875 5.726562 -10.023438 5.6875 -10.140625 C 5.644531 -10.265625 5.625 -10.34375 5.625 -10.375 C 5.613281 -10.34375 5.585938 -10.265625 5.546875 -10.140625 C 5.503906 -10.015625 5.453125 -9.859375 5.390625 -9.671875 C 5.328125 -9.492188 5.253906 -9.289062 5.171875 -9.0625 C 5.097656 -8.832031 5.019531 -8.613281 4.9375 -8.40625 L 3.46875 -4.59375 L 7.78125 -4.59375 Z M 6.296875 -8.421875 \"/>\n",
       "</g>\n",
       "<g id=\"glyph-4-10\">\n",
       "<path d=\"M 5.03125 0 L 3.28125 0 L 0.0625 -8.875 L 1.625 -8.875 L 3.578125 -3.09375 C 3.617188 -2.976562 3.664062 -2.832031 3.71875 -2.65625 C 3.769531 -2.488281 3.820312 -2.3125 3.875 -2.125 C 3.9375 -1.9375 3.988281 -1.753906 4.03125 -1.578125 C 4.070312 -1.410156 4.113281 -1.269531 4.15625 -1.15625 C 4.1875 -1.269531 4.226562 -1.410156 4.28125 -1.578125 C 4.332031 -1.753906 4.382812 -1.929688 4.4375 -2.109375 C 4.488281 -2.296875 4.539062 -2.472656 4.59375 -2.640625 C 4.65625 -2.816406 4.707031 -2.960938 4.75 -3.078125 L 6.78125 -8.875 L 8.34375 -8.875 Z M 5.03125 0 \"/>\n",
       "</g>\n",
       "<g id=\"glyph-4-11\">\n",
       "<path d=\"M 3.390625 0.15625 C 2.503906 0.15625 1.835938 -0.078125 1.390625 -0.546875 C 0.941406 -1.015625 0.71875 -1.660156 0.71875 -2.484375 C 0.71875 -3.066406 0.828125 -3.546875 1.046875 -3.921875 C 1.265625 -4.296875 1.550781 -4.585938 1.90625 -4.796875 C 2.269531 -5.015625 2.679688 -5.160156 3.140625 -5.234375 C 3.597656 -5.316406 4.066406 -5.363281 4.546875 -5.375 L 6.53125 -5.40625 L 6.53125 -5.890625 C 6.53125 -6.265625 6.492188 -6.578125 6.421875 -6.828125 C 6.347656 -7.085938 6.226562 -7.296875 6.0625 -7.453125 C 5.90625 -7.609375 5.707031 -7.722656 5.46875 -7.796875 C 5.238281 -7.878906 4.960938 -7.921875 4.640625 -7.921875 C 4.347656 -7.921875 4.085938 -7.898438 3.859375 -7.859375 C 3.628906 -7.816406 3.429688 -7.738281 3.265625 -7.625 C 3.097656 -7.519531 2.960938 -7.375 2.859375 -7.1875 C 2.753906 -7.007812 2.6875 -6.78125 2.65625 -6.5 L 1.109375 -6.640625 C 1.160156 -6.992188 1.265625 -7.316406 1.421875 -7.609375 C 1.578125 -7.898438 1.796875 -8.148438 2.078125 -8.359375 C 2.359375 -8.578125 2.707031 -8.742188 3.125 -8.859375 C 3.550781 -8.972656 4.066406 -9.03125 4.671875 -9.03125 C 5.785156 -9.03125 6.625 -8.773438 7.1875 -8.265625 C 7.75 -7.753906 8.03125 -7.015625 8.03125 -6.046875 L 8.03125 -2.234375 C 8.03125 -1.796875 8.085938 -1.460938 8.203125 -1.234375 C 8.316406 -1.015625 8.535156 -0.90625 8.859375 -0.90625 C 8.941406 -0.90625 9.023438 -0.910156 9.109375 -0.921875 C 9.191406 -0.929688 9.269531 -0.945312 9.34375 -0.96875 L 9.34375 -0.046875 C 9.15625 -0.00390625 8.96875 0.0234375 8.78125 0.046875 C 8.601562 0.0664062 8.410156 0.078125 8.203125 0.078125 C 7.921875 0.078125 7.679688 0.0390625 7.484375 -0.03125 C 7.285156 -0.101562 7.125 -0.210938 7 -0.359375 C 6.875 -0.515625 6.773438 -0.703125 6.703125 -0.921875 C 6.640625 -1.140625 6.597656 -1.398438 6.578125 -1.703125 L 6.53125 -1.703125 C 6.375 -1.410156 6.203125 -1.148438 6.015625 -0.921875 C 5.828125 -0.691406 5.609375 -0.492188 5.359375 -0.328125 C 5.109375 -0.171875 4.820312 -0.0507812 4.5 0.03125 C 4.175781 0.113281 3.804688 0.15625 3.390625 0.15625 Z M 3.734375 -0.9375 C 4.203125 -0.9375 4.613281 -1.019531 4.96875 -1.1875 C 5.320312 -1.363281 5.613281 -1.585938 5.84375 -1.859375 C 6.070312 -2.128906 6.242188 -2.421875 6.359375 -2.734375 C 6.472656 -3.054688 6.53125 -3.363281 6.53125 -3.65625 L 6.53125 -4.375 L 4.921875 -4.34375 C 4.554688 -4.34375 4.210938 -4.316406 3.890625 -4.265625 C 3.566406 -4.222656 3.28125 -4.132812 3.03125 -4 C 2.789062 -3.863281 2.597656 -3.671875 2.453125 -3.421875 C 2.304688 -3.171875 2.234375 -2.847656 2.234375 -2.453125 C 2.234375 -1.972656 2.363281 -1.597656 2.625 -1.328125 C 2.882812 -1.066406 3.253906 -0.9375 3.734375 -0.9375 Z M 3.734375 -0.9375 \"/>\n",
       "</g>\n",
       "<g id=\"glyph-4-12\">\n",
       "<path d=\"M 4.546875 -0.0625 C 4.316406 0 4.085938 0.046875 3.859375 0.078125 C 3.628906 0.109375 3.359375 0.125 3.046875 0.125 C 1.867188 0.125 1.28125 -0.539062 1.28125 -1.875 L 1.28125 -7.796875 L 0.25 -7.796875 L 0.25 -8.875 L 1.34375 -8.875 L 1.765625 -10.859375 L 2.75 -10.859375 L 2.75 -8.875 L 4.390625 -8.875 L 4.390625 -7.796875 L 2.75 -7.796875 L 2.75 -2.203125 C 2.75 -1.773438 2.816406 -1.472656 2.953125 -1.296875 C 3.097656 -1.128906 3.34375 -1.046875 3.6875 -1.046875 C 3.832031 -1.046875 3.972656 -1.054688 4.109375 -1.078125 C 4.242188 -1.097656 4.390625 -1.125 4.546875 -1.15625 Z M 4.546875 -0.0625 \"/>\n",
       "</g>\n",
       "<g id=\"glyph-4-13\">\n",
       "<path d=\"M 10.4375 -3.1875 C 10.4375 -2.695312 10.335938 -2.25 10.140625 -1.84375 C 9.953125 -1.4375 9.660156 -1.082031 9.265625 -0.78125 C 8.878906 -0.488281 8.382812 -0.257812 7.78125 -0.09375 C 7.1875 0.0703125 6.476562 0.15625 5.65625 0.15625 C 4.21875 0.15625 3.097656 -0.09375 2.296875 -0.59375 C 1.492188 -1.09375 0.984375 -1.816406 0.765625 -2.765625 L 2.28125 -3.078125 C 2.351562 -2.773438 2.46875 -2.5 2.625 -2.25 C 2.789062 -2.007812 3.007812 -1.800781 3.28125 -1.625 C 3.550781 -1.445312 3.882812 -1.304688 4.28125 -1.203125 C 4.675781 -1.109375 5.15625 -1.0625 5.71875 -1.0625 C 6.175781 -1.0625 6.597656 -1.097656 6.984375 -1.171875 C 7.378906 -1.253906 7.71875 -1.375 8 -1.53125 C 8.28125 -1.695312 8.492188 -1.910156 8.640625 -2.171875 C 8.796875 -2.429688 8.875 -2.742188 8.875 -3.109375 C 8.875 -3.484375 8.785156 -3.785156 8.609375 -4.015625 C 8.441406 -4.253906 8.203125 -4.453125 7.890625 -4.609375 C 7.585938 -4.765625 7.21875 -4.894531 6.78125 -5 C 6.351562 -5.101562 5.875 -5.210938 5.34375 -5.328125 C 5.019531 -5.398438 4.695312 -5.476562 4.375 -5.5625 C 4.050781 -5.644531 3.738281 -5.742188 3.4375 -5.859375 C 3.144531 -5.984375 2.863281 -6.125 2.59375 -6.28125 C 2.332031 -6.4375 2.101562 -6.625 1.90625 -6.84375 C 1.71875 -7.070312 1.566406 -7.332031 1.453125 -7.625 C 1.347656 -7.914062 1.296875 -8.253906 1.296875 -8.640625 C 1.296875 -9.179688 1.40625 -9.644531 1.625 -10.03125 C 1.851562 -10.425781 2.164062 -10.75 2.5625 -11 C 2.957031 -11.257812 3.421875 -11.445312 3.953125 -11.5625 C 4.484375 -11.675781 5.0625 -11.734375 5.6875 -11.734375 C 6.40625 -11.734375 7.019531 -11.675781 7.53125 -11.5625 C 8.039062 -11.445312 8.46875 -11.273438 8.8125 -11.046875 C 9.164062 -10.828125 9.445312 -10.550781 9.65625 -10.21875 C 9.863281 -9.894531 10.03125 -9.515625 10.15625 -9.078125 L 8.625 -8.796875 C 8.539062 -9.078125 8.425781 -9.328125 8.28125 -9.546875 C 8.144531 -9.765625 7.957031 -9.945312 7.71875 -10.09375 C 7.476562 -10.238281 7.191406 -10.347656 6.859375 -10.421875 C 6.523438 -10.503906 6.128906 -10.546875 5.671875 -10.546875 C 5.140625 -10.546875 4.691406 -10.5 4.328125 -10.40625 C 3.960938 -10.3125 3.664062 -10.179688 3.4375 -10.015625 C 3.21875 -9.847656 3.0625 -9.65625 2.96875 -9.4375 C 2.875 -9.21875 2.828125 -8.976562 2.828125 -8.71875 C 2.828125 -8.375 2.910156 -8.085938 3.078125 -7.859375 C 3.253906 -7.640625 3.488281 -7.457031 3.78125 -7.3125 C 4.082031 -7.164062 4.425781 -7.039062 4.8125 -6.9375 C 5.195312 -6.84375 5.609375 -6.75 6.046875 -6.65625 C 6.398438 -6.570312 6.753906 -6.488281 7.109375 -6.40625 C 7.460938 -6.320312 7.800781 -6.21875 8.125 -6.09375 C 8.445312 -5.976562 8.75 -5.84375 9.03125 -5.6875 C 9.3125 -5.53125 9.554688 -5.332031 9.765625 -5.09375 C 9.972656 -4.863281 10.132812 -4.59375 10.25 -4.28125 C 10.375 -3.976562 10.4375 -3.613281 10.4375 -3.1875 Z M 10.4375 -3.1875 \"/>\n",
       "</g>\n",
       "<g id=\"glyph-4-14\">\n",
       "<path d=\"M 7.796875 -2.453125 C 7.796875 -2.035156 7.710938 -1.664062 7.546875 -1.34375 C 7.390625 -1.019531 7.15625 -0.742188 6.84375 -0.515625 C 6.539062 -0.296875 6.164062 -0.128906 5.71875 -0.015625 C 5.269531 0.0976562 4.757812 0.15625 4.1875 0.15625 C 3.675781 0.15625 3.210938 0.113281 2.796875 0.03125 C 2.390625 -0.0390625 2.03125 -0.160156 1.71875 -0.328125 C 1.40625 -0.503906 1.140625 -0.734375 0.921875 -1.015625 C 0.710938 -1.304688 0.5625 -1.660156 0.46875 -2.078125 L 1.765625 -2.34375 C 1.890625 -1.863281 2.148438 -1.507812 2.546875 -1.28125 C 2.941406 -1.0625 3.488281 -0.953125 4.1875 -0.953125 C 4.507812 -0.953125 4.800781 -0.972656 5.0625 -1.015625 C 5.332031 -1.066406 5.5625 -1.144531 5.75 -1.25 C 5.9375 -1.351562 6.082031 -1.492188 6.1875 -1.671875 C 6.300781 -1.847656 6.359375 -2.070312 6.359375 -2.34375 C 6.359375 -2.601562 6.296875 -2.816406 6.171875 -2.984375 C 6.046875 -3.160156 5.867188 -3.304688 5.640625 -3.421875 C 5.421875 -3.535156 5.148438 -3.632812 4.828125 -3.71875 C 4.503906 -3.8125 4.148438 -3.910156 3.765625 -4.015625 C 3.410156 -4.109375 3.054688 -4.210938 2.703125 -4.328125 C 2.359375 -4.441406 2.046875 -4.59375 1.765625 -4.78125 C 1.484375 -4.96875 1.253906 -5.195312 1.078125 -5.46875 C 0.898438 -5.75 0.8125 -6.101562 0.8125 -6.53125 C 0.8125 -7.34375 1.097656 -7.957031 1.671875 -8.375 C 2.253906 -8.800781 3.097656 -9.015625 4.203125 -9.015625 C 5.179688 -9.015625 5.957031 -8.84375 6.53125 -8.5 C 7.113281 -8.15625 7.484375 -7.601562 7.640625 -6.84375 L 6.3125 -6.671875 C 6.257812 -6.898438 6.164062 -7.09375 6.03125 -7.25 C 5.90625 -7.40625 5.75 -7.53125 5.5625 -7.625 C 5.375 -7.726562 5.160156 -7.796875 4.921875 -7.828125 C 4.691406 -7.867188 4.453125 -7.890625 4.203125 -7.890625 C 3.535156 -7.890625 3.039062 -7.789062 2.71875 -7.59375 C 2.40625 -7.394531 2.25 -7.085938 2.25 -6.671875 C 2.25 -6.429688 2.304688 -6.234375 2.421875 -6.078125 C 2.546875 -5.921875 2.710938 -5.789062 2.921875 -5.6875 C 3.128906 -5.582031 3.378906 -5.488281 3.671875 -5.40625 C 3.972656 -5.332031 4.300781 -5.25 4.65625 -5.15625 C 4.894531 -5.09375 5.132812 -5.023438 5.375 -4.953125 C 5.625 -4.890625 5.863281 -4.8125 6.09375 -4.71875 C 6.332031 -4.625 6.550781 -4.507812 6.75 -4.375 C 6.957031 -4.25 7.132812 -4.097656 7.28125 -3.921875 C 7.4375 -3.742188 7.5625 -3.53125 7.65625 -3.28125 C 7.75 -3.039062 7.796875 -2.765625 7.796875 -2.453125 Z M 7.796875 -2.453125 \"/>\n",
       "</g>\n",
       "<g id=\"glyph-4-15\">\n",
       "<path d=\"M 8.640625 -4.4375 C 8.640625 -2.882812 8.296875 -1.726562 7.609375 -0.96875 C 6.921875 -0.21875 5.929688 0.15625 4.640625 0.15625 C 4.015625 0.15625 3.457031 0.0664062 2.96875 -0.109375 C 2.488281 -0.296875 2.078125 -0.582031 1.734375 -0.96875 C 1.398438 -1.351562 1.144531 -1.832031 0.96875 -2.40625 C 0.789062 -2.976562 0.703125 -3.65625 0.703125 -4.4375 C 0.703125 -7.5 2.03125 -9.03125 4.6875 -9.03125 C 5.375 -9.03125 5.96875 -8.9375 6.46875 -8.75 C 6.96875 -8.5625 7.375 -8.273438 7.6875 -7.890625 C 8.007812 -7.503906 8.25 -7.023438 8.40625 -6.453125 C 8.5625 -5.878906 8.640625 -5.207031 8.640625 -4.4375 Z M 7.09375 -4.4375 C 7.09375 -5.132812 7.035156 -5.707031 6.921875 -6.15625 C 6.816406 -6.601562 6.660156 -6.957031 6.453125 -7.21875 C 6.253906 -7.488281 6.003906 -7.675781 5.703125 -7.78125 C 5.410156 -7.894531 5.078125 -7.953125 4.703125 -7.953125 C 4.328125 -7.953125 3.988281 -7.894531 3.6875 -7.78125 C 3.382812 -7.664062 3.125 -7.472656 2.90625 -7.203125 C 2.695312 -6.929688 2.535156 -6.570312 2.421875 -6.125 C 2.304688 -5.675781 2.25 -5.113281 2.25 -4.4375 C 2.25 -3.75 2.304688 -3.179688 2.421875 -2.734375 C 2.546875 -2.285156 2.710938 -1.925781 2.921875 -1.65625 C 3.140625 -1.382812 3.390625 -1.191406 3.671875 -1.078125 C 3.960938 -0.972656 4.28125 -0.921875 4.625 -0.921875 C 5 -0.921875 5.335938 -0.972656 5.640625 -1.078125 C 5.953125 -1.191406 6.210938 -1.378906 6.421875 -1.640625 C 6.628906 -1.910156 6.789062 -2.269531 6.90625 -2.71875 C 7.03125 -3.175781 7.09375 -3.75 7.09375 -4.4375 Z M 7.09375 -4.4375 \"/>\n",
       "</g>\n",
       "<g id=\"glyph-4-16\">\n",
       "<path d=\"M 6.765625 0 L 6.765625 -5.625 C 6.765625 -6.0625 6.734375 -6.421875 6.671875 -6.703125 C 6.609375 -6.992188 6.503906 -7.226562 6.359375 -7.40625 C 6.222656 -7.582031 6.035156 -7.707031 5.796875 -7.78125 C 5.566406 -7.851562 5.28125 -7.890625 4.9375 -7.890625 C 4.582031 -7.890625 4.265625 -7.828125 3.984375 -7.703125 C 3.703125 -7.585938 3.460938 -7.410156 3.265625 -7.171875 C 3.066406 -6.941406 2.910156 -6.65625 2.796875 -6.3125 C 2.691406 -5.976562 2.640625 -5.585938 2.640625 -5.140625 L 2.640625 0 L 1.171875 0 L 1.171875 -6.984375 C 1.171875 -7.171875 1.164062 -7.363281 1.15625 -7.5625 C 1.15625 -7.769531 1.148438 -7.960938 1.140625 -8.140625 C 1.140625 -8.328125 1.132812 -8.484375 1.125 -8.609375 C 1.125 -8.742188 1.117188 -8.832031 1.109375 -8.875 L 2.515625 -8.875 C 2.515625 -8.84375 2.515625 -8.765625 2.515625 -8.640625 C 2.523438 -8.523438 2.535156 -8.390625 2.546875 -8.234375 C 2.554688 -8.078125 2.5625 -7.914062 2.5625 -7.75 C 2.570312 -7.59375 2.578125 -7.460938 2.578125 -7.359375 L 2.59375 -7.359375 C 2.738281 -7.617188 2.894531 -7.847656 3.0625 -8.046875 C 3.238281 -8.253906 3.4375 -8.429688 3.65625 -8.578125 C 3.882812 -8.722656 4.140625 -8.832031 4.421875 -8.90625 C 4.710938 -8.988281 5.050781 -9.03125 5.4375 -9.03125 C 5.925781 -9.03125 6.347656 -8.96875 6.703125 -8.84375 C 7.054688 -8.726562 7.347656 -8.546875 7.578125 -8.296875 C 7.816406 -8.046875 7.988281 -7.722656 8.09375 -7.328125 C 8.195312 -6.929688 8.25 -6.457031 8.25 -5.90625 L 8.25 0 Z M 6.765625 0 \"/>\n",
       "</g>\n",
       "<g id=\"glyph-4-17\">\n",
       "<path d=\"M 8.640625 -4.484375 C 8.640625 -1.390625 7.550781 0.15625 5.375 0.15625 C 4.695312 0.15625 4.132812 0.0351562 3.6875 -0.203125 C 3.25 -0.441406 2.890625 -0.832031 2.609375 -1.375 L 2.59375 -1.375 C 2.59375 -1.238281 2.585938 -1.09375 2.578125 -0.9375 C 2.566406 -0.78125 2.554688 -0.632812 2.546875 -0.5 C 2.546875 -0.375 2.539062 -0.265625 2.53125 -0.171875 C 2.519531 -0.078125 2.515625 -0.0195312 2.515625 0 L 1.078125 0 C 1.085938 -0.0507812 1.09375 -0.132812 1.09375 -0.25 C 1.101562 -0.363281 1.109375 -0.503906 1.109375 -0.671875 C 1.117188 -0.835938 1.125 -1.019531 1.125 -1.21875 C 1.125 -1.414062 1.125 -1.617188 1.125 -1.828125 L 1.125 -12.171875 L 2.609375 -12.171875 L 2.609375 -8.703125 C 2.609375 -8.535156 2.601562 -8.375 2.59375 -8.21875 C 2.59375 -8.070312 2.59375 -7.941406 2.59375 -7.828125 C 2.582031 -7.691406 2.578125 -7.566406 2.578125 -7.453125 L 2.609375 -7.453125 C 2.878906 -8.015625 3.238281 -8.414062 3.6875 -8.65625 C 4.144531 -8.90625 4.707031 -9.03125 5.375 -9.03125 C 6.488281 -9.03125 7.3125 -8.65625 7.84375 -7.90625 C 8.375 -7.15625 8.640625 -6.015625 8.640625 -4.484375 Z M 7.09375 -4.421875 C 7.09375 -5.035156 7.050781 -5.5625 6.96875 -6 C 6.894531 -6.4375 6.769531 -6.796875 6.59375 -7.078125 C 6.425781 -7.359375 6.210938 -7.5625 5.953125 -7.6875 C 5.691406 -7.820312 5.375 -7.890625 5 -7.890625 C 4.601562 -7.890625 4.253906 -7.828125 3.953125 -7.703125 C 3.660156 -7.578125 3.414062 -7.375 3.21875 -7.09375 C 3.019531 -6.820312 2.867188 -6.457031 2.765625 -6 C 2.660156 -5.550781 2.609375 -5 2.609375 -4.34375 C 2.609375 -3.707031 2.660156 -3.171875 2.765625 -2.734375 C 2.867188 -2.304688 3.019531 -1.957031 3.21875 -1.6875 C 3.414062 -1.414062 3.660156 -1.21875 3.953125 -1.09375 C 4.253906 -0.976562 4.597656 -0.921875 4.984375 -0.921875 C 5.335938 -0.921875 5.644531 -0.984375 5.90625 -1.109375 C 6.175781 -1.234375 6.394531 -1.4375 6.5625 -1.71875 C 6.738281 -2 6.867188 -2.363281 6.953125 -2.8125 C 7.046875 -3.257812 7.09375 -3.796875 7.09375 -4.421875 Z M 7.09375 -4.421875 \"/>\n",
       "</g>\n",
       "<g id=\"glyph-4-18\">\n",
       "<path d=\"M 4.953125 0 C 4.742188 0.53125 4.53125 1.007812 4.3125 1.4375 C 4.101562 1.875 3.863281 2.242188 3.59375 2.546875 C 3.320312 2.847656 3.019531 3.078125 2.6875 3.234375 C 2.363281 3.398438 1.988281 3.484375 1.5625 3.484375 C 1.375 3.484375 1.203125 3.476562 1.046875 3.46875 C 0.890625 3.457031 0.722656 3.429688 0.546875 3.390625 L 0.546875 2.28125 C 0.648438 2.300781 0.765625 2.316406 0.890625 2.328125 C 1.023438 2.335938 1.140625 2.34375 1.234375 2.34375 C 1.671875 2.34375 2.070312 2.179688 2.4375 1.859375 C 2.8125 1.535156 3.140625 1.019531 3.421875 0.3125 L 3.5625 -0.046875 L 0.046875 -8.875 L 1.609375 -8.875 L 3.484375 -3.96875 C 3.535156 -3.820312 3.601562 -3.625 3.6875 -3.375 C 3.78125 -3.132812 3.867188 -2.890625 3.953125 -2.640625 C 4.035156 -2.390625 4.109375 -2.164062 4.171875 -1.96875 C 4.234375 -1.78125 4.273438 -1.660156 4.296875 -1.609375 C 4.304688 -1.671875 4.34375 -1.789062 4.40625 -1.96875 C 4.46875 -2.144531 4.535156 -2.34375 4.609375 -2.5625 C 4.691406 -2.78125 4.773438 -3 4.859375 -3.21875 C 4.941406 -3.445312 5.007812 -3.644531 5.0625 -3.8125 L 6.8125 -8.875 L 8.359375 -8.875 Z M 4.953125 0 \"/>\n",
       "</g>\n",
       "<g id=\"glyph-4-19\">\n",
       "<path d=\"M 1.375 0 L 1.375 -11.5625 L 10.140625 -11.5625 L 10.140625 -10.28125 L 2.9375 -10.28125 L 2.9375 -6.5625 L 9.65625 -6.5625 L 9.65625 -5.3125 L 2.9375 -5.3125 L 2.9375 -1.28125 L 10.484375 -1.28125 L 10.484375 0 Z M 1.375 0 \"/>\n",
       "</g>\n",
       "<g id=\"glyph-4-20\">\n",
       "<path d=\"M 6.5625 0 L 4.1875 -3.640625 L 1.78125 0 L 0.1875 0 L 3.34375 -4.5625 L 0.34375 -8.875 L 1.96875 -8.875 L 4.1875 -5.421875 L 6.375 -8.875 L 8.03125 -8.875 L 5.015625 -4.578125 L 8.21875 0 Z M 6.5625 0 \"/>\n",
       "</g>\n",
       "<g id=\"glyph-4-21\">\n",
       "<path d=\"M 8.640625 -4.484375 C 8.640625 -3.804688 8.582031 -3.179688 8.46875 -2.609375 C 8.363281 -2.046875 8.179688 -1.554688 7.921875 -1.140625 C 7.671875 -0.734375 7.335938 -0.414062 6.921875 -0.1875 C 6.503906 0.0390625 5.988281 0.15625 5.375 0.15625 C 4.738281 0.15625 4.179688 0.0351562 3.703125 -0.203125 C 3.234375 -0.441406 2.867188 -0.832031 2.609375 -1.375 L 2.578125 -1.375 C 2.578125 -1.363281 2.578125 -1.3125 2.578125 -1.21875 C 2.585938 -1.132812 2.59375 -1.023438 2.59375 -0.890625 C 2.59375 -0.765625 2.59375 -0.617188 2.59375 -0.453125 C 2.601562 -0.296875 2.609375 -0.140625 2.609375 0.015625 L 2.609375 3.484375 L 1.125 3.484375 L 1.125 -7.0625 C 1.125 -7.269531 1.125 -7.472656 1.125 -7.671875 C 1.125 -7.867188 1.117188 -8.046875 1.109375 -8.203125 C 1.109375 -8.367188 1.101562 -8.507812 1.09375 -8.625 C 1.09375 -8.738281 1.085938 -8.820312 1.078125 -8.875 L 2.515625 -8.875 C 2.515625 -8.851562 2.519531 -8.789062 2.53125 -8.6875 C 2.539062 -8.59375 2.546875 -8.476562 2.546875 -8.34375 C 2.554688 -8.207031 2.566406 -8.054688 2.578125 -7.890625 C 2.585938 -7.734375 2.59375 -7.585938 2.59375 -7.453125 L 2.625 -7.453125 C 2.757812 -7.734375 2.914062 -7.972656 3.09375 -8.171875 C 3.269531 -8.367188 3.46875 -8.53125 3.6875 -8.65625 C 3.914062 -8.789062 4.164062 -8.882812 4.4375 -8.9375 C 4.71875 -9 5.03125 -9.03125 5.375 -9.03125 C 5.988281 -9.03125 6.503906 -8.921875 6.921875 -8.703125 C 7.335938 -8.484375 7.671875 -8.175781 7.921875 -7.78125 C 8.179688 -7.382812 8.363281 -6.90625 8.46875 -6.34375 C 8.582031 -5.78125 8.640625 -5.160156 8.640625 -4.484375 Z M 7.09375 -4.4375 C 7.09375 -4.988281 7.054688 -5.476562 6.984375 -5.90625 C 6.921875 -6.332031 6.804688 -6.691406 6.640625 -6.984375 C 6.484375 -7.285156 6.269531 -7.507812 6 -7.65625 C 5.738281 -7.8125 5.40625 -7.890625 5 -7.890625 C 4.664062 -7.890625 4.351562 -7.84375 4.0625 -7.75 C 3.78125 -7.65625 3.53125 -7.476562 3.3125 -7.21875 C 3.09375 -6.957031 2.921875 -6.59375 2.796875 -6.125 C 2.671875 -5.664062 2.609375 -5.066406 2.609375 -4.328125 C 2.609375 -3.703125 2.660156 -3.171875 2.765625 -2.734375 C 2.867188 -2.296875 3.019531 -1.941406 3.21875 -1.671875 C 3.414062 -1.410156 3.660156 -1.21875 3.953125 -1.09375 C 4.253906 -0.976562 4.597656 -0.921875 4.984375 -0.921875 C 5.390625 -0.921875 5.726562 -1 6 -1.15625 C 6.269531 -1.320312 6.484375 -1.550781 6.640625 -1.84375 C 6.804688 -2.144531 6.921875 -2.515625 6.984375 -2.953125 C 7.054688 -3.390625 7.09375 -3.882812 7.09375 -4.4375 Z M 7.09375 -4.4375 \"/>\n",
       "</g>\n",
       "<g id=\"glyph-4-22\">\n",
       "<path d=\"M 2.25 -4.484375 C 2.25 -3.972656 2.285156 -3.503906 2.359375 -3.078125 C 2.441406 -2.648438 2.566406 -2.28125 2.734375 -1.96875 C 2.910156 -1.664062 3.140625 -1.425781 3.421875 -1.25 C 3.710938 -1.082031 4.070312 -1 4.5 -1 C 5.019531 -1 5.457031 -1.140625 5.8125 -1.421875 C 6.164062 -1.710938 6.382812 -2.148438 6.46875 -2.734375 L 7.953125 -2.640625 C 7.898438 -2.273438 7.789062 -1.921875 7.625 -1.578125 C 7.46875 -1.242188 7.25 -0.945312 6.96875 -0.6875 C 6.6875 -0.425781 6.34375 -0.21875 5.9375 -0.0625 C 5.53125 0.0820312 5.0625 0.15625 4.53125 0.15625 C 3.84375 0.15625 3.253906 0.0390625 2.765625 -0.1875 C 2.273438 -0.425781 1.878906 -0.75 1.578125 -1.15625 C 1.273438 -1.570312 1.054688 -2.0625 0.921875 -2.625 C 0.785156 -3.1875 0.71875 -3.789062 0.71875 -4.4375 C 0.71875 -5.039062 0.765625 -5.566406 0.859375 -6.015625 C 0.960938 -6.472656 1.101562 -6.875 1.28125 -7.21875 C 1.457031 -7.5625 1.664062 -7.847656 1.90625 -8.078125 C 2.144531 -8.316406 2.40625 -8.503906 2.6875 -8.640625 C 2.96875 -8.773438 3.265625 -8.875 3.578125 -8.9375 C 3.890625 -9 4.203125 -9.03125 4.515625 -9.03125 C 5.015625 -9.03125 5.457031 -8.960938 5.84375 -8.828125 C 6.238281 -8.691406 6.578125 -8.503906 6.859375 -8.265625 C 7.140625 -8.035156 7.363281 -7.757812 7.53125 -7.4375 C 7.707031 -7.113281 7.832031 -6.765625 7.90625 -6.390625 L 6.390625 -6.28125 C 6.316406 -6.769531 6.125 -7.15625 5.8125 -7.4375 C 5.5 -7.726562 5.054688 -7.875 4.484375 -7.875 C 4.054688 -7.875 3.703125 -7.804688 3.421875 -7.671875 C 3.140625 -7.535156 2.910156 -7.328125 2.734375 -7.046875 C 2.566406 -6.765625 2.441406 -6.410156 2.359375 -5.984375 C 2.285156 -5.554688 2.25 -5.054688 2.25 -4.484375 Z M 2.25 -4.484375 \"/>\n",
       "</g>\n",
       "<g id=\"glyph-4-23\">\n",
       "<path d=\"M 6.734375 -1.421875 C 6.460938 -0.859375 6.097656 -0.453125 5.640625 -0.203125 C 5.191406 0.0351562 4.632812 0.15625 3.96875 0.15625 C 2.84375 0.15625 2.015625 -0.21875 1.484375 -0.96875 C 0.960938 -1.71875 0.703125 -2.859375 0.703125 -4.390625 C 0.703125 -7.484375 1.789062 -9.03125 3.96875 -9.03125 C 4.644531 -9.03125 5.207031 -8.90625 5.65625 -8.65625 C 6.101562 -8.414062 6.460938 -8.03125 6.734375 -7.5 L 6.75 -7.5 C 6.75 -7.550781 6.742188 -7.632812 6.734375 -7.75 C 6.734375 -7.875 6.734375 -8 6.734375 -8.125 C 6.734375 -8.25 6.734375 -8.367188 6.734375 -8.484375 C 6.734375 -8.597656 6.734375 -8.679688 6.734375 -8.734375 L 6.734375 -12.171875 L 8.203125 -12.171875 L 8.203125 -1.828125 C 8.203125 -1.617188 8.203125 -1.414062 8.203125 -1.21875 C 8.210938 -1.019531 8.21875 -0.835938 8.21875 -0.671875 C 8.226562 -0.503906 8.234375 -0.363281 8.234375 -0.25 C 8.242188 -0.132812 8.253906 -0.0507812 8.265625 0 L 6.84375 0 C 6.832031 -0.0507812 6.820312 -0.128906 6.8125 -0.234375 C 6.8125 -0.335938 6.804688 -0.453125 6.796875 -0.578125 C 6.785156 -0.710938 6.773438 -0.851562 6.765625 -1 C 6.765625 -1.144531 6.765625 -1.285156 6.765625 -1.421875 Z M 2.25 -4.4375 C 2.25 -3.832031 2.285156 -3.3125 2.359375 -2.875 C 2.441406 -2.4375 2.566406 -2.078125 2.734375 -1.796875 C 2.910156 -1.515625 3.128906 -1.304688 3.390625 -1.171875 C 3.648438 -1.035156 3.96875 -0.96875 4.34375 -0.96875 C 4.726562 -0.96875 5.070312 -1.03125 5.375 -1.15625 C 5.675781 -1.289062 5.925781 -1.5 6.125 -1.78125 C 6.320312 -2.0625 6.472656 -2.425781 6.578125 -2.875 C 6.679688 -3.332031 6.734375 -3.890625 6.734375 -4.546875 C 6.734375 -5.171875 6.679688 -5.703125 6.578125 -6.140625 C 6.472656 -6.578125 6.316406 -6.925781 6.109375 -7.1875 C 5.910156 -7.457031 5.664062 -7.648438 5.375 -7.765625 C 5.082031 -7.890625 4.742188 -7.953125 4.359375 -7.953125 C 4.003906 -7.953125 3.691406 -7.882812 3.421875 -7.75 C 3.160156 -7.625 2.941406 -7.421875 2.765625 -7.140625 C 2.597656 -6.867188 2.46875 -6.507812 2.375 -6.0625 C 2.289062 -5.613281 2.25 -5.070312 2.25 -4.4375 Z M 2.25 -4.4375 \"/>\n",
       "</g>\n",
       "</g>\n",
       "<clipPath id=\"clip-0\">\n",
       "<path clip-rule=\"nonzero\" d=\"M 35.738281 428 L 786.132812 428 L 786.132812 429 L 35.738281 429 Z M 35.738281 428 \"/>\n",
       "</clipPath>\n",
       "<clipPath id=\"clip-1\">\n",
       "<path clip-rule=\"nonzero\" d=\"M 35.738281 311 L 786.132812 311 L 786.132812 313 L 35.738281 313 Z M 35.738281 311 \"/>\n",
       "</clipPath>\n",
       "<clipPath id=\"clip-2\">\n",
       "<path clip-rule=\"nonzero\" d=\"M 35.738281 194 L 786.132812 194 L 786.132812 196 L 35.738281 196 Z M 35.738281 194 \"/>\n",
       "</clipPath>\n",
       "<clipPath id=\"clip-3\">\n",
       "<path clip-rule=\"nonzero\" d=\"M 35.738281 77 L 786.132812 77 L 786.132812 79 L 35.738281 79 Z M 35.738281 77 \"/>\n",
       "</clipPath>\n",
       "<clipPath id=\"clip-4\">\n",
       "<path clip-rule=\"nonzero\" d=\"M 35.738281 486 L 786.132812 486 L 786.132812 488 L 35.738281 488 Z M 35.738281 486 \"/>\n",
       "</clipPath>\n",
       "<clipPath id=\"clip-5\">\n",
       "<path clip-rule=\"nonzero\" d=\"M 35.738281 369 L 786.132812 369 L 786.132812 371 L 35.738281 371 Z M 35.738281 369 \"/>\n",
       "</clipPath>\n",
       "<clipPath id=\"clip-6\">\n",
       "<path clip-rule=\"nonzero\" d=\"M 35.738281 252 L 786.132812 252 L 786.132812 254 L 35.738281 254 Z M 35.738281 252 \"/>\n",
       "</clipPath>\n",
       "<clipPath id=\"clip-7\">\n",
       "<path clip-rule=\"nonzero\" d=\"M 35.738281 135 L 786.132812 135 L 786.132812 138 L 35.738281 138 Z M 35.738281 135 \"/>\n",
       "</clipPath>\n",
       "<clipPath id=\"clip-8\">\n",
       "<path clip-rule=\"nonzero\" d=\"M 121 28.949219 L 123 28.949219 L 123 508.789062 L 121 508.789062 Z M 121 28.949219 \"/>\n",
       "</clipPath>\n",
       "<clipPath id=\"clip-9\">\n",
       "<path clip-rule=\"nonzero\" d=\"M 265 28.949219 L 268 28.949219 L 268 508.789062 L 265 508.789062 Z M 265 28.949219 \"/>\n",
       "</clipPath>\n",
       "<clipPath id=\"clip-10\">\n",
       "<path clip-rule=\"nonzero\" d=\"M 410 28.949219 L 412 28.949219 L 412 508.789062 L 410 508.789062 Z M 410 28.949219 \"/>\n",
       "</clipPath>\n",
       "<clipPath id=\"clip-11\">\n",
       "<path clip-rule=\"nonzero\" d=\"M 554 28.949219 L 556 28.949219 L 556 508.789062 L 554 508.789062 Z M 554 28.949219 \"/>\n",
       "</clipPath>\n",
       "<clipPath id=\"clip-12\">\n",
       "<path clip-rule=\"nonzero\" d=\"M 698 28.949219 L 701 28.949219 L 701 508.789062 L 698 508.789062 Z M 698 28.949219 \"/>\n",
       "</clipPath>\n",
       "</defs>\n",
       "<rect x=\"-90\" y=\"-57.6\" width=\"1080\" height=\"691.2\" fill=\"rgb(100%, 100%, 100%)\" fill-opacity=\"1\"/>\n",
       "<g clip-path=\"url(#clip-0)\">\n",
       "<path fill=\"none\" stroke-width=\"0.678986\" stroke-linecap=\"butt\" stroke-linejoin=\"round\" stroke=\"rgb(92.156863%, 92.156863%, 92.156863%)\" stroke-opacity=\"1\" stroke-miterlimit=\"10\" d=\"M 35.738281 428.554688 L 786.128906 428.554688 \"/>\n",
       "</g>\n",
       "<g clip-path=\"url(#clip-1)\">\n",
       "<path fill=\"none\" stroke-width=\"0.678986\" stroke-linecap=\"butt\" stroke-linejoin=\"round\" stroke=\"rgb(92.156863%, 92.156863%, 92.156863%)\" stroke-opacity=\"1\" stroke-miterlimit=\"10\" d=\"M 35.738281 311.710938 L 786.128906 311.710938 \"/>\n",
       "</g>\n",
       "<g clip-path=\"url(#clip-2)\">\n",
       "<path fill=\"none\" stroke-width=\"0.678986\" stroke-linecap=\"butt\" stroke-linejoin=\"round\" stroke=\"rgb(92.156863%, 92.156863%, 92.156863%)\" stroke-opacity=\"1\" stroke-miterlimit=\"10\" d=\"M 35.738281 194.867188 L 786.128906 194.867188 \"/>\n",
       "</g>\n",
       "<g clip-path=\"url(#clip-3)\">\n",
       "<path fill=\"none\" stroke-width=\"0.678986\" stroke-linecap=\"butt\" stroke-linejoin=\"round\" stroke=\"rgb(92.156863%, 92.156863%, 92.156863%)\" stroke-opacity=\"1\" stroke-miterlimit=\"10\" d=\"M 35.738281 78.023438 L 786.128906 78.023438 \"/>\n",
       "</g>\n",
       "<g clip-path=\"url(#clip-4)\">\n",
       "<path fill=\"none\" stroke-width=\"1.357972\" stroke-linecap=\"butt\" stroke-linejoin=\"round\" stroke=\"rgb(92.156863%, 92.156863%, 92.156863%)\" stroke-opacity=\"1\" stroke-miterlimit=\"10\" d=\"M 35.738281 486.976562 L 786.128906 486.976562 \"/>\n",
       "</g>\n",
       "<g clip-path=\"url(#clip-5)\">\n",
       "<path fill=\"none\" stroke-width=\"1.357972\" stroke-linecap=\"butt\" stroke-linejoin=\"round\" stroke=\"rgb(92.156863%, 92.156863%, 92.156863%)\" stroke-opacity=\"1\" stroke-miterlimit=\"10\" d=\"M 35.738281 370.132812 L 786.128906 370.132812 \"/>\n",
       "</g>\n",
       "<g clip-path=\"url(#clip-6)\">\n",
       "<path fill=\"none\" stroke-width=\"1.357972\" stroke-linecap=\"butt\" stroke-linejoin=\"round\" stroke=\"rgb(92.156863%, 92.156863%, 92.156863%)\" stroke-opacity=\"1\" stroke-miterlimit=\"10\" d=\"M 35.738281 253.289062 L 786.128906 253.289062 \"/>\n",
       "</g>\n",
       "<g clip-path=\"url(#clip-7)\">\n",
       "<path fill=\"none\" stroke-width=\"1.357972\" stroke-linecap=\"butt\" stroke-linejoin=\"round\" stroke=\"rgb(92.156863%, 92.156863%, 92.156863%)\" stroke-opacity=\"1\" stroke-miterlimit=\"10\" d=\"M 35.738281 136.445312 L 786.128906 136.445312 \"/>\n",
       "</g>\n",
       "<g clip-path=\"url(#clip-8)\">\n",
       "<path fill=\"none\" stroke-width=\"1.357972\" stroke-linecap=\"butt\" stroke-linejoin=\"round\" stroke=\"rgb(92.156863%, 92.156863%, 92.156863%)\" stroke-opacity=\"1\" stroke-miterlimit=\"10\" d=\"M 122.320312 508.785156 L 122.320312 28.949219 \"/>\n",
       "</g>\n",
       "<g clip-path=\"url(#clip-9)\">\n",
       "<path fill=\"none\" stroke-width=\"1.357972\" stroke-linecap=\"butt\" stroke-linejoin=\"round\" stroke=\"rgb(92.156863%, 92.156863%, 92.156863%)\" stroke-opacity=\"1\" stroke-miterlimit=\"10\" d=\"M 266.628906 508.785156 L 266.628906 28.949219 \"/>\n",
       "</g>\n",
       "<g clip-path=\"url(#clip-10)\">\n",
       "<path fill=\"none\" stroke-width=\"1.357972\" stroke-linecap=\"butt\" stroke-linejoin=\"round\" stroke=\"rgb(92.156863%, 92.156863%, 92.156863%)\" stroke-opacity=\"1\" stroke-miterlimit=\"10\" d=\"M 410.933594 508.785156 L 410.933594 28.949219 \"/>\n",
       "</g>\n",
       "<g clip-path=\"url(#clip-11)\">\n",
       "<path fill=\"none\" stroke-width=\"1.357972\" stroke-linecap=\"butt\" stroke-linejoin=\"round\" stroke=\"rgb(92.156863%, 92.156863%, 92.156863%)\" stroke-opacity=\"1\" stroke-miterlimit=\"10\" d=\"M 555.242188 508.785156 L 555.242188 28.949219 \"/>\n",
       "</g>\n",
       "<g clip-path=\"url(#clip-12)\">\n",
       "<path fill=\"none\" stroke-width=\"1.357972\" stroke-linecap=\"butt\" stroke-linejoin=\"round\" stroke=\"rgb(92.156863%, 92.156863%, 92.156863%)\" stroke-opacity=\"1\" stroke-miterlimit=\"10\" d=\"M 699.546875 508.785156 L 699.546875 28.949219 \"/>\n",
       "</g>\n",
       "<path fill-rule=\"nonzero\" fill=\"rgb(97.254902%, 46.27451%, 42.745098%)\" fill-opacity=\"1\" d=\"M 57.382812 486.976562 L 122.320312 486.976562 L 122.320312 463.609375 L 57.382812 463.609375 Z M 57.382812 486.976562 \"/>\n",
       "<path fill-rule=\"nonzero\" fill=\"rgb(0%, 74.901961%, 76.862745%)\" fill-opacity=\"1\" d=\"M 122.320312 486.976562 L 187.257812 486.976562 L 187.257812 349.9375 L 122.320312 349.9375 Z M 122.320312 486.976562 \"/>\n",
       "<path fill-rule=\"nonzero\" fill=\"rgb(97.254902%, 46.27451%, 42.745098%)\" fill-opacity=\"1\" d=\"M 201.691406 486.976562 L 266.628906 486.976562 L 266.628906 50.761719 L 201.691406 50.761719 Z M 201.691406 486.976562 \"/>\n",
       "<path fill-rule=\"nonzero\" fill=\"rgb(0%, 74.901961%, 76.862745%)\" fill-opacity=\"1\" d=\"M 266.628906 486.976562 L 331.566406 486.976562 L 331.566406 422.828125 L 266.628906 422.828125 Z M 266.628906 486.976562 \"/>\n",
       "<path fill-rule=\"nonzero\" fill=\"rgb(0%, 74.901961%, 76.862745%)\" fill-opacity=\"1\" d=\"M 410.933594 486.976562 L 475.871094 486.976562 L 475.871094 350.660156 L 410.933594 350.660156 Z M 410.933594 486.976562 \"/>\n",
       "<path fill-rule=\"nonzero\" fill=\"rgb(0%, 74.901961%, 76.862745%)\" fill-opacity=\"1\" d=\"M 555.242188 486.976562 L 620.179688 486.976562 L 620.179688 394.476562 L 555.242188 394.476562 Z M 555.242188 486.976562 \"/>\n",
       "<path fill-rule=\"nonzero\" fill=\"rgb(97.254902%, 46.27451%, 42.745098%)\" fill-opacity=\"1\" d=\"M 634.609375 486.976562 L 699.546875 486.976562 L 699.546875 451.921875 L 634.609375 451.921875 Z M 634.609375 486.976562 \"/>\n",
       "<path fill-rule=\"nonzero\" fill=\"rgb(0%, 74.901961%, 76.862745%)\" fill-opacity=\"1\" d=\"M 699.546875 486.976562 L 764.484375 486.976562 L 764.484375 452.609375 L 699.546875 452.609375 Z M 699.546875 486.976562 \"/>\n",
       "<g fill=\"rgb(30.196078%, 30.196078%, 30.196078%)\" fill-opacity=\"1\">\n",
       "<use xlink:href=\"#glyph-0-0\" x=\"23.460938\" y=\"490.115234\"/>\n",
       "</g>\n",
       "<g fill=\"rgb(30.196078%, 30.196078%, 30.196078%)\" fill-opacity=\"1\">\n",
       "<use xlink:href=\"#glyph-0-1\" x=\"23.460938\" y=\"373.271484\"/>\n",
       "</g>\n",
       "<g fill=\"rgb(30.196078%, 30.196078%, 30.196078%)\" fill-opacity=\"1\">\n",
       "<use xlink:href=\"#glyph-0-2\" x=\"23.460938\" y=\"256.427734\"/>\n",
       "</g>\n",
       "<g fill=\"rgb(30.196078%, 30.196078%, 30.196078%)\" fill-opacity=\"1\">\n",
       "<use xlink:href=\"#glyph-0-3\" x=\"23.460938\" y=\"139.583984\"/>\n",
       "</g>\n",
       "<g fill=\"rgb(30.196078%, 30.196078%, 30.196078%)\" fill-opacity=\"1\">\n",
       "<use xlink:href=\"#glyph-1-0\" x=\"98.376155\" y=\"549.102717\"/>\n",
       "<use xlink:href=\"#glyph-1-1\" x=\"103.325902\" y=\"544.15297\"/>\n",
       "<use xlink:href=\"#glyph-1-2\" x=\"109.689863\" y=\"537.789009\"/>\n",
       "<use xlink:href=\"#glyph-1-3\" x=\"113.932504\" y=\"533.546368\"/>\n",
       "<use xlink:href=\"#glyph-1-4\" x=\"116.053824\" y=\"531.425048\"/>\n",
       "<use xlink:href=\"#glyph-1-5\" x=\"120.296465\" y=\"527.182407\"/>\n",
       "<use xlink:href=\"#glyph-1-6\" x=\"124.539106\" y=\"522.939766\"/>\n",
       "</g>\n",
       "<g fill=\"rgb(30.196078%, 30.196078%, 30.196078%)\" fill-opacity=\"1\">\n",
       "<use xlink:href=\"#glyph-1-7\" x=\"241.270686\" y=\"550.51678\"/>\n",
       "<use xlink:href=\"#glyph-1-4\" x=\"246.220434\" y=\"545.567032\"/>\n",
       "<use xlink:href=\"#glyph-1-8\" x=\"250.463074\" y=\"541.324392\"/>\n",
       "<use xlink:href=\"#glyph-1-9\" x=\"254.705715\" y=\"537.081751\"/>\n",
       "<use xlink:href=\"#glyph-1-10\" x=\"256.119929\" y=\"535.667537\"/>\n",
       "<use xlink:href=\"#glyph-1-10\" x=\"260.362569\" y=\"531.424897\"/>\n",
       "<use xlink:href=\"#glyph-1-4\" x=\"264.60521\" y=\"527.182256\"/>\n",
       "<use xlink:href=\"#glyph-1-6\" x=\"268.847851\" y=\"522.939615\"/>\n",
       "</g>\n",
       "<g fill=\"rgb(30.196078%, 30.196078%, 30.196078%)\" fill-opacity=\"1\">\n",
       "<use xlink:href=\"#glyph-1-11\" x=\"403.958186\" y=\"532.130061\"/>\n",
       "<use xlink:href=\"#glyph-1-6\" x=\"408.907934\" y=\"527.180314\"/>\n",
       "<use xlink:href=\"#glyph-1-12\" x=\"411.736361\" y=\"524.351887\"/>\n",
       "</g>\n",
       "<g fill=\"rgb(30.196078%, 30.196078%, 30.196078%)\" fill-opacity=\"1\">\n",
       "<use xlink:href=\"#glyph-1-13\" x=\"533.419124\" y=\"546.981624\"/>\n",
       "<use xlink:href=\"#glyph-1-4\" x=\"539.075978\" y=\"541.324769\"/>\n",
       "<use xlink:href=\"#glyph-1-8\" x=\"543.318619\" y=\"537.082129\"/>\n",
       "<use xlink:href=\"#glyph-1-5\" x=\"547.561259\" y=\"532.839488\"/>\n",
       "<use xlink:href=\"#glyph-1-14\" x=\"551.8039\" y=\"528.596847\"/>\n",
       "<use xlink:href=\"#glyph-1-2\" x=\"553.218114\" y=\"527.182634\"/>\n",
       "<use xlink:href=\"#glyph-1-6\" x=\"557.460754\" y=\"522.939993\"/>\n",
       "</g>\n",
       "<g fill=\"rgb(30.196078%, 30.196078%, 30.196078%)\" fill-opacity=\"1\">\n",
       "<use xlink:href=\"#glyph-1-15\" x=\"677.723811\" y=\"546.981624\"/>\n",
       "<use xlink:href=\"#glyph-1-4\" x=\"682.673559\" y=\"542.031876\"/>\n",
       "<use xlink:href=\"#glyph-1-3\" x=\"686.916199\" y=\"537.789235\"/>\n",
       "<use xlink:href=\"#glyph-1-4\" x=\"689.03752\" y=\"535.667915\"/>\n",
       "<use xlink:href=\"#glyph-1-6\" x=\"693.28016\" y=\"531.425274\"/>\n",
       "<use xlink:href=\"#glyph-1-2\" x=\"696.108587\" y=\"528.596847\"/>\n",
       "<use xlink:href=\"#glyph-1-10\" x=\"700.351228\" y=\"524.354207\"/>\n",
       "</g>\n",
       "<g fill=\"rgb(0%, 0%, 0%)\" fill-opacity=\"1\">\n",
       "<use xlink:href=\"#glyph-2-0\" x=\"356.433594\" y=\"565.701172\"/>\n",
       "<use xlink:href=\"#glyph-2-1\" x=\"365.433594\" y=\"565.701172\"/>\n",
       "<use xlink:href=\"#glyph-2-2\" x=\"372.433594\" y=\"565.701172\"/>\n",
       "<use xlink:href=\"#glyph-2-3\" x=\"380.433594\" y=\"565.701172\"/>\n",
       "<use xlink:href=\"#glyph-2-4\" x=\"388.433594\" y=\"565.701172\"/>\n",
       "<use xlink:href=\"#glyph-2-5\" x=\"393.433594\" y=\"565.701172\"/>\n",
       "<use xlink:href=\"#glyph-2-3\" x=\"396.433594\" y=\"565.701172\"/>\n",
       "<use xlink:href=\"#glyph-2-6\" x=\"404.433594\" y=\"565.701172\"/>\n",
       "<use xlink:href=\"#glyph-2-7\" x=\"412.433594\" y=\"565.701172\"/>\n",
       "<use xlink:href=\"#glyph-2-3\" x=\"419.433594\" y=\"565.701172\"/>\n",
       "<use xlink:href=\"#glyph-2-8\" x=\"427.433594\" y=\"565.701172\"/>\n",
       "<use xlink:href=\"#glyph-2-9\" x=\"431.433594\" y=\"565.701172\"/>\n",
       "<use xlink:href=\"#glyph-2-3\" x=\"439.433594\" y=\"565.701172\"/>\n",
       "<use xlink:href=\"#glyph-2-10\" x=\"447.433594\" y=\"565.701172\"/>\n",
       "<use xlink:href=\"#glyph-2-3\" x=\"454.433594\" y=\"565.701172\"/>\n",
       "<use xlink:href=\"#glyph-2-11\" x=\"462.433594\" y=\"565.701172\"/>\n",
       "</g>\n",
       "<g fill=\"rgb(0%, 0%, 0%)\" fill-opacity=\"1\">\n",
       "<use xlink:href=\"#glyph-3-0\" x=\"16.646484\" y=\"348.867188\"/>\n",
       "<use xlink:href=\"#glyph-3-1\" x=\"16.646484\" y=\"339.867188\"/>\n",
       "<use xlink:href=\"#glyph-3-2\" x=\"16.646484\" y=\"332.867188\"/>\n",
       "<use xlink:href=\"#glyph-3-3\" x=\"16.646484\" y=\"324.867188\"/>\n",
       "<use xlink:href=\"#glyph-3-4\" x=\"16.646484\" y=\"319.867188\"/>\n",
       "<use xlink:href=\"#glyph-3-5\" x=\"16.646484\" y=\"311.867188\"/>\n",
       "<use xlink:href=\"#glyph-3-2\" x=\"16.646484\" y=\"303.867188\"/>\n",
       "<use xlink:href=\"#glyph-3-6\" x=\"16.646484\" y=\"295.867188\"/>\n",
       "<use xlink:href=\"#glyph-3-7\" x=\"16.646484\" y=\"291.867188\"/>\n",
       "<use xlink:href=\"#glyph-3-8\" x=\"16.646484\" y=\"282.867188\"/>\n",
       "<use xlink:href=\"#glyph-3-9\" x=\"16.646484\" y=\"274.867188\"/>\n",
       "<use xlink:href=\"#glyph-3-8\" x=\"16.646484\" y=\"270.867188\"/>\n",
       "<use xlink:href=\"#glyph-3-3\" x=\"16.646484\" y=\"262.867188\"/>\n",
       "<use xlink:href=\"#glyph-3-2\" x=\"16.646484\" y=\"257.867188\"/>\n",
       "<use xlink:href=\"#glyph-3-6\" x=\"16.646484\" y=\"249.867188\"/>\n",
       "<use xlink:href=\"#glyph-3-10\" x=\"16.646484\" y=\"245.867188\"/>\n",
       "<use xlink:href=\"#glyph-3-2\" x=\"16.646484\" y=\"236.867188\"/>\n",
       "<use xlink:href=\"#glyph-3-11\" x=\"16.646484\" y=\"228.867188\"/>\n",
       "<use xlink:href=\"#glyph-3-11\" x=\"16.646484\" y=\"221.867188\"/>\n",
       "<use xlink:href=\"#glyph-3-12\" x=\"16.646484\" y=\"214.867188\"/>\n",
       "<use xlink:href=\"#glyph-3-13\" x=\"16.646484\" y=\"211.867188\"/>\n",
       "<use xlink:href=\"#glyph-3-14\" x=\"16.646484\" y=\"203.867188\"/>\n",
       "<use xlink:href=\"#glyph-3-11\" x=\"16.646484\" y=\"195.867188\"/>\n",
       "</g>\n",
       "<g fill=\"rgb(0%, 0%, 0%)\" fill-opacity=\"1\">\n",
       "<use xlink:href=\"#glyph-2-12\" x=\"807.050781\" y=\"252.775391\"/>\n",
       "<use xlink:href=\"#glyph-2-13\" x=\"816.050781\" y=\"252.775391\"/>\n",
       "<use xlink:href=\"#glyph-2-14\" x=\"824.050781\" y=\"252.775391\"/>\n",
       "<use xlink:href=\"#glyph-2-15\" x=\"832.050781\" y=\"252.775391\"/>\n",
       "<use xlink:href=\"#glyph-2-7\" x=\"839.050781\" y=\"252.775391\"/>\n",
       "<use xlink:href=\"#glyph-2-4\" x=\"846.050781\" y=\"252.775391\"/>\n",
       "<use xlink:href=\"#glyph-2-5\" x=\"851.050781\" y=\"252.775391\"/>\n",
       "<use xlink:href=\"#glyph-2-14\" x=\"854.050781\" y=\"252.775391\"/>\n",
       "<use xlink:href=\"#glyph-2-3\" x=\"862.050781\" y=\"252.775391\"/>\n",
       "<use xlink:href=\"#glyph-2-16\" x=\"870.050781\" y=\"252.775391\"/>\n",
       "<use xlink:href=\"#glyph-2-17\" x=\"878.050781\" y=\"252.775391\"/>\n",
       "</g>\n",
       "<path fill-rule=\"nonzero\" fill=\"rgb(97.254902%, 46.27451%, 42.745098%)\" fill-opacity=\"1\" d=\"M 807.761719 278.144531 L 823.625 278.144531 L 823.625 262.28125 L 807.761719 262.28125 Z M 807.761719 278.144531 \"/>\n",
       "<path fill-rule=\"nonzero\" fill=\"rgb(0%, 74.901961%, 76.862745%)\" fill-opacity=\"1\" d=\"M 807.761719 295.425781 L 823.625 295.425781 L 823.625 279.5625 L 807.761719 279.5625 Z M 807.761719 295.425781 \"/>\n",
       "<g fill=\"rgb(0%, 0%, 0%)\" fill-opacity=\"1\">\n",
       "<use xlink:href=\"#glyph-0-4\" x=\"831.304688\" y=\"273.353516\"/>\n",
       "<use xlink:href=\"#glyph-0-5\" x=\"837.304688\" y=\"273.353516\"/>\n",
       "<use xlink:href=\"#glyph-0-6\" x=\"844.304688\" y=\"273.353516\"/>\n",
       "<use xlink:href=\"#glyph-0-7\" x=\"850.304688\" y=\"273.353516\"/>\n",
       "<use xlink:href=\"#glyph-0-8\" x=\"857.304688\" y=\"273.353516\"/>\n",
       "</g>\n",
       "<g fill=\"rgb(0%, 0%, 0%)\" fill-opacity=\"1\">\n",
       "<use xlink:href=\"#glyph-0-9\" x=\"831.304688\" y=\"290.630859\"/>\n",
       "<use xlink:href=\"#glyph-0-10\" x=\"838.304688\" y=\"290.630859\"/>\n",
       "<use xlink:href=\"#glyph-0-11\" x=\"846.304688\" y=\"290.630859\"/>\n",
       "<use xlink:href=\"#glyph-0-8\" x=\"854.304688\" y=\"290.630859\"/>\n",
       "</g>\n",
       "<g fill=\"rgb(0%, 0%, 0%)\" fill-opacity=\"1\">\n",
       "<use xlink:href=\"#glyph-4-0\" x=\"35.738281\" y=\"18.180664\"/>\n",
       "<use xlink:href=\"#glyph-4-1\" x=\"45.738281\" y=\"18.180664\"/>\n",
       "<use xlink:href=\"#glyph-4-2\" x=\"49.738281\" y=\"18.180664\"/>\n",
       "<use xlink:href=\"#glyph-4-3\" x=\"58.738281\" y=\"18.180664\"/>\n",
       "<use xlink:href=\"#glyph-4-4\" x=\"67.738281\" y=\"18.180664\"/>\n",
       "<use xlink:href=\"#glyph-4-5\" x=\"73.738281\" y=\"18.180664\"/>\n",
       "<use xlink:href=\"#glyph-4-6\" x=\"82.738281\" y=\"18.180664\"/>\n",
       "<use xlink:href=\"#glyph-4-7\" x=\"87.738281\" y=\"18.180664\"/>\n",
       "<use xlink:href=\"#glyph-4-8\" x=\"96.738281\" y=\"18.180664\"/>\n",
       "<use xlink:href=\"#glyph-4-6\" x=\"101.738281\" y=\"18.180664\"/>\n",
       "<use xlink:href=\"#glyph-4-9\" x=\"105.738281\" y=\"18.180664\"/>\n",
       "<use xlink:href=\"#glyph-4-10\" x=\"116.738281\" y=\"18.180664\"/>\n",
       "<use xlink:href=\"#glyph-4-5\" x=\"124.738281\" y=\"18.180664\"/>\n",
       "<use xlink:href=\"#glyph-4-4\" x=\"133.738281\" y=\"18.180664\"/>\n",
       "<use xlink:href=\"#glyph-4-11\" x=\"139.738281\" y=\"18.180664\"/>\n",
       "<use xlink:href=\"#glyph-4-2\" x=\"148.738281\" y=\"18.180664\"/>\n",
       "<use xlink:href=\"#glyph-4-5\" x=\"157.738281\" y=\"18.180664\"/>\n",
       "<use xlink:href=\"#glyph-4-6\" x=\"166.738281\" y=\"18.180664\"/>\n",
       "<use xlink:href=\"#glyph-4-0\" x=\"171.738281\" y=\"18.180664\"/>\n",
       "<use xlink:href=\"#glyph-4-3\" x=\"181.738281\" y=\"18.180664\"/>\n",
       "<use xlink:href=\"#glyph-4-12\" x=\"190.738281\" y=\"18.180664\"/>\n",
       "<use xlink:href=\"#glyph-4-3\" x=\"195.738281\" y=\"18.180664\"/>\n",
       "<use xlink:href=\"#glyph-4-4\" x=\"204.738281\" y=\"18.180664\"/>\n",
       "<use xlink:href=\"#glyph-4-5\" x=\"210.738281\" y=\"18.180664\"/>\n",
       "<use xlink:href=\"#glyph-4-6\" x=\"219.738281\" y=\"18.180664\"/>\n",
       "<use xlink:href=\"#glyph-4-13\" x=\"224.738281\" y=\"18.180664\"/>\n",
       "<use xlink:href=\"#glyph-4-5\" x=\"235.738281\" y=\"18.180664\"/>\n",
       "<use xlink:href=\"#glyph-4-14\" x=\"244.738281\" y=\"18.180664\"/>\n",
       "<use xlink:href=\"#glyph-4-14\" x=\"252.738281\" y=\"18.180664\"/>\n",
       "<use xlink:href=\"#glyph-4-1\" x=\"260.738281\" y=\"18.180664\"/>\n",
       "<use xlink:href=\"#glyph-4-15\" x=\"264.738281\" y=\"18.180664\"/>\n",
       "<use xlink:href=\"#glyph-4-16\" x=\"273.738281\" y=\"18.180664\"/>\n",
       "<use xlink:href=\"#glyph-4-14\" x=\"282.738281\" y=\"18.180664\"/>\n",
       "<use xlink:href=\"#glyph-4-6\" x=\"290.738281\" y=\"18.180664\"/>\n",
       "<use xlink:href=\"#glyph-4-17\" x=\"295.738281\" y=\"18.180664\"/>\n",
       "<use xlink:href=\"#glyph-4-18\" x=\"304.738281\" y=\"18.180664\"/>\n",
       "<use xlink:href=\"#glyph-4-6\" x=\"312.738281\" y=\"18.180664\"/>\n",
       "<use xlink:href=\"#glyph-4-19\" x=\"317.738281\" y=\"18.180664\"/>\n",
       "<use xlink:href=\"#glyph-4-20\" x=\"328.738281\" y=\"18.180664\"/>\n",
       "<use xlink:href=\"#glyph-4-21\" x=\"336.738281\" y=\"18.180664\"/>\n",
       "<use xlink:href=\"#glyph-4-5\" x=\"345.738281\" y=\"18.180664\"/>\n",
       "<use xlink:href=\"#glyph-4-4\" x=\"354.738281\" y=\"18.180664\"/>\n",
       "<use xlink:href=\"#glyph-4-1\" x=\"360.738281\" y=\"18.180664\"/>\n",
       "<use xlink:href=\"#glyph-4-5\" x=\"364.738281\" y=\"18.180664\"/>\n",
       "<use xlink:href=\"#glyph-4-16\" x=\"373.738281\" y=\"18.180664\"/>\n",
       "<use xlink:href=\"#glyph-4-22\" x=\"382.738281\" y=\"18.180664\"/>\n",
       "<use xlink:href=\"#glyph-4-5\" x=\"390.738281\" y=\"18.180664\"/>\n",
       "<use xlink:href=\"#glyph-4-6\" x=\"399.738281\" y=\"18.180664\"/>\n",
       "<use xlink:href=\"#glyph-4-11\" x=\"404.738281\" y=\"18.180664\"/>\n",
       "<use xlink:href=\"#glyph-4-16\" x=\"413.738281\" y=\"18.180664\"/>\n",
       "<use xlink:href=\"#glyph-4-23\" x=\"422.738281\" y=\"18.180664\"/>\n",
       "<use xlink:href=\"#glyph-4-6\" x=\"431.738281\" y=\"18.180664\"/>\n",
       "<use xlink:href=\"#glyph-4-13\" x=\"436.738281\" y=\"18.180664\"/>\n",
       "<use xlink:href=\"#glyph-4-3\" x=\"447.738281\" y=\"18.180664\"/>\n",
       "<use xlink:href=\"#glyph-4-17\" x=\"456.738281\" y=\"18.180664\"/>\n",
       "<use xlink:href=\"#glyph-4-14\" x=\"465.738281\" y=\"18.180664\"/>\n",
       "<use xlink:href=\"#glyph-4-22\" x=\"473.738281\" y=\"18.180664\"/>\n",
       "<use xlink:href=\"#glyph-4-4\" x=\"481.738281\" y=\"18.180664\"/>\n",
       "<use xlink:href=\"#glyph-4-1\" x=\"487.738281\" y=\"18.180664\"/>\n",
       "<use xlink:href=\"#glyph-4-21\" x=\"491.738281\" y=\"18.180664\"/>\n",
       "<use xlink:href=\"#glyph-4-12\" x=\"500.738281\" y=\"18.180664\"/>\n",
       "<use xlink:href=\"#glyph-4-1\" x=\"505.738281\" y=\"18.180664\"/>\n",
       "<use xlink:href=\"#glyph-4-15\" x=\"509.738281\" y=\"18.180664\"/>\n",
       "<use xlink:href=\"#glyph-4-16\" x=\"518.738281\" y=\"18.180664\"/>\n",
       "<use xlink:href=\"#glyph-4-6\" x=\"527.738281\" y=\"18.180664\"/>\n",
       "<use xlink:href=\"#glyph-4-13\" x=\"532.738281\" y=\"18.180664\"/>\n",
       "<use xlink:href=\"#glyph-4-12\" x=\"543.738281\" y=\"18.180664\"/>\n",
       "<use xlink:href=\"#glyph-4-11\" x=\"548.738281\" y=\"18.180664\"/>\n",
       "<use xlink:href=\"#glyph-4-12\" x=\"557.738281\" y=\"18.180664\"/>\n",
       "<use xlink:href=\"#glyph-4-3\" x=\"562.738281\" y=\"18.180664\"/>\n",
       "<use xlink:href=\"#glyph-4-14\" x=\"571.738281\" y=\"18.180664\"/>\n",
       "</g>\n",
       "</svg>\n"
      ],
      "text/plain": [
       "plot without title"
      ]
     },
     "metadata": {
      "application/pdf": {
       "height": 480,
       "width": 750
      },
      "image/jpeg": {
       "height": 480,
       "width": 750
      },
      "image/png": {
       "height": 480,
       "width": 750
      },
      "image/svg+xml": {
       "height": 480,
       "isolated": true,
       "width": 750
      }
     },
     "output_type": "display_data"
    }
   ],
   "source": [
    "options(repr.plot.height = 8, repr.plot.width = 12.5)\n",
    "\n",
    "subscription_status_engagement_plot <- final_wrangled_data |> \n",
    "  ggplot(aes(x = experience, y = future_sessions_count, fill = subscribe)) +\n",
    "      stat_summary(fun = \"mean\", geom = \"bar\", position = \"dodge\") +\n",
    "      labs(title = \"Figure 1: Average Future Sessions by Experience and Subscription Status\",\n",
    "      x = \"Experience Level\", y = \"Average Future Sessions\", fill = \"Subscribed?\") +\n",
    "      theme_minimal(base_size = 14) +\n",
    "      theme(legend.position = \"right\", axis.text.x = element_text(angle = 45, hjust = 1))\n",
    "\n",
    "subscription_status_engagement_plot"
   ]
  },
  {
   "cell_type": "markdown",
   "id": "c4df0a77-73c9-4179-a148-bb44a22cdbf4",
   "metadata": {},
   "source": [
    "The plot above (Figure 1) visualizes something we already predicted which was a relationship between a players subscription status indicating their possible ongoing interest. From the plot we can clearly see that the two biggest spikes in average future sessions are classified as true in the subscription data category. This makes sense as users who bother to sign up for the emails are also likely the ones to contribute more data to the study. The one point of note in this plot is the discrepancy in this assumption for the *beginner* experience level. This can most likely be attributed to the fact that beginners probably have no Minecraft experience and are unsure if they will enjoy it so don't sign up for emails, but then end up getting intrigued by it and keep coming back!"
   ]
  },
  {
   "cell_type": "markdown",
   "id": "9bf1db70-8ce0-4c0d-92d3-510fca4bbcd6",
   "metadata": {},
   "source": [
    "## Data Analysis"
   ]
  },
  {
   "cell_type": "markdown",
   "id": "4da6a793-abfc-44e6-8c04-31286a665b5e",
   "metadata": {},
   "source": [
    "Now that the data is prepped and ready to go as well as some connections within the dataset being made, we can move on to finally working to answer our question. One important thing we must do first is since we intend on using the **experience** and **subscribe** data in our prediction model we are unable to keep them as their current type of character. To resolve this, we will convert the subscribe column into 0's representing false (or unsubscribed), and 1's representing true (subscribed). We will repeat this with the experience column but instead having each experience level starting from beginner up to pro classified as 0 through 4."
   ]
  },
  {
   "cell_type": "code",
   "execution_count": 13,
   "id": "f67e4698-c31f-4391-9876-faa559a54619",
   "metadata": {},
   "outputs": [
    {
     "data": {
      "text/html": [
       "<table class=\"dataframe\">\n",
       "<caption>A tibble: 6 × 6</caption>\n",
       "<thead>\n",
       "\t<tr><th scope=col>age</th><th scope=col>gender</th><th scope=col>subscribe</th><th scope=col>experience</th><th scope=col>first_session_duration</th><th scope=col>future_sessions_count</th></tr>\n",
       "\t<tr><th scope=col>&lt;dbl&gt;</th><th scope=col>&lt;chr&gt;</th><th scope=col>&lt;dbl&gt;</th><th scope=col>&lt;dbl&gt;</th><th scope=col>&lt;dbl&gt;</th><th scope=col>&lt;dbl&gt;</th></tr>\n",
       "</thead>\n",
       "<tbody>\n",
       "\t<tr><td> 9</td><td>Male  </td><td>1</td><td>4</td><td>74</td><td>26</td></tr>\n",
       "\t<tr><td>17</td><td>Male  </td><td>1</td><td>3</td><td>12</td><td> 2</td></tr>\n",
       "\t<tr><td>17</td><td>Male  </td><td>0</td><td>3</td><td> 5</td><td> 0</td></tr>\n",
       "\t<tr><td>21</td><td>Female</td><td>1</td><td>1</td><td>50</td><td> 0</td></tr>\n",
       "\t<tr><td>21</td><td>Male  </td><td>1</td><td>2</td><td> 9</td><td> 0</td></tr>\n",
       "\t<tr><td>21</td><td>Male  </td><td>0</td><td>1</td><td> 5</td><td> 0</td></tr>\n",
       "</tbody>\n",
       "</table>\n"
      ],
      "text/latex": [
       "A tibble: 6 × 6\n",
       "\\begin{tabular}{llllll}\n",
       " age & gender & subscribe & experience & first\\_session\\_duration & future\\_sessions\\_count\\\\\n",
       " <dbl> & <chr> & <dbl> & <dbl> & <dbl> & <dbl>\\\\\n",
       "\\hline\n",
       "\t  9 & Male   & 1 & 4 & 74 & 26\\\\\n",
       "\t 17 & Male   & 1 & 3 & 12 &  2\\\\\n",
       "\t 17 & Male   & 0 & 3 &  5 &  0\\\\\n",
       "\t 21 & Female & 1 & 1 & 50 &  0\\\\\n",
       "\t 21 & Male   & 1 & 2 &  9 &  0\\\\\n",
       "\t 21 & Male   & 0 & 1 &  5 &  0\\\\\n",
       "\\end{tabular}\n"
      ],
      "text/markdown": [
       "\n",
       "A tibble: 6 × 6\n",
       "\n",
       "| age &lt;dbl&gt; | gender &lt;chr&gt; | subscribe &lt;dbl&gt; | experience &lt;dbl&gt; | first_session_duration &lt;dbl&gt; | future_sessions_count &lt;dbl&gt; |\n",
       "|---|---|---|---|---|---|\n",
       "|  9 | Male   | 1 | 4 | 74 | 26 |\n",
       "| 17 | Male   | 1 | 3 | 12 |  2 |\n",
       "| 17 | Male   | 0 | 3 |  5 |  0 |\n",
       "| 21 | Female | 1 | 1 | 50 |  0 |\n",
       "| 21 | Male   | 1 | 2 |  9 |  0 |\n",
       "| 21 | Male   | 0 | 1 |  5 |  0 |\n",
       "\n"
      ],
      "text/plain": [
       "  age gender subscribe experience first_session_duration future_sessions_count\n",
       "1  9  Male   1         4          74                     26                   \n",
       "2 17  Male   1         3          12                      2                   \n",
       "3 17  Male   0         3           5                      0                   \n",
       "4 21  Female 1         1          50                      0                   \n",
       "5 21  Male   1         2           9                      0                   \n",
       "6 21  Male   0         1           5                      0                   "
      ]
     },
     "metadata": {},
     "output_type": "display_data"
    }
   ],
   "source": [
    "final_wrangled_data$subscribe <- as.numeric(final_wrangled_data$subscribe)\n",
    "\n",
    "experience_levels <- c(\"Beginner\" = 0, \"Amateur\" = 1, \"Regular\" = 2, \"Veteran\" = 3, \"Pro\" = 4)\n",
    "\n",
    "final_wrangled_data$experience <- as.numeric(experience_levels[final_wrangled_data$experience])\n",
    "\n",
    "head(final_wrangled_data)"
   ]
  },
  {
   "cell_type": "markdown",
   "id": "586f2fdd-a027-43fc-b67a-b908f2762797",
   "metadata": {},
   "source": [
    "Age and gender will simply remain as they are since we will not be using them in our prediction model, but afterwards when we analyse the results to help spot any age or gender based trends! Now we will begin to build our model starting by splitting our data up and then to ensure our data doesn't cause any unexpected issues, we will remove any rows with **NA** data from both the training and testing sets."
   ]
  },
  {
   "cell_type": "code",
   "execution_count": 14,
   "id": "0809fcf7-aba5-4350-b96a-8fe30072dd19",
   "metadata": {},
   "outputs": [],
   "source": [
    "# To ensure our results are reproducible for now\n",
    "set.seed(5)\n",
    "\n",
    "# Putting in a 75% training/testing split, may change later depending on performance\n",
    "plaicraft_split <- initial_split(final_wrangled_data, prop = 0.75, strata = future_sessions_count)\n",
    "plaicraft_train <- training(plaicraft_split) \n",
    "plaicraft_test <- testing(plaicraft_split)\n",
    "\n",
    "plaicraft_train <- drop_na(plaicraft_train)\n",
    "plaicraft_test <- drop_na(plaicraft_test)"
   ]
  },
  {
   "cell_type": "markdown",
   "id": "6e6a2808-8479-4ccf-be13-79de532e042e",
   "metadata": {},
   "source": [
    "Alright, now that we have our data split up and stratified to our target predictor we will get our models recipe and specification. Since we are using multiple predictors (**experience, subscribe, and first_session_duration**) we must scale and center our predictors as well. Then as usual we will specify our model to use KNN Regression!"
   ]
  },
  {
   "cell_type": "code",
   "execution_count": 15,
   "id": "1d97f179-de9a-4da8-8038-042d329c399b",
   "metadata": {},
   "outputs": [],
   "source": [
    "plaicraft_recipe <- recipe(future_sessions_count ~ first_session_duration + subscribe + experience, data = plaicraft_train) |>\n",
    "  step_scale(all_predictors()) |>\n",
    "  step_center(all_predictors())\n",
    "\n",
    "plaicraft_spec <- nearest_neighbor(weight_func = \"rectangular\",\n",
    "                              neighbors = tune()) |> set_engine(\"kknn\") |> set_mode(\"regression\")"
   ]
  },
  {
   "cell_type": "markdown",
   "id": "b24224e4-806d-49fa-8b1b-3695be3b10af",
   "metadata": {},
   "source": [
    "Now since the provided dataset is on the smaller side, we chose to employ cross-validation so we could give the model more experience by training it on more subsets of our dataset. Specifically for our case we are using 4-fold cross validation and keeping the stratified variable the same. (we chose 4 fold because of our data dimensions as 5-fold was returning a size-related mismatch error)"
   ]
  },
  {
   "cell_type": "code",
   "execution_count": 16,
   "id": "f93acb51-f359-47c6-98e0-80cd807a8bf1",
   "metadata": {},
   "outputs": [],
   "source": [
    "plaicraft_vfold <- vfold_cv(plaicraft_train, v = 4, strata = future_sessions_count)"
   ]
  },
  {
   "cell_type": "markdown",
   "id": "38480b44-bb74-4259-bed9-21f88f6d971e",
   "metadata": {},
   "source": [
    "It's now time to put our specification and recipe into our workflow:"
   ]
  },
  {
   "cell_type": "code",
   "execution_count": 17,
   "id": "43bc1830-aa58-446f-9814-bb774b4e79cd",
   "metadata": {},
   "outputs": [
    {
     "data": {
      "text/plain": [
       "══ Workflow ════════════════════════════════════════════════════════════════════\n",
       "\u001b[3mPreprocessor:\u001b[23m Recipe\n",
       "\u001b[3mModel:\u001b[23m nearest_neighbor()\n",
       "\n",
       "── Preprocessor ────────────────────────────────────────────────────────────────\n",
       "2 Recipe Steps\n",
       "\n",
       "• step_scale()\n",
       "• step_center()\n",
       "\n",
       "── Model ───────────────────────────────────────────────────────────────────────\n",
       "K-Nearest Neighbor Model Specification (regression)\n",
       "\n",
       "Main Arguments:\n",
       "  neighbors = tune()\n",
       "  weight_func = rectangular\n",
       "\n",
       "Computational engine: kknn \n"
      ]
     },
     "metadata": {},
     "output_type": "display_data"
    }
   ],
   "source": [
    "plaicraft_wkflw <- workflow() |>\n",
    "  add_recipe(plaicraft_recipe) |>\n",
    "  add_model(plaicraft_spec)\n",
    "\n",
    "plaicraft_wkflw"
   ]
  },
  {
   "cell_type": "markdown",
   "id": "4f0b0f6b-e641-4346-a444-bdc2e6c8aa60",
   "metadata": {},
   "source": [
    "That looks pretty good to us. Since our dataset is small, we will only run our cross-validation for a grid of numbers for neighbors ranging from **$K = 1$** neighbors up to $K = 30$ neighbors. We predict that the $K = 1$ neighbor will have worse performance due to the inherent overfitting that will occur, so this will help us to determine the optimal value to use for our model."
   ]
  },
  {
   "cell_type": "code",
   "execution_count": 18,
   "id": "c9797d41-0e7f-41a7-8d6c-2c73f7bd8c8f",
   "metadata": {},
   "outputs": [
    {
     "data": {
      "text/html": [
       "<table class=\"dataframe\">\n",
       "<caption>A tibble: 30 × 7</caption>\n",
       "<thead>\n",
       "\t<tr><th scope=col>neighbors</th><th scope=col>.metric</th><th scope=col>.estimator</th><th scope=col>mean</th><th scope=col>n</th><th scope=col>std_err</th><th scope=col>.config</th></tr>\n",
       "\t<tr><th scope=col>&lt;dbl&gt;</th><th scope=col>&lt;chr&gt;</th><th scope=col>&lt;chr&gt;</th><th scope=col>&lt;dbl&gt;</th><th scope=col>&lt;int&gt;</th><th scope=col>&lt;dbl&gt;</th><th scope=col>&lt;chr&gt;</th></tr>\n",
       "</thead>\n",
       "<tbody>\n",
       "\t<tr><td> 1</td><td>rmse</td><td>standard</td><td>13.165979</td><td>4</td><td>1.1812737</td><td>Preprocessor1_Model01</td></tr>\n",
       "\t<tr><td> 2</td><td>rmse</td><td>standard</td><td>10.061962</td><td>4</td><td>0.9771048</td><td>Preprocessor1_Model02</td></tr>\n",
       "\t<tr><td> 3</td><td>rmse</td><td>standard</td><td> 9.326214</td><td>4</td><td>1.5897068</td><td>Preprocessor1_Model03</td></tr>\n",
       "\t<tr><td> 4</td><td>rmse</td><td>standard</td><td> 8.775867</td><td>4</td><td>1.5433174</td><td>Preprocessor1_Model04</td></tr>\n",
       "\t<tr><td> 5</td><td>rmse</td><td>standard</td><td> 8.578520</td><td>4</td><td>1.6516928</td><td>Preprocessor1_Model05</td></tr>\n",
       "\t<tr><td> 6</td><td>rmse</td><td>standard</td><td> 8.716003</td><td>4</td><td>1.4831746</td><td>Preprocessor1_Model06</td></tr>\n",
       "\t<tr><td> 7</td><td>rmse</td><td>standard</td><td> 8.341270</td><td>4</td><td>1.6744072</td><td>Preprocessor1_Model07</td></tr>\n",
       "\t<tr><td> 8</td><td>rmse</td><td>standard</td><td> 8.360054</td><td>4</td><td>1.7026888</td><td>Preprocessor1_Model08</td></tr>\n",
       "\t<tr><td> 9</td><td>rmse</td><td>standard</td><td> 8.301414</td><td>4</td><td>1.7534404</td><td>Preprocessor1_Model09</td></tr>\n",
       "\t<tr><td>10</td><td>rmse</td><td>standard</td><td> 8.296877</td><td>4</td><td>1.7519680</td><td>Preprocessor1_Model10</td></tr>\n",
       "\t<tr><td>11</td><td>rmse</td><td>standard</td><td> 8.231181</td><td>4</td><td>1.7748487</td><td>Preprocessor1_Model11</td></tr>\n",
       "\t<tr><td>12</td><td>rmse</td><td>standard</td><td> 8.221979</td><td>4</td><td>1.7549764</td><td>Preprocessor1_Model12</td></tr>\n",
       "\t<tr><td>13</td><td>rmse</td><td>standard</td><td> 8.059227</td><td>4</td><td>1.7675135</td><td>Preprocessor1_Model13</td></tr>\n",
       "\t<tr><td>14</td><td>rmse</td><td>standard</td><td> 8.124510</td><td>4</td><td>1.7499886</td><td>Preprocessor1_Model14</td></tr>\n",
       "\t<tr><td>15</td><td>rmse</td><td>standard</td><td> 8.015644</td><td>4</td><td>1.7811939</td><td>Preprocessor1_Model15</td></tr>\n",
       "\t<tr><td>16</td><td>rmse</td><td>standard</td><td> 8.013663</td><td>4</td><td>1.7660289</td><td>Preprocessor1_Model16</td></tr>\n",
       "\t<tr><td>17</td><td>rmse</td><td>standard</td><td> 8.049897</td><td>4</td><td>1.7357515</td><td>Preprocessor1_Model17</td></tr>\n",
       "\t<tr><td>18</td><td>rmse</td><td>standard</td><td> 8.066359</td><td>4</td><td>1.7254152</td><td>Preprocessor1_Model18</td></tr>\n",
       "\t<tr><td>19</td><td>rmse</td><td>standard</td><td> 8.049230</td><td>4</td><td>1.7614018</td><td>Preprocessor1_Model19</td></tr>\n",
       "\t<tr><td>20</td><td>rmse</td><td>standard</td><td> 8.068010</td><td>4</td><td>1.7694235</td><td>Preprocessor1_Model20</td></tr>\n",
       "\t<tr><td>21</td><td>rmse</td><td>standard</td><td> 8.102051</td><td>4</td><td>1.7746985</td><td>Preprocessor1_Model21</td></tr>\n",
       "\t<tr><td>22</td><td>rmse</td><td>standard</td><td> 8.100324</td><td>4</td><td>1.7747535</td><td>Preprocessor1_Model22</td></tr>\n",
       "\t<tr><td>23</td><td>rmse</td><td>standard</td><td> 8.104810</td><td>4</td><td>1.7975059</td><td>Preprocessor1_Model23</td></tr>\n",
       "\t<tr><td>24</td><td>rmse</td><td>standard</td><td> 8.134226</td><td>4</td><td>1.7848702</td><td>Preprocessor1_Model24</td></tr>\n",
       "\t<tr><td>25</td><td>rmse</td><td>standard</td><td> 8.044660</td><td>4</td><td>1.8244163</td><td>Preprocessor1_Model25</td></tr>\n",
       "\t<tr><td>26</td><td>rmse</td><td>standard</td><td> 8.051252</td><td>4</td><td>1.8184800</td><td>Preprocessor1_Model26</td></tr>\n",
       "\t<tr><td>27</td><td>rmse</td><td>standard</td><td> 8.063714</td><td>4</td><td>1.8164901</td><td>Preprocessor1_Model27</td></tr>\n",
       "\t<tr><td>28</td><td>rmse</td><td>standard</td><td> 8.052555</td><td>4</td><td>1.7944379</td><td>Preprocessor1_Model28</td></tr>\n",
       "\t<tr><td>29</td><td>rmse</td><td>standard</td><td> 8.055596</td><td>4</td><td>1.7221227</td><td>Preprocessor1_Model29</td></tr>\n",
       "\t<tr><td>30</td><td>rmse</td><td>standard</td><td> 8.041009</td><td>4</td><td>1.7296593</td><td>Preprocessor1_Model30</td></tr>\n",
       "</tbody>\n",
       "</table>\n"
      ],
      "text/latex": [
       "A tibble: 30 × 7\n",
       "\\begin{tabular}{lllllll}\n",
       " neighbors & .metric & .estimator & mean & n & std\\_err & .config\\\\\n",
       " <dbl> & <chr> & <chr> & <dbl> & <int> & <dbl> & <chr>\\\\\n",
       "\\hline\n",
       "\t  1 & rmse & standard & 13.165979 & 4 & 1.1812737 & Preprocessor1\\_Model01\\\\\n",
       "\t  2 & rmse & standard & 10.061962 & 4 & 0.9771048 & Preprocessor1\\_Model02\\\\\n",
       "\t  3 & rmse & standard &  9.326214 & 4 & 1.5897068 & Preprocessor1\\_Model03\\\\\n",
       "\t  4 & rmse & standard &  8.775867 & 4 & 1.5433174 & Preprocessor1\\_Model04\\\\\n",
       "\t  5 & rmse & standard &  8.578520 & 4 & 1.6516928 & Preprocessor1\\_Model05\\\\\n",
       "\t  6 & rmse & standard &  8.716003 & 4 & 1.4831746 & Preprocessor1\\_Model06\\\\\n",
       "\t  7 & rmse & standard &  8.341270 & 4 & 1.6744072 & Preprocessor1\\_Model07\\\\\n",
       "\t  8 & rmse & standard &  8.360054 & 4 & 1.7026888 & Preprocessor1\\_Model08\\\\\n",
       "\t  9 & rmse & standard &  8.301414 & 4 & 1.7534404 & Preprocessor1\\_Model09\\\\\n",
       "\t 10 & rmse & standard &  8.296877 & 4 & 1.7519680 & Preprocessor1\\_Model10\\\\\n",
       "\t 11 & rmse & standard &  8.231181 & 4 & 1.7748487 & Preprocessor1\\_Model11\\\\\n",
       "\t 12 & rmse & standard &  8.221979 & 4 & 1.7549764 & Preprocessor1\\_Model12\\\\\n",
       "\t 13 & rmse & standard &  8.059227 & 4 & 1.7675135 & Preprocessor1\\_Model13\\\\\n",
       "\t 14 & rmse & standard &  8.124510 & 4 & 1.7499886 & Preprocessor1\\_Model14\\\\\n",
       "\t 15 & rmse & standard &  8.015644 & 4 & 1.7811939 & Preprocessor1\\_Model15\\\\\n",
       "\t 16 & rmse & standard &  8.013663 & 4 & 1.7660289 & Preprocessor1\\_Model16\\\\\n",
       "\t 17 & rmse & standard &  8.049897 & 4 & 1.7357515 & Preprocessor1\\_Model17\\\\\n",
       "\t 18 & rmse & standard &  8.066359 & 4 & 1.7254152 & Preprocessor1\\_Model18\\\\\n",
       "\t 19 & rmse & standard &  8.049230 & 4 & 1.7614018 & Preprocessor1\\_Model19\\\\\n",
       "\t 20 & rmse & standard &  8.068010 & 4 & 1.7694235 & Preprocessor1\\_Model20\\\\\n",
       "\t 21 & rmse & standard &  8.102051 & 4 & 1.7746985 & Preprocessor1\\_Model21\\\\\n",
       "\t 22 & rmse & standard &  8.100324 & 4 & 1.7747535 & Preprocessor1\\_Model22\\\\\n",
       "\t 23 & rmse & standard &  8.104810 & 4 & 1.7975059 & Preprocessor1\\_Model23\\\\\n",
       "\t 24 & rmse & standard &  8.134226 & 4 & 1.7848702 & Preprocessor1\\_Model24\\\\\n",
       "\t 25 & rmse & standard &  8.044660 & 4 & 1.8244163 & Preprocessor1\\_Model25\\\\\n",
       "\t 26 & rmse & standard &  8.051252 & 4 & 1.8184800 & Preprocessor1\\_Model26\\\\\n",
       "\t 27 & rmse & standard &  8.063714 & 4 & 1.8164901 & Preprocessor1\\_Model27\\\\\n",
       "\t 28 & rmse & standard &  8.052555 & 4 & 1.7944379 & Preprocessor1\\_Model28\\\\\n",
       "\t 29 & rmse & standard &  8.055596 & 4 & 1.7221227 & Preprocessor1\\_Model29\\\\\n",
       "\t 30 & rmse & standard &  8.041009 & 4 & 1.7296593 & Preprocessor1\\_Model30\\\\\n",
       "\\end{tabular}\n"
      ],
      "text/markdown": [
       "\n",
       "A tibble: 30 × 7\n",
       "\n",
       "| neighbors &lt;dbl&gt; | .metric &lt;chr&gt; | .estimator &lt;chr&gt; | mean &lt;dbl&gt; | n &lt;int&gt; | std_err &lt;dbl&gt; | .config &lt;chr&gt; |\n",
       "|---|---|---|---|---|---|---|\n",
       "|  1 | rmse | standard | 13.165979 | 4 | 1.1812737 | Preprocessor1_Model01 |\n",
       "|  2 | rmse | standard | 10.061962 | 4 | 0.9771048 | Preprocessor1_Model02 |\n",
       "|  3 | rmse | standard |  9.326214 | 4 | 1.5897068 | Preprocessor1_Model03 |\n",
       "|  4 | rmse | standard |  8.775867 | 4 | 1.5433174 | Preprocessor1_Model04 |\n",
       "|  5 | rmse | standard |  8.578520 | 4 | 1.6516928 | Preprocessor1_Model05 |\n",
       "|  6 | rmse | standard |  8.716003 | 4 | 1.4831746 | Preprocessor1_Model06 |\n",
       "|  7 | rmse | standard |  8.341270 | 4 | 1.6744072 | Preprocessor1_Model07 |\n",
       "|  8 | rmse | standard |  8.360054 | 4 | 1.7026888 | Preprocessor1_Model08 |\n",
       "|  9 | rmse | standard |  8.301414 | 4 | 1.7534404 | Preprocessor1_Model09 |\n",
       "| 10 | rmse | standard |  8.296877 | 4 | 1.7519680 | Preprocessor1_Model10 |\n",
       "| 11 | rmse | standard |  8.231181 | 4 | 1.7748487 | Preprocessor1_Model11 |\n",
       "| 12 | rmse | standard |  8.221979 | 4 | 1.7549764 | Preprocessor1_Model12 |\n",
       "| 13 | rmse | standard |  8.059227 | 4 | 1.7675135 | Preprocessor1_Model13 |\n",
       "| 14 | rmse | standard |  8.124510 | 4 | 1.7499886 | Preprocessor1_Model14 |\n",
       "| 15 | rmse | standard |  8.015644 | 4 | 1.7811939 | Preprocessor1_Model15 |\n",
       "| 16 | rmse | standard |  8.013663 | 4 | 1.7660289 | Preprocessor1_Model16 |\n",
       "| 17 | rmse | standard |  8.049897 | 4 | 1.7357515 | Preprocessor1_Model17 |\n",
       "| 18 | rmse | standard |  8.066359 | 4 | 1.7254152 | Preprocessor1_Model18 |\n",
       "| 19 | rmse | standard |  8.049230 | 4 | 1.7614018 | Preprocessor1_Model19 |\n",
       "| 20 | rmse | standard |  8.068010 | 4 | 1.7694235 | Preprocessor1_Model20 |\n",
       "| 21 | rmse | standard |  8.102051 | 4 | 1.7746985 | Preprocessor1_Model21 |\n",
       "| 22 | rmse | standard |  8.100324 | 4 | 1.7747535 | Preprocessor1_Model22 |\n",
       "| 23 | rmse | standard |  8.104810 | 4 | 1.7975059 | Preprocessor1_Model23 |\n",
       "| 24 | rmse | standard |  8.134226 | 4 | 1.7848702 | Preprocessor1_Model24 |\n",
       "| 25 | rmse | standard |  8.044660 | 4 | 1.8244163 | Preprocessor1_Model25 |\n",
       "| 26 | rmse | standard |  8.051252 | 4 | 1.8184800 | Preprocessor1_Model26 |\n",
       "| 27 | rmse | standard |  8.063714 | 4 | 1.8164901 | Preprocessor1_Model27 |\n",
       "| 28 | rmse | standard |  8.052555 | 4 | 1.7944379 | Preprocessor1_Model28 |\n",
       "| 29 | rmse | standard |  8.055596 | 4 | 1.7221227 | Preprocessor1_Model29 |\n",
       "| 30 | rmse | standard |  8.041009 | 4 | 1.7296593 | Preprocessor1_Model30 |\n",
       "\n"
      ],
      "text/plain": [
       "   neighbors .metric .estimator mean      n std_err   .config              \n",
       "1   1        rmse    standard   13.165979 4 1.1812737 Preprocessor1_Model01\n",
       "2   2        rmse    standard   10.061962 4 0.9771048 Preprocessor1_Model02\n",
       "3   3        rmse    standard    9.326214 4 1.5897068 Preprocessor1_Model03\n",
       "4   4        rmse    standard    8.775867 4 1.5433174 Preprocessor1_Model04\n",
       "5   5        rmse    standard    8.578520 4 1.6516928 Preprocessor1_Model05\n",
       "6   6        rmse    standard    8.716003 4 1.4831746 Preprocessor1_Model06\n",
       "7   7        rmse    standard    8.341270 4 1.6744072 Preprocessor1_Model07\n",
       "8   8        rmse    standard    8.360054 4 1.7026888 Preprocessor1_Model08\n",
       "9   9        rmse    standard    8.301414 4 1.7534404 Preprocessor1_Model09\n",
       "10 10        rmse    standard    8.296877 4 1.7519680 Preprocessor1_Model10\n",
       "11 11        rmse    standard    8.231181 4 1.7748487 Preprocessor1_Model11\n",
       "12 12        rmse    standard    8.221979 4 1.7549764 Preprocessor1_Model12\n",
       "13 13        rmse    standard    8.059227 4 1.7675135 Preprocessor1_Model13\n",
       "14 14        rmse    standard    8.124510 4 1.7499886 Preprocessor1_Model14\n",
       "15 15        rmse    standard    8.015644 4 1.7811939 Preprocessor1_Model15\n",
       "16 16        rmse    standard    8.013663 4 1.7660289 Preprocessor1_Model16\n",
       "17 17        rmse    standard    8.049897 4 1.7357515 Preprocessor1_Model17\n",
       "18 18        rmse    standard    8.066359 4 1.7254152 Preprocessor1_Model18\n",
       "19 19        rmse    standard    8.049230 4 1.7614018 Preprocessor1_Model19\n",
       "20 20        rmse    standard    8.068010 4 1.7694235 Preprocessor1_Model20\n",
       "21 21        rmse    standard    8.102051 4 1.7746985 Preprocessor1_Model21\n",
       "22 22        rmse    standard    8.100324 4 1.7747535 Preprocessor1_Model22\n",
       "23 23        rmse    standard    8.104810 4 1.7975059 Preprocessor1_Model23\n",
       "24 24        rmse    standard    8.134226 4 1.7848702 Preprocessor1_Model24\n",
       "25 25        rmse    standard    8.044660 4 1.8244163 Preprocessor1_Model25\n",
       "26 26        rmse    standard    8.051252 4 1.8184800 Preprocessor1_Model26\n",
       "27 27        rmse    standard    8.063714 4 1.8164901 Preprocessor1_Model27\n",
       "28 28        rmse    standard    8.052555 4 1.7944379 Preprocessor1_Model28\n",
       "29 29        rmse    standard    8.055596 4 1.7221227 Preprocessor1_Model29\n",
       "30 30        rmse    standard    8.041009 4 1.7296593 Preprocessor1_Model30"
      ]
     },
     "metadata": {},
     "output_type": "display_data"
    }
   ],
   "source": [
    "gridvals <- tibble(neighbors = seq(from = 1, to = 30, by = 1))\n",
    "\n",
    "plaicraft_results <- plaicraft_wkflw |>\n",
    "  tune_grid(resamples = plaicraft_vfold, grid = gridvals) |>\n",
    "  collect_metrics() |>\n",
    "  filter(.metric == \"rmse\")\n",
    "\n",
    "plaicraft_results"
   ]
  },
  {
   "cell_type": "markdown",
   "id": "4c51bbbe-db06-46d1-960b-4d800650e129",
   "metadata": {},
   "source": [
    "And now we'll grab the row which has the lowest RMSE to determine which $K$ we will use:"
   ]
  },
  {
   "cell_type": "code",
   "execution_count": 19,
   "id": "96788dae-c362-45ab-a2ad-fad7b6a44a03",
   "metadata": {},
   "outputs": [
    {
     "data": {
      "text/html": [
       "<table class=\"dataframe\">\n",
       "<caption>A tibble: 1 × 7</caption>\n",
       "<thead>\n",
       "\t<tr><th scope=col>neighbors</th><th scope=col>.metric</th><th scope=col>.estimator</th><th scope=col>mean</th><th scope=col>n</th><th scope=col>std_err</th><th scope=col>.config</th></tr>\n",
       "\t<tr><th scope=col>&lt;dbl&gt;</th><th scope=col>&lt;chr&gt;</th><th scope=col>&lt;chr&gt;</th><th scope=col>&lt;dbl&gt;</th><th scope=col>&lt;int&gt;</th><th scope=col>&lt;dbl&gt;</th><th scope=col>&lt;chr&gt;</th></tr>\n",
       "</thead>\n",
       "<tbody>\n",
       "\t<tr><td>16</td><td>rmse</td><td>standard</td><td>8.013663</td><td>4</td><td>1.766029</td><td>Preprocessor1_Model16</td></tr>\n",
       "</tbody>\n",
       "</table>\n"
      ],
      "text/latex": [
       "A tibble: 1 × 7\n",
       "\\begin{tabular}{lllllll}\n",
       " neighbors & .metric & .estimator & mean & n & std\\_err & .config\\\\\n",
       " <dbl> & <chr> & <chr> & <dbl> & <int> & <dbl> & <chr>\\\\\n",
       "\\hline\n",
       "\t 16 & rmse & standard & 8.013663 & 4 & 1.766029 & Preprocessor1\\_Model16\\\\\n",
       "\\end{tabular}\n"
      ],
      "text/markdown": [
       "\n",
       "A tibble: 1 × 7\n",
       "\n",
       "| neighbors &lt;dbl&gt; | .metric &lt;chr&gt; | .estimator &lt;chr&gt; | mean &lt;dbl&gt; | n &lt;int&gt; | std_err &lt;dbl&gt; | .config &lt;chr&gt; |\n",
       "|---|---|---|---|---|---|---|\n",
       "| 16 | rmse | standard | 8.013663 | 4 | 1.766029 | Preprocessor1_Model16 |\n",
       "\n"
      ],
      "text/plain": [
       "  neighbors .metric .estimator mean     n std_err  .config              \n",
       "1 16        rmse    standard   8.013663 4 1.766029 Preprocessor1_Model16"
      ]
     },
     "metadata": {},
     "output_type": "display_data"
    }
   ],
   "source": [
    "plaicraft_min <- plaicraft_results |>\n",
    "  filter(mean == min(mean))\n",
    "\n",
    "plaicraft_min"
   ]
  },
  {
   "cell_type": "markdown",
   "id": "9425acce-37e7-4481-bb64-dff08aebc658",
   "metadata": {},
   "source": [
    "It looks like $K = 16$ neighbors is the sweet spot of where our model performs the best, although that was all done on the training set of the data. Now it's time for the fun part of seeing how our model performs on the testing portion of the data with our 'best' $K$-value. We will start by re-training the model using $K = 16$:"
   ]
  },
  {
   "cell_type": "code",
   "execution_count": 20,
   "id": "b8411c15-0848-4eea-b858-dba620471134",
   "metadata": {},
   "outputs": [],
   "source": [
    "kmin <- plaicraft_min |> pull(neighbors)\n",
    "\n",
    "plaicraft_spec <- nearest_neighbor(weight_func = \"rectangular\", neighbors = kmin) |>\n",
    "  set_engine(\"kknn\") |>\n",
    "  set_mode(\"regression\")\n",
    "\n",
    "plaicraft_fit <- workflow() |>\n",
    "  add_recipe(plaicraft_recipe) |>\n",
    "  add_model(plaicraft_spec) |>\n",
    "  fit(data = plaicraft_train)"
   ]
  },
  {
   "cell_type": "markdown",
   "id": "ff3ede23-2096-4553-9234-5a4e9c4e226d",
   "metadata": {},
   "source": [
    "All that we have to do now is predict our testing data with it and then get the RMSE value to see how it really performs:"
   ]
  },
  {
   "cell_type": "code",
   "execution_count": 21,
   "id": "507cfd90-72e3-4545-8176-c62ee539478c",
   "metadata": {},
   "outputs": [
    {
     "data": {
      "text/html": [
       "<table class=\"dataframe\">\n",
       "<caption>A tibble: 1 × 3</caption>\n",
       "<thead>\n",
       "\t<tr><th scope=col>.metric</th><th scope=col>.estimator</th><th scope=col>.estimate</th></tr>\n",
       "\t<tr><th scope=col>&lt;chr&gt;</th><th scope=col>&lt;chr&gt;</th><th scope=col>&lt;dbl&gt;</th></tr>\n",
       "</thead>\n",
       "<tbody>\n",
       "\t<tr><td>rmse</td><td>standard</td><td>2.847696</td></tr>\n",
       "</tbody>\n",
       "</table>\n"
      ],
      "text/latex": [
       "A tibble: 1 × 3\n",
       "\\begin{tabular}{lll}\n",
       " .metric & .estimator & .estimate\\\\\n",
       " <chr> & <chr> & <dbl>\\\\\n",
       "\\hline\n",
       "\t rmse & standard & 2.847696\\\\\n",
       "\\end{tabular}\n"
      ],
      "text/markdown": [
       "\n",
       "A tibble: 1 × 3\n",
       "\n",
       "| .metric &lt;chr&gt; | .estimator &lt;chr&gt; | .estimate &lt;dbl&gt; |\n",
       "|---|---|---|\n",
       "| rmse | standard | 2.847696 |\n",
       "\n"
      ],
      "text/plain": [
       "  .metric .estimator .estimate\n",
       "1 rmse    standard   2.847696 "
      ]
     },
     "metadata": {},
     "output_type": "display_data"
    }
   ],
   "source": [
    "plaicraft_summary <- plaicraft_fit |>\n",
    "  predict(plaicraft_test) |>\n",
    "  bind_cols(plaicraft_test) |>\n",
    "  metrics(truth = future_sessions_count, estimate = .pred) |>\n",
    "  filter(.metric == 'rmse')\n",
    "\n",
    "plaicraft_summary"
   ]
  },
  {
   "cell_type": "markdown",
   "id": "7922eda0-f87d-40bf-a18f-85a46eab480f",
   "metadata": {},
   "source": [
    "Compared to our results on the training data, this RMSPE is actually great (improvement wise that is)! We won't discuss it much in this section as we'll leave that until the summary portion, but what we will do is visualize what this result represents!"
   ]
  },
  {
   "cell_type": "code",
   "execution_count": 1,
   "id": "a7809615-7620-4cd0-a517-f5283bacd65e",
   "metadata": {},
   "outputs": [
    {
     "ename": "ERROR",
     "evalue": "Error in expand_grid(first_session_duration = seq(from = min(pull(final_wrangled_data, : could not find function \"expand_grid\"\n",
     "output_type": "error",
     "traceback": [
      "Error in expand_grid(first_session_duration = seq(from = min(pull(final_wrangled_data, : could not find function \"expand_grid\"\nTraceback:\n"
     ]
    }
   ],
   "source": [
    "options(repr.plot.width = 12, repr.plot.height = 8)\n",
    "\n",
    "future_sessions_prediction_grid <- expand_grid(\n",
    "    first_session_duration = seq(\n",
    "        from = final_wrangled_data |> pull(first_session_duration) |> min(),\n",
    "        to = final_wrangled_data |> pull(first_session_duration) |> max(), by = 1), \n",
    "        subscribe = c(0, 1), experience = 0:4)\n",
    "\n",
    "plaicraft_preds <- plaicraft_fit |>\n",
    "  predict(future_sessions_prediction_grid) |>\n",
    "  bind_cols(future_sessions_prediction_grid)\n",
    "\n",
    "plot_final <- ggplot(final_wrangled_data, aes(x = first_session_duration, y = future_sessions_count)) +\n",
    "  geom_point(alpha = 0.4) +\n",
    "  geom_line(data = plaicraft_preds,\n",
    "            mapping = aes(x = first_session_duration, y = .pred),\n",
    "            color = \"steelblue\",\n",
    "            linewidth = 1) +\n",
    "  xlab(\"Duration of the Users First Session (minutes)\") +\n",
    "  ylab(\"Number of Sessions the User Returned For\") +\n",
    "  ggtitle(paste0(\"Figure 2: Our Model Performance with the Optimal Neighbors Value of: K = \", kmin)) +\n",
    "  theme(text = element_text(size = 12))\n",
    "\n",
    "plot_final"
   ]
  },
  {
   "cell_type": "markdown",
   "id": "2a2a6a46-3535-4488-bbb0-ca6381c3c512",
   "metadata": {},
   "source": [
    "The plot above shows our models predictions (the blue line) compared to the data. As we mentioned earlier, we removed about 7 outlier data points which were greater than 50 future sessions because those few data points would pull our prediction model high above the majority of the other points and thus we had about 7 data points that raised our entire models error margin by about 30 sessions. This choice of ours dropped the error margin to about 3 sessions which is a great improvement."
   ]
  },
  {
   "cell_type": "markdown",
   "id": "466c96b8-9a34-4dd3-9494-ab32cfb8434f",
   "metadata": {},
   "source": [
    "---"
   ]
  },
  {
   "cell_type": "markdown",
   "id": "d33a9060-19a9-4856-b219-52efb7a3bda6",
   "metadata": {},
   "source": [
    "## Data Analysis Discussion"
   ]
  },
  {
   "cell_type": "markdown",
   "id": "2d9069c8-aa36-4283-9c33-262985f352b0",
   "metadata": {},
   "source": [
    "---"
   ]
  },
  {
   "cell_type": "markdown",
   "id": "0de4e00c-fa16-4f79-b3ab-d0e267aed43c",
   "metadata": {},
   "source": [
    "**Summary**\n",
    "\n",
    "\n",
    "The data analysis highlighted a strong relationship between characteristics present in a users initial session `first_session_duration` and `future_sessions_count`. Although this relationship is strong, we see that longer initial sessions do not directly lead to a increase in the number of sessions a user returned for. By using a 75/25 split for the training and testing data, we were able to minimize the overall RMSE value and in turn, improve the accuracy of our regression model. Additionally, we see that the users who have decided to subscribe with their emails generally have a higher rate of returning (more sessions on average) than a user that does not. Based on our overall data analysis, we can conclude that users will return anywhere between 2 to 5 sessions after their initial session, with subscribing users falling near the higher end of that range.\n",
    "\n",
    "These findings can be an indicator of how attractive playing Minecraft for free online is. Since many users return more than once, it can be said that being able to play a paid game for free is still enticing to many individuals despite the limitations that PLAIcraft may have.\n",
    "\n",
    "\n",
    "**Questions**\n",
    "\n",
    "1. **How would using a different regression model (i.e. linear regression) alter our final results?**\n",
    "\n",
    "Using a linear regression model would alter our final results by a substantial amount. As linear regression implies that our dependent variable, the number of future play-sessions, should be somewhat linear. However cleary our data is not linear and quite random. In addition to this the linear regression model would be quite skewed if there are outliers in our data, which there were. The linear regression model might give us a \"better looking\" graph, but our knn-regression model will give us a more accurate prediction model. \n",
    "\n",
    "2. **Does the time of the day have an effect on how long a player is willing to play for?**\n",
    "\n",
    "The time of day does indeed affect how long a player is willing to play for. Based on the data we wrangled, we can observe that a large portion of the play times are usually in the afternoon or evening. The larger or longer play times usually occur in the evening times, along with the occasional long night-time sessions. This is likely due to the players having more free time during these times.\n",
    "\n",
    "3. **Instead of the length of the initial play session, does the progress made matter more?**\n",
    "\n",
    "One thing that could be more impactful on predicting future play Sessions is tracking how much progress has been made instead of play time. This is because while some initial play sessions might last a decent amount of time, future return sessions might be low if the player is not engaged or actively trying to progress in the game. One way to track this would be through achievements made or simply tracking how many items a player has obtained while playing!"
   ]
  }
 ],
 "metadata": {
  "kernelspec": {
   "display_name": "R",
   "language": "R",
   "name": "ir"
  },
  "language_info": {
   "codemirror_mode": "r",
   "file_extension": ".r",
   "mimetype": "text/x-r-source",
   "name": "R",
   "pygments_lexer": "r",
   "version": "4.3.3"
  }
 },
 "nbformat": 4,
 "nbformat_minor": 5
}
